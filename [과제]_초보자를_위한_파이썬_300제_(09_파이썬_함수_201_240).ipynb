{
  "nbformat": 4,
  "nbformat_minor": 0,
  "metadata": {
    "colab": {
      "provenance": [],
      "authorship_tag": "ABX9TyMgUPtvZUR2NjlVf1f6htTw",
      "include_colab_link": true
    },
    "kernelspec": {
      "name": "python3",
      "display_name": "Python 3"
    },
    "language_info": {
      "name": "python"
    }
  },
  "cells": [
    {
      "cell_type": "markdown",
      "metadata": {
        "id": "view-in-github",
        "colab_type": "text"
      },
      "source": [
        "<a href=\"https://colab.research.google.com/github/mongdaeng/est-wassup1/blob/main/%5B%EA%B3%BC%EC%A0%9C%5D_%EC%B4%88%EB%B3%B4%EC%9E%90%EB%A5%BC_%EC%9C%84%ED%95%9C_%ED%8C%8C%EC%9D%B4%EC%8D%AC_300%EC%A0%9C_(09_%ED%8C%8C%EC%9D%B4%EC%8D%AC_%ED%95%A8%EC%88%98_201_240).ipynb\" target=\"_parent\"><img src=\"https://colab.research.google.com/assets/colab-badge.svg\" alt=\"Open In Colab\"/></a>"
      ]
    },
    {
      "cell_type": "markdown",
      "source": [
        "#201\n",
        "\"비트코인\" 문자열을 화면에 출력하는 print_coin() 함수를 정의하라."
      ],
      "metadata": {
        "id": "Ft2fQFM-HWtu"
      }
    },
    {
      "cell_type": "code",
      "source": [
        "def print_coin():\n",
        "  print(\"비트코인\")\n",
        "\n",
        "#def로 함수 정의 후, 하단에 print()를 통해 출력하고자 하는 비트코인 문자 입력"
      ],
      "metadata": {
        "id": "BL6LQxRGHczC"
      },
      "execution_count": null,
      "outputs": []
    },
    {
      "cell_type": "markdown",
      "source": [
        "#202\n",
        "201번에서 정의한 함수를 호출하라."
      ],
      "metadata": {
        "id": "p06C3nsQHc8i"
      }
    },
    {
      "cell_type": "code",
      "source": [
        "def print_coin():\n",
        "  print(\"비트코인\")\n",
        "\n",
        "print_coin()"
      ],
      "metadata": {
        "colab": {
          "base_uri": "https://localhost:8080/"
        },
        "id": "KgcNX1TLHf-P",
        "outputId": "49a3286e-5617-41ce-c339-50a20de539bb"
      },
      "execution_count": 54,
      "outputs": [
        {
          "output_type": "stream",
          "name": "stdout",
          "text": [
            "비트코인\n"
          ]
        }
      ]
    },
    {
      "cell_type": "markdown",
      "source": [
        "#203\n",
        "201번에서 정의한 print_coin 함수를 100번호출하라."
      ],
      "metadata": {
        "id": "NRGwfm6yHgV2"
      }
    },
    {
      "cell_type": "code",
      "source": [
        "'''def print_coin():\n",
        "  print(\"비트코인\")'''\n",
        "\n",
        "for i in range(100):\n",
        "  print_coin()"
      ],
      "metadata": {
        "colab": {
          "base_uri": "https://localhost:8080/"
        },
        "id": "OMDX7triHiWS",
        "outputId": "2693bc51-7092-4cdb-8bce-984160173aae"
      },
      "execution_count": 17,
      "outputs": [
        {
          "output_type": "stream",
          "name": "stdout",
          "text": [
            "비트코인\n",
            "비트코인\n",
            "비트코인\n",
            "비트코인\n",
            "비트코인\n",
            "비트코인\n",
            "비트코인\n",
            "비트코인\n",
            "비트코인\n",
            "비트코인\n",
            "비트코인\n",
            "비트코인\n",
            "비트코인\n",
            "비트코인\n",
            "비트코인\n",
            "비트코인\n",
            "비트코인\n",
            "비트코인\n",
            "비트코인\n",
            "비트코인\n",
            "비트코인\n",
            "비트코인\n",
            "비트코인\n",
            "비트코인\n",
            "비트코인\n",
            "비트코인\n",
            "비트코인\n",
            "비트코인\n",
            "비트코인\n",
            "비트코인\n",
            "비트코인\n",
            "비트코인\n",
            "비트코인\n",
            "비트코인\n",
            "비트코인\n",
            "비트코인\n",
            "비트코인\n",
            "비트코인\n",
            "비트코인\n",
            "비트코인\n",
            "비트코인\n",
            "비트코인\n",
            "비트코인\n",
            "비트코인\n",
            "비트코인\n",
            "비트코인\n",
            "비트코인\n",
            "비트코인\n",
            "비트코인\n",
            "비트코인\n",
            "비트코인\n",
            "비트코인\n",
            "비트코인\n",
            "비트코인\n",
            "비트코인\n",
            "비트코인\n",
            "비트코인\n",
            "비트코인\n",
            "비트코인\n",
            "비트코인\n",
            "비트코인\n",
            "비트코인\n",
            "비트코인\n",
            "비트코인\n",
            "비트코인\n",
            "비트코인\n",
            "비트코인\n",
            "비트코인\n",
            "비트코인\n",
            "비트코인\n",
            "비트코인\n",
            "비트코인\n",
            "비트코인\n",
            "비트코인\n",
            "비트코인\n",
            "비트코인\n",
            "비트코인\n",
            "비트코인\n",
            "비트코인\n",
            "비트코인\n",
            "비트코인\n",
            "비트코인\n",
            "비트코인\n",
            "비트코인\n",
            "비트코인\n",
            "비트코인\n",
            "비트코인\n",
            "비트코인\n",
            "비트코인\n",
            "비트코인\n",
            "비트코인\n",
            "비트코인\n",
            "비트코인\n",
            "비트코인\n",
            "비트코인\n",
            "비트코인\n",
            "비트코인\n",
            "비트코인\n",
            "비트코인\n",
            "비트코인\n"
          ]
        }
      ]
    },
    {
      "cell_type": "markdown",
      "source": [
        "#204\n",
        "\"비트코인\" 문자열을 100번 화면에 출력하는 print_coins() 함수를 정의하라."
      ],
      "metadata": {
        "id": "VkrisjzUHi6h"
      }
    },
    {
      "cell_type": "code",
      "source": [
        "def print_coins():\n",
        "  for i in range(100):\n",
        "    print(\"비트코인\")"
      ],
      "metadata": {
        "id": "K-o5l3luHluY"
      },
      "execution_count": 49,
      "outputs": []
    },
    {
      "cell_type": "markdown",
      "source": [
        "#205\n",
        "아래의 에러가 발생하는 이유에 대해 설명하라.\n",
        "\n",
        "hello()\n",
        "def hello():\n",
        "    print(\"Hi\")\n",
        "실행 예\n",
        "\n",
        "NameError: name 'hello' is not defined"
      ],
      "metadata": {
        "id": "skLeIJGfHp7s"
      }
    },
    {
      "cell_type": "code",
      "source": [
        "#def 아래에 함수가 정의되지 않고 호출되어서 에러남\n"
      ],
      "metadata": {
        "colab": {
          "base_uri": "https://localhost:8080/",
          "height": 144
        },
        "id": "RRUklA9dH5uM",
        "outputId": "ee4ed423-fefb-4e84-d1b0-954dde3b3132"
      },
      "execution_count": 59,
      "outputs": [
        {
          "output_type": "error",
          "ename": "IndentationError",
          "evalue": "ignored",
          "traceback": [
            "\u001b[0;36m  File \u001b[0;32m\"<ipython-input-59-4e5996cbe7cf>\"\u001b[0;36m, line \u001b[0;32m5\u001b[0m\n\u001b[0;31m    print(\"Hi\")\u001b[0m\n\u001b[0m    ^\u001b[0m\n\u001b[0;31mIndentationError\u001b[0m\u001b[0;31m:\u001b[0m unexpected indent\n"
          ]
        }
      ]
    },
    {
      "cell_type": "markdown",
      "source": [
        "#206\n",
        "아래 코드의 실행 결과를 예측하라.\n",
        "\n",
        "def message() :\n",
        "    print(\"A\")\n",
        "    print(\"B\")\n",
        "\n",
        "message()\n",
        "print(\"C\")\n",
        "message()\n"
      ],
      "metadata": {
        "id": "SxBV4XWIH6KV"
      }
    },
    {
      "cell_type": "code",
      "source": [
        "def message():\n",
        "  print(\"A\")\n",
        "  print(\"B\")\n",
        "\n",
        "message()\n",
        "print(\"C\")\n",
        "message()"
      ],
      "metadata": {
        "colab": {
          "base_uri": "https://localhost:8080/"
        },
        "id": "MXDSwy1pH-s4",
        "outputId": "a7befc48-7df5-45d1-f86b-cb8910c13cf7"
      },
      "execution_count": 50,
      "outputs": [
        {
          "output_type": "stream",
          "name": "stdout",
          "text": [
            "A\n",
            "B\n",
            "C\n",
            "A\n",
            "B\n"
          ]
        }
      ]
    },
    {
      "cell_type": "markdown",
      "source": [
        "#207\n",
        "아래 코드의 실행 결과를 예측하라. (읽기 어려운 코드의 예입니다.)\n",
        "\n",
        "print(\"A\")\n",
        "\n",
        "def message() :\n",
        "    print(\"B\")\n",
        "\n",
        "print(\"C\")\n",
        "message()"
      ],
      "metadata": {
        "id": "AEnIWJFdH_B_"
      }
    },
    {
      "cell_type": "code",
      "source": [],
      "metadata": {
        "id": "He-JGA_4IDB7"
      },
      "execution_count": null,
      "outputs": []
    },
    {
      "cell_type": "markdown",
      "source": [
        "#208\n",
        "아래 코드의 실행 결과를 예측하라. (읽기 어려운 코드의 예입니다.)\n",
        "\n",
        "print(\"A\")\n",
        "def message1() :\n",
        "    print(\"B\")\n",
        "print(\"C\")\n",
        "def message2() :\n",
        "    print(\"D\")\n",
        "message1()\n",
        "print(\"E\")\n",
        "message2()"
      ],
      "metadata": {
        "id": "ckNVvWmVIDU6"
      }
    },
    {
      "cell_type": "code",
      "source": [
        "print(\"A\")\n",
        "def message1() :\n",
        "    print(\"B\")\n",
        "print(\"C\")\n",
        "def message2() :\n",
        "    print(\"D\")\n",
        "message1()\n",
        "print(\"E\")\n",
        "message2()"
      ],
      "metadata": {
        "colab": {
          "base_uri": "https://localhost:8080/"
        },
        "id": "P0z0iNH0IGXT",
        "outputId": "31a839b0-126c-456f-89e4-c8d3349ab13c"
      },
      "execution_count": 51,
      "outputs": [
        {
          "output_type": "stream",
          "name": "stdout",
          "text": [
            "A\n",
            "C\n",
            "B\n",
            "E\n",
            "D\n"
          ]
        }
      ]
    },
    {
      "cell_type": "markdown",
      "source": [
        "#209\n",
        "아래 코드의 실행 결과를 예측하라.\n",
        "\n",
        "def message1():\n",
        "    print(\"A\")\n",
        "\n",
        "def message2():\n",
        "    print(\"B\")\n",
        "    message1()\n",
        "\n",
        "message2()\n"
      ],
      "metadata": {
        "id": "F2OQMCasIoTA"
      }
    },
    {
      "cell_type": "code",
      "source": [
        "#B,A\n",
        "#함수 정의 부분은 넘기고 메시지 2만 출력하면 되나, 메시지2 정의 안에 메시지 1이 있어\n",
        "#b,a순서로 나옴\n",
        "\n",
        "def message1():\n",
        "  print(\"A\")\n",
        "\n",
        "def message2():\n",
        "  print(\"B\")\n",
        "  message1()\n",
        "\n",
        "message2()"
      ],
      "metadata": {
        "colab": {
          "base_uri": "https://localhost:8080/"
        },
        "id": "JqShNpweIrya",
        "outputId": "b34371a7-1818-45c6-9afa-fb9cfe833be4"
      },
      "execution_count": 18,
      "outputs": [
        {
          "output_type": "stream",
          "name": "stdout",
          "text": [
            "B\n",
            "A\n"
          ]
        }
      ]
    },
    {
      "cell_type": "markdown",
      "source": [
        "#210\n",
        "아래 코드의 실행 결과를 예측하라.\n",
        "\n",
        "def message1():\n",
        "    print(\"A\")\n",
        "\n",
        "def message2():\n",
        "    print(\"B\")\n",
        "\n",
        "def message3():\n",
        "    for i in range (3) :\n",
        "        message2()\n",
        "        print(\"C\")\n",
        "    message1()\n",
        "\n",
        "message3()"
      ],
      "metadata": {
        "id": "t-jK_xZsIuZb"
      }
    },
    {
      "cell_type": "code",
      "source": [
        "def message1():\n",
        "    print(\"A\")\n",
        "\n",
        "def message2():\n",
        "    print(\"B\")\n",
        "\n",
        "def message3():\n",
        "    for i in range (3) :\n",
        "        message2()\n",
        "        print(\"C\")\n",
        "    message1()\n",
        "\n",
        "message3()"
      ],
      "metadata": {
        "colab": {
          "base_uri": "https://localhost:8080/"
        },
        "id": "V2KIPCq4Iwtx",
        "outputId": "c3556a5e-f9c4-435b-a230-2be2a23cd38d"
      },
      "execution_count": 52,
      "outputs": [
        {
          "output_type": "stream",
          "name": "stdout",
          "text": [
            "B\n",
            "C\n",
            "B\n",
            "C\n",
            "B\n",
            "C\n",
            "A\n"
          ]
        }
      ]
    },
    {
      "cell_type": "markdown",
      "source": [
        "#211\n",
        "함수의 호출 결과를 예측하라.\n",
        "\n",
        "def 함수(문자열) :\n",
        "    print(문자열)\n",
        "\n",
        "함수(\"안녕\")\n",
        "함수(\"Hi\")"
      ],
      "metadata": {
        "id": "BEkQFRbuIxOe"
      }
    },
    {
      "cell_type": "code",
      "source": [
        "#함수 정의를 함수(문자), 프린트(문자)로 동일하게 지정한 후 실행하면\n",
        "#함수 괄호 안에 넣은 문자로 print 됨\n",
        "\n",
        "def 함수(A) :\n",
        "  print(A)\n",
        "\n",
        "함수 (\"안녕\")\n",
        "함수 (\"Hi\")"
      ],
      "metadata": {
        "colab": {
          "base_uri": "https://localhost:8080/"
        },
        "id": "5AE__FHDI4hc",
        "outputId": "6c859070-cbaa-4b3c-bcda-8f3f1d0b3046"
      },
      "execution_count": 21,
      "outputs": [
        {
          "output_type": "stream",
          "name": "stdout",
          "text": [
            "안녕\n",
            "Hi\n"
          ]
        }
      ]
    },
    {
      "cell_type": "markdown",
      "source": [
        "#212\n",
        "함수의 호출 결과를 예측하라.\n",
        "\n",
        "def 함수(a, b) :\n",
        "    print(a + b)\n",
        "\n",
        "함수(3, 4)\n",
        "함수(7, 8)\n"
      ],
      "metadata": {
        "id": "XzohMcE9I4t1"
      }
    },
    {
      "cell_type": "code",
      "source": [
        "def 함수(a, b) :\n",
        "    print(a + b)\n",
        "\n",
        "함수(3, 4)\n",
        "함수(7, 8)"
      ],
      "metadata": {
        "colab": {
          "base_uri": "https://localhost:8080/"
        },
        "id": "0zq9WZq8I7rr",
        "outputId": "b250d1d0-5a0a-406b-e1bb-2680767f38f0"
      },
      "execution_count": 53,
      "outputs": [
        {
          "output_type": "stream",
          "name": "stdout",
          "text": [
            "7\n",
            "15\n"
          ]
        }
      ]
    },
    {
      "cell_type": "markdown",
      "source": [
        "#213\n",
        "아래와 같은 에러가 발생하는 원인을 설명하라.\n",
        "\n",
        "def 함수(문자열) :\n",
        "    print(문자열)\n",
        "함수()\n",
        "TypeError: 함수() missing 1 required positional argument: '문자열'"
      ],
      "metadata": {
        "id": "t9WqXQYPI8D8"
      }
    },
    {
      "cell_type": "code",
      "source": [
        "# 에러가 발생하는 이유\n",
        "'''\n",
        "def 함수(문자열):\n",
        "  print(문자열)\n",
        "\n",
        "함수()'''\n",
        "\n",
        "\n",
        "def 함수(문자열):\n",
        "  print(문자열)\n",
        "\n",
        "함수('Hi')\n",
        "\n",
        "\n",
        "#(문자열) -> 이라고만 치지 말고 어떠한 문자를 넣어야 함 \"문자\"\n",
        "#변수의 개수에 맞춰 함수 호출 시에도 전달해야 함."
      ],
      "metadata": {
        "colab": {
          "base_uri": "https://localhost:8080/"
        },
        "id": "hq5t2hriJABz",
        "outputId": "d6a10900-9b0d-4d85-8d0f-584061d5f4f1"
      },
      "execution_count": 22,
      "outputs": [
        {
          "output_type": "stream",
          "name": "stdout",
          "text": [
            "Hi\n"
          ]
        }
      ]
    },
    {
      "cell_type": "markdown",
      "source": [
        "#214\n",
        "아래와 같은 에러가 발생하는 원인을 설명하라.\n",
        "\n",
        "def 함수(a, b) :\n",
        "    print(a + b)\n",
        "\n",
        "함수(\"안녕\", 3)\n",
        "TypeError: must be str, not int\n"
      ],
      "metadata": {
        "id": "EO3bUDm1JIz-"
      }
    },
    {
      "cell_type": "code",
      "source": [
        "#파이썬에서는 두 피연산자가 같은 자료형이어야 하는데\n",
        "#서로 다른 자료형(문자열/정수)이기 때문에 type에러가 발생함\n",
        "\n",
        "#바르게 안녕3을 출력하려면\n",
        "def 함수(a,b):\n",
        "  print(str(a)+str(b))\n",
        "함수('안녕',3)\n",
        "\n",
        "#문자열과 정수의 곱셈은 가능함\n",
        "def 함수(a,b):\n",
        "  print(a*b)\n",
        "함수('안녕',3)\n"
      ],
      "metadata": {
        "colab": {
          "base_uri": "https://localhost:8080/"
        },
        "id": "T7zmcqocJLGu",
        "outputId": "ece3c351-2a80-47e9-e008-44576f8d94b0"
      },
      "execution_count": 35,
      "outputs": [
        {
          "output_type": "stream",
          "name": "stdout",
          "text": [
            "안녕3\n",
            "안녕안녕안녕\n"
          ]
        }
      ]
    },
    {
      "cell_type": "markdown",
      "source": [
        "#215\n",
        "하나의 문자를 입력받아 문자열 끝에 \":D\" 스마일 문자열을 이어 붙여 출력하는 print_with_smile 함수를 정의하라."
      ],
      "metadata": {
        "id": "3JX7aSVbJLgO"
      }
    },
    {
      "cell_type": "code",
      "source": [
        "def print_with_smile (문자열) :\n",
        "    print (문자열 + \":D\")"
      ],
      "metadata": {
        "id": "GUmGz49xJOYz"
      },
      "execution_count": 55,
      "outputs": []
    },
    {
      "cell_type": "markdown",
      "source": [
        "#216\n",
        "215에서 정의한 함수를 호출하라. 파라미터는 \"안녕하세요\"로 입력하라."
      ],
      "metadata": {
        "id": "M4KSleuZJOjh"
      }
    },
    {
      "cell_type": "code",
      "source": [
        "def print_with_smile (str):\n",
        "  print(str + \":D\")\n",
        "\n",
        "print_with_smile(\"안녕하세요\")\n",
        "#-> 파라미터 넣어서 함수를 호출"
      ],
      "metadata": {
        "colab": {
          "base_uri": "https://localhost:8080/"
        },
        "id": "pyol7DWZJSKV",
        "outputId": "402ebe57-f986-4f52-d61d-24b79dc3fc39"
      },
      "execution_count": 25,
      "outputs": [
        {
          "output_type": "stream",
          "name": "stdout",
          "text": [
            "안녕하세요:D\n"
          ]
        }
      ]
    },
    {
      "cell_type": "markdown",
      "source": [
        "#217\n",
        "현재 가격을 입력 받아 상한가 (30%)를 출력하는 print_upper_price 함수를 정의하라."
      ],
      "metadata": {
        "id": "UJfrtpaFJSgS"
      }
    },
    {
      "cell_type": "code",
      "source": [
        "def print_upper_price(price):\n",
        "  상한가 = price * 1.3\n",
        "  print(상한가)\n",
        "\n",
        "# 예시\n",
        "\n",
        "print_upper_price(100000) #함수 이름 치고 괄호에 값 넣으면 들여쓴 코드 실행!\n",
        "print_upper_price(200000) #상한가 - 변수"
      ],
      "metadata": {
        "colab": {
          "base_uri": "https://localhost:8080/"
        },
        "id": "1xZZG8-oMt8Q",
        "outputId": "f50de0e5-8a7e-4d56-b96b-203d8b71b24e"
      },
      "execution_count": 6,
      "outputs": [
        {
          "output_type": "stream",
          "name": "stdout",
          "text": [
            "130000.0\n",
            "260000.0\n"
          ]
        }
      ]
    },
    {
      "cell_type": "markdown",
      "source": [
        "#218\n",
        "두 개의 숫자를 입력받아 두 수의 합을 출력하는 print_sum 함수를 정의하라."
      ],
      "metadata": {
        "id": "eRP7ytisJS06"
      }
    },
    {
      "cell_type": "markdown",
      "source": [],
      "metadata": {
        "id": "iv7IviPXJYqG"
      }
    },
    {
      "cell_type": "code",
      "source": [
        "def print_sum(a,b):\n",
        "  print(a+b)\n",
        "print_sum(2,8)\n",
        "\n",
        "#sum()함수를 사용하려면, 숫자를 담고 있는 이터러블(리스트,튜플)을 만들어서 sum()함수에 전달해야함)\n",
        "\n",
        "def print_sum(a,b):\n",
        "  result = sum([a,b])\n",
        "  print(result)\n",
        "\n",
        "print_sum(2,8)"
      ],
      "metadata": {
        "colab": {
          "base_uri": "https://localhost:8080/"
        },
        "id": "B1v97TxKJS62",
        "outputId": "ffc8a781-9ef3-4636-8778-fc21bfe1b618"
      },
      "execution_count": 37,
      "outputs": [
        {
          "output_type": "stream",
          "name": "stdout",
          "text": [
            "10\n",
            "10\n"
          ]
        }
      ]
    },
    {
      "cell_type": "markdown",
      "source": [
        "#219\n",
        "두 개의 숫자를 입력받아 합/차/곱/나눗셈을 출력하는 print_arithmetic_operation 함수를 작성하라.\n",
        "\n",
        "print_arithmetic_operation(3, 4)\n",
        "3 + 4 = 7\n",
        "3 - 4 = -1\n",
        "3 * 4 = 12\n",
        "3 / 4 = 0.75"
      ],
      "metadata": {
        "id": "aer0dFNCJaRm"
      }
    },
    {
      "cell_type": "code",
      "source": [
        "def print_arithmetic_operation(a, b):\n",
        "    print(a, \"+\", b, \"=\", a + b)\n",
        "    print(a, \"-\", b, \"=\", a - b)\n",
        "    print(a, \"*\", b, \"=\", a * b)\n",
        "    print(a, \"/\", b, \"=\", a / b)\n",
        "\n",
        "print_arithmetic_operation(3,4)"
      ],
      "metadata": {
        "colab": {
          "base_uri": "https://localhost:8080/"
        },
        "id": "DVR1xA7vJnmk",
        "outputId": "836b0ce5-2828-4a3e-c0e2-4e71f8c4168d"
      },
      "execution_count": 57,
      "outputs": [
        {
          "output_type": "stream",
          "name": "stdout",
          "text": [
            "3 + 4 = 7\n",
            "3 - 4 = -1\n",
            "3 * 4 = 12\n",
            "3 / 4 = 0.75\n"
          ]
        }
      ]
    },
    {
      "cell_type": "markdown",
      "source": [
        "#220\n",
        "세 개의 숫자를 입력받아 가장 큰수를 출력하는 print_max 함수를 정의하라. 단 if 문을 사용해서 수를 비교하라."
      ],
      "metadata": {
        "id": "AAcyj2KxJnxw"
      }
    },
    {
      "cell_type": "code",
      "source": [
        "\n",
        "def print_max(a,b,c):\n",
        "  if a > b and a > c:\n",
        "    print(a)\n",
        "  elif b > a and b > c:\n",
        "    print(b)\n",
        "  else:\n",
        "    print(c)\n",
        "\n",
        "  print_max(5,10,3)"
      ],
      "metadata": {
        "id": "pKpOTC09Jpa5"
      },
      "execution_count": 29,
      "outputs": []
    },
    {
      "cell_type": "markdown",
      "source": [
        "#221\n",
        "입력된 문자열을 역순으로 출력하는 print_reverse 함수를 정의하라.\n",
        "\n",
        "print_reverse(\"python\")\n",
        "nohtyp\n",
        "\n",
        "\n",
        "#222\n",
        "성적 리스트를 입력 받아 평균을 출력하는 print_score 함수를 정의하라.\n",
        "\n",
        "print_score ([1, 2, 3])\n",
        "2.0\n",
        "\n",
        "\n",
        "#223\n",
        "하나의 리스트를 입력받아 짝수만 화면에 출력하는 print_even 함수를 정의하라.\n",
        "\n",
        "print_even ([1, 3, 2, 10, 12, 11, 15])\n",
        "2\n",
        "10\n",
        "12\n",
        "\n",
        "\n",
        "#224\n",
        "하나의 딕셔너리를 입력받아 딕셔너리의 key 값을 화면에 출력하는 print_keys 함수를 정의하라.\n",
        "\n",
        "print_keys ({\"이름\":\"김말똥\", \"나이\":30, \"성별\":0})\n",
        "이름\n",
        "나이\n",
        "성별\n",
        "\n",
        "\n",
        "#225\n",
        "my_dict에는 날짜를 키값으로 OHLC가 리스트로 저장돼 있다.\n",
        "\n",
        "my_dict = {\"10/26\" : [100, 130, 100, 100],\n",
        "           \"10/27\" : [10, 12, 10, 11]}\n",
        "my_dict와 날짜 키값을 입력받아 OHLC 리스트를 출력하는 print_value_by_key 함수를 정의하라.\n",
        "\n",
        "print_value_by_key  (my_dict, \"10/26\")\n",
        "[100, 130, 100, 100]\n",
        "\n",
        "\n",
        "\n",
        "#226\n",
        "입력 문자열을 한 줄에 다섯글자씩 출력하는 print_5xn(string) 함수를 작성하라.\n",
        "\n",
        "print_5xn(\"아이엠어보이유알어걸\")\n",
        "아이엠어보\n",
        "이유알어걸\n",
        "\n",
        "\n",
        "#227\n",
        "문자열과 한줄에 출력될 글자 수를 입력을 받아 한 줄에 입력된 글자 수만큼 출력하는 print_mxn(string) 함수를 작성하라.\n",
        "\n",
        "printmxn(\"아이엠어보이유알어걸\", 3)\n",
        "아이엠\n",
        "어보이\n",
        "유알어\n",
        "걸\n",
        "\n",
        "\n",
        "#228\n",
        "연봉을 입력받아 월급을 계산하는 calc_monthly_salary(annual_salary) 함수를 정의하라. 회사는 연봉을 12개월로 나누어 분할 지급하며, 이 때 1원 미만은 버림한다.\n",
        "\n",
        "calc_monthly_salary(12000000)\n",
        "1000000\n",
        "\n",
        "\n",
        "#229\n",
        "아래 코드의 실행 결과를 예측하라.\n",
        "\n",
        "def my_print (a, b) :\n",
        "    print(\"왼쪽:\", a)\n",
        "    print(\"오른쪽:\", b)\n",
        "\n",
        "my_print(a=100, b=200)\n",
        "\n",
        "\n",
        "#230\n",
        "아래 코드의 실행 결과를 예측하라.\n",
        "\n",
        "def my_print (a, b) :\n",
        "    print(\"왼쪽:\", a)\n",
        "    print(\"오른쪽:\", b)\n",
        "\n",
        "my_print(b=100, a=200)\n"
      ],
      "metadata": {
        "id": "8uIzEfVDJqDo"
      }
    },
    {
      "cell_type": "code",
      "source": [
        "#221\n",
        "\n",
        "def print_reverse(A) :\n",
        "  print(A[::-1])\n",
        "\n",
        "print_reverse(\"python\")\n"
      ],
      "metadata": {
        "colab": {
          "base_uri": "https://localhost:8080/"
        },
        "id": "qML9SAhjK2eC",
        "outputId": "fde8fa4d-2543-49af-bf9f-28ecb875bfa7"
      },
      "execution_count": 32,
      "outputs": [
        {
          "output_type": "stream",
          "name": "stdout",
          "text": [
            "nohtyp\n"
          ]
        }
      ]
    },
    {
      "cell_type": "code",
      "source": [
        "#222\n",
        "\n",
        "def print_score (avg_score):\n",
        "  print(sum(avg_score)/len(avg_score))\n",
        "print_score([1,2,3])"
      ],
      "metadata": {
        "colab": {
          "base_uri": "https://localhost:8080/"
        },
        "id": "2Cn6QFNyO341",
        "outputId": "dd6d9856-0f81-4801-d41e-1bf25559992b"
      },
      "execution_count": 38,
      "outputs": [
        {
          "output_type": "stream",
          "name": "stdout",
          "text": [
            "2.0\n"
          ]
        }
      ]
    },
    {
      "cell_type": "code",
      "source": [
        "#223 - 식과 맞게 풀면 아래처럼!\n",
        "\n",
        "list_1 = [1,3,2,10,12,11,15]\n",
        "\n",
        "def print_even(list_1):\n",
        "  for n in list_1 :\n",
        "    if n % 2 == 0 :\n",
        "      print(n)\n",
        "\n",
        "print_even(list_1)"
      ],
      "metadata": {
        "colab": {
          "base_uri": "https://localhost:8080/"
        },
        "id": "t3qoHSWIO4ER",
        "outputId": "1c16fc8f-3587-4fdf-c31a-7b17a5c7f7b2"
      },
      "execution_count": 71,
      "outputs": [
        {
          "output_type": "stream",
          "name": "stdout",
          "text": [
            "2\n",
            "10\n",
            "12\n"
          ]
        }
      ]
    },
    {
      "cell_type": "code",
      "source": [
        "#224 - 정의하고, 푼 내용\n",
        "#dict.keys() int() round()\n",
        "\n",
        "dic = ({\"이름\":\"김말똥\", \"나이\":30, \"성별\":0})\n",
        "\n",
        "def print_keys(dic):\n",
        "  for keys in dic.keys():\n",
        "    print(keys)\n",
        "\n",
        "print_keys(dic)"
      ],
      "metadata": {
        "colab": {
          "base_uri": "https://localhost:8080/"
        },
        "id": "xEwtReoTO4Mf",
        "outputId": "1396a450-f96e-45e2-9f74-b53ff6cfe1eb"
      },
      "execution_count": 75,
      "outputs": [
        {
          "output_type": "stream",
          "name": "stdout",
          "text": [
            "이름\n",
            "나이\n",
            "성별\n"
          ]
        }
      ]
    },
    {
      "cell_type": "code",
      "source": [
        "#225 - 화면에 프린트 하는 함수  #인자-딕셔너리, 키\n",
        "\n",
        "my_dict = {\"10/26\" : [100, 130, 100, 100],\n",
        "           \"10/27\" : [10, 12, 10, 11]}\n",
        "\n",
        "def print_value_by_key (my_dict, key):\n",
        "  print(my_dict[key]) #각 딕셔너리에, 키 = 문자열!\n",
        "\n",
        "#결과 예시\n",
        "print_value_by_key (my_dict, \"10/26\")\n",
        "print_value_by_key (my_dict, \"10/27\")"
      ],
      "metadata": {
        "colab": {
          "base_uri": "https://localhost:8080/"
        },
        "id": "NuMc_i44O4T6",
        "outputId": "bf2b1dec-f8e6-4b61-ea68-38b2eb0c3fa0"
      },
      "execution_count": 15,
      "outputs": [
        {
          "output_type": "stream",
          "name": "stdout",
          "text": [
            "[100, 130, 100, 100]\n",
            "[10, 12, 10, 11]\n"
          ]
        }
      ]
    },
    {
      "cell_type": "code",
      "source": [
        "#226\n",
        "#반복문과 슬라이싱으로 풀어볼 수 있음\n",
        "\n",
        "def print_5xn(line):\n",
        "    chunk_num = int(len(line) / 5)\n",
        "    for x in range(chunk_num + 1) :\n",
        "        print(line[x * 5: x * 5 + 5])"
      ],
      "metadata": {
        "id": "n8B5fqznO4r1"
      },
      "execution_count": 12,
      "outputs": []
    },
    {
      "cell_type": "code",
      "source": [
        "#227 -> 이거 잘 모르겠음\n",
        "\n",
        "def print_mxn(string,num):\n",
        "  chunk_num = int(len(string)/num)\n",
        "  for i in range(chunk_num + 1) :\n",
        "    print(string[i * num: x * num + num])\n",
        "\n",
        "  print_mxn(\"아이엠어보이유알어걸\", 3)"
      ],
      "metadata": {
        "id": "J7uMF-tUO4zC"
      },
      "execution_count": 82,
      "outputs": []
    },
    {
      "cell_type": "code",
      "source": [
        "#228\n",
        "\n",
        "def calc_monthly_salary(annual_salary) :\n",
        "  monthly = int(annual_salary / 12)\n",
        "  return monthly\n",
        "\n",
        "print(calc_monthly_salary(12000000))\n"
      ],
      "metadata": {
        "colab": {
          "base_uri": "https://localhost:8080/"
        },
        "id": "qDT5t-VFO46O",
        "outputId": "ddbcbb45-3639-4f0e-86fb-7cdbc00ea9a1"
      },
      "execution_count": 83,
      "outputs": [
        {
          "output_type": "stream",
          "name": "stdout",
          "text": [
            "1000000\n"
          ]
        }
      ]
    },
    {
      "cell_type": "code",
      "source": [
        "#229\n",
        "\n",
        "def my_print (a,b) : #a,b라는 매개변수 지닌 my_print 함수 선언\n",
        "  print(\"왼쪽:\", a) #왼쪽 출력하고, 입력받은 a인수 함께 출력\n",
        "  print(\"오른쪽:\", b) #오른쪽 출력 b인수 함께 출력\n",
        "\n",
        "my_print(a=100,b=200)"
      ],
      "metadata": {
        "colab": {
          "base_uri": "https://localhost:8080/"
        },
        "id": "5PomQJIoO_y_",
        "outputId": "fadebae7-bd15-4d07-a80c-b96376c40279"
      },
      "execution_count": 84,
      "outputs": [
        {
          "output_type": "stream",
          "name": "stdout",
          "text": [
            "왼쪽: 100\n",
            "오른쪽: 200\n"
          ]
        }
      ]
    },
    {
      "cell_type": "code",
      "source": [
        "#230\n",
        "\n",
        "def my_print (a, b) :\n",
        "    print(\"왼쪽:\", a)\n",
        "    print(\"오른쪽:\", b)\n",
        "\n",
        "my_print(b=100, a=200)\n",
        "\n",
        "#왼쪽 200, 오른쪽 100"
      ],
      "metadata": {
        "colab": {
          "base_uri": "https://localhost:8080/"
        },
        "id": "evfxsJh8O_5e",
        "outputId": "c590436d-1eb2-47fc-f21e-dafa8c1f89bc"
      },
      "execution_count": 85,
      "outputs": [
        {
          "output_type": "stream",
          "name": "stdout",
          "text": [
            "왼쪽: 200\n",
            "오른쪽: 100\n"
          ]
        }
      ]
    },
    {
      "cell_type": "markdown",
      "source": [
        "#231\n",
        "아래 코드를 실행한 결과를 예상하라.\n",
        "\n",
        "def n_plus_1 (n) :\n",
        "    result = n + 1\n",
        "\n",
        "n_plus_1(3)\n",
        "print (result)\n",
        "\n",
        "\n",
        "#232\n",
        "문자열 하나를 입력받아 인터넷 주소를 반환하는 make_url 함수를 정의하라.\n",
        "\n",
        "make_url(\"naver\")\n",
        "www.naver.com\n",
        "\n",
        "\n",
        "#233\n",
        "문자열을 입력받아 각 문자들로 구성된 리스트로 반환하는 make_list 함수를 정의하라.\n",
        "\n",
        "make_list(\"abcd\")\n",
        "['a', 'b', 'c', 'd']\n",
        "\n",
        "\n",
        "#234\n",
        "숫자로 구성된 하나의 리스트를 입력받아, 짝수들을 추출하여 리스트로 반환하는 pickup_even 함수를 구현하라.\n",
        "\n",
        "pickup_even([3, 4, 5, 6, 7, 8])\n",
        "[4, 6, 8]\n",
        "\n",
        "\n",
        "#235\n",
        "콤마가 포함된 문자열 숫자를 입력받아 정수로 변환하는 convert_int 함수를 정의하라.\n",
        "\n",
        "convert_int(\"1,234,567\")\n",
        "1234567\n",
        "\n",
        "\n",
        "#236\n",
        "아래 코드의 실행 결과를 예측하라.\n",
        "\n",
        "def 함수(num) :\n",
        "    return num + 4\n",
        "\n",
        "a = 함수(10)\n",
        "b = 함수(a)\n",
        "c = 함수(b)\n",
        "print(c)\n",
        "\n",
        "\n",
        "#237\n",
        "아래 코드의 실행 결과를 예측하라.\n",
        "\n",
        "def 함수(num) :\n",
        "    return num + 4\n",
        "\n",
        "c = 함수(함수(함수(10)))\n",
        "print(c)\n",
        "\n",
        "\n",
        "#238\n",
        "아래 코드의 실행 결과를 예측하라.\n",
        "\n",
        "def 함수1(num) :\n",
        "    return num + 4\n",
        "\n",
        "def 함수2(num) :\n",
        "    return num * 10\n",
        "\n",
        "a = 함수1(10)\n",
        "c = 함수2(a)\n",
        "print(c)\n",
        "\n",
        "\n",
        "#239\n",
        "아래 코드의 실행 결과를 예측하라.\n",
        "\n",
        "def 함수1(num) :\n",
        "    return num + 4\n",
        "\n",
        "def 함수2(num) :\n",
        "    num = num + 2\n",
        "    return 함수1(num)\n",
        "\n",
        "c = 함수2(10)\n",
        "print(c)\n",
        "\n",
        "\n",
        "#240\n",
        "아래 코드의 실행 결과를 예측하라.\n",
        "\n",
        "def 함수0(num) :\n",
        "    return num * 2\n",
        "\n",
        "def 함수1(num) :\n",
        "    return 함수0(num + 2)\n",
        "\n",
        "def 함수2(num) :\n",
        "    num = num + 10\n",
        "    return 함수1(num)\n",
        "\n",
        "c = 함수2(2)\n",
        "print(c)\n"
      ],
      "metadata": {
        "id": "Qc47Phk5K38j"
      }
    },
    {
      "cell_type": "code",
      "source": [
        "#231\n",
        "# 지역변수, 전역 변수를 가려내는 문제\n",
        "# result = n + 1 (안에서 선언된 함수라)\n",
        "\n",
        "#print(result) <- 밖에서 언급된 값이 없기 때문에 출력 X\n",
        "#아래와 같이 정의하면 문제없음\n",
        "\n",
        "result =3\n",
        "def n_plus_1 (n) :\n",
        "  result = n+1\n",
        "\n",
        "n_plus_1(3)\n",
        "print(result)"
      ],
      "metadata": {
        "colab": {
          "base_uri": "https://localhost:8080/"
        },
        "id": "5fjk-gpYLIKP",
        "outputId": "a473b10b-b845-44aa-f2ab-29dda961dcfb"
      },
      "execution_count": 39,
      "outputs": [
        {
          "output_type": "stream",
          "name": "stdout",
          "text": [
            "3\n"
          ]
        }
      ]
    },
    {
      "cell_type": "code",
      "source": [
        "#232\n",
        "\n",
        "def make_url(문자열):\n",
        "  url = \"www.\" + 문자열 + \".com\"\n",
        "  return url\n",
        "\n",
        "print(make_url(\"naver\"))\n",
        "\n",
        "\n",
        "#다른 방법도 있다고 함 -> 더 쉬움\n",
        "\n",
        "def make_url(string) :\n",
        "    return \"www.\" + string + \".com\"\n",
        "\n",
        "print(make_url(\"naver\"))\n"
      ],
      "metadata": {
        "colab": {
          "base_uri": "https://localhost:8080/"
        },
        "id": "-xlR9eBsWmVA",
        "outputId": "17afaf3b-e3ca-4b0b-c40b-d0f7ae719bc7"
      },
      "execution_count": 90,
      "outputs": [
        {
          "output_type": "stream",
          "name": "stdout",
          "text": [
            "www.naver.com\n",
            "www.naver.com\n"
          ]
        }
      ]
    },
    {
      "cell_type": "code",
      "source": [
        "#233\n",
        "\n",
        "def pickup_even (num_list):\n",
        "  result = []\n",
        "  for num in num_list:\n",
        "    if num%2 == 0:\n",
        "      result.append(num)\n",
        "  return result\n",
        "\n",
        "pickup_even([3,4,5,6,7,8])"
      ],
      "metadata": {
        "colab": {
          "base_uri": "https://localhost:8080/"
        },
        "id": "JLmRtAP-WmMj",
        "outputId": "74ff18ab-a9cd-410d-ddd0-a560cf94caac"
      },
      "execution_count": 42,
      "outputs": [
        {
          "output_type": "execute_result",
          "data": {
            "text/plain": [
              "[4, 6, 8]"
            ]
          },
          "metadata": {},
          "execution_count": 42
        }
      ]
    },
    {
      "cell_type": "code",
      "source": [
        "#234\n",
        "\n",
        "def pickup_even(num):\n",
        "  result = []\n",
        "  for a in num:\n",
        "    if a % 2 == 0:\n",
        "      result.append(a)\n",
        "  return result\n",
        "\n",
        "print(pickup_even([3,4,5,6,7,8]))"
      ],
      "metadata": {
        "colab": {
          "base_uri": "https://localhost:8080/"
        },
        "id": "HiG60bjbWmFC",
        "outputId": "161d1e24-6d9b-4ef8-d855-aa0b5bc6a5a2"
      },
      "execution_count": 104,
      "outputs": [
        {
          "output_type": "stream",
          "name": "stdout",
          "text": [
            "[4, 6, 8]\n"
          ]
        }
      ]
    },
    {
      "cell_type": "code",
      "source": [
        "#235\n",
        "\n",
        "def convert_int(a): #convert_int 함수 선언\n",
        "  print(a.replace(',','')) #replace 메소드 사용 -> 제거\n",
        "\n",
        "convert_int('1,234,567')"
      ],
      "metadata": {
        "colab": {
          "base_uri": "https://localhost:8080/"
        },
        "id": "h5ysM4u_Wl8R",
        "outputId": "d1cd0b8b-fc14-47c0-80ce-e86851672789"
      },
      "execution_count": 46,
      "outputs": [
        {
          "output_type": "stream",
          "name": "stdout",
          "text": [
            "1234567\n"
          ]
        }
      ]
    },
    {
      "cell_type": "code",
      "source": [
        "#236 - 22\n",
        "\n",
        "def 함수(num) :\n",
        "    return num + 4\n",
        "\n",
        "a = 함수(10) #14 반환\n",
        "b = 함수(a) #18 반환\n",
        "c = 함수(b) #22 반환\n",
        "print(c)"
      ],
      "metadata": {
        "colab": {
          "base_uri": "https://localhost:8080/"
        },
        "id": "Ngz0OctpWlwN",
        "outputId": "d51ac968-b598-4136-b53d-7cca8a32329a"
      },
      "execution_count": 105,
      "outputs": [
        {
          "output_type": "stream",
          "name": "stdout",
          "text": [
            "22\n"
          ]
        }
      ]
    },
    {
      "cell_type": "code",
      "source": [
        "#237\n",
        "#가장 안쪽 괄호부터 실행됨\n",
        "\n",
        "def 함수(num) :\n",
        "  return num+4\n",
        "\n",
        "c = 함수(함수(함수(10)))\n",
        "price(c)\n"
      ],
      "metadata": {
        "colab": {
          "base_uri": "https://localhost:8080/",
          "height": 216
        },
        "id": "FVcbXBIdW0eV",
        "outputId": "02f33c83-5335-4e57-ca68-2c8f9f9eb472"
      },
      "execution_count": 43,
      "outputs": [
        {
          "output_type": "error",
          "ename": "TypeError",
          "evalue": "ignored",
          "traceback": [
            "\u001b[0;31m---------------------------------------------------------------------------\u001b[0m",
            "\u001b[0;31mTypeError\u001b[0m                                 Traceback (most recent call last)",
            "\u001b[0;32m<ipython-input-43-2771e9b4bfa5>\u001b[0m in \u001b[0;36m<cell line: 8>\u001b[0;34m()\u001b[0m\n\u001b[1;32m      6\u001b[0m \u001b[0;34m\u001b[0m\u001b[0m\n\u001b[1;32m      7\u001b[0m \u001b[0mc\u001b[0m \u001b[0;34m=\u001b[0m \u001b[0m함수\u001b[0m\u001b[0;34m(\u001b[0m\u001b[0m함수\u001b[0m\u001b[0;34m(\u001b[0m\u001b[0m함수\u001b[0m\u001b[0;34m(\u001b[0m\u001b[0;36m10\u001b[0m\u001b[0;34m)\u001b[0m\u001b[0;34m)\u001b[0m\u001b[0;34m)\u001b[0m\u001b[0;34m\u001b[0m\u001b[0;34m\u001b[0m\u001b[0m\n\u001b[0;32m----> 8\u001b[0;31m \u001b[0mprice\u001b[0m\u001b[0;34m(\u001b[0m\u001b[0mc\u001b[0m\u001b[0;34m)\u001b[0m\u001b[0;34m\u001b[0m\u001b[0;34m\u001b[0m\u001b[0m\n\u001b[0m",
            "\u001b[0;31mTypeError\u001b[0m: 'int' object is not callable"
          ]
        }
      ]
    },
    {
      "cell_type": "code",
      "source": [
        "#238\n",
        "\n",
        "def 함수1(num): #num이라는 매개변수 지닌 함수1 선언\n",
        "  return num + 4 #입력받은 인수값 *4 리턴\n",
        "\n",
        "def 함수2(num): #함수 2 선언\n",
        "  return num * 10 #입력받은 인수값 * 10 리턴\n",
        "\n",
        "a = 함수1(10) #함수 1 인수값 10 대입\n",
        "c = 함수2(a) #함수2 인수값 대입\n",
        "\n",
        "print(c)"
      ],
      "metadata": {
        "colab": {
          "base_uri": "https://localhost:8080/"
        },
        "id": "crDdlvFLW0R2",
        "outputId": "710af26c-0407-450a-96f9-f2a1f09c47bd"
      },
      "execution_count": 48,
      "outputs": [
        {
          "output_type": "stream",
          "name": "stdout",
          "text": [
            "140\n"
          ]
        }
      ]
    },
    {
      "cell_type": "code",
      "source": [
        "#239 #16\n",
        "\n",
        "def 함수1(num) :\n",
        "    return num + 4\n",
        "\n",
        "def 함수2(num) :\n",
        "    num = num + 2\n",
        "    return 함수1(num)\n",
        "\n",
        "c = 함수2(10)\n",
        "print(c) #함수 2에서 12, 함수1에서 16\n",
        "\n"
      ],
      "metadata": {
        "colab": {
          "base_uri": "https://localhost:8080/"
        },
        "id": "K53W9ZAxW4hZ",
        "outputId": "ff41aff8-2921-4bbf-c9b0-22745e3992f2"
      },
      "execution_count": 106,
      "outputs": [
        {
          "output_type": "stream",
          "name": "stdout",
          "text": [
            "16\n"
          ]
        }
      ]
    },
    {
      "cell_type": "code",
      "source": [
        "#240\n",
        "\n",
        "def 함수0(num) :\n",
        "    return num * 2\n",
        "\n",
        "def 함수1(num) :\n",
        "    return 함수0(num + 2)\n",
        "\n",
        "def 함수2(num) :\n",
        "    num = num + 10\n",
        "    return 함수1(num)\n",
        "\n",
        "c = 함수2(2) #함수2에서 12 #함수1에서 14 #함수 0에서 28\n",
        "print(c)"
      ],
      "metadata": {
        "colab": {
          "base_uri": "https://localhost:8080/"
        },
        "id": "Xi4_C1FbW4aB",
        "outputId": "18ca8f88-ebc9-4910-ddcf-814b31df2e27"
      },
      "execution_count": 107,
      "outputs": [
        {
          "output_type": "stream",
          "name": "stdout",
          "text": [
            "28\n"
          ]
        }
      ]
    }
  ]
}