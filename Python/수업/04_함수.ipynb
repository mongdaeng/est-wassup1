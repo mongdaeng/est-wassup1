{
  "nbformat": 4,
  "nbformat_minor": 0,
  "metadata": {
    "colab": {
      "provenance": []
    },
    "kernelspec": {
      "name": "python3",
      "display_name": "Python 3"
    },
    "language_info": {
      "name": "python"
    }
  },
  "cells": [
    {
      "cell_type": "code",
      "execution_count": null,
      "metadata": {
        "colab": {
          "base_uri": "https://localhost:8080/"
        },
        "id": "Gv0wRDEwzqeQ",
        "outputId": "74eecc29-3155-4d4a-f059-db8ea38db876"
      },
      "outputs": [
        {
          "output_type": "stream",
          "name": "stdout",
          "text": [
            "7\n"
          ]
        }
      ],
      "source": [
        "#4-1 파이썬 함수\n",
        "\n",
        "def add(a,b):\n",
        "  return a + b\n",
        "\n",
        "a = 3\n",
        "b = 4\n",
        "c = add(a,b)\n",
        "print(c)"
      ]
    },
    {
      "cell_type": "code",
      "source": [
        "#매개 변수와 인수\n",
        "\n",
        "def add(a, b):  # a, b는 매개변수\n",
        "    return a+b\n",
        "\n",
        "print(add(3, 4))  # 3, 4는 인수\n"
      ],
      "metadata": {
        "colab": {
          "base_uri": "https://localhost:8080/"
        },
        "id": "sW2rdVBG0Zru",
        "outputId": "82bee4bc-37c1-4bc6-8ddf-77274d3b30c8"
      },
      "execution_count": null,
      "outputs": [
        {
          "output_type": "stream",
          "name": "stdout",
          "text": [
            "7\n"
          ]
        }
      ]
    },
    {
      "cell_type": "code",
      "source": [
        "#리턴값이 있는 함수\n",
        "\n",
        "\n",
        "def add(a,b):\n",
        "  result = a + b\n",
        "  return result\n",
        "\n",
        "a = add(3,4)\n",
        "print(a)"
      ],
      "metadata": {
        "colab": {
          "base_uri": "https://localhost:8080/"
        },
        "id": "5SAqU8Uk1yaa",
        "outputId": "da036942-faeb-4ab6-cc2b-1c17abd7ccc5"
      },
      "execution_count": null,
      "outputs": [
        {
          "output_type": "stream",
          "name": "stdout",
          "text": [
            "7\n"
          ]
        }
      ]
    },
    {
      "cell_type": "code",
      "source": [
        "#입력값이 없는 함수\n",
        "\n",
        "def say():\n",
        "  return 'Hi'\n",
        "\n",
        "a = say()\n",
        "print(a)\n",
        "\n"
      ],
      "metadata": {
        "colab": {
          "base_uri": "https://localhost:8080/"
        },
        "id": "-1hHheMg1-Oj",
        "outputId": "70c37167-5768-443f-c45c-b00eb9b7f80e"
      },
      "execution_count": null,
      "outputs": [
        {
          "output_type": "stream",
          "name": "stdout",
          "text": [
            "Hi\n"
          ]
        }
      ]
    },
    {
      "cell_type": "code",
      "source": [
        "# 리턴값이 없는 함수\n",
        "def add(a, b):\n",
        "  print(\"%d, %d의 합은 %d입니다.\" % (a, b, a+b))\n",
        "\n",
        "add(3, 4)\n",
        "\n",
        "print(a)\n"
      ],
      "metadata": {
        "colab": {
          "base_uri": "https://localhost:8080/"
        },
        "id": "FrkR57zS2GSB",
        "outputId": "870e3cb9-20e4-4cfe-d99c-6be451a8882b"
      },
      "execution_count": null,
      "outputs": [
        {
          "output_type": "stream",
          "name": "stdout",
          "text": [
            "3, 4의 합은 7입니다.\n",
            "Hi\n"
          ]
        }
      ]
    },
    {
      "cell_type": "code",
      "source": [
        "# 입력값도 리턴값도 없는 함수\n",
        "\n",
        "def say():\n",
        "  print('Hi')\n",
        "\n",
        "say()\n"
      ],
      "metadata": {
        "colab": {
          "base_uri": "https://localhost:8080/"
        },
        "id": "9pZ-H1gt2QGl",
        "outputId": "759e3f07-6de9-4d4a-80d8-e3144d10d702"
      },
      "execution_count": null,
      "outputs": [
        {
          "output_type": "stream",
          "name": "stdout",
          "text": [
            "Hi\n"
          ]
        }
      ]
    },
    {
      "cell_type": "code",
      "source": [
        "# 매개변수 지정 호출\n",
        "\n",
        "def sub(a,b):\n",
        "  return a - b\n",
        "\n",
        "result = sub(a=7, b=3)  # a에 7, b에 3을 전달\n",
        "print(result)\n"
      ],
      "metadata": {
        "colab": {
          "base_uri": "https://localhost:8080/"
        },
        "id": "xv96k7HK2e7v",
        "outputId": "137e264a-5b28-49aa-9634-73b7f3c88c1e"
      },
      "execution_count": null,
      "outputs": [
        {
          "output_type": "stream",
          "name": "stdout",
          "text": [
            "4\n"
          ]
        }
      ]
    },
    {
      "cell_type": "code",
      "source": [
        "#여러개의 입력값\n",
        "\n",
        "\n",
        "def add_many(*args):\n",
        "  result = 0\n",
        "  print('함수 안에서 실행', args)\n",
        "  for i in args:\n",
        "    result = result + i   # *args에 입력받은 모든 값을 더한다.\n",
        "  return result\n",
        "\n",
        "\n",
        "result = add_many(1,2,3)\n",
        "print('함수 밖에서 실행', result)\n",
        "\n",
        "result = add_many(1,2,3,4,5,6,7,8,9,10)\n",
        "print('함수 밖에서 실행', result)\n"
      ],
      "metadata": {
        "colab": {
          "base_uri": "https://localhost:8080/"
        },
        "id": "4OO6wqyq4iMg",
        "outputId": "954dabc3-4298-49bb-f8bf-4aba866bb925"
      },
      "execution_count": null,
      "outputs": [
        {
          "output_type": "stream",
          "name": "stdout",
          "text": [
            "함수 안에서 실행 (1, 2, 3)\n",
            "함수 밖에서 실행 6\n",
            "함수 안에서 실행 (1, 2, 3, 4, 5, 6, 7, 8, 9, 10)\n",
            "함수 밖에서 실행 55\n"
          ]
        }
      ]
    },
    {
      "cell_type": "code",
      "source": [
        "#고정 인수와 가변 인수를 혼합하는 예제\n",
        "#반드시 고정 인수가 먼저 나와야 함\n",
        "\n",
        "def add_mul(choice, *args):\n",
        "  if choice == \"add\":\n",
        "    result = 0\n",
        "    for i in args:\n",
        "      result = result + i\n",
        "\n",
        "  elif choice == \"mul\":\n",
        "    result = 1\n",
        "    for i in args:\n",
        "      result = result * i\n",
        "  return result\n",
        "\n",
        "  result = add_mul('add', 1,2,3,4,5)\n",
        "  print(result)\n",
        "\n",
        "  result = add_mul('mul', 1,2,3,4,5)\n",
        "  print(result)"
      ],
      "metadata": {
        "id": "SVQdCUmq5P5e"
      },
      "execution_count": null,
      "outputs": []
    },
    {
      "cell_type": "code",
      "source": [
        "#키워드 매개변수, kwargs\n",
        "#dict로 저장해줌\n",
        "\n",
        "def print_kwargs(**kwargs):\n",
        "  print(kwargs)\n",
        "\n",
        "print_kwargs(a=1)\n",
        "\n",
        "print_kwargs(name='foo', age=3)\n"
      ],
      "metadata": {
        "colab": {
          "base_uri": "https://localhost:8080/"
        },
        "id": "wR-6yRzc4p0R",
        "outputId": "885a05b6-da46-43bb-f990-69f4c66a4b95"
      },
      "execution_count": null,
      "outputs": [
        {
          "output_type": "stream",
          "name": "stdout",
          "text": [
            "{'a': 1}\n",
            "{'name': 'foo', 'age': 3}\n"
          ]
        }
      ]
    },
    {
      "cell_type": "code",
      "source": [
        "#함수의 리턴값은 언제나 하나\n",
        "\n",
        "def add_and_mul(a,b):\n",
        "  return a+b, a*b\n",
        "\n",
        "result = add_and_mul(3,4)\n",
        "result\n",
        "\n",
        "#분리해서 받고 싶을 때\n",
        "result1, result2 = add_and_mul(3,4)\n",
        "print(result)\n",
        "print(result2)\n",
        "\n",
        "#_를 사용하여 받고 싶은 값만 받을 수 있다\n",
        "result1, _ = add_and_mul(3,4)\n",
        "print(result1)\n",
        "print(_)\n",
        "\n",
        "#그렇다면 2개 리턴은?\n",
        "\n",
        "def add_and_mul(a,b):\n",
        "  return a+b\n",
        "  return a*b\n",
        "result = add_and_mul(2,3)\n",
        "print(result)"
      ],
      "metadata": {
        "colab": {
          "base_uri": "https://localhost:8080/"
        },
        "id": "2eavKSVo2oki",
        "outputId": "c2821ec6-33d8-4c16-d5d4-8dc88a7d2293"
      },
      "execution_count": null,
      "outputs": [
        {
          "output_type": "stream",
          "name": "stdout",
          "text": [
            "(7, 12)\n",
            "12\n",
            "7\n",
            "12\n",
            "5\n"
          ]
        }
      ]
    },
    {
      "cell_type": "code",
      "source": [
        "#return의 또다른 쓰임새 - 함수 빠져나가고 싶을 때 사용\n",
        "\n",
        "def say_nick(nick):\n",
        "  if nick == \"바보\":\n",
        "    return\n",
        "  print(\"나의 별명은 %s 입니다.\" % nick)\n",
        "\n",
        "say_nick('야호')\n",
        "\n",
        "say_nick('바보')\n"
      ],
      "metadata": {
        "colab": {
          "base_uri": "https://localhost:8080/"
        },
        "id": "tnYiXlEP-bfO",
        "outputId": "755c2912-c824-498c-a601-f42a605a0fcc"
      },
      "execution_count": null,
      "outputs": [
        {
          "output_type": "stream",
          "name": "stdout",
          "text": [
            "나의 별명은 야호 입니다.\n"
          ]
        }
      ]
    },
    {
      "cell_type": "code",
      "source": [
        "#매개변수에 초깃값 미리 설정하기\n",
        "\n",
        "#default1.py\n",
        "\n",
        "def say_myself(name,age, man=True):\n",
        "  print(\"나의 이름은 %s 입니다.\" % name)\n",
        "  print(\"나의 나이는 %d살 입니다.\" % age)\n",
        "\n",
        "  if man:\n",
        "    print(\"남자입니다.\")\n",
        "  else:\n",
        "    print(\"여자입니다.\")\n",
        "\n",
        "say_myself(\"박응용\", 27)\n",
        "say_myself(\"박응용\", 27, False)\n"
      ],
      "metadata": {
        "colab": {
          "base_uri": "https://localhost:8080/"
        },
        "id": "AGoPm9C5_XwJ",
        "outputId": "6b7835f7-c10b-4fc7-8b1c-b47840a2fd47"
      },
      "execution_count": null,
      "outputs": [
        {
          "output_type": "stream",
          "name": "stdout",
          "text": [
            "나의 이름은 박응용 입니다.\n",
            "나의 나이는 27살 입니다.\n",
            "남자입니다.\n",
            "나의 이름은 박응용 입니다.\n",
            "나의 나이는 27살 입니다.\n",
            "여자입니다.\n"
          ]
        }
      ]
    },
    {
      "cell_type": "code",
      "source": [
        "# default2.py\n",
        "def say_myself(name, man=True, age):\n",
        "    print(\"나의 이름은 %s 입니다.\" % name)\n",
        "    print(\"나이는 %d살입니다.\" % age)\n",
        "    if man:\n",
        "        print(\"남자입니다.\")\n",
        "    else:\n",
        "        print(\"여자입니다.\")\n",
        "\n",
        "say_myself(\"박응용\", 27)\n",
        "\n",
        "'''위 오류 메시지는 ‘초깃값이 없는 매개변수(age)는 초깃값이 있는 매개변수(man) 뒤에 사용할 수 없다’라는 뜻이다.\n",
        "즉, 매개변수로 (name, age, man=True)는 되지만, (name, man=True, age)는 안 된다는 것이다.\n",
        "초기화하고 싶은 매개변수는 항상 뒤쪽에 놓아야 한다는 것을 잊지 말자.'''"
      ],
      "metadata": {
        "colab": {
          "base_uri": "https://localhost:8080/",
          "height": 144
        },
        "id": "qkosu2r5C9Av",
        "outputId": "60fa5b15-de55-42fe-8763-ffdd133add63"
      },
      "execution_count": null,
      "outputs": [
        {
          "output_type": "error",
          "ename": "SyntaxError",
          "evalue": "ignored",
          "traceback": [
            "\u001b[0;36m  File \u001b[0;32m\"<ipython-input-66-6f4c3af5bc42>\"\u001b[0;36m, line \u001b[0;32m2\u001b[0m\n\u001b[0;31m    def say_myself(name, man=True, age):\u001b[0m\n\u001b[0m                                   ^\u001b[0m\n\u001b[0;31mSyntaxError\u001b[0m\u001b[0;31m:\u001b[0m non-default argument follows default argument\n"
          ]
        }
      ]
    },
    {
      "cell_type": "code",
      "source": [
        "#함수 안에서 선언한 변수의 효력 범위\n",
        "\n",
        "# vartest.py\n",
        "a = 1\n",
        "def vartest(a):\n",
        "    a = a +1\n",
        "\n",
        "vartest(a)\n",
        "print(a)\n",
        "\n",
        "#함수 안에서 사용하는 매개변수는 함수 안에서만 사용하는 ‘함수만의 변수’이기 때문\n",
        "\n",
        "def vartest(hello):\n",
        "    hello = hello + 1\n",
        "\n",
        "# 함수 안에서 사용하는 매개변수 -> 함수 밖의 변수 이름과는 전혀 상관없음\n",
        "\n",
        "# vartest_error.py\n",
        "def vartest(a):\n",
        "    a = a + 1\n",
        "\n",
        "vartest(3)\n",
        "print(a)\n"
      ],
      "metadata": {
        "colab": {
          "base_uri": "https://localhost:8080/"
        },
        "id": "vgfSIEpkCSMH",
        "outputId": "089c3f67-2417-4614-fbc8-07cdabee5fc8"
      },
      "execution_count": null,
      "outputs": [
        {
          "output_type": "stream",
          "name": "stdout",
          "text": [
            "1\n",
            "1\n"
          ]
        }
      ]
    },
    {
      "cell_type": "code",
      "source": [
        "#함수 안에서 함수 밖의 변수를 변경하는 방법\n",
        "#1 return 사용하기\n",
        "\n",
        "# vartest_return.py\n",
        "a = 1\n",
        "def vartest(a):\n",
        "    a = a +1\n",
        "    return a\n",
        "\n",
        "a = vartest(a)\n",
        "print(a)\n",
        "\n",
        "#a = vartest(a)라고 작성하면 a에는 vartest 함수의 리턴값이 대입\n",
        "#vartest 함수 안의 a 매개변수는 함수 밖 a와는 다름"
      ],
      "metadata": {
        "id": "O265oESyCUBx"
      },
      "execution_count": null,
      "outputs": []
    },
    {
      "cell_type": "code",
      "source": [
        "#2 global 명령어 사용하기\n",
        "#외부 변수에 종속적 함수는 좋지 않음. 첫번째 방법 권장\n",
        "\n",
        "# vartest_global.py\n",
        "a = 1\n",
        "def vartest():\n",
        "    global a\n",
        "    a = a+1\n",
        "\n",
        "vartest()\n",
        "print(a)\n"
      ],
      "metadata": {
        "colab": {
          "base_uri": "https://localhost:8080/"
        },
        "id": "iTAAlsPkCWSK",
        "outputId": "73b94194-588e-43f9-8410-74250418de99"
      },
      "execution_count": null,
      "outputs": [
        {
          "output_type": "stream",
          "name": "stdout",
          "text": [
            "2\n"
          ]
        }
      ]
    },
    {
      "cell_type": "code",
      "source": [
        "#3 lambda 예약어\n",
        "# 간편한 함수, def와 동일한 역할을 하는 함수 생성, def를 쓸 정도로 복잡하지 않을 주로 사용 (EX.일회성 데이터 정제처리)\n",
        "# return 명령어가 없어도 표현식의 결괏값 리턴\n",
        "# 함수_이름 = lambda 매개변수1, 매개변수2, ... : 매개변수를_이용한_표현식\n",
        "\n",
        "add = lambda a, b: a+b\n",
        "result = add(3, 4)\n",
        "print(result)\n",
        "\n"
      ],
      "metadata": {
        "colab": {
          "base_uri": "https://localhost:8080/"
        },
        "id": "h2tPaXqfCcpN",
        "outputId": "c82b1290-2e3b-43c3-9689-ff0af4bb1259"
      },
      "execution_count": null,
      "outputs": [
        {
          "output_type": "stream",
          "name": "stdout",
          "text": [
            "7\n"
          ]
        }
      ]
    },
    {
      "cell_type": "code",
      "source": [
        "#4-2 사용자 입출력\n",
        "\n",
        "#사용자 입력 활용하기 - input 활용하기\n",
        "\n",
        "a = input()\n",
        "a"
      ],
      "metadata": {
        "colab": {
          "base_uri": "https://localhost:8080/",
          "height": 54
        },
        "id": "G69znqqQFSOm",
        "outputId": "6dff6c6d-55ff-4943-a730-1709acf50da5"
      },
      "execution_count": null,
      "outputs": [
        {
          "name": "stdout",
          "output_type": "stream",
          "text": [
            "'Life is too short, you need python'\n"
          ]
        },
        {
          "output_type": "execute_result",
          "data": {
            "text/plain": [
              "\"'Life is too short, you need python'\""
            ],
            "application/vnd.google.colaboratory.intrinsic+json": {
              "type": "string"
            }
          },
          "metadata": {},
          "execution_count": 72
        }
      ]
    },
    {
      "cell_type": "code",
      "source": [
        "#프롬프트를 띄워 사용자 입력 받기\n",
        "\n",
        "input(\"안내_문구\")\n",
        "number = input(\"숫자를 입력하세요: \")\n",
        "\n",
        "number = input(\"숫자를 입력하세요: \")\n",
        "print(number)\n",
        "\n",
        "type(number)"
      ],
      "metadata": {
        "colab": {
          "base_uri": "https://localhost:8080/",
          "height": 507
        },
        "id": "9mHmxboUFi8H",
        "outputId": "450167f2-cbbb-4461-ad79-846f7e246041"
      },
      "execution_count": null,
      "outputs": [
        {
          "output_type": "error",
          "ename": "KeyboardInterrupt",
          "evalue": "ignored",
          "traceback": [
            "\u001b[0;31m---------------------------------------------------------------------------\u001b[0m",
            "\u001b[0;31mKeyboardInterrupt\u001b[0m                         Traceback (most recent call last)",
            "\u001b[0;32m<ipython-input-74-c56f74f51ce2>\u001b[0m in \u001b[0;36m<cell line: 3>\u001b[0;34m()\u001b[0m\n\u001b[1;32m      1\u001b[0m \u001b[0;31m#프롬프트를 띄워 사용자 입력 받기\u001b[0m\u001b[0;34m\u001b[0m\u001b[0;34m\u001b[0m\u001b[0m\n\u001b[1;32m      2\u001b[0m \u001b[0;34m\u001b[0m\u001b[0m\n\u001b[0;32m----> 3\u001b[0;31m \u001b[0minput\u001b[0m\u001b[0;34m(\u001b[0m\u001b[0;34m\"안내_문구\"\u001b[0m\u001b[0;34m)\u001b[0m\u001b[0;34m\u001b[0m\u001b[0;34m\u001b[0m\u001b[0m\n\u001b[0m\u001b[1;32m      4\u001b[0m \u001b[0mnumber\u001b[0m \u001b[0;34m=\u001b[0m \u001b[0minput\u001b[0m\u001b[0;34m(\u001b[0m\u001b[0;34m\"숫자를 입력하세요: \"\u001b[0m\u001b[0;34m)\u001b[0m\u001b[0;34m\u001b[0m\u001b[0;34m\u001b[0m\u001b[0m\n\u001b[1;32m      5\u001b[0m \u001b[0;34m\u001b[0m\u001b[0m\n",
            "\u001b[0;32m/usr/local/lib/python3.10/dist-packages/ipykernel/kernelbase.py\u001b[0m in \u001b[0;36mraw_input\u001b[0;34m(self, prompt)\u001b[0m\n\u001b[1;32m    849\u001b[0m                 \u001b[0;34m\"raw_input was called, but this frontend does not support input requests.\"\u001b[0m\u001b[0;34m\u001b[0m\u001b[0;34m\u001b[0m\u001b[0m\n\u001b[1;32m    850\u001b[0m             )\n\u001b[0;32m--> 851\u001b[0;31m         return self._input_request(str(prompt),\n\u001b[0m\u001b[1;32m    852\u001b[0m             \u001b[0mself\u001b[0m\u001b[0;34m.\u001b[0m\u001b[0m_parent_ident\u001b[0m\u001b[0;34m,\u001b[0m\u001b[0;34m\u001b[0m\u001b[0;34m\u001b[0m\u001b[0m\n\u001b[1;32m    853\u001b[0m             \u001b[0mself\u001b[0m\u001b[0;34m.\u001b[0m\u001b[0m_parent_header\u001b[0m\u001b[0;34m,\u001b[0m\u001b[0;34m\u001b[0m\u001b[0;34m\u001b[0m\u001b[0m\n",
            "\u001b[0;32m/usr/local/lib/python3.10/dist-packages/ipykernel/kernelbase.py\u001b[0m in \u001b[0;36m_input_request\u001b[0;34m(self, prompt, ident, parent, password)\u001b[0m\n\u001b[1;32m    893\u001b[0m             \u001b[0;32mexcept\u001b[0m \u001b[0mKeyboardInterrupt\u001b[0m\u001b[0;34m:\u001b[0m\u001b[0;34m\u001b[0m\u001b[0;34m\u001b[0m\u001b[0m\n\u001b[1;32m    894\u001b[0m                 \u001b[0;31m# re-raise KeyboardInterrupt, to truncate traceback\u001b[0m\u001b[0;34m\u001b[0m\u001b[0;34m\u001b[0m\u001b[0m\n\u001b[0;32m--> 895\u001b[0;31m                 \u001b[0;32mraise\u001b[0m \u001b[0mKeyboardInterrupt\u001b[0m\u001b[0;34m(\u001b[0m\u001b[0;34m\"Interrupted by user\"\u001b[0m\u001b[0;34m)\u001b[0m \u001b[0;32mfrom\u001b[0m \u001b[0;32mNone\u001b[0m\u001b[0;34m\u001b[0m\u001b[0;34m\u001b[0m\u001b[0m\n\u001b[0m\u001b[1;32m    896\u001b[0m             \u001b[0;32mexcept\u001b[0m \u001b[0mException\u001b[0m \u001b[0;32mas\u001b[0m \u001b[0me\u001b[0m\u001b[0;34m:\u001b[0m\u001b[0;34m\u001b[0m\u001b[0;34m\u001b[0m\u001b[0m\n\u001b[1;32m    897\u001b[0m                 \u001b[0mself\u001b[0m\u001b[0;34m.\u001b[0m\u001b[0mlog\u001b[0m\u001b[0;34m.\u001b[0m\u001b[0mwarning\u001b[0m\u001b[0;34m(\u001b[0m\u001b[0;34m\"Invalid Message:\"\u001b[0m\u001b[0;34m,\u001b[0m \u001b[0mexc_info\u001b[0m\u001b[0;34m=\u001b[0m\u001b[0;32mTrue\u001b[0m\u001b[0;34m)\u001b[0m\u001b[0;34m\u001b[0m\u001b[0;34m\u001b[0m\u001b[0m\n",
            "\u001b[0;31mKeyboardInterrupt\u001b[0m: Interrupted by user"
          ]
        }
      ]
    },
    {
      "cell_type": "code",
      "source": [
        "#print 자세히 알기\n",
        "\n",
        "#기본형\n",
        "a = 123\n",
        "print(a)\n",
        "\n",
        "a = \"Python\"\n",
        "print(a)\n",
        "\n",
        "a = [1, 2, 3]\n",
        "print(a)\n",
        "\n",
        "#큰 따옴표로 둘러싸인 문자열은 + 연산과 동일하다\n",
        "print(\"life\" \"is\" \"too short\") #1번\n",
        "print(\"life\"+\"is\"+\"too short\") #2번\n",
        "\n",
        "#문자열 띄어쓰기는 쉼표로 함\n",
        "print(\"life\", \"is\", \"too short\")\n",
        "\n",
        "#한 줄에 결괏값 출력하기\n",
        "for i in range(10):\n",
        "  print(i, end=' ')"
      ],
      "metadata": {
        "colab": {
          "base_uri": "https://localhost:8080/"
        },
        "id": "zBjXnpjSGFsP",
        "outputId": "7462aaf3-4a70-4fec-d14b-497e7713d1b5"
      },
      "execution_count": null,
      "outputs": [
        {
          "output_type": "stream",
          "name": "stdout",
          "text": [
            "123\n",
            "Python\n",
            "[1, 2, 3]\n",
            "lifeistoo short\n",
            "lifeistoo short\n",
            "life is too short\n",
            "0 1 2 3 4 5 6 7 8 9 "
          ]
        }
      ]
    }
  ]
}