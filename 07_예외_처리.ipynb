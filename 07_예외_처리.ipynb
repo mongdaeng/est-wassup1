{
  "nbformat": 4,
  "nbformat_minor": 0,
  "metadata": {
    "colab": {
      "provenance": [],
      "authorship_tag": "ABX9TyNb+HJPixfkKUmKEcMTeBFy",
      "include_colab_link": true
    },
    "kernelspec": {
      "name": "python3",
      "display_name": "Python 3"
    },
    "language_info": {
      "name": "python"
    }
  },
  "cells": [
    {
      "cell_type": "markdown",
      "metadata": {
        "id": "view-in-github",
        "colab_type": "text"
      },
      "source": [
        "<a href=\"https://colab.research.google.com/github/mongdaeng/est-wassup1/blob/main/07_%EC%98%88%EC%99%B8_%EC%B2%98%EB%A6%AC.ipynb\" target=\"_parent\"><img src=\"https://colab.research.google.com/assets/colab-badge.svg\" alt=\"Open In Colab\"/></a>"
      ]
    },
    {
      "cell_type": "code",
      "execution_count": null,
      "metadata": {
        "id": "NPTabt0ILUMk",
        "colab": {
          "base_uri": "https://localhost:8080/"
        },
        "outputId": "0cfd3233-e9e6-4c3e-93b0-88c1ea84ef67"
      },
      "outputs": [
        {
          "output_type": "stream",
          "name": "stdout",
          "text": [
            "division by zero\n"
          ]
        }
      ],
      "source": [
        "#try-except 구문\n",
        "\n",
        "# try_except.py\n",
        "try:\n",
        "    4 / 0\n",
        "except ZeroDivisionError as e:\n",
        "    print(e)\n",
        "\n"
      ]
    },
    {
      "cell_type": "code",
      "source": [
        "#try-finally 문\n",
        "\n",
        "# try_finally.py\n",
        "try:\n",
        "    f = open('foo.txt', 'w')\n",
        "    # 무언가를 수행한다.\n",
        "\n",
        "\n",
        "finally:\n",
        "    f.close()  # 중간에 오류가 발생하더라도 무조건 실행된다."
      ],
      "metadata": {
        "id": "1yuuoz3RXImM"
      },
      "execution_count": null,
      "outputs": []
    },
    {
      "cell_type": "code",
      "source": [
        "#여러개의 오류 처리하기\n",
        "\n",
        "# many_error.py\n",
        "try:\n",
        "    a = [1,2]\n",
        "    print(a[3])\n",
        "    4/0\n",
        "except ZeroDivisionError:\n",
        "    print(\"0으로 나눌 수 없습니다.\")\n",
        "except IndexError:\n",
        "    print(\"인덱싱 할 수 없습니다.\")\n"
      ],
      "metadata": {
        "colab": {
          "base_uri": "https://localhost:8080/"
        },
        "id": "BHd9QNuXXOMO",
        "outputId": "75859af3-d50e-4b2e-98db-97e4abe063c4"
      },
      "execution_count": null,
      "outputs": [
        {
          "output_type": "stream",
          "name": "stdout",
          "text": [
            "인덱싱 할 수 없습니다.\n"
          ]
        }
      ]
    },
    {
      "cell_type": "code",
      "source": [
        "try:\n",
        "    a = [1,2]\n",
        "    print(a[3])\n",
        "    4/0\n",
        "except ZeroDivisionError as e:\n",
        "    print(e)\n",
        "except IndexError as e:\n",
        "    print(e)"
      ],
      "metadata": {
        "colab": {
          "base_uri": "https://localhost:8080/"
        },
        "id": "t1SAv_qiXqgm",
        "outputId": "7e32c0cb-7228-4905-8d4e-36588a7e030e"
      },
      "execution_count": null,
      "outputs": [
        {
          "output_type": "stream",
          "name": "stdout",
          "text": [
            "list index out of range\n"
          ]
        }
      ]
    },
    {
      "cell_type": "code",
      "source": [
        "try:\n",
        "    a = [1,2]\n",
        "    print(a[3])\n",
        "    4/0\n",
        "except (ZeroDivisionError, IndexError) as e:\n",
        "    print(e)"
      ],
      "metadata": {
        "colab": {
          "base_uri": "https://localhost:8080/"
        },
        "id": "lS-bRo-sXv_P",
        "outputId": "cb373835-9754-4a2e-ac81-364d82672192"
      },
      "execution_count": null,
      "outputs": [
        {
          "output_type": "stream",
          "name": "stdout",
          "text": [
            "list index out of range\n"
          ]
        }
      ]
    },
    {
      "cell_type": "code",
      "source": [
        "# try-else - 오류가 발생하지 않으면 수행됨\n",
        "\n",
        "# try_else.py\n",
        "try:\n",
        "    age=int(input('나이를 입력하세요: '))\n",
        "except:\n",
        "    print('입력이 정확하지 않습니다.')\n",
        "else:\n",
        "    if age <= 18:\n",
        "        print('미성년자는 출입금지입니다.')\n",
        "    else:\n",
        "        print('환영합니다.')\n"
      ],
      "metadata": {
        "colab": {
          "base_uri": "https://localhost:8080/"
        },
        "id": "i9k7SxNnYUZ7",
        "outputId": "e67b3663-bb98-430b-98c7-1474520f18e2"
      },
      "execution_count": null,
      "outputs": [
        {
          "output_type": "stream",
          "name": "stdout",
          "text": [
            "나이를 입력하세요: 13\n",
            "미성년자는 출입금지입니다.\n"
          ]
        }
      ]
    },
    {
      "cell_type": "code",
      "source": [
        "#오류 회피하기\n",
        "\n",
        "# error_pass.py\n",
        "try:\n",
        "    f = open(\"나없는파일\", 'r')\n",
        "except FileNotFoundError:\n",
        "    pass\n"
      ],
      "metadata": {
        "id": "Mg32MKw8Ybll"
      },
      "execution_count": null,
      "outputs": []
    },
    {
      "cell_type": "code",
      "source": [
        "# 오류 일부러 만들기\n",
        "\n",
        "# error_raise.py\n",
        "class Bird:\n",
        "    def fly(self):\n",
        "        raise NotImplementedError\n",
        "\n"
      ],
      "metadata": {
        "id": "BmO-Ldh0Z1pf"
      },
      "execution_count": null,
      "outputs": []
    },
    {
      "cell_type": "code",
      "source": [
        "#예외 만들기\n",
        "\n",
        "# error_make.py\n",
        "class MyError(Exception):\n",
        "    pass\n",
        "\n",
        "def say_nick(nick):\n",
        "    if nick == '바보':\n",
        "        raise MyError()\n",
        "    print(nick)\n",
        "\n",
        "say_nick(\"천사\")\n",
        "say_nick(\"바보\")\n"
      ],
      "metadata": {
        "colab": {
          "base_uri": "https://localhost:8080/",
          "height": 395
        },
        "id": "LSlAzte3Z4H2",
        "outputId": "028ac98b-3650-4b5b-eaca-9c5ee2cb46b3"
      },
      "execution_count": null,
      "outputs": [
        {
          "output_type": "stream",
          "name": "stdout",
          "text": [
            "천사\n"
          ]
        },
        {
          "output_type": "error",
          "ename": "MyError",
          "evalue": "ignored",
          "traceback": [
            "\u001b[0;31m---------------------------------------------------------------------------\u001b[0m",
            "\u001b[0;31mMyError\u001b[0m                                   Traceback (most recent call last)",
            "\u001b[0;32m<ipython-input-15-35681bfdce6d>\u001b[0m in \u001b[0;36m<cell line: 13>\u001b[0;34m()\u001b[0m\n\u001b[1;32m     11\u001b[0m \u001b[0;34m\u001b[0m\u001b[0m\n\u001b[1;32m     12\u001b[0m \u001b[0msay_nick\u001b[0m\u001b[0;34m(\u001b[0m\u001b[0;34m\"천사\"\u001b[0m\u001b[0;34m)\u001b[0m\u001b[0;34m\u001b[0m\u001b[0;34m\u001b[0m\u001b[0m\n\u001b[0;32m---> 13\u001b[0;31m \u001b[0msay_nick\u001b[0m\u001b[0;34m(\u001b[0m\u001b[0;34m\"바보\"\u001b[0m\u001b[0;34m)\u001b[0m\u001b[0;34m\u001b[0m\u001b[0;34m\u001b[0m\u001b[0m\n\u001b[0m",
            "\u001b[0;32m<ipython-input-15-35681bfdce6d>\u001b[0m in \u001b[0;36msay_nick\u001b[0;34m(nick)\u001b[0m\n\u001b[1;32m      7\u001b[0m \u001b[0;32mdef\u001b[0m \u001b[0msay_nick\u001b[0m\u001b[0;34m(\u001b[0m\u001b[0mnick\u001b[0m\u001b[0;34m)\u001b[0m\u001b[0;34m:\u001b[0m\u001b[0;34m\u001b[0m\u001b[0;34m\u001b[0m\u001b[0m\n\u001b[1;32m      8\u001b[0m     \u001b[0;32mif\u001b[0m \u001b[0mnick\u001b[0m \u001b[0;34m==\u001b[0m \u001b[0;34m'바보'\u001b[0m\u001b[0;34m:\u001b[0m\u001b[0;34m\u001b[0m\u001b[0;34m\u001b[0m\u001b[0m\n\u001b[0;32m----> 9\u001b[0;31m         \u001b[0;32mraise\u001b[0m \u001b[0mMyError\u001b[0m\u001b[0;34m(\u001b[0m\u001b[0;34m)\u001b[0m\u001b[0;34m\u001b[0m\u001b[0;34m\u001b[0m\u001b[0m\n\u001b[0m\u001b[1;32m     10\u001b[0m     \u001b[0mprint\u001b[0m\u001b[0;34m(\u001b[0m\u001b[0mnick\u001b[0m\u001b[0;34m)\u001b[0m\u001b[0;34m\u001b[0m\u001b[0;34m\u001b[0m\u001b[0m\n\u001b[1;32m     11\u001b[0m \u001b[0;34m\u001b[0m\u001b[0m\n",
            "\u001b[0;31mMyError\u001b[0m: "
          ]
        }
      ]
    },
    {
      "cell_type": "code",
      "source": [
        "#예외처리 기법 사용\n",
        "\n",
        "try:\n",
        "    say_nick(\"천사\")\n",
        "    say_nick(\"바보\")\n",
        "except MyError:\n",
        "    print(\"허용되지 않는 별명입니다.\")"
      ],
      "metadata": {
        "colab": {
          "base_uri": "https://localhost:8080/"
        },
        "id": "VXWnG3ITaR6S",
        "outputId": "c04ebe12-bfc2-4250-e409-a25318e1009f"
      },
      "execution_count": null,
      "outputs": [
        {
          "output_type": "stream",
          "name": "stdout",
          "text": [
            "천사\n",
            "허용되지 않는 별명입니다.\n"
          ]
        }
      ]
    }
  ]
}