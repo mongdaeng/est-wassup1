{
 "cells": [
  {
   "cell_type": "markdown",
   "id": "df2bf3a1",
   "metadata": {},
   "source": [
    "# 071\n",
    "my_variable 이름의 비어있는 튜플을 만들라.\n",
    "\n",
    "\n",
    "#072\n",
    "2016년 11월 영화 예매 순위 기준 top3는 다음과 같다. 영화 제목을 movie_rank 이름의 튜플에 저장하라. (순위 정보는 저장하지 않는다.)\n",
    "\n",
    "순위\t영화\n",
    "1\t닥터 스트레인지\n",
    "2\t스플릿\n",
    "3\t럭키\n",
    "정답확인\n",
    "\n",
    "#073\n",
    "숫자 1 이 저장된 튜플을 생성하라.\n",
    "\n",
    "\n",
    "#074\n",
    "다음 코드를 실행해보고 오류가 발생하는 원인을 설명하라.\n",
    "\n",
    ">> t = (1, 2, 3)\n",
    ">> t[0] = 'a'\n",
    "Traceback (most recent call last):\n",
    "  File \"<pyshell#46>\", line 1, in <module>\n",
    "    t[0] = 'a'\n",
    "TypeError: 'tuple' object does not support item assignment\n",
    "\n",
    "#075\n",
    "아래와 같이 t에는 1, 2, 3, 4 데이터가 바인딩되어 있다. t가 바인딩하는 데이터 타입은 무엇인가?\n",
    "\n",
    "t = 1, 2, 3, 4\n",
    "정답확인\n",
    "\n",
    "\n",
    "#076\n",
    "변수 t에는 아래와 같은 값이 저장되어 있다. 변수 t가 ('A', 'b', 'c') 튜플을 가리키도록 수정 하라.\n",
    "\n",
    "t = ('a', 'b', 'c')\n",
    "\n",
    "#077\n",
    "다음 튜플을 리스트로 변환하라.\n",
    "\n",
    "interest = ('삼성전자', 'LG전자', 'SK Hynix')\n",
    "\n",
    "    \n",
    "#078\n",
    "다음 리스트를 튜플로 변경하라.\n",
    "\n",
    "interest = ['삼성전자', 'LG전자', 'SK Hynix']\n",
    "\n",
    "    \n",
    "#079 튜플 언팩킹\n",
    "다음 코드의 실행 결과를 예상하라.\n",
    "\n",
    "temp = ('apple', 'banana', 'cake')\n",
    "a, b, c = temp\n",
    "print(a, b, c)\n",
    "\n",
    "    \n",
    "#080 range 함수\n",
    "1 부터 99까지의 정수 중 짝수만 저장된 튜플을 생성하라.\n",
    "\n"
   ]
  },
  {
   "cell_type": "code",
   "execution_count": 1,
   "id": "d3f0302d",
   "metadata": {},
   "outputs": [
    {
     "name": "stdout",
     "output_type": "stream",
     "text": [
      "<class 'tuple'>\n"
     ]
    }
   ],
   "source": [
    "#71 \n",
    "\n",
    "my_variable = ()\n",
    "print(type(my_variable))"
   ]
  },
  {
   "cell_type": "code",
   "execution_count": 2,
   "id": "eb36c3b5",
   "metadata": {},
   "outputs": [],
   "source": [
    "#72\n",
    "\n",
    "movie_rank = (\"닥터 스트레인지\", \"스플릿\", \"럭키\")\n"
   ]
  },
  {
   "cell_type": "code",
   "execution_count": 3,
   "id": "39d0c46b",
   "metadata": {},
   "outputs": [
    {
     "data": {
      "text/plain": [
       "int"
      ]
     },
     "execution_count": 3,
     "metadata": {},
     "output_type": "execute_result"
    }
   ],
   "source": [
    "#73\n",
    "\n",
    "tp = (1)\n",
    "type (tp)\n"
   ]
  },
  {
   "cell_type": "code",
   "execution_count": 4,
   "id": "acfae81c",
   "metadata": {},
   "outputs": [
    {
     "ename": "TypeError",
     "evalue": "'tuple' object does not support item assignment",
     "output_type": "error",
     "traceback": [
      "\u001b[1;31m---------------------------------------------------------------------------\u001b[0m",
      "\u001b[1;31mTypeError\u001b[0m                                 Traceback (most recent call last)",
      "Cell \u001b[1;32mIn[4], line 5\u001b[0m\n\u001b[0;32m      1\u001b[0m \u001b[38;5;66;03m#74\u001b[39;00m\n\u001b[0;32m      3\u001b[0m t \u001b[38;5;241m=\u001b[39m (\u001b[38;5;241m1\u001b[39m, \u001b[38;5;241m2\u001b[39m, \u001b[38;5;241m3\u001b[39m)\n\u001b[1;32m----> 5\u001b[0m t[\u001b[38;5;241m0\u001b[39m] \u001b[38;5;241m=\u001b[39m \u001b[38;5;124m'\u001b[39m\u001b[38;5;124ma\u001b[39m\u001b[38;5;124m'\u001b[39m\n",
      "\u001b[1;31mTypeError\u001b[0m: 'tuple' object does not support item assignment"
     ]
    }
   ],
   "source": [
    "#74\n",
    "\n",
    "t = (1, 2, 3)\n",
    "\n",
    "t[0] = 'a'\n",
    "\n",
    "#튜플은 원소값 변경 불가 - 리스트랑 다름 "
   ]
  },
  {
   "cell_type": "code",
   "execution_count": 6,
   "id": "bf73f920",
   "metadata": {},
   "outputs": [
    {
     "name": "stdout",
     "output_type": "stream",
     "text": [
      "<class 'tuple'>\n"
     ]
    }
   ],
   "source": [
    "#75 \n",
    "\n",
    "t = 1,2,3,4\n",
    "print(type(t))"
   ]
  },
  {
   "cell_type": "code",
   "execution_count": 7,
   "id": "b69f02dd",
   "metadata": {},
   "outputs": [],
   "source": [
    "#76\n",
    "\n",
    "t = ('a', 'b', 'c')\n",
    "\n",
    "#  변수 t가 ('A', 'b', 'c') 튜플을 가리키도록 수정 불가 "
   ]
  },
  {
   "cell_type": "code",
   "execution_count": 9,
   "id": "75fc5670",
   "metadata": {},
   "outputs": [
    {
     "name": "stdout",
     "output_type": "stream",
     "text": [
      "<class 'tuple'>\n"
     ]
    }
   ],
   "source": [
    "#77  튜플 -> 리스트 \n",
    "\n",
    "interest = ('삼성전자', 'LG전자', 'SK Hynix')\n",
    "\n",
    "change = list(interest)\n",
    "print(type(interest))"
   ]
  },
  {
   "cell_type": "code",
   "execution_count": 10,
   "id": "545cb2c0",
   "metadata": {},
   "outputs": [],
   "source": [
    "#78\n",
    "\n",
    "interest = ['삼성전자', 'LG전자', 'SK Hynix']\n",
    "t = tuple(interest)"
   ]
  },
  {
   "cell_type": "code",
   "execution_count": 11,
   "id": "61117502",
   "metadata": {},
   "outputs": [
    {
     "name": "stdout",
     "output_type": "stream",
     "text": [
      "apple banana cake\n"
     ]
    }
   ],
   "source": [
    "#79 \n",
    "\n",
    "temp = ('apple', 'banana', 'cake')\n",
    "a, b, c = temp\n",
    "print(a, b, c)\n"
   ]
  },
  {
   "cell_type": "code",
   "execution_count": 12,
   "id": "93f279b3",
   "metadata": {},
   "outputs": [
    {
     "name": "stdout",
     "output_type": "stream",
     "text": [
      "(2, 4, 6, 8, 10, 12, 14, 16, 18, 20, 22, 24, 26, 28, 30, 32, 34, 36, 38, 40, 42, 44, 46, 48, 50, 52, 54, 56, 58, 60, 62, 64, 66, 68, 70, 72, 74, 76, 78, 80, 82, 84, 86, 88, 90, 92, 94, 96, 98)\n"
     ]
    }
   ],
   "source": [
    "#80\n",
    "\n",
    "data = tuple(range(2,100,2))\n",
    "print(data)"
   ]
  },
  {
   "cell_type": "code",
   "execution_count": null,
   "id": "4ecaf067",
   "metadata": {},
   "outputs": [],
   "source": []
  },
  {
   "cell_type": "code",
   "execution_count": null,
   "id": "8000ee77",
   "metadata": {},
   "outputs": [],
   "source": []
  }
 ],
 "metadata": {
  "kernelspec": {
   "display_name": "Python 3 (ipykernel)",
   "language": "python",
   "name": "python3"
  },
  "language_info": {
   "codemirror_mode": {
    "name": "ipython",
    "version": 3
   },
   "file_extension": ".py",
   "mimetype": "text/x-python",
   "name": "python",
   "nbconvert_exporter": "python",
   "pygments_lexer": "ipython3",
   "version": "3.11.5"
  },
  "toc": {
   "base_numbering": 1,
   "nav_menu": {},
   "number_sections": true,
   "sideBar": true,
   "skip_h1_title": false,
   "title_cell": "Table of Contents",
   "title_sidebar": "Contents",
   "toc_cell": false,
   "toc_position": {},
   "toc_section_display": true,
   "toc_window_display": false
  }
 },
 "nbformat": 4,
 "nbformat_minor": 5
}
