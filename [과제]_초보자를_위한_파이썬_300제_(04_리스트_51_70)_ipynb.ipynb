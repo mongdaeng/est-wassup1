{
  "nbformat": 4,
  "nbformat_minor": 0,
  "metadata": {
    "colab": {
      "provenance": [],
      "authorship_tag": "ABX9TyNJPZWH4CClF56chDF82sFt",
      "include_colab_link": true
    },
    "kernelspec": {
      "name": "python3",
      "display_name": "Python 3"
    },
    "language_info": {
      "name": "python"
    }
  },
  "cells": [
    {
      "cell_type": "markdown",
      "metadata": {
        "id": "view-in-github",
        "colab_type": "text"
      },
      "source": [
        "<a href=\"https://colab.research.google.com/github/mongdaeng/est-wassup1/blob/main/%5B%EA%B3%BC%EC%A0%9C%5D_%EC%B4%88%EB%B3%B4%EC%9E%90%EB%A5%BC_%EC%9C%84%ED%95%9C_%ED%8C%8C%EC%9D%B4%EC%8D%AC_300%EC%A0%9C_(04_%EB%A6%AC%EC%8A%A4%ED%8A%B8_51_70)_ipynb.ipynb\" target=\"_parent\"><img src=\"https://colab.research.google.com/assets/colab-badge.svg\" alt=\"Open In Colab\"/></a>"
      ]
    },
    {
      "cell_type": "markdown",
      "source": [
        "#051 리스트 생성\n",
        "2016년 11월 영화 예매 순위 기준 top3는 다음과 같습니다. 영화 제목을 movie_rank 이름의 리스트에 저장해보세요. (순위 정보는 저장하지 않습니다.)\n",
        "\n",
        "순위\t영화\n",
        "1\t닥터 스트레인지\n",
        "2\t스플릿\n",
        "3\t럭키\n",
        "\n",
        "\n",
        "#052 리스트에 원소 추가\n",
        "051의 movie_rank 리스트에 \"배트맨\"을 추가하라.\n",
        "\n",
        "\n",
        "#053\n",
        "movie_rank 리스트에는 아래와 같이 네 개의 영화 제목이 바인딩되어 있다. \"슈퍼맨\"을 \"닥터 스트레인지\"와 \"스플릿\" 사이에 추가하라.\n",
        "\n",
        "movie_rank = ['닥터 스트레인지', '스플릿', '럭키', '배트맨']\n",
        "\n",
        "\n",
        "#054\n",
        "movie_rank 리스트에서 '럭키'를 삭제하라.\n",
        "\n",
        "movie_rank = ['닥터 스트레인지', '슈퍼맨', '스플릿', '럭키', '배트맨']\n",
        "\n",
        "\n",
        "#055\n",
        "movie_rank 리스트에서 '스플릿' 과 '배트맨'을 를 삭제하라.\n",
        "\n",
        "movie_rank = ['닥터 스트레인지', '슈퍼맨', '스플릿', '배트맨']\n",
        "\n",
        "\n",
        "#056\n",
        "lang1과 lang2 리스트가 있을 때 lang1과 lang2의 원소를 모두 갖고 있는 langs 리스트를 만들어라.\n",
        "\n",
        ">> lang1 = [\"C\", \"C++\", \"JAVA\"]\n",
        ">> lang2 = [\"Python\", \"Go\", \"C#\"]\n",
        "실행 예:\n",
        ">> langs\n",
        "['C', 'C++', 'JAVA', 'Python', 'Go', 'C#']\n",
        "\n",
        "\n",
        "#057\n",
        "다음 리스트에서 최댓값과 최솟값을 출력하라. (힌트: min(), max() 함수 사용)\n",
        "\n",
        "nums = [1, 2, 3, 4, 5, 6, 7]\n",
        "실행 예:\n",
        "max:  7\n",
        "min:  1\n",
        "\n",
        "\n",
        "#058\n",
        "다음 리스트의 합을 출력하라.\n",
        "\n",
        "nums = [1, 2, 3, 4, 5]\n",
        "실행 예:\n",
        "15\n",
        "\n",
        "\n",
        "#059\n",
        "다음 리스트에 저장된 데이터의 개수를 화면에 구하하라.\n",
        "\n",
        "cook = [\"피자\", \"김밥\", \"만두\", \"양념치킨\", \"족발\", \"피자\", \"김치만두\", \"쫄면\", \"소시지\", \"라면\", \"팥빙수\", \"김치전\"]\n",
        "\n",
        "\n",
        "#060\n",
        "다음 리스트의 평균을 출력하라.\n",
        "\n",
        "nums = [1, 2, 3, 4, 5]\n",
        "실행 예:\n",
        "3.0"
      ],
      "metadata": {
        "id": "54CKpu5rBiAi"
      }
    },
    {
      "cell_type": "code",
      "source": [
        "#51 리스트 생성\n",
        "\n",
        "movie_rank = [\"닥터 스트레인지\", \"스플릿\", \"럭키\"]"
      ],
      "metadata": {
        "id": "t7EyjfOtBx3M"
      },
      "execution_count": null,
      "outputs": []
    },
    {
      "cell_type": "code",
      "source": [
        "#52 리스트에 원소 추가\n",
        "\n",
        "movie_rank = [\"닥터 스트레인지\", \"스플릿\", \"럭키\"]\n",
        "movie_rank.append(\"배트맨\") #append 메서드\n",
        "\n",
        "print(movie_rank)"
      ],
      "metadata": {
        "colab": {
          "base_uri": "https://localhost:8080/"
        },
        "id": "MPUeXeETMXhJ",
        "outputId": "05d45451-850d-490b-d4a1-d7666c037f14"
      },
      "execution_count": 2,
      "outputs": [
        {
          "output_type": "stream",
          "name": "stdout",
          "text": [
            "['닥터 스트레인지', '스플릿', '럭키', '배트맨']\n"
          ]
        }
      ]
    },
    {
      "cell_type": "code",
      "source": [
        "#53 바인딩  - insert 메서드 / insert(인덱스,원소)\n",
        "\n",
        "movie_rank = ['닥터 스트레인지', '스플릿', '럭키', '배트맨']\n",
        "movie_rank.insert(1,\"슈퍼맨\")\n",
        "print(movie_rank)"
      ],
      "metadata": {
        "colab": {
          "base_uri": "https://localhost:8080/"
        },
        "id": "hCehkUQEMfYx",
        "outputId": "d42c64ea-f061-4ff6-ee1b-83b6e8bf3929"
      },
      "execution_count": 4,
      "outputs": [
        {
          "output_type": "stream",
          "name": "stdout",
          "text": [
            "['닥터 스트레인지', '슈퍼맨', '스플릿', '럭키', '배트맨']\n"
          ]
        }
      ]
    },
    {
      "cell_type": "code",
      "source": [
        "#54 삭제\n",
        "\n",
        "movie_rank = ['닥터 스트레인지', '슈퍼맨', '스플릿', '럭키', '배트맨']\n",
        "\n",
        "del movie_rank[3]\n",
        "\n",
        "print(movie_rank)"
      ],
      "metadata": {
        "colab": {
          "base_uri": "https://localhost:8080/"
        },
        "id": "dKAUFMMfMk-3",
        "outputId": "a2672a86-645f-4cfc-893d-947b231b0f55"
      },
      "execution_count": 7,
      "outputs": [
        {
          "output_type": "stream",
          "name": "stdout",
          "text": [
            "['닥터 스트레인지', '슈퍼맨', '스플릿', '배트맨']\n"
          ]
        }
      ]
    },
    {
      "cell_type": "code",
      "source": [
        "#55\n",
        "\n",
        "movie_rank = ['닥터 스트레인지', '슈퍼맨', '스플릿', '배트맨']\n",
        "\n",
        "del movie_rank[2:]\n",
        "\n",
        "print(movie_rank)"
      ],
      "metadata": {
        "colab": {
          "base_uri": "https://localhost:8080/"
        },
        "id": "sGcbnGLWMlBn",
        "outputId": "cc381577-9079-4bf2-b56d-98aaf3d89594"
      },
      "execution_count": 8,
      "outputs": [
        {
          "output_type": "stream",
          "name": "stdout",
          "text": [
            "['닥터 스트레인지', '슈퍼맨']\n"
          ]
        }
      ]
    },
    {
      "cell_type": "code",
      "source": [
        "#56\n",
        "\n",
        "lang1 = [\"C\", \"C++\", \"JAVA\"]\n",
        "lang2 = [\"Python\", \"Go\", \"C#\"]\n",
        "\n",
        "langs = lang 1 + lang2\n",
        "print(langs)"
      ],
      "metadata": {
        "colab": {
          "base_uri": "https://localhost:8080/"
        },
        "id": "kXx5pXcWMlDz",
        "outputId": "6f41df58-0789-45d6-b5d0-e96859cc9f82"
      },
      "execution_count": 11,
      "outputs": [
        {
          "output_type": "stream",
          "name": "stdout",
          "text": [
            "['C', 'C++', 'JAVA', 'Python', 'Go', 'C#']\n"
          ]
        }
      ]
    },
    {
      "cell_type": "code",
      "source": [
        "#57\n",
        "\n",
        "nums = [1, 2, 3, 4, 5, 6, 7]\n",
        "\n",
        "print(\"max:\" , max(nums))\n",
        "print(\"min:\" , min(nums))"
      ],
      "metadata": {
        "colab": {
          "base_uri": "https://localhost:8080/"
        },
        "id": "sUP8U3UxOl3E",
        "outputId": "999c4493-7472-4dd1-cf9b-51d549cbff84"
      },
      "execution_count": 13,
      "outputs": [
        {
          "output_type": "stream",
          "name": "stdout",
          "text": [
            "max: 7\n",
            "min: 1\n"
          ]
        }
      ]
    },
    {
      "cell_type": "code",
      "source": [
        "#58\n",
        "\n",
        "nums = [1, 2, 3, 4, 5]\n",
        "\n",
        "print(sum(nums))"
      ],
      "metadata": {
        "colab": {
          "base_uri": "https://localhost:8080/"
        },
        "id": "MhWjUB_5OoLN",
        "outputId": "0709ecd8-b32e-4c13-ebc2-dacf53758682"
      },
      "execution_count": 15,
      "outputs": [
        {
          "output_type": "stream",
          "name": "stdout",
          "text": [
            "15\n"
          ]
        }
      ]
    },
    {
      "cell_type": "code",
      "source": [
        "#59 - len\n",
        "\n",
        "cook = [\"피자\", \"김밥\", \"만두\", \"양념치킨\", \"족발\", \"피자\", \"김치만두\", \"쫄면\", \"소시지\", \"라면\", \"팥빙수\", \"김치전\"]\n",
        "\n",
        "print(len(cook))"
      ],
      "metadata": {
        "colab": {
          "base_uri": "https://localhost:8080/"
        },
        "id": "GCxnFIbEO-zx",
        "outputId": "d131cb6a-4133-4020-cc12-0e7fd9f7d379"
      },
      "execution_count": 16,
      "outputs": [
        {
          "output_type": "stream",
          "name": "stdout",
          "text": [
            "12\n"
          ]
        }
      ]
    },
    {
      "cell_type": "code",
      "source": [
        "#60 - 평균\n",
        "\n",
        "nums = [1, 2, 3, 4, 5]\n",
        "average = sum(nums) / len(nums)\n",
        "print(average)"
      ],
      "metadata": {
        "colab": {
          "base_uri": "https://localhost:8080/"
        },
        "id": "akXhuvlpO-7I",
        "outputId": "a99c1676-a045-42ee-b0ad-07834e25bd4e"
      },
      "execution_count": 21,
      "outputs": [
        {
          "output_type": "stream",
          "name": "stdout",
          "text": [
            "3.0\n"
          ]
        }
      ]
    },
    {
      "cell_type": "markdown",
      "source": [
        "\n",
        "#061\n",
        "price 변수에는 날짜와 종가 정보가 저장돼 있다. 날짜 정보를 제외하고 가격 정보만을 출력하라. (힌트 : 슬라이싱)\n",
        "\n",
        "price = ['20180728', 100, 130, 140, 150, 160, 170]\n",
        "출력 예시:\n",
        "[100, 130, 140, 150, 160, 170]\n",
        "\n",
        "\n",
        "\n",
        "#062\n",
        "슬라이싱을 사용해서 홀수만 출력하라.\n",
        "\n",
        "nums = [1, 2, 3, 4, 5, 6, 7, 8, 9, 10]\n",
        "실행 예:\n",
        "[1, 3, 5, 7, 9]\n",
        "\n",
        "\n",
        "#063\n",
        "슬라이싱을 사용해서 짝수만 출력하라.\n",
        "\n",
        "nums = [1, 2, 3, 4, 5, 6, 7, 8, 9, 10]\n",
        "실행 예:\n",
        "[2, 4, 6, 8, 10]\n",
        "\n",
        "\n",
        "#064\n",
        "슬라이싱을 사용해서 리스트의 숫자를 역 방향으로 출력하라.\n",
        "\n",
        "nums = [1, 2, 3, 4, 5]\n",
        "실행 예:\n",
        "[5, 4, 3, 2, 1]\n",
        "\n",
        "\n",
        "#065\n",
        "interest 리스트에는 아래의 데이터가 바인딩되어 있다.\n",
        "\n",
        "interest = ['삼성전자', 'LG전자', 'Naver']\n",
        "interest 리스트를 사용하여 아래와 같이 화면에 출력하라.\n",
        "\n",
        "출력 예시:\n",
        "삼성전자 Naver\n",
        "\n",
        "\n",
        "#066 join 메서드\n",
        "interest 리스트에는 아래의 데이터가 바인딩되어 있다.\n",
        "\n",
        "interest = ['삼성전자', 'LG전자', 'Naver', 'SK하이닉스', '미래에셋대우']\n",
        "interest 리스트를 사용하여 아래와 같이 화면에 출력하라.\n",
        "\n",
        "출력 예시:\n",
        "삼성전자 LG전자 Naver SK하이닉스 미래에셋대우\n",
        "\n",
        "\n",
        "#067 join 메서드\n",
        "interest 리스트에는 아래의 데이터가 바인딩되어 있다.\n",
        "\n",
        "interest = ['삼성전자', 'LG전자', 'Naver', 'SK하이닉스', '미래에셋대우']\n",
        "interest 리스트를 사용하여 아래와 같이 화면에 출력하라.\n",
        "\n",
        "출력 예시:\n",
        "삼성전자/LG전자/Naver/SK하이닉스/미래에셋대우\n",
        "\n",
        "\n",
        "#068 join 메서드\n",
        "interest 리스트에는 아래의 데이터가 바인딩되어 있다.\n",
        "\n",
        "interest = ['삼성전자', 'LG전자', 'Naver', 'SK하이닉스', '미래에셋대우']\n",
        "join() 메서드를 사용해서 interest 리스트를 아래와 같이 화면에 출력하라.\n",
        "\n",
        "출력 예시:\n",
        "삼성전자\n",
        "LG전자\n",
        "Naver\n",
        "SK하이닉스\n",
        "미래에셋대우\n",
        "\n",
        "\n",
        "#069 문자열 split 메서드\n",
        "회사 이름이 슬래시 ('/')로 구분되어 하나의 문자열로 저장되어 있다.\n",
        "\n",
        "string = \"삼성전자/LG전자/Naver\"\n",
        "이를 interest 이름의 리스트로 분리 저장하라.\n",
        "\n",
        "실행 예시\n",
        ">> print(interest)\n",
        "['삼성전자', 'LG전자', 'Naver']\n",
        "\n",
        "\n",
        "#070 리스트 정렬\n",
        "리스트에 있는 값을 오름차순으로 정렬하세요.\n",
        "\n",
        "data = [2, 4, 3, 1, 5, 10, 9]\n"
      ],
      "metadata": {
        "id": "PTQi_CLlPdvV"
      }
    },
    {
      "cell_type": "code",
      "source": [
        "#61\n",
        "\n",
        "price = ['20180728', 100, 130, 140, 150, 160, 170]\n",
        "\n",
        "print(price[1:])"
      ],
      "metadata": {
        "colab": {
          "base_uri": "https://localhost:8080/"
        },
        "id": "qIPYDNi8P4fh",
        "outputId": "3795bdbe-4428-4456-88f4-06be597c866f"
      },
      "execution_count": 22,
      "outputs": [
        {
          "output_type": "stream",
          "name": "stdout",
          "text": [
            "[100, 130, 140, 150, 160, 170]\n"
          ]
        }
      ]
    },
    {
      "cell_type": "code",
      "source": [
        "#62  홀수\n",
        "\n",
        "nums = [1, 2, 3, 4, 5, 6, 7, 8, 9, 10]\n",
        "\n",
        "print(nums[::2])"
      ],
      "metadata": {
        "colab": {
          "base_uri": "https://localhost:8080/"
        },
        "id": "n8HquY3XQNvp",
        "outputId": "e7ae9c34-a4c0-4d69-cd38-e99ec11cf116"
      },
      "execution_count": 23,
      "outputs": [
        {
          "output_type": "stream",
          "name": "stdout",
          "text": [
            "[1, 3, 5, 7, 9]\n"
          ]
        }
      ]
    },
    {
      "cell_type": "code",
      "source": [
        "#63  짝수\n",
        "\n",
        "nums = [1, 2, 3, 4, 5, 6, 7, 8, 9, 10]\n",
        "\n",
        "print(nums[1::2])"
      ],
      "metadata": {
        "colab": {
          "base_uri": "https://localhost:8080/"
        },
        "id": "vJKqn7ziQaSb",
        "outputId": "3796b57d-fd88-4418-86cd-ea9fdcad4ed1"
      },
      "execution_count": 25,
      "outputs": [
        {
          "output_type": "stream",
          "name": "stdout",
          "text": [
            "[2, 4, 6, 8, 10]\n"
          ]
        }
      ]
    },
    {
      "cell_type": "code",
      "source": [
        "#64 거꾸로 출력\n",
        "\n",
        "nums = [1, 2, 3, 4, 5]\n",
        "print(nums[::-1])"
      ],
      "metadata": {
        "colab": {
          "base_uri": "https://localhost:8080/"
        },
        "id": "iQ0WOmEeQpIR",
        "outputId": "8e369e50-15d9-4c36-ed4b-23b876a8a881"
      },
      "execution_count": 29,
      "outputs": [
        {
          "output_type": "stream",
          "name": "stdout",
          "text": [
            "[5, 4, 3, 2, 1]\n"
          ]
        }
      ]
    },
    {
      "cell_type": "code",
      "source": [
        "#65\n",
        "\n",
        "interest = ['삼성전자', 'LG전자', 'Naver']\n",
        "\n",
        "print(interest[0], interest[2])"
      ],
      "metadata": {
        "colab": {
          "base_uri": "https://localhost:8080/"
        },
        "id": "kmWvTwgmQtag",
        "outputId": "cac791a7-7d0a-4b6e-f94d-9d0715937b90"
      },
      "execution_count": 31,
      "outputs": [
        {
          "output_type": "stream",
          "name": "stdout",
          "text": [
            "삼성전자 Naver\n"
          ]
        }
      ]
    },
    {
      "cell_type": "code",
      "source": [
        "#66 - join\n",
        "\n",
        "interest = ['삼성전자', 'LG전자', 'Naver', 'SK하이닉스', '미래에셋대우']\n",
        "print(\" \".join(interest))"
      ],
      "metadata": {
        "colab": {
          "base_uri": "https://localhost:8080/"
        },
        "id": "yIypLrMgQ68H",
        "outputId": "bfd810b7-73f9-41b0-fe6a-c97a1690ca2e"
      },
      "execution_count": 34,
      "outputs": [
        {
          "output_type": "stream",
          "name": "stdout",
          "text": [
            "삼성전자 LG전자 Naver SK하이닉스 미래에셋대우\n"
          ]
        }
      ]
    },
    {
      "cell_type": "code",
      "source": [
        "#67\n",
        "interest = ['삼성전자', 'LG전자', 'Naver', 'SK하이닉스', '미래에셋대우']\n",
        "print(\"/\".join(interest))"
      ],
      "metadata": {
        "colab": {
          "base_uri": "https://localhost:8080/"
        },
        "id": "K3jnDd-SQ65q",
        "outputId": "3716893b-7275-42b7-8451-99a7a2ad949f"
      },
      "execution_count": 35,
      "outputs": [
        {
          "output_type": "stream",
          "name": "stdout",
          "text": [
            "삼성전자/LG전자/Naver/SK하이닉스/미래에셋대우\n"
          ]
        }
      ]
    },
    {
      "cell_type": "code",
      "source": [
        "#68 join\n",
        "interest = ['삼성전자', 'LG전자', 'Naver', 'SK하이닉스', '미래에셋대우']\n",
        "print(\"\\n\".join(interest))"
      ],
      "metadata": {
        "colab": {
          "base_uri": "https://localhost:8080/"
        },
        "id": "ZgGq_xq7Q63Y",
        "outputId": "b5e6853d-660d-44cf-d2c1-dc131a72b6a9"
      },
      "execution_count": 38,
      "outputs": [
        {
          "output_type": "stream",
          "name": "stdout",
          "text": [
            "삼성전자\n",
            "LG전자\n",
            "Naver\n",
            "SK하이닉스\n",
            "미래에셋대우\n"
          ]
        }
      ]
    },
    {
      "cell_type": "code",
      "source": [
        "#69\n",
        "\n",
        "string = \"삼성전자/LG전자/Naver\"\n",
        "interest = string.split(\"/\")\n",
        "\n",
        "print(interest)"
      ],
      "metadata": {
        "colab": {
          "base_uri": "https://localhost:8080/"
        },
        "id": "-ZHWtn0EQ6v2",
        "outputId": "fc84add4-f0d1-4070-a33d-2d64d553d910"
      },
      "execution_count": 39,
      "outputs": [
        {
          "output_type": "stream",
          "name": "stdout",
          "text": [
            "['삼성전자', 'LG전자', 'Naver']\n"
          ]
        }
      ]
    },
    {
      "cell_type": "code",
      "source": [
        "#70 정렬 - 오름차\n",
        "\n",
        "data = [2, 4, 3, 1, 5, 10, 9]\n",
        "data.sort()\n",
        "print(data)\n",
        "\n",
        "\n",
        "data = [2, 4, 3, 1, 5, 10, 9]\n",
        "data2 = sorted(data)\n",
        "print(data2)"
      ],
      "metadata": {
        "colab": {
          "base_uri": "https://localhost:8080/"
        },
        "id": "urBA7uKBSetz",
        "outputId": "2eb05d5e-7e16-4ba3-8c5b-fe1223fd7861"
      },
      "execution_count": 42,
      "outputs": [
        {
          "output_type": "stream",
          "name": "stdout",
          "text": [
            "[1, 2, 3, 4, 5, 9, 10]\n",
            "[1, 2, 3, 4, 5, 9, 10]\n"
          ]
        }
      ]
    }
  ]
}