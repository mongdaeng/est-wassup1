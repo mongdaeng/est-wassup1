{
  "nbformat": 4,
  "nbformat_minor": 0,
  "metadata": {
    "colab": {
      "provenance": [],
      "authorship_tag": "ABX9TyPf1/tlaW5vxCaZeySG5bYz",
      "include_colab_link": true
    },
    "kernelspec": {
      "name": "python3",
      "display_name": "Python 3"
    },
    "language_info": {
      "name": "python"
    }
  },
  "cells": [
    {
      "cell_type": "markdown",
      "metadata": {
        "id": "view-in-github",
        "colab_type": "text"
      },
      "source": [
        "<a href=\"https://colab.research.google.com/github/mongdaeng/est-wassup1/blob/main/%5B%EA%B3%BC%EC%A0%9C%5D_%EC%B4%88%EB%B3%B4%EC%9E%90%EB%A5%BC_%EC%9C%84%ED%95%9C_%ED%8C%8C%EC%9D%B4%EC%8D%AC_300%EC%A0%9C_(02_%EB%B3%80%EC%88%98_11_20).ipynb\" target=\"_parent\"><img src=\"https://colab.research.google.com/assets/colab-badge.svg\" alt=\"Open In Colab\"/></a>"
      ]
    },
    {
      "cell_type": "markdown",
      "source": [
        "#011 변수 사용하기\n",
        "삼성전자라는 변수로 50,000원을 바인딩해보세요.\n",
        "삼성전자 주식 10주를 보유하고 있을 때 총 평가금액을 출력하세요.\n"
      ],
      "metadata": {
        "id": "6kj3hqXyBcVn"
      }
    },
    {
      "cell_type": "code",
      "source": [
        "삼성전자 = 50000\n",
        "총평가금액 = 삼성전자 * 10\n",
        "print(총평가금액)"
      ],
      "metadata": {
        "colab": {
          "base_uri": "https://localhost:8080/"
        },
        "id": "uGtxD9b6BfSY",
        "outputId": "1f98289d-423b-4297-8b3e-aa6d813f5220"
      },
      "execution_count": null,
      "outputs": [
        {
          "output_type": "stream",
          "name": "stdout",
          "text": [
            "500000\n"
          ]
        }
      ]
    },
    {
      "cell_type": "markdown",
      "source": [
        "#012 변수 사용하기\n",
        "\n",
        "다음 표는 삼성전자의 일부 투자정보입니다. 변수를 사용해서 시가총액, 현재가, PER 등을 바인딩해보세요.\n",
        "\n",
        "항목\t값\n",
        "시가총액\t298조\n",
        "현재가\t50,000원\n",
        "PER\t15.79\n"
      ],
      "metadata": {
        "id": "2bdwZyDnBu3L"
      }
    },
    {
      "cell_type": "code",
      "source": [
        "시가총액 = 298000000000000\n",
        "현재가 = 50000\n",
        "PER = 15.79\n",
        "print(시가총액, type(시가총액))\n",
        "print(현재가, type(현재가))\n",
        "print(PER, type(PER))\n",
        "\n",
        "#type() -> 데이터 타입 확인 함수"
      ],
      "metadata": {
        "colab": {
          "base_uri": "https://localhost:8080/"
        },
        "id": "S6yygiVsByDd",
        "outputId": "86fd247f-957f-4b37-d824-78db9df07c08"
      },
      "execution_count": null,
      "outputs": [
        {
          "output_type": "stream",
          "name": "stdout",
          "text": [
            "298000000000000 <class 'int'>\n",
            "50000 <class 'int'>\n",
            "15.79 <class 'float'>\n"
          ]
        }
      ]
    },
    {
      "cell_type": "markdown",
      "source": [
        "#013 문자열 출력\n",
        "\n",
        "변수 s와 t에는 각각 문자열이 바인딩 되어있습니다.\n",
        "\n",
        ">> s = \"hello\"\n",
        ">> t = \"python\"\n",
        "두 변수를 이용하여 아래와 같이 출력해보세요.\n",
        "\n",
        "실행 예:\n",
        "hello! python"
      ],
      "metadata": {
        "id": "yWvi21-dCbYH"
      }
    },
    {
      "cell_type": "code",
      "source": [
        "s = \"hello\"\n",
        "t = \"python\"\n",
        "\n",
        "print(s+'!',end='');print(t)\n",
        "print(s+'!',t)"
      ],
      "metadata": {
        "colab": {
          "base_uri": "https://localhost:8080/"
        },
        "id": "9kA9vne7CebZ",
        "outputId": "8d698291-2d72-40c0-d982-2e2380b9654d"
      },
      "execution_count": null,
      "outputs": [
        {
          "output_type": "stream",
          "name": "stdout",
          "text": [
            "hello!python\n",
            "hello! python\n"
          ]
        }
      ]
    },
    {
      "cell_type": "markdown",
      "source": [
        "#014 파이썬을 이용한 값 계산\n",
        "\n",
        "아래 코드의 실행 결과를 예상해보세요.\n",
        "\n",
        ">> 2 + 2 * 3"
      ],
      "metadata": {
        "id": "lk4rfNYFC0Gr"
      }
    },
    {
      "cell_type": "code",
      "source": [
        "2+2*3 #8\n",
        "#별도의 함수없이 숫자는 계산 가능"
      ],
      "metadata": {
        "colab": {
          "base_uri": "https://localhost:8080/"
        },
        "id": "1CDHVoEvC6iy",
        "outputId": "95ce4f42-bfce-45f9-b3d2-691139a8eaad"
      },
      "execution_count": null,
      "outputs": [
        {
          "output_type": "execute_result",
          "data": {
            "text/plain": [
              "8"
            ]
          },
          "metadata": {},
          "execution_count": 9
        }
      ]
    },
    {
      "cell_type": "markdown",
      "source": [
        "#015 type 함수\n",
        "type() 함수는 데이터 타입을 판별합니다. 변수 a에는 128 숫자가 바인딩돼 있어 type 함수가 int (정수)형임을 알려줍니다.\n",
        "\n",
        ">> a = 128\n",
        ">> print (type(a))\n",
        "<class 'int'>\n",
        "아래 변수에 바인딩된 값의 타입을 판별해보세요.\n",
        "\n",
        ">> a = \"132\""
      ],
      "metadata": {
        "id": "CKAu3x2NDD61"
      }
    },
    {
      "cell_type": "code",
      "source": [
        "a = 128\n",
        "print(type(a))\n",
        "\n",
        "b = \"132\"\n",
        "print(type(b)) #str"
      ],
      "metadata": {
        "colab": {
          "base_uri": "https://localhost:8080/"
        },
        "id": "mYpFcHMRDK-l",
        "outputId": "cf50b08d-a43c-4cff-8f22-f533336c291d"
      },
      "execution_count": null,
      "outputs": [
        {
          "output_type": "stream",
          "name": "stdout",
          "text": [
            "<class 'int'>\n",
            "<class 'str'>\n"
          ]
        }
      ]
    },
    {
      "cell_type": "markdown",
      "source": [
        "#016 문자열을 정수로 변환\n",
        "\n",
        "문자열 '720'를 정수형으로 변환해보세요.\n",
        "\n",
        ">> num_str = \"720\""
      ],
      "metadata": {
        "id": "jrMh8nJmDaN6"
      }
    },
    {
      "cell_type": "code",
      "source": [
        "num_str = \"720\"\n",
        "num_int = int(num_str)\n",
        "print(num_int, type(num_int))"
      ],
      "metadata": {
        "colab": {
          "base_uri": "https://localhost:8080/"
        },
        "id": "BOI21_6IDcjF",
        "outputId": "fc28555e-1050-404f-9dd1-a23a93975ace"
      },
      "execution_count": null,
      "outputs": [
        {
          "output_type": "stream",
          "name": "stdout",
          "text": [
            "720 <class 'int'>\n"
          ]
        }
      ]
    },
    {
      "cell_type": "markdown",
      "source": [
        "#017 정수를 문자열 100으로 변환\n",
        "\n",
        "정수 100을 문자열 '100'으로 변환해보세요.\n",
        "\n"
      ],
      "metadata": {
        "id": "U9XVwfN4GBNS"
      }
    },
    {
      "cell_type": "code",
      "source": [
        "num = 100\n",
        "result = str(num)\n",
        "print(result,type(result))"
      ],
      "metadata": {
        "colab": {
          "base_uri": "https://localhost:8080/"
        },
        "id": "8Kdj0BiSGHrD",
        "outputId": "792e2993-0cec-4514-ba5d-c9074cd29c3e"
      },
      "execution_count": null,
      "outputs": [
        {
          "output_type": "stream",
          "name": "stdout",
          "text": [
            "100 <class 'str'>\n"
          ]
        }
      ]
    },
    {
      "cell_type": "markdown",
      "source": [
        "#018 문자열을 실수로 변환\n",
        "\n",
        "문자열 \"15.79\"를 실수(float) 타입으로 변환해보세요.\n",
        "\n"
      ],
      "metadata": {
        "id": "drezEx8JGaVh"
      }
    },
    {
      "cell_type": "code",
      "source": [
        "str = \"15.79\"\n",
        "result = float(str)\n",
        "print(result,type(result))"
      ],
      "metadata": {
        "colab": {
          "base_uri": "https://localhost:8080/"
        },
        "id": "iU7AsPHwGfgM",
        "outputId": "8a6034a5-2048-48ba-fbbd-c4a2c38692df"
      },
      "execution_count": null,
      "outputs": [
        {
          "output_type": "stream",
          "name": "stdout",
          "text": [
            "15.79 <class 'float'>\n"
          ]
        }
      ]
    },
    {
      "cell_type": "markdown",
      "source": [
        "#019 문자열을 정수로 변환\n",
        "\n",
        "year라는 변수가 문자열 타입의 연도를 바인딩하고 있습니다. 이를 정수로 변환한 후 최근 3년의 연도를 화면에 출력해보세요."
      ],
      "metadata": {
        "id": "vEpiAjsoGqw2"
      }
    },
    {
      "cell_type": "code",
      "source": [
        "year = \"2023\"\n",
        "num_year = int(year)\n",
        "print(num_year)\n",
        "print(num_year-1)\n",
        "print(num_year-2)\n",
        "print(num_year-3)\n",
        "\n",
        "#-----------\n",
        "\n",
        "year = \"2020\"\n",
        "print(int(year)-3)  # 2017\n",
        "print(int(year)-2)  # 2018\n",
        "print(int(year)-1)  # 2019"
      ],
      "metadata": {
        "colab": {
          "base_uri": "https://localhost:8080/"
        },
        "id": "CACcPSN8GsXh",
        "outputId": "3965026b-8836-41c6-dc66-9024d4afbfa1"
      },
      "execution_count": null,
      "outputs": [
        {
          "output_type": "stream",
          "name": "stdout",
          "text": [
            "2023\n",
            "2022\n",
            "2021\n",
            "2020\n",
            "2017\n",
            "2018\n",
            "2019\n"
          ]
        }
      ]
    },
    {
      "cell_type": "markdown",
      "source": [
        "#020 파이썬 계산\n",
        "\n",
        "에이컨이 월 48,584원에 무이자 36개월의 조건으로 홈쇼핑에서 판매되고 있습니다. 총 금액은 계산한 후 이를 화면에 출력해보세요. (변수사용하기)"
      ],
      "metadata": {
        "id": "QH7Zp9qsHT8O"
      }
    },
    {
      "cell_type": "code",
      "source": [
        "m_money = 48584\n",
        "period = 36\n",
        "print(m_money * period)"
      ],
      "metadata": {
        "colab": {
          "base_uri": "https://localhost:8080/"
        },
        "id": "O00svsB-HZwh",
        "outputId": "d62dcc09-6afa-4dd6-97f1-83f7f398288b"
      },
      "execution_count": null,
      "outputs": [
        {
          "output_type": "stream",
          "name": "stdout",
          "text": [
            "1749024\n"
          ]
        }
      ]
    }
  ]
}