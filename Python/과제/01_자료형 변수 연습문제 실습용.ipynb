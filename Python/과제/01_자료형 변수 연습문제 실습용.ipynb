{
  "cells": [
    {
      "cell_type": "markdown",
      "metadata": {
        "id": "view-in-github",
        "colab_type": "text"
      },
      "source": [
        "<a href=\"https://colab.research.google.com/github/mongdaeng/est-wassup1/blob/main/01_%E1%84%8C%E1%85%A1%E1%84%85%E1%85%AD%E1%84%92%E1%85%A7%E1%86%BC_%E1%84%87%E1%85%A7%E1%86%AB%E1%84%89%E1%85%AE_%E1%84%8B%E1%85%A7%E1%86%AB%E1%84%89%E1%85%B3%E1%86%B8%E1%84%86%E1%85%AE%E1%86%AB%E1%84%8C%E1%85%A6_%E1%84%89%E1%85%B5%E1%86%AF%E1%84%89%E1%85%B3%E1%86%B8%E1%84%8B%E1%85%AD%E1%86%BC.ipynb\" target=\"_parent\"><img src=\"https://colab.research.google.com/assets/colab-badge.svg\" alt=\"Open In Colab\"/></a>"
      ]
    },
    {
      "cell_type": "markdown",
      "metadata": {
        "id": "P7z4Artlbeza"
      },
      "source": [
        "# Q1.홍길동 씨의 과목별 점수는 다음과 같다. 홍길동 씨의 평균 점수를 구해보자.\n",
        "\n",
        "|과목|점수|\n",
        "|----|:---:|\n",
        "|국어|80|\n",
        "|영어|75|\n",
        "|수학|55|"
      ]
    },
    {
      "cell_type": "code",
      "execution_count": 12,
      "metadata": {
        "id": "NiD3GmFCp49j",
        "colab": {
          "base_uri": "https://localhost:8080/"
        },
        "outputId": "8c120c8d-85d7-4272-8f5a-3f70cee28ec7"
      },
      "outputs": [
        {
          "output_type": "execute_result",
          "data": {
            "text/plain": [
              "70.0"
            ]
          },
          "metadata": {},
          "execution_count": 12
        }
      ],
      "source": [
        "홍길동 = {'국어':80, '영어':75,'수학':55}\n",
        "홍길동.keys()\n",
        "홍길동.values()\n",
        "a=sum(홍길동.values())\n",
        "b=len(홍길동.values())\n",
        "a/b"
      ]
    },
    {
      "cell_type": "markdown",
      "metadata": {
        "id": "3TafgBl9dPiZ"
      },
      "source": [
        "# Q2. 자연수 13이 홀수인지 짝수인지 판별할 수 있는 방법에 대해 말해보자."
      ]
    },
    {
      "cell_type": "code",
      "execution_count": 13,
      "metadata": {
        "id": "z7p-E4bRp49k",
        "colab": {
          "base_uri": "https://localhost:8080/"
        },
        "outputId": "8fc0befa-973d-4f55-acd8-013de25fab3c"
      },
      "outputs": [
        {
          "output_type": "stream",
          "name": "stdout",
          "text": [
            "13은 홀수\n"
          ]
        }
      ],
      "source": [
        "number = 13\n",
        "\n",
        "if number % 2 == 0:\n",
        "  print(f\"{number}은 짝수\")\n",
        "\n",
        "else:\n",
        "  print(f\"{number}은 홀수\")\n"
      ]
    },
    {
      "cell_type": "markdown",
      "metadata": {
        "id": "7T8b-FHDdPgI"
      },
      "source": [
        "# Q3. 홍길동 씨의 주민등록번호는 881120-1068234이다.   \n",
        "홍길동씨의 주민등록번호를 연월일(YYYYMMDD)부분과 그 뒤의 숫자 부분으로 나누어 출력해보자.\n",
        "```\n",
        "pin = '881120-1068234'\n",
        "yyyymmdd = # 입력\n",
        "num =  # 입력\n",
        "print() # 연월일 부분 출력\n",
        "print() # 숫자부분 출력\n",
        "```"
      ]
    },
    {
      "cell_type": "code",
      "execution_count": 17,
      "metadata": {
        "id": "v9EjmVT7p49l",
        "colab": {
          "base_uri": "https://localhost:8080/"
        },
        "outputId": "5be4a24a-1259-485b-aac6-a1e2774a0231"
      },
      "outputs": [
        {
          "output_type": "stream",
          "name": "stdout",
          "text": [
            "19881120\n",
            "1068234\n"
          ]
        }
      ],
      "source": [
        "pin = '881120-1068234'\n",
        "yyyymmdd = int(\"19\"+pin.split('-')[0])\n",
        "num = int(pin.split('-')[1])\n",
        "print(yyyymmdd)\n",
        "print(num)"
      ]
    },
    {
      "cell_type": "markdown",
      "metadata": {
        "id": "AtioTrtJdPd4"
      },
      "source": [
        "# Q4. 주민등록번호 뒷자리의 맨 첫 번째 숫자는 성별을 나타낸다.   \n",
        "주민등록번호에서 성별을 나타내는 숫자를 출력해보자.\n",
        "```\n",
        "pin = \"881120-1068234\"\n",
        "print( )\n",
        "```"
      ]
    },
    {
      "cell_type": "code",
      "execution_count": 24,
      "metadata": {
        "id": "qo8AcMyip49l",
        "colab": {
          "base_uri": "https://localhost:8080/"
        },
        "outputId": "f7b9766a-6695-4c72-9300-b14bd36895ae"
      },
      "outputs": [
        {
          "output_type": "stream",
          "name": "stdout",
          "text": [
            "1\n",
            "male\n"
          ]
        }
      ],
      "source": [
        "pin = \"881120-1068234\"\n",
        "print(pin[7])\n",
        "\n",
        "# + 성별이 뭔지 추출\n",
        "\n",
        "if int(pin[7]) == 1:\n",
        "  gen = 'male'\n",
        "else:\n",
        "  gen = 'female'\n",
        "\n",
        "print(gen)\n"
      ]
    },
    {
      "cell_type": "markdown",
      "metadata": {
        "id": "XaXv7gsrdPbb"
      },
      "source": [
        "# Q5. 다음과 같은 문자열 a:b:c:d가 있다.   \n",
        "문자열의 replace 함수를 사용하여 a#b#c#d로 바꿔서 출력해보자.\n",
        "```\n",
        "a = \"a:b:c:d\"\n",
        "b =\n",
        "print(b)\n",
        "```"
      ]
    },
    {
      "cell_type": "code",
      "execution_count": 25,
      "metadata": {
        "id": "wH3gpY3-p49m",
        "colab": {
          "base_uri": "https://localhost:8080/"
        },
        "outputId": "90484244-d35a-4229-dbaa-175c5366082d"
      },
      "outputs": [
        {
          "output_type": "stream",
          "name": "stdout",
          "text": [
            "a#b#c#d\n"
          ]
        }
      ],
      "source": [
        "a = \"a:b:c:d\"\n",
        "b = a.replace(\":\",\"#\")\n",
        "print(b)"
      ]
    },
    {
      "cell_type": "markdown",
      "metadata": {
        "id": "-fANvuSaj8-C"
      },
      "source": [
        "# Q6. [1, 3, 5, 4, 2] 리스트를 [5, 4, 3, 2, 1]로 만들어 보자.\n",
        "```\n",
        "a = [1, 3, 5, 4, 2]\n",
        "a.\n",
        "a.\n",
        "print()\n",
        "```"
      ]
    },
    {
      "cell_type": "code",
      "execution_count": 27,
      "metadata": {
        "id": "qZ-i5aiRp49n",
        "colab": {
          "base_uri": "https://localhost:8080/"
        },
        "outputId": "6857adae-2bb3-4fd2-d079-0b98ee6bc999"
      },
      "outputs": [
        {
          "output_type": "stream",
          "name": "stdout",
          "text": [
            "[5, 4, 3, 2, 1]\n"
          ]
        }
      ],
      "source": [
        "a = [1, 3, 5, 4, 2]\n",
        "a.sort( )\n",
        "a.reverse( )\n",
        "print(a)"
      ]
    },
    {
      "cell_type": "markdown",
      "metadata": {
        "id": "6lES5LRAdPY4"
      },
      "source": [
        "# Q7. ['Life', 'is', 'too', 'short'] 리스트를 Life is too short 문자열로 만들어 출력해보자.\n",
        "```\n",
        "a = ['Life', 'is', 'too', 'short']\n",
        "result =\n",
        "print(result)\n",
        "```"
      ]
    },
    {
      "cell_type": "code",
      "execution_count": 28,
      "metadata": {
        "id": "oJ7ze-x6p49n",
        "colab": {
          "base_uri": "https://localhost:8080/"
        },
        "outputId": "8c222382-4577-4c00-fd72-76e4e9f760f3"
      },
      "outputs": [
        {
          "output_type": "stream",
          "name": "stdout",
          "text": [
            "Life is too short\n"
          ]
        }
      ],
      "source": [
        "a = ['Life', 'is', 'too', 'short']\n",
        "result = \" \".join(a)\n",
        "print(result)"
      ]
    },
    {
      "cell_type": "markdown",
      "metadata": {
        "id": "PqSrz8p8dPU6"
      },
      "source": [
        "# Q8. (1,2,3) 튜플에 값 4를 추가하여 (1,2,3,4)를 만들어 출력해 보자.\n",
        "```\n",
        "a = (1, 2, 3)\n",
        "a =\n",
        "print(a)\n",
        "```"
      ]
    },
    {
      "cell_type": "code",
      "execution_count": null,
      "metadata": {
        "id": "eV0ZiH_-p49n"
      },
      "outputs": [],
      "source": [
        "a = (1,2,3)\n",
        "a = a + (4,)\n",
        "print(a)"
      ]
    },
    {
      "cell_type": "markdown",
      "metadata": {
        "id": "qmTUwfF3luRo"
      },
      "source": [
        "# Q9. 다음과 같은 딕셔너리 a가 있다.\n",
        "```\n",
        ">>> a = dict()\n",
        ">>> a\n",
        "{}\n",
        "```\n",
        "다음 중 오류가 발생하는 경우를 고르고, 그 이유를 설명해 보자.   \n",
        "1. a['name'] = 'python'\n",
        "2. a[('a',)] = 'python'\n",
        "3. a[[1]] = 'python'\n",
        "4. a[250] = 'python'"
      ]
    },
    {
      "cell_type": "code",
      "execution_count": 32,
      "metadata": {
        "id": "lccjjP_up49o"
      },
      "outputs": [],
      "source": [
        "#3번\n",
        "\n",
        "#변경 가능한 객체는 딕셔너리의 key로 사용할 수 없음\n"
      ]
    },
    {
      "cell_type": "markdown",
      "metadata": {
        "id": "I9jnR3JXm_9r"
      },
      "source": [
        "# Q10. 딕셔너리 a에서 'B'에 해당되는 값을 추출해 보자.\n",
        "```\n",
        "a = {'A':90, 'B':80, 'C':70}\n",
        "result =\n",
        "print(a)\n",
        "print(result)\n",
        "```"
      ]
    },
    {
      "cell_type": "code",
      "execution_count": 34,
      "metadata": {
        "id": "iU4C4JT-p49o",
        "colab": {
          "base_uri": "https://localhost:8080/"
        },
        "outputId": "e455385c-f3df-418a-cbc0-5ff8eac8b52a"
      },
      "outputs": [
        {
          "output_type": "stream",
          "name": "stdout",
          "text": [
            "{'A': 90, 'C': 70}\n",
            "80\n"
          ]
        }
      ],
      "source": [
        "a = {'A':90, 'B':80, 'C':70}\n",
        "result = a.pop('B')\n",
        "print(a)\n",
        "print(result)"
      ]
    },
    {
      "cell_type": "markdown",
      "metadata": {
        "id": "nN3vmxD-nUZC"
      },
      "source": [
        "# Q11. a 리스트에서 중복 숫자를 제거해 보자.\n",
        "```\n",
        "a = [1, 1, 1, 2, 2, 3, 3, 3, 4, 4, 5]\n",
        "aSet =\n",
        "b =\n",
        "print(b)\n",
        "```"
      ]
    },
    {
      "cell_type": "code",
      "execution_count": 35,
      "metadata": {
        "id": "md_gELw4p49o",
        "colab": {
          "base_uri": "https://localhost:8080/"
        },
        "outputId": "bb8794e8-b20f-40e1-9752-ad6d437593ff"
      },
      "outputs": [
        {
          "output_type": "stream",
          "name": "stdout",
          "text": [
            "[1, 2, 3, 4, 5]\n"
          ]
        }
      ],
      "source": [
        "a = [1, 1, 1, 2, 2, 3, 3, 3, 4, 4, 5]\n",
        "aSet = set(a)\n",
        "b = list(aSet)\n",
        "print(b)\n",
        "\n"
      ]
    },
    {
      "cell_type": "markdown",
      "metadata": {
        "id": "noodmU5Mnv5Z"
      },
      "source": [
        "# Q12. 파이썬은 다음처럼 동일한 값에 여러 개의 변수를 선언할 수 있다.   \n",
        "다음과 같이 a, b 변수를 선언한 후 a의 두 번째 요솟값을 변경하면 b 값은 어떻게될까?   \n",
        "그리고 이런 결과가 나오는 이유에 대해 설명해보자.\n",
        "```\n",
        ">>> a = b = [1, 2, 3]\n",
        ">>> a[1] = 4\n",
        ">>> print(b)\n",
        "```"
      ]
    },
    {
      "cell_type": "code",
      "execution_count": 37,
      "metadata": {
        "id": "H2l5YyTwp49o",
        "colab": {
          "base_uri": "https://localhost:8080/"
        },
        "outputId": "1823ee3d-bdf4-48d9-ed50-86ee43dd5251"
      },
      "outputs": [
        {
          "output_type": "stream",
          "name": "stdout",
          "text": [
            "[1, 4, 3]\n"
          ]
        }
      ],
      "source": [
        "a = b = [1, 2, 3]\n",
        "a[1] = 4\n",
        "print(b)\n",
        "\n",
        "# 변수 a,b가 동일한 리스트 객체이기 때문에 a를 변경했을 때 b도 함께 변함"
      ]
    },
    {
      "cell_type": "markdown",
      "metadata": {
        "id": "YTuIYpyhp49p"
      },
      "source": [
        "```\n",
        "\"서두르지 마라, 그러나 멈추지도 마라.\"\n",
        "- 요한 볼프강 폰 괴테\n",
        "```"
      ]
    }
  ],
  "metadata": {
    "colab": {
      "provenance": [],
      "include_colab_link": true
    },
    "kernelspec": {
      "display_name": "Python 3 (ipykernel)",
      "language": "python",
      "name": "python3"
    },
    "language_info": {
      "codemirror_mode": {
        "name": "ipython",
        "version": 3
      },
      "file_extension": ".py",
      "mimetype": "text/x-python",
      "name": "python",
      "nbconvert_exporter": "python",
      "pygments_lexer": "ipython3",
      "version": "3.11.5"
    },
    "toc": {
      "base_numbering": 1,
      "nav_menu": {},
      "number_sections": true,
      "sideBar": true,
      "skip_h1_title": false,
      "title_cell": "Table of Contents",
      "title_sidebar": "Contents",
      "toc_cell": false,
      "toc_position": {
        "height": "calc(100% - 180px)",
        "left": "10px",
        "top": "150px",
        "width": "216px"
      },
      "toc_section_display": true,
      "toc_window_display": false
    },
    "varInspector": {
      "cols": {
        "lenName": 16,
        "lenType": 16,
        "lenVar": 40
      },
      "kernels_config": {
        "python": {
          "delete_cmd_postfix": "",
          "delete_cmd_prefix": "del ",
          "library": "var_list.py",
          "varRefreshCmd": "print(var_dic_list())"
        },
        "r": {
          "delete_cmd_postfix": ") ",
          "delete_cmd_prefix": "rm(",
          "library": "var_list.r",
          "varRefreshCmd": "cat(var_dic_list()) "
        }
      },
      "types_to_exclude": [
        "module",
        "function",
        "builtin_function_or_method",
        "instance",
        "_Feature"
      ],
      "window_display": false
    }
  },
  "nbformat": 4,
  "nbformat_minor": 0
}