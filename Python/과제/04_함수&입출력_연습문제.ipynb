{
  "cells": [
    {
      "cell_type": "markdown",
      "metadata": {
        "id": "view-in-github",
        "colab_type": "text"
      },
      "source": [
        "<a href=\"https://colab.research.google.com/github/mongdaeng/est-wassup1/blob/main/04_%ED%95%A8%EC%88%98%26%EC%9E%85%EC%B6%9C%EB%A0%A5_%EC%97%B0%EC%8A%B5%EB%AC%B8%EC%A0%9C.ipynb\" target=\"_parent\"><img src=\"https://colab.research.google.com/assets/colab-badge.svg\" alt=\"Open In Colab\"/></a>"
      ]
    },
    {
      "cell_type": "markdown",
      "id": "988f84ca",
      "metadata": {
        "id": "988f84ca"
      },
      "source": [
        "# Q1. 주어진 자연수가 홀수인지 짝수인지 판별해 주는 함수(is_odd)를 작성해 보자.\n",
        "```\n",
        "def is_odd(number):\n",
        "    if ???    # 2로 나누었을 때 나머지가 1이면 홀수이다.\n",
        "        return True\n",
        "    else:\n",
        "        return False\n",
        "```"
      ]
    },
    {
      "cell_type": "code",
      "source": [
        "def is_odd(number):\n",
        "    if number % 2 == 1:\n",
        "        return True\n",
        "    else:\n",
        "        return False\n",
        "\n",
        "\n",
        "result = \"홀수\" if is_odd(1) else \"짝수\"\n",
        "print(\"1는 %s입니다\" % result)\n",
        "\n",
        "result = \"홀수\" if is_odd(2) else \"짝수\"\n",
        "print(\"2는 %s입니다\" % result)"
      ],
      "metadata": {
        "colab": {
          "base_uri": "https://localhost:8080/"
        },
        "id": "pl1KGhgISaOw",
        "outputId": "9bbd68f0-1aa2-4c2f-eec7-74a65d819721"
      },
      "id": "pl1KGhgISaOw",
      "execution_count": null,
      "outputs": [
        {
          "output_type": "stream",
          "name": "stdout",
          "text": [
            "1는 홀수입니다\n",
            "2는 짝수입니다\n"
          ]
        }
      ]
    },
    {
      "cell_type": "markdown",
      "id": "df338dd2",
      "metadata": {
        "id": "df338dd2"
      },
      "source": [
        "# Q2. 입력으로 들어오는 모든 수의 평균 값을 계산해 주는 함수를 작성해 보자.\n",
        "(단 입력으로 들어오는 수의 개수는 정해져 있지 않다.)\n",
        "```\n",
        "def avg_numbers(???):\n",
        "    result = 0\n",
        "    for i in args:\n",
        "        result += i\n",
        "    return ?????\n",
        "\n",
        "avg_numbers(1,2)       # 1.5 출력\n",
        "avg_numbers(1,2,3,4,5) # 3.0 출력\n",
        "```"
      ]
    },
    {
      "cell_type": "code",
      "execution_count": null,
      "id": "44a317e3",
      "metadata": {
        "id": "44a317e3",
        "colab": {
          "base_uri": "https://localhost:8080/"
        },
        "outputId": "437aa319-8323-4af9-8ece-4707c8a5d51c"
      },
      "outputs": [
        {
          "output_type": "stream",
          "name": "stdout",
          "text": [
            "1.5\n",
            "3.0\n"
          ]
        }
      ],
      "source": [
        "def avg_numbers(*args):\n",
        "  result = 0\n",
        "  for i in args:\n",
        "    result += i\n",
        "  return result / len(args)\n",
        "\n",
        "print(avg_numbers(1,2))\n",
        "print(avg_numbers(1,2,3,4,5))"
      ]
    },
    {
      "cell_type": "markdown",
      "id": "b1a86529",
      "metadata": {
        "id": "b1a86529"
      },
      "source": [
        "# Q3. 다음은 두 개의 숫자를 입력받아 더하여 돌려주는 프로그램이다.\n",
        "```\n",
        "input1 = input(\"첫번째 숫자를 입력하세요:\")\n",
        "input2 = input(\"두번째 숫자를 입력하세요:\")\n",
        "\n",
        "total = input1 + input2\n",
        "print(\"두 수의 합은 %s 입니다\" % total)\n",
        "```\n",
        "이 프로그램을 수행해 보자.\n",
        "```\n",
        "첫번째 숫자를 입력하세요: 3\n",
        "두번째 숫자를 입력하세요: 6\n",
        "두 수의 합은 36 입니다.\n",
        "```\n",
        "3과 6을 입력했을 때 9가 아닌 36이라는 결괏값이 나왔다. 이 프로그램의 오류를 수정해보자."
      ]
    },
    {
      "cell_type": "code",
      "execution_count": null,
      "id": "2589b6b5",
      "metadata": {
        "id": "2589b6b5"
      },
      "outputs": [],
      "source": [
        "#입출력 파트 문제 - 어려움 질문 !\n",
        "\n",
        "input1 = input(\"첫번째 숫자를 입력하세요:\")\n",
        "input2 = input(\"두번째 숫자를 입력하세요:\")\n",
        "\\n\n",
        "total = int(input1) + int(input2)\n",
        "print(\"두 수의 합은 %d입니다\" % total)\n",
        "\\n\n",
        "첫번째 숫자를 입력하세요:3\n",
        "두번째 숫자를 입력하세요:6\n",
        "두 수의 합은 9입니다"
      ]
    },
    {
      "cell_type": "markdown",
      "id": "7f27c524",
      "metadata": {
        "id": "7f27c524"
      },
      "source": [
        "# Q4. 다음 중 출력 결과가 다른 것 한 개를 골라 보자.\n",
        "```\n",
        "1. print(\"you\" \"need\" \"python\")\n",
        "2. print(\"you\"+\"need\"+\"python\")\n",
        "3. print(\"you\",\"need\",\"python\")\n",
        "4. print(\"\".join([\"you\",\"need\",\"python\"]))\n",
        "```"
      ]
    },
    {
      "cell_type": "code",
      "execution_count": null,
      "id": "f1941d3a",
      "metadata": {
        "id": "f1941d3a",
        "colab": {
          "base_uri": "https://localhost:8080/"
        },
        "outputId": "48833e9f-e710-4ea9-bc83-e5b1c7b9d7f9"
      },
      "outputs": [
        {
          "output_type": "stream",
          "name": "stdout",
          "text": [
            "youneedpython\n",
            "youneedpython\n",
            "you need python\n",
            "youneedpython\n"
          ]
        }
      ],
      "source": [
        "print(\"you\" \"need\" \"python\")\n",
        "print(\"you\"+\"need\"+\"python\")\n",
        "print(\"you\",\"need\",\"python\")\n",
        "print(\"\".join([\"you\",\"need\",\"python\"]))"
      ]
    },
    {
      "cell_type": "markdown",
      "id": "fa22244a",
      "metadata": {
        "id": "fa22244a"
      },
      "source": [
        "# Q5. 다음은 \"test.txt\"라는 파일에 \"Life is too short\" 문자열을 저장한 후 다시 그 파일을 읽어서 출력하는 프로그램이다.\n",
        "```\n",
        "f1 = open(\"test.txt\", 'w')\n",
        "f1.write(\"Life is too short\")\n",
        "\n",
        "f2 = open(\"test.txt\", 'r')\n",
        "print(f2.read())\n",
        "```\n",
        "이 프로그램은 우리가 예상한 \"Life is too short\"라는 문장을 출력하지 않는다.   \n",
        "우리가 예상한 값을 출력할 수 있도록 프로그램을 수정해보자."
      ]
    },
    {
      "cell_type": "code",
      "execution_count": null,
      "id": "9c0fb96e",
      "metadata": {
        "id": "9c0fb96e"
      },
      "outputs": [],
      "source": [
        "\n",
        "f2 = open(\"test.txt\", 'r')\n",
        "line = f2.readline()\n",
        "print(line)\n",
        "f2.close()\n",
        "\\n\n",
        "Life is too short\n",
        "\n",
        "f1 = open(\"test.txt\", 'r')\n",
        "line = f1.readlines()\n",
        "print(line)\n",
        "f1.close()\n",
        "\\n\n",
        "['Life is too short']"
      ]
    },
    {
      "cell_type": "code",
      "source": [
        "\n",
        "#수업 시간 풀이\n",
        "\n",
        "f1 = open(\"text.txt\", 'w')\n",
        "f1.write(\"Life is too short\")\n",
        "f1.close()\n",
        "\n",
        "f2 = open(\"test.txt\", 'r')"
      ],
      "metadata": {
        "id": "mTOpCIcCWMLi"
      },
      "id": "mTOpCIcCWMLi",
      "execution_count": null,
      "outputs": []
    },
    {
      "cell_type": "markdown",
      "id": "9252d51d",
      "metadata": {
        "id": "9252d51d"
      },
      "source": [
        "# Q6. 사용자의 입력을 파일(test.txt)에 저장하는 프로그램을 작성해 보자.\n",
        "(단 프로그램을 다시 실행하더라도 기존에 작성한 내용을 유지하고 새로 입력한 내용을 추가해야 한다.)\n",
        "```\n",
        "user_input = input(\"저장할 내용을 입력하세요: \")\n",
        "f = open('test.txt', ?????) # 내용을 추가하기 위해 'a'를 사용\n",
        "f.write(user_input)\n",
        "f.write(????????) # 입력한 내용을 줄단위로 구분하기 위해 줄 바꿈 문자 삽입\n",
        "f.close()\n",
        "```"
      ]
    },
    {
      "cell_type": "code",
      "execution_count": null,
      "id": "24d1a1d8",
      "metadata": {
        "id": "24d1a1d8"
      },
      "outputs": [],
      "source": [
        "user_input = input(\"저장할 내용을 입력하세요:\")\n",
        "f = open(\"text.txt\", 'a')\n",
        "f.write(user_input)\n",
        "f.write(\"\\n\")\n",
        "f.close()"
      ]
    },
    {
      "cell_type": "markdown",
      "id": "54f9f0f6",
      "metadata": {
        "id": "54f9f0f6"
      },
      "source": [
        "# Q7. 다음과 같은 내용을 지닌 파일 test.txt가 있다. 이 파일의 내용 중 'java'라는 문자열을 'python'으로 바꾸어서 저장해 보자.\n",
        "```\n",
        "Life is too short\n",
        "you need java\n",
        "```\n",
        "\n",
        "```\n",
        "f = open('test.txt', 'r')\n",
        "body = ????? # test.txt 파일의 내용을 body 변수에 저장\n",
        "f.close()\n",
        "\n",
        "body = ?????   # body 문자열에서 \"java\"를 \"python\"으로 변경\n",
        "\n",
        "f = open('test.txt', ????)  # 파일을 쓰기 모드로 다시 실행\n",
        "f.write(body)\n",
        "f.close()\n",
        "```"
      ]
    },
    {
      "cell_type": "code",
      "execution_count": null,
      "id": "9344f6ca",
      "metadata": {
        "id": "9344f6ca"
      },
      "outputs": [],
      "source": [
        "f = open(\"test.txt\", \"r\") # 먼저 f 읽기전용으로 불러와\n",
        "line = f.read() # f 를 읽어주고\n",
        "f.close() # 닫아\n",
        "\n",
        "line = line.replace(\"java\", \"python\") # 불러와서 수정\n",
        "\n",
        "f = open(\"test.txt\", \"w\") # 쓰기전용으로 불러와\n",
        "f.write(line) # line 변수에서 바꾼걸 저장해\n",
        "f.close() # 닫아\n",
        "\\n\n",
        "Life is too short\n",
        "you need java"
      ]
    },
    {
      "cell_type": "markdown",
      "id": "7fa10a6a",
      "metadata": {
        "id": "7fa10a6a"
      },
      "source": [
        "```\n",
        "\"달을 향해 나아가라. 달에 미치지 못해도 별들 사이에 있게 될 것이다.\"\n",
        "- 진 시먼스\n",
        "```"
      ]
    }
  ],
  "metadata": {
    "kernelspec": {
      "display_name": "Python 3 (ipykernel)",
      "language": "python",
      "name": "python3"
    },
    "language_info": {
      "codemirror_mode": {
        "name": "ipython",
        "version": 3
      },
      "file_extension": ".py",
      "mimetype": "text/x-python",
      "name": "python",
      "nbconvert_exporter": "python",
      "pygments_lexer": "ipython3",
      "version": "3.11.5"
    },
    "toc": {
      "base_numbering": 1,
      "nav_menu": {},
      "number_sections": true,
      "sideBar": true,
      "skip_h1_title": false,
      "title_cell": "Table of Contents",
      "title_sidebar": "Contents",
      "toc_cell": false,
      "toc_position": {},
      "toc_section_display": true,
      "toc_window_display": false
    },
    "varInspector": {
      "cols": {
        "lenName": 16,
        "lenType": 16,
        "lenVar": 40
      },
      "kernels_config": {
        "python": {
          "delete_cmd_postfix": "",
          "delete_cmd_prefix": "del ",
          "library": "var_list.py",
          "varRefreshCmd": "print(var_dic_list())"
        },
        "r": {
          "delete_cmd_postfix": ") ",
          "delete_cmd_prefix": "rm(",
          "library": "var_list.r",
          "varRefreshCmd": "cat(var_dic_list()) "
        }
      },
      "oldHeight": 122.844,
      "position": {
        "height": "144.844px",
        "left": "1550px",
        "right": "20px",
        "top": "120px",
        "width": "350px"
      },
      "types_to_exclude": [
        "module",
        "function",
        "builtin_function_or_method",
        "instance",
        "_Feature"
      ],
      "varInspector_section_display": "block",
      "window_display": false
    },
    "colab": {
      "provenance": [],
      "include_colab_link": true
    }
  },
  "nbformat": 4,
  "nbformat_minor": 5
}