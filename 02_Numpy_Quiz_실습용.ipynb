{
  "cells": [
    {
      "cell_type": "markdown",
      "metadata": {
        "id": "view-in-github",
        "colab_type": "text"
      },
      "source": [
        "<a href=\"https://colab.research.google.com/github/mongdaeng/est-wassup1/blob/main/02_Numpy_Quiz_%E1%84%89%E1%85%B5%E1%86%AF%E1%84%89%E1%85%B3%E1%86%B8%E1%84%8B%E1%85%AD%E1%86%BC.ipynb\" target=\"_parent\"><img src=\"https://colab.research.google.com/assets/colab-badge.svg\" alt=\"Open In Colab\"/></a>"
      ]
    },
    {
      "cell_type": "markdown",
      "id": "6f17d151",
      "metadata": {
        "id": "6f17d151"
      },
      "source": [
        "### Quiz"
      ]
    },
    {
      "cell_type": "markdown",
      "id": "822f98fc",
      "metadata": {
        "id": "822f98fc"
      },
      "source": [
        "#### Q1. 다음과 같은 리스트를 이용하여 넘파이 배열을 만들고\n",
        "전체 갯수, 차원, 데이터형, 구조를 출력하여라\n",
        "```\n",
        "\n",
        "['강아지', '원숭이', '꽃', '45', '100']\n",
        "\n",
        "array(['강아지', '원숭이', '꽃', '45', '100'], dtype='<U3')\n",
        "차원 ? 1\n",
        "전체 갯수 ? 5\n",
        "데이터형 ? <U3\n",
        "전체 구조  ? (5,)\n",
        "```"
      ]
    },
    {
      "cell_type": "code",
      "source": [
        "import numpy as np"
      ],
      "metadata": {
        "id": "_uC1yQerQkPs"
      },
      "id": "_uC1yQerQkPs",
      "execution_count": 2,
      "outputs": []
    },
    {
      "cell_type": "code",
      "execution_count": null,
      "id": "57a5c6c5-660c-4f82-99a1-a578a300f8cd",
      "metadata": {
        "colab": {
          "base_uri": "https://localhost:8080/"
        },
        "id": "57a5c6c5-660c-4f82-99a1-a578a300f8cd",
        "outputId": "1827d02f-22ae-4acf-b11c-352809d92a6b"
      },
      "outputs": [
        {
          "output_type": "execute_result",
          "data": {
            "text/plain": [
              "array(['강아지', '원숭이', '꽃', '45', '100'], dtype='<U3')"
            ]
          },
          "metadata": {},
          "execution_count": 5
        }
      ],
      "source": [
        "data = ['강아지', '원숭이', '꽃', '45', '100']\n",
        "arr = np.array(data)\n",
        "arr"
      ]
    },
    {
      "cell_type": "code",
      "source": [
        "arr.ndim"
      ],
      "metadata": {
        "colab": {
          "base_uri": "https://localhost:8080/"
        },
        "id": "_3HJasbPQbRO",
        "outputId": "a6ee7571-a36a-4981-b2bd-01604e13664f"
      },
      "id": "_3HJasbPQbRO",
      "execution_count": null,
      "outputs": [
        {
          "output_type": "execute_result",
          "data": {
            "text/plain": [
              "1"
            ]
          },
          "metadata": {},
          "execution_count": 15
        }
      ]
    },
    {
      "cell_type": "code",
      "source": [
        "arr.size"
      ],
      "metadata": {
        "colab": {
          "base_uri": "https://localhost:8080/"
        },
        "id": "BSf8ORbMQ1Vd",
        "outputId": "a446c724-d5f6-4c33-a50e-db7f7c65e2f1"
      },
      "id": "BSf8ORbMQ1Vd",
      "execution_count": null,
      "outputs": [
        {
          "output_type": "execute_result",
          "data": {
            "text/plain": [
              "5"
            ]
          },
          "metadata": {},
          "execution_count": 11
        }
      ]
    },
    {
      "cell_type": "code",
      "source": [
        "arr.dtype"
      ],
      "metadata": {
        "colab": {
          "base_uri": "https://localhost:8080/"
        },
        "id": "BuMdSe_-Q2uP",
        "outputId": "2a910b5b-47e7-44d9-82e5-5017875c202e"
      },
      "id": "BuMdSe_-Q2uP",
      "execution_count": null,
      "outputs": [
        {
          "output_type": "execute_result",
          "data": {
            "text/plain": [
              "dtype('<U3')"
            ]
          },
          "metadata": {},
          "execution_count": 13
        }
      ]
    },
    {
      "cell_type": "code",
      "source": [
        "arr.shape"
      ],
      "metadata": {
        "colab": {
          "base_uri": "https://localhost:8080/"
        },
        "id": "dkWLdxcsQ6wX",
        "outputId": "7bc9be81-5051-450e-d5bc-1cd687ab43da"
      },
      "id": "dkWLdxcsQ6wX",
      "execution_count": null,
      "outputs": [
        {
          "output_type": "execute_result",
          "data": {
            "text/plain": [
              "(5,)"
            ]
          },
          "metadata": {},
          "execution_count": 14
        }
      ]
    },
    {
      "cell_type": "markdown",
      "id": "e1cef698",
      "metadata": {
        "id": "e1cef698"
      },
      "source": [
        "#### Q2. np.ones()를 이용하여\n",
        "2행 3열의 넘파이 배열을 생성하여라\n",
        "\n",
        "array([[1., 1., 1.],\n",
        "       [1., 1., 1.]])"
      ]
    },
    {
      "cell_type": "code",
      "execution_count": null,
      "id": "fc428147-8468-487e-96e3-21141f9dfe88",
      "metadata": {
        "colab": {
          "base_uri": "https://localhost:8080/"
        },
        "id": "fc428147-8468-487e-96e3-21141f9dfe88",
        "outputId": "2243bde6-5b6c-4246-83aa-bc3f37f61bc1"
      },
      "outputs": [
        {
          "output_type": "execute_result",
          "data": {
            "text/plain": [
              "array([[1, 1, 1],\n",
              "       [1, 1, 1]])"
            ]
          },
          "metadata": {},
          "execution_count": 17
        }
      ],
      "source": [
        "arr = np.ones((2,3),dtype=np.int64)\n",
        "arr"
      ]
    },
    {
      "cell_type": "markdown",
      "id": "42c9b79e",
      "metadata": {
        "id": "42c9b79e"
      },
      "source": [
        "#### Q3. np.arange(), np.reshape()를 이용하여\n",
        "다음과 같은 넘파이 배열을 생성하여라\n",
        "```\n",
        "array([[51, 52, 53, 54, 55],\n",
        "       [56, 57, 58, 59, 60],\n",
        "       [61, 62, 63, 64, 65],\n",
        "       [66, 67, 68, 69, 70],\n",
        "       [71, 72, 73, 74, 75],\n",
        "       [76, 77, 78, 79, 80]])\n",
        "```"
      ]
    },
    {
      "cell_type": "code",
      "execution_count": null,
      "id": "f36d1318-abab-4e6a-8ba3-87e71b36d100",
      "metadata": {
        "colab": {
          "base_uri": "https://localhost:8080/"
        },
        "id": "f36d1318-abab-4e6a-8ba3-87e71b36d100",
        "outputId": "5f4d3e9a-79bb-4962-b59a-2aa65207979c"
      },
      "outputs": [
        {
          "output_type": "execute_result",
          "data": {
            "text/plain": [
              "array([51, 52, 53, 54, 55, 56, 57, 58, 59, 60, 61, 62, 63, 64, 65, 66, 67,\n",
              "       68, 69, 70, 71, 72, 73, 74, 75, 76, 77, 78, 79, 80])"
            ]
          },
          "metadata": {},
          "execution_count": 44
        }
      ],
      "source": [
        "arr = np.arange(51,81)\n",
        "arr"
      ]
    },
    {
      "cell_type": "code",
      "source": [
        "arr2 = arr.reshape(6,5)\n",
        "arr2"
      ],
      "metadata": {
        "colab": {
          "base_uri": "https://localhost:8080/"
        },
        "id": "mCu5KMRIVMRs",
        "outputId": "55d81a9d-189d-4f10-96bc-f40b3e5ae0d6"
      },
      "id": "mCu5KMRIVMRs",
      "execution_count": null,
      "outputs": [
        {
          "output_type": "execute_result",
          "data": {
            "text/plain": [
              "array([[51, 52, 53, 54, 55],\n",
              "       [56, 57, 58, 59, 60],\n",
              "       [61, 62, 63, 64, 65],\n",
              "       [66, 67, 68, 69, 70],\n",
              "       [71, 72, 73, 74, 75],\n",
              "       [76, 77, 78, 79, 80]])"
            ]
          },
          "metadata": {},
          "execution_count": 45
        }
      ]
    },
    {
      "cell_type": "markdown",
      "source": [],
      "metadata": {
        "id": "jKORqfJWbi8A"
      },
      "id": "jKORqfJWbi8A"
    },
    {
      "cell_type": "markdown",
      "source": [],
      "metadata": {
        "id": "-FkdmcKQbi60"
      },
      "id": "-FkdmcKQbi60"
    },
    {
      "cell_type": "markdown",
      "id": "6b0dd4b5",
      "metadata": {
        "id": "6b0dd4b5"
      },
      "source": [
        "#### Q4. Q3의 넘파이 배열의 자료형을\n",
        "float로 변경하고 데이터형을 출력하여라\n",
        "```\n",
        "array([[51., 52., 53., 54., 55.],\n",
        "       [56., 57., 58., 59., 60.],\n",
        "       [61., 62., 63., 64., 65.],\n",
        "       [66., 67., 68., 69., 70.],\n",
        "       [71., 72., 73., 74., 75.],\n",
        "       [76., 77., 78., 79., 80.]])\n",
        "```\n",
        "-------------------------------------  \n",
        "\n",
        "dtype('float64')"
      ]
    },
    {
      "cell_type": "code",
      "execution_count": null,
      "id": "200dc541-ca25-4797-a0e8-cec3aae25b4c",
      "metadata": {
        "colab": {
          "base_uri": "https://localhost:8080/"
        },
        "id": "200dc541-ca25-4797-a0e8-cec3aae25b4c",
        "outputId": "933e31f0-f8e7-4f85-d42e-de605fd22fcd"
      },
      "outputs": [
        {
          "output_type": "execute_result",
          "data": {
            "text/plain": [
              "dtype('float64')"
            ]
          },
          "metadata": {},
          "execution_count": 49
        }
      ],
      "source": [
        "arr3 = arr2.astype(float)\n",
        "arr3.dtype"
      ]
    },
    {
      "cell_type": "markdown",
      "id": "906cf1f4",
      "metadata": {
        "id": "906cf1f4"
      },
      "source": [
        "#### Q5. 다음과 같이 넘파이 배열을 생성한 후 1차원 배열로 변경하고 슬라이싱하여라\n",
        "\n",
        "```\n",
        "array([[ 1,  4,  5,  6],\n",
        "       [56, 23, 45, 67],\n",
        "       [ 8,  4,  6, 10]])\n",
        "       \n",
        "array([ 1,  4,  5,  6, 56, 23, 45, 67,  8,  4,  6, 10])\n",
        "\n",
        "\n",
        "array([23, 45, 67,  8,  4,  6])\n",
        "```       "
      ]
    },
    {
      "cell_type": "code",
      "execution_count": null,
      "id": "90724111-e79d-4da8-a30f-bfa15e788f7e",
      "metadata": {
        "colab": {
          "base_uri": "https://localhost:8080/"
        },
        "id": "90724111-e79d-4da8-a30f-bfa15e788f7e",
        "outputId": "908a2a8f-d815-4fcb-faec-cce54c8d7dbb"
      },
      "outputs": [
        {
          "output_type": "stream",
          "name": "stdout",
          "text": [
            "[23 45 67  8  4  6]\n"
          ]
        }
      ],
      "source": [
        "arr2d = np.array([[ 1,  4,  5,  6],[56, 23, 45, 67],[ 8,  4,  6, 10]])\n",
        "print(arr2d.flatten()[5:-1])"
      ]
    },
    {
      "cell_type": "markdown",
      "id": "46e67feb",
      "metadata": {
        "id": "46e67feb"
      },
      "source": [
        "#### Q6. 다음과 같은 넘파이 배열을 생성한 후 아이템을 교체하여라\n",
        "\n",
        "```\n",
        "array([ 1,  2,  3,  4,  5,  6,  7,  8,  9, 10])\n",
        "\n",
        "array([10,  2,  3,  4,  5,  6,  7,  0,  0,  0])\n",
        "\n",
        "```"
      ]
    },
    {
      "cell_type": "code",
      "execution_count": 3,
      "id": "c7cd6fbe-380b-4e29-98f8-902b110a7207",
      "metadata": {
        "id": "c7cd6fbe-380b-4e29-98f8-902b110a7207",
        "colab": {
          "base_uri": "https://localhost:8080/"
        },
        "outputId": "a6686b9c-5853-4956-a1c5-67f6934917ba"
      },
      "outputs": [
        {
          "output_type": "execute_result",
          "data": {
            "text/plain": [
              "array([10,  2,  3,  4,  5,  6,  7,  0,  0,  0])"
            ]
          },
          "metadata": {},
          "execution_count": 3
        }
      ],
      "source": [
        "arr = np.array([ 1,  2,  3,  4,  5,  6,  7,  8,  9, 10])\n",
        "arr[0]=10\n",
        "arr[7:]=0\n",
        "arr"
      ]
    },
    {
      "cell_type": "markdown",
      "id": "cf265b90",
      "metadata": {
        "id": "cf265b90"
      },
      "source": [
        "#### Q7. 2자리의 숫자로 구성된 넘파이 배열(5행5열)을 만들어라. 숫자는 난수를 이용한다.\n",
        "\n",
        "```\n",
        "[[63 85 71 67 15]\n",
        " [31 81 69 17 97]\n",
        " [25 41 33 23 39]\n",
        " [39 43 59 33 43]\n",
        " [23 51 65 91 23]]\n",
        "\n",
        "```"
      ]
    },
    {
      "cell_type": "code",
      "execution_count": 4,
      "id": "0520d5ad-2e3a-4aca-acc5-3f08a08845aa",
      "metadata": {
        "id": "0520d5ad-2e3a-4aca-acc5-3f08a08845aa",
        "colab": {
          "base_uri": "https://localhost:8080/"
        },
        "outputId": "10a0aaf6-a43c-4bb6-95e0-ebdf114219d6"
      },
      "outputs": [
        {
          "output_type": "execute_result",
          "data": {
            "text/plain": [
              "array([[95, 44, 33, 91, 11],\n",
              "       [42, 49, 87, 82, 13],\n",
              "       [42, 39, 63, 63, 68],\n",
              "       [13, 23, 75, 77, 37],\n",
              "       [15, 73, 31, 89, 76]])"
            ]
          },
          "metadata": {},
          "execution_count": 4
        }
      ],
      "source": [
        "np.random.randint(10, 99, (5,5))"
      ]
    },
    {
      "cell_type": "markdown",
      "id": "5c5ccecf",
      "metadata": {
        "id": "5c5ccecf"
      },
      "source": [
        "#### Q8. 1~100 사이의 정수중 7개의 숫자를 무작위로 추출한 후 가장 큰값과 가장 작은 값을 출력하여라.\n",
        "[91, 65, 14, 66, 65, 98, 34]\n",
        "\n",
        "max = 98\n",
        "min = 14"
      ]
    },
    {
      "cell_type": "code",
      "execution_count": 10,
      "id": "54209548-9daf-4b72-aec9-c6c8c60c7c13",
      "metadata": {
        "id": "54209548-9daf-4b72-aec9-c6c8c60c7c13",
        "colab": {
          "base_uri": "https://localhost:8080/"
        },
        "outputId": "060cbade-96aa-4ef9-d3d5-f09ab5957470"
      },
      "outputs": [
        {
          "output_type": "stream",
          "name": "stdout",
          "text": [
            "[10 17 42 80 16 95 87]\n"
          ]
        },
        {
          "output_type": "execute_result",
          "data": {
            "text/plain": [
              "95"
            ]
          },
          "metadata": {},
          "execution_count": 10
        }
      ],
      "source": [
        "a = np.random.randint(1,100,7)\n",
        "print(a)\n",
        "np.max(a)"
      ]
    },
    {
      "cell_type": "code",
      "source": [
        "np.min(a)"
      ],
      "metadata": {
        "colab": {
          "base_uri": "https://localhost:8080/"
        },
        "id": "T_B7xS-11b7Q",
        "outputId": "3fdcaef8-f7c0-4a5a-e46b-3617059fde13"
      },
      "id": "T_B7xS-11b7Q",
      "execution_count": 11,
      "outputs": [
        {
          "output_type": "execute_result",
          "data": {
            "text/plain": [
              "10"
            ]
          },
          "metadata": {},
          "execution_count": 11
        }
      ]
    },
    {
      "cell_type": "markdown",
      "id": "24dcaa28",
      "metadata": {
        "id": "24dcaa28"
      },
      "source": [
        "#### Q9. 다음과 같은 3개의 넘파이 배열을 생성한 후 다음과 같이 합쳐라\n",
        "```\n",
        "[[1, 2, 3],\n",
        " [4, 5, 6],\n",
        " [7, 8, 9]]\n",
        "\n",
        "\n",
        "[[11, 12, 13],\n",
        " [14, 15, 16],\n",
        " [17, 18, 19]]\n",
        "\n",
        "\n",
        "[[21, 22, 23],\n",
        " [24, 25, 26],\n",
        " [27, 28, 29]]\n",
        "```\n",
        " ----------\n",
        "  Result1\n",
        "```\n",
        " [[ 1,  2,  3, 11, 12, 13, 21, 22, 23],\n",
        "  [ 4,  5,  6, 14, 15, 16, 24, 25, 26],\n",
        "  [ 7,  8,  9, 17, 18, 19, 27, 28, 29]]\n",
        "```\n",
        "\n",
        "  ----------\n",
        "  Result2\n",
        "```\n",
        " [[ 1,  2,  3],\n",
        "  [ 4,  5,  6],\n",
        "  [ 7,  8,  9],\n",
        "  [11, 12, 13],\n",
        "  [14, 15, 16],\n",
        "  [17, 18, 19],\n",
        "  [21, 22, 23],\n",
        "  [24, 25, 26],\n",
        "  [27, 28, 29]]\n",
        "```"
      ]
    },
    {
      "cell_type": "code",
      "execution_count": 23,
      "id": "a0442d46-bff4-4b28-b7ff-65ddffd05292",
      "metadata": {
        "id": "a0442d46-bff4-4b28-b7ff-65ddffd05292",
        "colab": {
          "base_uri": "https://localhost:8080/"
        },
        "outputId": "ccd63e68-c647-437d-e4cb-3c5863a77808"
      },
      "outputs": [
        {
          "output_type": "execute_result",
          "data": {
            "text/plain": [
              "array([[ 1,  2,  3, 11, 12, 13, 21, 22, 23],\n",
              "       [ 4,  5,  6, 14, 15, 16, 24, 25, 26],\n",
              "       [ 7,  8,  9, 17, 18, 19, 27, 28, 29]])"
            ]
          },
          "metadata": {},
          "execution_count": 23
        }
      ],
      "source": [
        "arr = np.array([[1, 2, 3],[4, 5, 6],[7, 8, 9]])\n",
        "arr1 = np.array([[11, 12, 13],[14, 15, 16],[17, 18, 19]])\n",
        "arr2 = np.array([[21, 22, 23],[24, 25, 26],[27, 28, 29]])\n",
        "\n",
        "#result1\n",
        "result1 = np.hstack((arr,arr1,arr2))\n",
        "\n",
        "result1\n"
      ]
    },
    {
      "cell_type": "code",
      "source": [
        "\n",
        "#result2\n",
        "result2 = np.vstack((arr,arr1,arr2))\n",
        "\n",
        "result2"
      ],
      "metadata": {
        "colab": {
          "base_uri": "https://localhost:8080/"
        },
        "id": "F88Yin0z3hkY",
        "outputId": "0cb119f4-b4d2-42bd-f95d-661a78faaf03"
      },
      "id": "F88Yin0z3hkY",
      "execution_count": 24,
      "outputs": [
        {
          "output_type": "execute_result",
          "data": {
            "text/plain": [
              "array([[ 1,  2,  3],\n",
              "       [ 4,  5,  6],\n",
              "       [ 7,  8,  9],\n",
              "       [11, 12, 13],\n",
              "       [14, 15, 16],\n",
              "       [17, 18, 19],\n",
              "       [21, 22, 23],\n",
              "       [24, 25, 26],\n",
              "       [27, 28, 29]])"
            ]
          },
          "metadata": {},
          "execution_count": 24
        }
      ]
    },
    {
      "cell_type": "markdown",
      "id": "2d8638be",
      "metadata": {
        "id": "2d8638be"
      },
      "source": [
        "#### Q10. 아래와 같이 넘파이 배열을 생성한 후 50보다 큰 숫자만 필터링하여라.\n",
        "\n",
        "```\n",
        "arr = np.random.choice(100, 40, replace=False)\n",
        "\n",
        "Before =>\n",
        "\n",
        "[40, 63,  8,  2, 35, 84, 72, 48, 78, 86, 87, 58,  0, 49, 14, 55, 11,\n",
        "       73, 39, 26, 75, 27, 99, 46, 25, 22, 34, 83, 24, 47, 31, 57, 62, 19,\n",
        "       36, 15, 17, 10, 98, 90]\n",
        "\n",
        "After =>\n",
        "\n",
        "[63, 84, 72, 78, 86, 87, 58, 55, 73, 75, 99, 83, 57, 62, 98, 90]\n",
        "\n",
        "```"
      ]
    },
    {
      "cell_type": "code",
      "execution_count": 29,
      "id": "03c22039-7e21-48fd-9cba-bec220da6ee2",
      "metadata": {
        "id": "03c22039-7e21-48fd-9cba-bec220da6ee2",
        "colab": {
          "base_uri": "https://localhost:8080/"
        },
        "outputId": "19f95246-318e-4810-9f61-504830f5f42d"
      },
      "outputs": [
        {
          "output_type": "execute_result",
          "data": {
            "text/plain": [
              "(array([77, 58, 90, 61, 71, 66, 49, 69,  0, 40, 67, 62, 74, 50, 85, 45, 51,\n",
              "        24, 92,  1, 44, 38, 79, 63,  6, 81, 57,  9, 17, 11, 39, 25, 83, 18,\n",
              "        43, 36, 59,  4, 55, 93]),\n",
              " array([77, 58, 90, 61, 71, 66, 69, 67, 62, 74, 85, 51, 92, 79, 63, 81, 57,\n",
              "        83, 59, 55, 93]),\n",
              " array([77, 58, 90, 61, 71, 66, 69, 67, 62, 74, 85, 51, 92, 79, 63, 81, 57,\n",
              "        83, 59, 55, 93]))"
            ]
          },
          "metadata": {},
          "execution_count": 29
        }
      ],
      "source": [
        "a = np.random.choice(100,40, replace=False)\n",
        "a, a[np.where(a>50)], a[a>50]"
      ]
    },
    {
      "cell_type": "markdown",
      "id": "249ef810",
      "metadata": {
        "id": "249ef810"
      },
      "source": [
        "#### Quiz 11\n",
        "```\n",
        "kor = np.array( [60,55,70,30,20,90])\n",
        "1. 국어점수가 가장큰값을 구하여라\n",
        "2. 국어점수가 80점이상인 값을 구하여라\n",
        "3. 국어 점수가 50점이상 80점 이하인 값을 구하여라\n",
        "4. 국어점수의 평균을 구하여라\n",
        "5. 국어점수의 총합을 구하여라.\n",
        "6. 국어점수가 40점이하인 데이터를 삭제하여라\n",
        "7. 국어점수가 50점이상인 데이터에 가산점 10%를 부여하여라\n",
        "8. 국어점수 top 3를 구하여라\n",
        "9. 국어점수가 70점이상이면 '합격' , 아니면 '불합격으로' 아래와 같이 출력하시요\n",
        "\n",
        "60 '불합격'\n",
        "55 '불합격'\n",
        "```"
      ]
    },
    {
      "cell_type": "code",
      "execution_count": 30,
      "id": "306a7066-dc57-4935-bfcb-56c3c1bf3080",
      "metadata": {
        "id": "306a7066-dc57-4935-bfcb-56c3c1bf3080"
      },
      "outputs": [],
      "source": [
        "kor = np.array( [60,55,70,30,20,90])"
      ]
    },
    {
      "cell_type": "code",
      "source": [
        "#1 최대값\n",
        "np.max(kor)"
      ],
      "metadata": {
        "colab": {
          "base_uri": "https://localhost:8080/"
        },
        "id": "EoY7ReRE4RbO",
        "outputId": "95c0213b-81b8-4764-a0f2-56917ca98241"
      },
      "id": "EoY7ReRE4RbO",
      "execution_count": 32,
      "outputs": [
        {
          "output_type": "execute_result",
          "data": {
            "text/plain": [
              "90"
            ]
          },
          "metadata": {},
          "execution_count": 32
        }
      ]
    },
    {
      "cell_type": "code",
      "source": [
        "#2 80점 이상\n",
        "kor[kor>=80]"
      ],
      "metadata": {
        "colab": {
          "base_uri": "https://localhost:8080/"
        },
        "id": "yzhL0SVu4XWi",
        "outputId": "2e2fdf67-bd32-45fb-d7b7-085fc6f6db43"
      },
      "id": "yzhL0SVu4XWi",
      "execution_count": 35,
      "outputs": [
        {
          "output_type": "execute_result",
          "data": {
            "text/plain": [
              "array([90])"
            ]
          },
          "metadata": {},
          "execution_count": 35
        }
      ]
    },
    {
      "cell_type": "code",
      "source": [
        "#3 50점 이상 ~80점 이하\n",
        "kor[(kor>=50) & (kor<=80)]"
      ],
      "metadata": {
        "colab": {
          "base_uri": "https://localhost:8080/"
        },
        "id": "idUGbVoa4c7U",
        "outputId": "b43b19d8-27b0-4b11-d92e-f6b212fe9ee4"
      },
      "id": "idUGbVoa4c7U",
      "execution_count": 38,
      "outputs": [
        {
          "output_type": "execute_result",
          "data": {
            "text/plain": [
              "array([60, 55, 70])"
            ]
          },
          "metadata": {},
          "execution_count": 38
        }
      ]
    },
    {
      "cell_type": "code",
      "source": [
        "#4 국어점수 평균\n",
        "np.average(kor),\n",
        "\n",
        "#소수점 정리\n",
        "round(kor.mean(),3)"
      ],
      "metadata": {
        "colab": {
          "base_uri": "https://localhost:8080/"
        },
        "id": "93gsBwVE4too",
        "outputId": "fde87021-55ac-45ed-9b04-8478db9a7e55"
      },
      "id": "93gsBwVE4too",
      "execution_count": 42,
      "outputs": [
        {
          "output_type": "execute_result",
          "data": {
            "text/plain": [
              "54.167"
            ]
          },
          "metadata": {},
          "execution_count": 42
        }
      ]
    },
    {
      "cell_type": "code",
      "source": [
        "#5 국어 점수 합\n",
        "np.sum(kor)"
      ],
      "metadata": {
        "colab": {
          "base_uri": "https://localhost:8080/"
        },
        "id": "MhfZQ_g846hm",
        "outputId": "4ed4423a-325e-4ccc-b796-761a4c3ab5d8"
      },
      "id": "MhfZQ_g846hm",
      "execution_count": 44,
      "outputs": [
        {
          "output_type": "execute_result",
          "data": {
            "text/plain": [
              "325"
            ]
          },
          "metadata": {},
          "execution_count": 44
        }
      ]
    },
    {
      "cell_type": "code",
      "source": [
        "#6 40점 이하 삭제\n",
        "\n",
        "kor1 = kor\n",
        "num = kor[kor<=40]\n",
        "kor1, num, np.delete(kor1, np.where(kor<=40))"
      ],
      "metadata": {
        "colab": {
          "base_uri": "https://localhost:8080/"
        },
        "id": "J1p5z1dH49Ud",
        "outputId": "0afc2af2-d572-4d8d-8a9a-2b96503bac6a"
      },
      "id": "J1p5z1dH49Ud",
      "execution_count": 48,
      "outputs": [
        {
          "output_type": "execute_result",
          "data": {
            "text/plain": [
              "(array([60, 55, 70, 30, 20, 90]), array([30, 20]), array([60, 55, 70, 90]))"
            ]
          },
          "metadata": {},
          "execution_count": 48
        }
      ]
    },
    {
      "cell_type": "code",
      "source": [
        "#7 50점 이상인 데이터에 가산점 10%\n",
        "\n",
        "np.where(kor>=50, kor*1.1, kor)"
      ],
      "metadata": {
        "colab": {
          "base_uri": "https://localhost:8080/"
        },
        "id": "UURkUhRR5cfI",
        "outputId": "11d872aa-66a7-44fa-e35f-edea816f9563"
      },
      "id": "UURkUhRR5cfI",
      "execution_count": 50,
      "outputs": [
        {
          "output_type": "execute_result",
          "data": {
            "text/plain": [
              "array([66. , 60.5, 77. , 30. , 20. , 99. ])"
            ]
          },
          "metadata": {},
          "execution_count": 50
        }
      ]
    },
    {
      "cell_type": "code",
      "source": [
        "#8 국어점수 top3 ->잘 못풀었던 문제임\n",
        "\n",
        "np.sort(kor)[::-1][:3]\n",
        "kor[np.argsort(kor)[::-1][:3]]\n",
        "\n"
      ],
      "metadata": {
        "colab": {
          "base_uri": "https://localhost:8080/"
        },
        "id": "ktGeTR3R5nbM",
        "outputId": "7b0da89e-fd18-48bc-ebe5-1d5a2818a2d2"
      },
      "id": "ktGeTR3R5nbM",
      "execution_count": 52,
      "outputs": [
        {
          "output_type": "execute_result",
          "data": {
            "text/plain": [
              "array([90, 70, 60])"
            ]
          },
          "metadata": {},
          "execution_count": 52
        }
      ]
    },
    {
      "cell_type": "code",
      "source": [
        "#9 국어 점수 70점 이상이면 합격, 아니면 불합격\n",
        "\n",
        "kor, np.where(kor>=70, \"합격\", \"불합격\")"
      ],
      "metadata": {
        "colab": {
          "base_uri": "https://localhost:8080/"
        },
        "id": "hPma8gzE9MZS",
        "outputId": "fd2f9632-0b94-43df-ee89-725a5246baa3"
      },
      "id": "hPma8gzE9MZS",
      "execution_count": 54,
      "outputs": [
        {
          "output_type": "execute_result",
          "data": {
            "text/plain": [
              "(array([60, 55, 70, 30, 20, 90]),\n",
              " array(['불합격', '불합격', '합격', '불합격', '불합격', '합격'], dtype='<U3'))"
            ]
          },
          "metadata": {},
          "execution_count": 54
        }
      ]
    }
  ],
  "metadata": {
    "kernelspec": {
      "display_name": "Python 3 (ipykernel)",
      "language": "python",
      "name": "python3"
    },
    "language_info": {
      "codemirror_mode": {
        "name": "ipython",
        "version": 3
      },
      "file_extension": ".py",
      "mimetype": "text/x-python",
      "name": "python",
      "nbconvert_exporter": "python",
      "pygments_lexer": "ipython3",
      "version": "3.11.5"
    },
    "toc": {
      "base_numbering": 1,
      "nav_menu": {},
      "number_sections": true,
      "sideBar": true,
      "skip_h1_title": false,
      "title_cell": "Table of Contents",
      "title_sidebar": "Contents",
      "toc_cell": false,
      "toc_position": {
        "height": "calc(100% - 180px)",
        "left": "10px",
        "top": "150px",
        "width": "232px"
      },
      "toc_section_display": true,
      "toc_window_display": true
    },
    "varInspector": {
      "cols": {
        "lenName": 16,
        "lenType": 16,
        "lenVar": 40
      },
      "kernels_config": {
        "python": {
          "delete_cmd_postfix": "",
          "delete_cmd_prefix": "del ",
          "library": "var_list.py",
          "varRefreshCmd": "print(var_dic_list())"
        },
        "r": {
          "delete_cmd_postfix": ") ",
          "delete_cmd_prefix": "rm(",
          "library": "var_list.r",
          "varRefreshCmd": "cat(var_dic_list()) "
        }
      },
      "types_to_exclude": [
        "module",
        "function",
        "builtin_function_or_method",
        "instance",
        "_Feature"
      ],
      "window_display": false
    },
    "colab": {
      "provenance": [],
      "include_colab_link": true
    }
  },
  "nbformat": 4,
  "nbformat_minor": 5
}