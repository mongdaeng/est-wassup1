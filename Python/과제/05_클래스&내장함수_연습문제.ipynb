{
  "cells": [
    {
      "cell_type": "markdown",
      "metadata": {
        "id": "view-in-github",
        "colab_type": "text"
      },
      "source": [
        "<a href=\"https://colab.research.google.com/github/mongdaeng/est-wassup1/blob/main/05_%ED%81%B4%EB%9E%98%EC%8A%A4%26%EB%82%B4%EC%9E%A5%ED%95%A8%EC%88%98_%EC%97%B0%EC%8A%B5%EB%AC%B8%EC%A0%9C.ipynb\" target=\"_parent\"><img src=\"https://colab.research.google.com/assets/colab-badge.svg\" alt=\"Open In Colab\"/></a>"
      ]
    },
    {
      "cell_type": "markdown",
      "id": "f1fdca32",
      "metadata": {
        "id": "f1fdca32"
      },
      "source": [
        "# Q1. 다음은 Calculator 클래스이다.\n",
        "```python\n",
        "class Calculator:\n",
        "    def __init__(self):\n",
        "        self.value = 0\n",
        "    def add(self, val):\n",
        "        self.value += val\n",
        "```\n",
        "위 클래스를 상속하는 UpgradeCalculator를 만들고 값을 뺄 수 잇는 minus 메서드를 추가해보자.   \n",
        "즉 다음과 같이 동작하는 클래스를 만들어야 한다.\n",
        "```python\n",
        "cal = UpgradeCalculator()\n",
        "cal.add(10)\n",
        "cal.minus(7)\n",
        "print(cal.calue) # 10에서 7을 뺀 3을 출력\n",
        "```"
      ]
    },
    {
      "cell_type": "code",
      "execution_count": 1,
      "id": "f3345c8c",
      "metadata": {
        "id": "f3345c8c",
        "colab": {
          "base_uri": "https://localhost:8080/"
        },
        "outputId": "3618ec68-5b93-4e00-e31d-cfe2794f1876"
      },
      "outputs": [
        {
          "output_type": "stream",
          "name": "stdout",
          "text": [
            "3\n"
          ]
        }
      ],
      "source": [
        "class Calculator:\n",
        "    def __init__(self):\n",
        "        self.value = 0\n",
        "\n",
        "    def add(self, val):\n",
        "        self.value += val\n",
        "\n",
        "class UpgradedCalculator(Calculator):\n",
        "    def minus(self, val):\n",
        "        self.value -= val\n",
        "\n",
        "cal = UpgradedCalculator()\n",
        "cal.add(10)\n",
        "cal.minus(7)\n",
        "\n",
        "print(cal.value)"
      ]
    },
    {
      "cell_type": "markdown",
      "id": "75806738",
      "metadata": {
        "id": "75806738"
      },
      "source": [
        "# Q2. 객체 변수 value가 100 이상의 값은 가질 수 없도록 제한하는 MaxLimitCalculator 클래스를 만들어 보자. 즉 다음과 같이 동작해야 한다.\n",
        "```python\n",
        "cal = MaxLimitCalculator()\n",
        "cal.add(50) # 50 더하기\n",
        "cal.add(60) # 60 더하기\n",
        "\n",
        "print(cal.value) # 100 출력\n",
        "```\n",
        "\n",
        "단 반드시 다음과 같은 calculator 클래스를 상속해서 만들어야 한다.\n",
        "```python\n",
        "class Calculator:\n",
        "    def __init__(self):\n",
        "        self.value = 0\n",
        "    def add(self, val):\n",
        "        self.value += val\n",
        "```"
      ]
    },
    {
      "cell_type": "code",
      "execution_count": 2,
      "id": "d5bc73e1",
      "metadata": {
        "id": "d5bc73e1",
        "colab": {
          "base_uri": "https://localhost:8080/"
        },
        "outputId": "fbdb94b0-db69-4b1e-aede-0389a6449981"
      },
      "outputs": [
        {
          "output_type": "stream",
          "name": "stdout",
          "text": [
            "100\n"
          ]
        }
      ],
      "source": [
        "class Calculator:\n",
        "    def __init__(self):\n",
        "        self.value = 0\n",
        "\n",
        "    def add(self, val):\n",
        "        self.value += val\n",
        "\n",
        "class MaxLimitCalculator(Calculator):\n",
        "    def add(self, val):\n",
        "        self.value += val\n",
        "        if self.value > 100:\n",
        "            self.value = 100\n",
        "cal = MaxLimitCalculator()\n",
        "cal.add(50)\n",
        "cal.add(60)\n",
        "\n",
        "print(cal.value)"
      ]
    },
    {
      "cell_type": "markdown",
      "id": "7286e434",
      "metadata": {
        "id": "7286e434"
      },
      "source": [
        "# Q3. 다음 결과를 예측해 보자.\n",
        "```python\n",
        "# 1.\n",
        ">>> all({1, 2, abs(-3)-3})\n",
        "\n",
        "# 2.\n",
        ">>> chr(ord('a')) == 'a'\n",
        "```"
      ]
    },
    {
      "cell_type": "code",
      "execution_count": 4,
      "id": "b686ab29",
      "metadata": {
        "id": "b686ab29",
        "colab": {
          "base_uri": "https://localhost:8080/"
        },
        "outputId": "1e04897d-a3b4-41bd-9207-71f409645e12"
      },
      "outputs": [
        {
          "output_type": "execute_result",
          "data": {
            "text/plain": [
              "True"
            ]
          },
          "metadata": {},
          "execution_count": 4
        }
      ],
      "source": [
        " #1 - False\n",
        "\n",
        " all({1, 2, abs(-3)-3})\n",
        "\n",
        " #2 - True\n",
        "\n",
        " chr(ord('a')) == 'a'"
      ]
    },
    {
      "cell_type": "markdown",
      "id": "ff058604",
      "metadata": {
        "id": "ff058604"
      },
      "source": [
        "# Q4. filter와 lambda를 사용하여 리스트 [1, -2, 3, -5, 8, -3]에서 음수를 모두 제거해 보자."
      ]
    },
    {
      "cell_type": "code",
      "execution_count": 6,
      "id": "4da2f202",
      "metadata": {
        "id": "4da2f202",
        "colab": {
          "base_uri": "https://localhost:8080/"
        },
        "outputId": "7db981e9-f30a-462c-c91b-c7277a7516eb"
      },
      "outputs": [
        {
          "output_type": "execute_result",
          "data": {
            "text/plain": [
              "[1, 3, 8]"
            ]
          },
          "metadata": {},
          "execution_count": 6
        }
      ],
      "source": [
        "list(filter(lambda x: x > 0, [1, -2, 3, -5, 8, -3]))"
      ]
    },
    {
      "cell_type": "markdown",
      "id": "3810c0b8",
      "metadata": {
        "id": "3810c0b8"
      },
      "source": [
        "# Q5. 234라는 10진수의 16진수는 다음과 같이 구할 수 있다.\n",
        "```python\n",
        ">>> hex(234)\n",
        "'0xea'\n",
        "```\n",
        "이번에는 반대로 16진수 문자열 0xea를 10진수로 변경해 보자."
      ]
    },
    {
      "cell_type": "code",
      "execution_count": 15,
      "id": "c94be636",
      "metadata": {
        "id": "c94be636",
        "colab": {
          "base_uri": "https://localhost:8080/"
        },
        "outputId": "916a8364-9dd4-47c3-d52a-cc73df8f59f4"
      },
      "outputs": [
        {
          "output_type": "stream",
          "name": "stdout",
          "text": [
            "234\n"
          ]
        }
      ],
      "source": [
        "\n",
        "print(int('0xea',16))\n"
      ]
    },
    {
      "cell_type": "markdown",
      "id": "6c563fc7",
      "metadata": {
        "id": "6c563fc7"
      },
      "source": [
        "# Q6. map과 lambda를 사용하여 [1, 2, 3, 4] 리스트의 각 요솟값에 3이 곱해진 리스트 [3, 6, 9, 12]를 만들어 보자."
      ]
    },
    {
      "cell_type": "code",
      "execution_count": 16,
      "id": "f303e800",
      "metadata": {
        "id": "f303e800",
        "colab": {
          "base_uri": "https://localhost:8080/"
        },
        "outputId": "fc704f6c-0bfe-4c3d-f8b1-9c8541e24674"
      },
      "outputs": [
        {
          "output_type": "execute_result",
          "data": {
            "text/plain": [
              "[3, 6, 9, 12]"
            ]
          },
          "metadata": {},
          "execution_count": 16
        }
      ],
      "source": [
        "list(map(lambda a: a*3, [1, 2, 3, 4]))"
      ]
    },
    {
      "cell_type": "markdown",
      "id": "5abd78a0",
      "metadata": {
        "id": "5abd78a0"
      },
      "source": [
        "# Q7. 다음 리스트의 최댓값과 최솟값의 합을 구해 보자.\n",
        "[-8, 2, 7, 5, -3, 5, 0, 1]"
      ]
    },
    {
      "cell_type": "code",
      "execution_count": 17,
      "id": "4527968b",
      "metadata": {
        "id": "4527968b",
        "colab": {
          "base_uri": "https://localhost:8080/"
        },
        "outputId": "07625ab2-f889-4359-c7b3-68a920e71743"
      },
      "outputs": [
        {
          "output_type": "stream",
          "name": "stdout",
          "text": [
            "-1\n"
          ]
        }
      ],
      "source": [
        " list = [-8, 2, 7, 5, -3, 5, 0, 1]\n",
        "\n",
        " a = max(list)+min(list)\n",
        " print(a)"
      ]
    },
    {
      "cell_type": "markdown",
      "id": "b64ed240",
      "metadata": {
        "id": "b64ed240"
      },
      "source": [
        "# Q8. 17 / 3의 결과는 다음과 같다.\n",
        "```python\n",
        ">>> 17 / 3\n",
        "5.666666666667\n",
        "```\n",
        "위와 같은 결괏값 5.6666666666667을 소숫점 4자리까지만 반올림하여 표시해 보자."
      ]
    },
    {
      "cell_type": "code",
      "execution_count": 20,
      "id": "730d116a",
      "metadata": {
        "id": "730d116a",
        "colab": {
          "base_uri": "https://localhost:8080/"
        },
        "outputId": "b501bfe9-2565-4933-c896-fd3a3ed31ba7"
      },
      "outputs": [
        {
          "output_type": "execute_result",
          "data": {
            "text/plain": [
              "5.6667"
            ]
          },
          "metadata": {},
          "execution_count": 20
        }
      ],
      "source": [
        "\n",
        "a = 17/3\n",
        "a\n",
        "\n",
        "round(a, 4)"
      ]
    },
    {
      "cell_type": "markdown",
      "id": "6ae88f19",
      "metadata": {
        "id": "6ae88f19"
      },
      "source": [
        "# Q9. 다음과 같이 실행할 때 입력값을 모두 더하여 출력하는 스크립트(C:\\doit\\myargv.py)를 작성해 보자.\n",
        "```\n",
        "C:\\> cd doit\n",
        "C:\\dodit> python myargv.py 1 2 3 4 5 6 7 8 9 10\n",
        "```"
      ]
    },
    {
      "cell_type": "code",
      "execution_count": 21,
      "id": "93068ed8",
      "metadata": {
        "id": "93068ed8",
        "colab": {
          "base_uri": "https://localhost:8080/",
          "height": 269
        },
        "outputId": "bbf07b48-0770-45e3-d5b1-4b8b9950dd8a"
      },
      "outputs": [
        {
          "output_type": "error",
          "ename": "NameError",
          "evalue": "ignored",
          "traceback": [
            "\u001b[0;31m---------------------------------------------------------------------------\u001b[0m",
            "\u001b[0;31mNameError\u001b[0m                                 Traceback (most recent call last)",
            "\u001b[0;32m<ipython-input-21-776afa9acd3f>\u001b[0m in \u001b[0;36m<cell line: 6>\u001b[0;34m()\u001b[0m\n\u001b[1;32m      5\u001b[0m \u001b[0mresult\u001b[0m \u001b[0;34m=\u001b[0m \u001b[0;36m0\u001b[0m\u001b[0;34m\u001b[0m\u001b[0;34m\u001b[0m\u001b[0m\n\u001b[1;32m      6\u001b[0m \u001b[0;32mfor\u001b[0m \u001b[0mi\u001b[0m \u001b[0;32min\u001b[0m \u001b[0mnum\u001b[0m\u001b[0;34m:\u001b[0m\u001b[0;34m\u001b[0m\u001b[0;34m\u001b[0m\u001b[0m\n\u001b[0;32m----> 7\u001b[0;31m         \u001b[0mresult\u001b[0m \u001b[0;34m+=\u001b[0m \u001b[0mint\u001b[0m\u001b[0;34m(\u001b[0m\u001b[0mnumber\u001b[0m\u001b[0;34m)\u001b[0m\u001b[0;34m\u001b[0m\u001b[0;34m\u001b[0m\u001b[0m\n\u001b[0m\u001b[1;32m      8\u001b[0m \u001b[0mprint\u001b[0m\u001b[0;34m(\u001b[0m\u001b[0mresult\u001b[0m\u001b[0;34m)\u001b[0m\u001b[0;34m\u001b[0m\u001b[0;34m\u001b[0m\u001b[0m\n",
            "\u001b[0;31mNameError\u001b[0m: name 'number' is not defined"
          ]
        }
      ],
      "source": [
        "import sys\n",
        "\n",
        "num = sys.argv[1:] # 파일 이름을 제외하고 명령 행 모두 입력\n",
        "\n",
        "result = 0\n",
        "for i in num:\n",
        "\tresult += int(number)\n",
        "print(result)"
      ]
    },
    {
      "cell_type": "markdown",
      "id": "ac41096a",
      "metadata": {
        "id": "ac41096a"
      },
      "source": [
        "# Q10. OS 모듈을 사용하여 다음과 같이 동작하도록 코드를 작성해 보자.\n",
        "1. C:\\doit 디렉터리로 이동한다.\n",
        "2. dir 명령을 실행하고 그 결과를 변수에 담는다.\n",
        "3. dir 명령의 결과를 출력한다."
      ]
    },
    {
      "cell_type": "code",
      "execution_count": 23,
      "id": "6cef3623",
      "metadata": {
        "id": "6cef3623",
        "colab": {
          "base_uri": "https://localhost:8080/",
          "height": 269
        },
        "outputId": "dff12abf-ddda-4bbd-f6ab-708597b86014"
      },
      "outputs": [
        {
          "output_type": "error",
          "ename": "FileNotFoundError",
          "evalue": "ignored",
          "traceback": [
            "\u001b[0;31m---------------------------------------------------------------------------\u001b[0m",
            "\u001b[0;31mFileNotFoundError\u001b[0m                         Traceback (most recent call last)",
            "\u001b[0;32m<ipython-input-23-9f5a3167dfed>\u001b[0m in \u001b[0;36m<cell line: 2>\u001b[0;34m()\u001b[0m\n\u001b[1;32m      1\u001b[0m \u001b[0;32mimport\u001b[0m \u001b[0mos\u001b[0m\u001b[0;34m\u001b[0m\u001b[0;34m\u001b[0m\u001b[0m\n\u001b[0;32m----> 2\u001b[0;31m \u001b[0mos\u001b[0m\u001b[0;34m.\u001b[0m\u001b[0mchdir\u001b[0m\u001b[0;34m(\u001b[0m\u001b[0;34m'C:/doit'\u001b[0m\u001b[0;34m)\u001b[0m\u001b[0;34m\u001b[0m\u001b[0;34m\u001b[0m\u001b[0m\n\u001b[0m\u001b[1;32m      3\u001b[0m \u001b[0mf\u001b[0m \u001b[0;34m=\u001b[0m \u001b[0mos\u001b[0m\u001b[0;34m.\u001b[0m\u001b[0mpopen\u001b[0m\u001b[0;34m(\u001b[0m\u001b[0;34m'dir'\u001b[0m\u001b[0;34m)\u001b[0m\u001b[0;34m\u001b[0m\u001b[0;34m\u001b[0m\u001b[0m\n\u001b[1;32m      4\u001b[0m \u001b[0mprint\u001b[0m\u001b[0;34m(\u001b[0m\u001b[0mf\u001b[0m\u001b[0;34m.\u001b[0m\u001b[0mread\u001b[0m\u001b[0;34m(\u001b[0m\u001b[0;34m)\u001b[0m\u001b[0;34m)\u001b[0m\u001b[0;34m\u001b[0m\u001b[0;34m\u001b[0m\u001b[0m\n",
            "\u001b[0;31mFileNotFoundError\u001b[0m: [Errno 2] No such file or directory: 'C:/doit'"
          ]
        }
      ],
      "source": [
        "import os\n",
        "os.chdir('C:/doit')\n",
        "f = os.popen('dir')\n",
        "print(f.read())"
      ]
    },
    {
      "cell_type": "markdown",
      "id": "e1df445d",
      "metadata": {
        "id": "e1df445d"
      },
      "source": [
        "# Q11. glob 모듈을 사용하여 C:\\doit 디렉터리의 파일 중 확장자가 .ipynb인 파일만 출력하는 프로그램을 작성해 보자."
      ]
    },
    {
      "cell_type": "code",
      "execution_count": 22,
      "id": "b69ab522",
      "metadata": {
        "id": "b69ab522",
        "colab": {
          "base_uri": "https://localhost:8080/"
        },
        "outputId": "660bb4ef-8fed-430a-9115-99640a474369"
      },
      "outputs": [
        {
          "output_type": "stream",
          "name": "stdout",
          "text": [
            "[]\n"
          ]
        }
      ],
      "source": [
        "import glob\n",
        "print(glob.glob('C:/doit/*.py'))"
      ]
    },
    {
      "cell_type": "markdown",
      "id": "d7b91fea",
      "metadata": {
        "id": "d7b91fea"
      },
      "source": [
        "# Q12. time 모듈을 사용하여 현재 날짜와 시간을 다음과 같은 형식으로 출력해 보자.\n",
        "2018/04/03 17:20:32"
      ]
    },
    {
      "cell_type": "code",
      "execution_count": 28,
      "id": "e2a5f482",
      "metadata": {
        "id": "e2a5f482",
        "colab": {
          "base_uri": "https://localhost:8080/",
          "height": 36
        },
        "outputId": "097a36bf-0e17-4b87-953e-78959a243705"
      },
      "outputs": [
        {
          "output_type": "execute_result",
          "data": {
            "text/plain": [
              "'2023/12/05 09:00:27'"
            ],
            "application/vnd.google.colaboratory.intrinsic+json": {
              "type": "string"
            }
          },
          "metadata": {},
          "execution_count": 28
        }
      ],
      "source": [
        "import time\n",
        "time.strftime(\"%Y/%m/%d %H:%M:%S\", time.localtime(time.time()))"
      ]
    },
    {
      "cell_type": "markdown",
      "id": "393cd834",
      "metadata": {
        "id": "393cd834"
      },
      "source": [
        "# Q13. random 모듈을 사용하여 로또 번호 (1~45 사이의 숫자 6개)를 생성해보자(단 중복된 숫자가 있으면 안됨)."
      ]
    },
    {
      "cell_type": "code",
      "execution_count": 29,
      "id": "c4b093dc",
      "metadata": {
        "id": "c4b093dc",
        "colab": {
          "base_uri": "https://localhost:8080/"
        },
        "outputId": "4164475a-fd5c-4dd1-d974-2bd946a1e94b"
      },
      "outputs": [
        {
          "output_type": "stream",
          "name": "stdout",
          "text": [
            "[30, 12, 7, 42, 25, 1]\n"
          ]
        }
      ],
      "source": [
        "import random\n",
        "lotto = []\n",
        "\n",
        "for i in range(6):\n",
        "    num = random.randint(1,45)\n",
        "    if num not in lotto:\n",
        "        lotto.append(num)\n",
        "\n",
        "print(lotto)"
      ]
    },
    {
      "cell_type": "markdown",
      "id": "ee89ff74",
      "metadata": {
        "id": "ee89ff74"
      },
      "source": [
        "\"성공은 매일 반복한 작은 노력들의 합이다.\"\n",
        "- 로버트 콜리어"
      ]
    }
  ],
  "metadata": {
    "kernelspec": {
      "display_name": "Python 3 (ipykernel)",
      "language": "python",
      "name": "python3"
    },
    "language_info": {
      "codemirror_mode": {
        "name": "ipython",
        "version": 3
      },
      "file_extension": ".py",
      "mimetype": "text/x-python",
      "name": "python",
      "nbconvert_exporter": "python",
      "pygments_lexer": "ipython3",
      "version": "3.11.5"
    },
    "toc": {
      "base_numbering": 1,
      "nav_menu": {},
      "number_sections": true,
      "sideBar": true,
      "skip_h1_title": false,
      "title_cell": "Table of Contents",
      "title_sidebar": "Contents",
      "toc_cell": false,
      "toc_position": {},
      "toc_section_display": true,
      "toc_window_display": false
    },
    "varInspector": {
      "cols": {
        "lenName": 16,
        "lenType": 16,
        "lenVar": 40
      },
      "kernels_config": {
        "python": {
          "delete_cmd_postfix": "",
          "delete_cmd_prefix": "del ",
          "library": "var_list.py",
          "varRefreshCmd": "print(var_dic_list())"
        },
        "r": {
          "delete_cmd_postfix": ") ",
          "delete_cmd_prefix": "rm(",
          "library": "var_list.r",
          "varRefreshCmd": "cat(var_dic_list()) "
        }
      },
      "types_to_exclude": [
        "module",
        "function",
        "builtin_function_or_method",
        "instance",
        "_Feature"
      ],
      "window_display": false
    },
    "colab": {
      "provenance": [],
      "include_colab_link": true
    }
  },
  "nbformat": 4,
  "nbformat_minor": 5
}