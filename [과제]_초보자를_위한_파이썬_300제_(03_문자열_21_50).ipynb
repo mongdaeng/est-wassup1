{
  "nbformat": 4,
  "nbformat_minor": 0,
  "metadata": {
    "colab": {
      "provenance": [],
      "authorship_tag": "ABX9TyNAZ/UTYC/Vj0kT7HJN9oWi",
      "include_colab_link": true
    },
    "kernelspec": {
      "name": "python3",
      "display_name": "Python 3"
    },
    "language_info": {
      "name": "python"
    }
  },
  "cells": [
    {
      "cell_type": "markdown",
      "metadata": {
        "id": "view-in-github",
        "colab_type": "text"
      },
      "source": [
        "<a href=\"https://colab.research.google.com/github/mongdaeng/est-wassup1/blob/main/%5B%EA%B3%BC%EC%A0%9C%5D_%EC%B4%88%EB%B3%B4%EC%9E%90%EB%A5%BC_%EC%9C%84%ED%95%9C_%ED%8C%8C%EC%9D%B4%EC%8D%AC_300%EC%A0%9C_(03_%EB%AC%B8%EC%9E%90%EC%97%B4_21_50).ipynb\" target=\"_parent\"><img src=\"https://colab.research.google.com/assets/colab-badge.svg\" alt=\"Open In Colab\"/></a>"
      ]
    },
    {
      "cell_type": "markdown",
      "source": [
        "#021 문자열 인덱싱\n",
        "\n",
        "letters가 바인딩하는 문자열에서 첫번째와 세번째 문자를 출력하세요.\n",
        "\n",
        ">> letters = 'python'\n",
        "실행 예\n",
        "p t\n"
      ],
      "metadata": {
        "id": "DDS-cAdtIJRb"
      }
    },
    {
      "cell_type": "code",
      "source": [
        "letters = 'python'\n",
        "print(letters[0], letters[2])"
      ],
      "metadata": {
        "colab": {
          "base_uri": "https://localhost:8080/"
        },
        "id": "ZqFsCkxHINki",
        "outputId": "8e5c1e3e-09d6-4775-d652-d3342b7064a3"
      },
      "execution_count": null,
      "outputs": [
        {
          "output_type": "stream",
          "name": "stdout",
          "text": [
            "p t\n"
          ]
        }
      ]
    },
    {
      "cell_type": "markdown",
      "source": [
        "#022 문자열 슬라이싱\n",
        "\n",
        "자동차 번호가 다음과 같을 때 뒤에 4자리만 출력하세요.\n",
        "\n",
        ">> license_plate = \"24가 2210\"\n",
        "실행 예: 2210"
      ],
      "metadata": {
        "id": "9W-r_NMrIl6Z"
      }
    },
    {
      "cell_type": "code",
      "source": [
        "license_plate = \"24가 2210\"\n",
        "print(license_plate[-4:])"
      ],
      "metadata": {
        "id": "1Umi8hMEIoG_"
      },
      "execution_count": null,
      "outputs": []
    },
    {
      "cell_type": "markdown",
      "source": [
        "#023 문자열 인덱싱\n",
        "\n",
        "아래의 문자열에서 '홀' 만 출력하세요.\n",
        "\n",
        ">> string = \"홀짝홀짝홀짝\"\n",
        "실행 예:\n",
        "홀홀홀\n"
      ],
      "metadata": {
        "id": "VH7jDkmLI6xy"
      }
    },
    {
      "cell_type": "code",
      "source": [
        "str = \"홀짝홀짝홀짝\"\n",
        "print(str[0],str[2],str[4])\n",
        "\n",
        "#------이거 아닌 듯\n",
        "\n",
        "print(str[::2]) #시작인덱스:끝인덱스:오프셋\n"
      ],
      "metadata": {
        "colab": {
          "base_uri": "https://localhost:8080/"
        },
        "id": "MHlVd4X-I8_x",
        "outputId": "0378dc47-70cf-4f92-c44a-fa96fb2cae2b"
      },
      "execution_count": null,
      "outputs": [
        {
          "output_type": "stream",
          "name": "stdout",
          "text": [
            "홀 홀 홀\n",
            "홀홀홀\n"
          ]
        }
      ]
    },
    {
      "cell_type": "markdown",
      "source": [
        "#024 문자열 슬라이싱\n",
        "\n",
        "문자열을 거꾸로 뒤집어 출력하세요.\n",
        "\n",
        ">> string = \"PYTHON\"\n",
        "실행 예:\n",
        "NOHTYP"
      ],
      "metadata": {
        "id": "-10CoAmlJUJT"
      }
    },
    {
      "cell_type": "code",
      "source": [
        "str = \"PYTHON\"\n",
        "print(str[::-1])"
      ],
      "metadata": {
        "colab": {
          "base_uri": "https://localhost:8080/"
        },
        "id": "x5u56bcHJW7Y",
        "outputId": "07b5b1ff-4480-4a4b-afa3-f81be9c682e9"
      },
      "execution_count": null,
      "outputs": [
        {
          "output_type": "stream",
          "name": "stdout",
          "text": [
            "NOHTYP\n"
          ]
        }
      ]
    },
    {
      "cell_type": "markdown",
      "source": [
        "#025 문자열 치환\n",
        "\n",
        "아래의 전화번호에서 하이푼 ('-')을 제거하고 출력하세요.\n",
        "\n",
        ">> phone_number = \"010-1111-2222\"\n",
        "실행 예\n",
        "010 1111 2222"
      ],
      "metadata": {
        "id": "46zFj_BMJrIF"
      }
    },
    {
      "cell_type": "code",
      "source": [
        "num = \"010-1111-2222\"\n",
        "print(num.replace(\"-\",\" \"))"
      ],
      "metadata": {
        "colab": {
          "base_uri": "https://localhost:8080/"
        },
        "id": "Abl6jvDSJuCY",
        "outputId": "6f89029a-e3d0-47a9-f2fb-d602644f1b39"
      },
      "execution_count": null,
      "outputs": [
        {
          "output_type": "stream",
          "name": "stdout",
          "text": [
            "010 1111 2222\n"
          ]
        }
      ]
    },
    {
      "cell_type": "markdown",
      "source": [
        "#026 문자열 다루기\n",
        "\n",
        "25번 문제의 전화번호를 아래와 같이 모두 붙여 출력하세요.\n",
        "\n",
        "실행 예\n",
        "01011112222\n"
      ],
      "metadata": {
        "id": "z3J2LPpaKE8c"
      }
    },
    {
      "cell_type": "code",
      "source": [
        "num = \"010-1111-2222\"\n",
        "print(num.replace('-',''))"
      ],
      "metadata": {
        "colab": {
          "base_uri": "https://localhost:8080/"
        },
        "id": "9nj7XUIMKKHG",
        "outputId": "8a91fefe-6bbb-4464-986c-d4ea6faa35e8"
      },
      "execution_count": null,
      "outputs": [
        {
          "output_type": "stream",
          "name": "stdout",
          "text": [
            "01011112222\n"
          ]
        }
      ]
    },
    {
      "cell_type": "markdown",
      "source": [
        "#027 문자열 다루기\n",
        "\n",
        "url 에 저장된 웹 페이지 주소에서 도메인을 출력하세요.\n",
        "\n",
        ">> url = \"http://sharebook.kr\"\n",
        "실행 예:\n",
        "kr\n"
      ],
      "metadata": {
        "id": "4Z3vsFNtKaBJ"
      }
    },
    {
      "cell_type": "code",
      "source": [
        "url = \"http://sharebook.kr\"\n",
        "domain = url.split('.') # .을 기준으로 분리\n",
        "print(domain[-1]) #마지막만 인덱싱"
      ],
      "metadata": {
        "colab": {
          "base_uri": "https://localhost:8080/"
        },
        "id": "ZTsDDb_sKeO8",
        "outputId": "8010df7f-d74e-4259-eb96-eec42b9b52b8"
      },
      "execution_count": null,
      "outputs": [
        {
          "output_type": "stream",
          "name": "stdout",
          "text": [
            "kr\n"
          ]
        }
      ]
    },
    {
      "cell_type": "markdown",
      "source": [
        "#028 문자열은 immutable\n",
        "\n",
        "아래 코드의 실행 결과를 예상해보세요.\n",
        "\n",
        ">> lang = 'python'\n",
        ">> lang[0] = 'P'\n",
        ">> print(lang)"
      ],
      "metadata": {
        "id": "BIu3O0ITK34n"
      }
    },
    {
      "cell_type": "code",
      "source": [
        "lang = 'python'\n",
        "lang[0] = 'P'\n",
        "print(lang)\n",
        "\n",
        "#문자열은 수정 불가"
      ],
      "metadata": {
        "id": "ZBPgBec5K6lU"
      },
      "execution_count": null,
      "outputs": []
    },
    {
      "cell_type": "markdown",
      "source": [
        "#029 replace 메서드\n",
        "\n",
        "아래 문자열에서 소문자 'a'를 대문자 'A'로 변경하세요.\n",
        "\n",
        ">> string = 'abcdfe2a354a32a'\n",
        "실행 예:\n",
        "Abcdfe2A354A32A"
      ],
      "metadata": {
        "id": "VG6RbAgwLMQ2"
      }
    },
    {
      "cell_type": "code",
      "source": [
        "str = \"abcdfe2a354a32a\"\n",
        "str = str.replace(\"a\",\"A\")\n",
        "print(str)"
      ],
      "metadata": {
        "colab": {
          "base_uri": "https://localhost:8080/"
        },
        "id": "bcGRNfJqLOeu",
        "outputId": "3c2023ab-b59b-4049-c1e3-af1b057de841"
      },
      "execution_count": null,
      "outputs": [
        {
          "output_type": "stream",
          "name": "stdout",
          "text": [
            "Abcdfe2A354A32A\n"
          ]
        }
      ]
    },
    {
      "cell_type": "markdown",
      "source": [
        "#030 replace 메서드\n",
        "\n",
        "아래 코드의 실행 결과를 예상해보세요.\n",
        "\n",
        ">> string = 'abcd'\n",
        ">> string.replace('b', 'B')\n",
        ">> print(string)\n",
        "\n",
        "-> abcd / 문자열은 바뀔 수 없는 객체임\n",
        "하려면 string 다시 재정의해서 출력!"
      ],
      "metadata": {
        "id": "GBqkU9wYLkOa"
      }
    },
    {
      "cell_type": "code",
      "source": [
        "string = 'abcd'\n",
        "string = string.replace('b', 'B')\n",
        "print(string)\n",
        "\n",
        "-> 이렇게 해야만 출력"
      ],
      "metadata": {
        "colab": {
          "base_uri": "https://localhost:8080/"
        },
        "id": "Ionr3LJbMLXf",
        "outputId": "e68a887d-86ff-4918-a40e-891d2040c915"
      },
      "execution_count": null,
      "outputs": [
        {
          "output_type": "stream",
          "name": "stdout",
          "text": [
            "aBcd\n"
          ]
        }
      ]
    },
    {
      "cell_type": "markdown",
      "source": [
        "#031 문자열 합치기\n",
        "아래 코드의 실행 결과를 예상해보세요.\n",
        "\n",
        ">> a = \"3\"\n",
        ">> b = \"4\"\n",
        ">> print(a + b)\n",
        "\n",
        "\n",
        "#032 문자열 곱하기\n",
        "아래 코드의 실행 결과를 예상해보세요.\n",
        "\n",
        ">> print(\"Hi\" * 3)\n",
        "\n",
        "\n",
        "#033 문자열 곱하기\n",
        "화면에 '-'를 80개 출력하세요.\n",
        "\n",
        "\n",
        "#034 문자열 곱하기\n",
        "변수에 다음과 같은 문자열이 바인딩되어 있습니다.\n",
        "\n",
        ">>> t1 = 'python'\n",
        ">>> t2 = 'java'\n",
        "변수에 문자열 더하기와 문자열 곱하기를 사용해서 아래와 같이 출력해보세요.\n",
        "\n",
        "실행 예:\n",
        "python java python java python java python java\n",
        "\n",
        "\n",
        "#035 문자열 출력\n",
        "변수에 다음과 같이 문자열과 정수가 바인딩되어 있을 때 % formatting을 사용해서 다음과 같이 출력해보세요.\n",
        "\n",
        "name1 = \"김민수\"\n",
        "age1 = 10\n",
        "name2 = \"이철희\"\n",
        "age2 = 13\n",
        "이름: 김민수 나이: 10\n",
        "이름: 이철희 나이: 13\n",
        "\n",
        "\n",
        "#036 문자열 출력\n",
        "문자열의 format( ) 메서드를 사용해서 035번 문제를 다시 풀어보세요.\n",
        "\n",
        "\n",
        "#037 문자열 출력\n",
        "파이썬 3.6부터 지원하는 f-string을 사용해서 035번 문제를 다시 풀어보세요.\n",
        "\n",
        "\n",
        "#038 컴마 제거하기\n",
        "삼성전자의 상장주식수가 다음과 같습니다. 컴마를 제거한 후 이를 정수 타입으로 변환해보세요.\n",
        "\n",
        "상장주식수 = \"5,969,782,550\"\n",
        "\n",
        "\n",
        "#039 문자열 슬라이싱\n",
        "다음과 같은 문자열에서 '2020/03'만 출력하세요.\n",
        "\n",
        "분기 = \"2020/03(E) (IFRS연결)\"\n",
        "\n",
        "\n",
        "#040 strip 메서드\n",
        "문자열의 좌우의 공백이 있을 때 이를 제거해보세요.\n",
        "\n",
        "data = \"   삼성전자    \"\n"
      ],
      "metadata": {
        "id": "9U7-0LSyMfRw"
      }
    },
    {
      "cell_type": "code",
      "source": [
        "#031 - 34\n",
        "\n",
        "a = \"3\"\n",
        "b = \"4\"\n",
        "print(a+b)"
      ],
      "metadata": {
        "id": "SNYbvc0Y5zkK",
        "colab": {
          "base_uri": "https://localhost:8080/"
        },
        "outputId": "785daf42-3645-48af-d3aa-29cd0b551aae"
      },
      "execution_count": 2,
      "outputs": [
        {
          "output_type": "stream",
          "name": "stdout",
          "text": [
            "34\n"
          ]
        }
      ]
    },
    {
      "cell_type": "code",
      "source": [
        "#032 - HiHiHi\n",
        "\n",
        "print(\"Hi\"*3)"
      ],
      "metadata": {
        "colab": {
          "base_uri": "https://localhost:8080/"
        },
        "id": "RXRG8Qdx6CeF",
        "outputId": "99d75328-22bf-423e-a7d8-85b5ae33e813"
      },
      "execution_count": 3,
      "outputs": [
        {
          "output_type": "stream",
          "name": "stdout",
          "text": [
            "HiHiHi\n"
          ]
        }
      ]
    },
    {
      "cell_type": "code",
      "source": [
        "#033\n",
        "\n",
        "print(\"-\"*80)"
      ],
      "metadata": {
        "colab": {
          "base_uri": "https://localhost:8080/"
        },
        "id": "2PS0YNNZ6LYJ",
        "outputId": "7d3b8467-d71b-48ba-b83c-8cf1de8310e4"
      },
      "execution_count": 5,
      "outputs": [
        {
          "output_type": "stream",
          "name": "stdout",
          "text": [
            "--------------------------------------------------------------------------------\n"
          ]
        }
      ]
    },
    {
      "cell_type": "code",
      "source": [
        "#034\n",
        "\n",
        "t1 = 'python'\n",
        "t2 = 'java'\n",
        "\n",
        "t3 = t1 + \" \" + t2 + \" \"\n",
        "\n",
        "print(t3 * 3)"
      ],
      "metadata": {
        "colab": {
          "base_uri": "https://localhost:8080/"
        },
        "id": "cNfBYmhh6M-D",
        "outputId": "523bfed0-466f-4a37-c94e-0556e0d4bebb"
      },
      "execution_count": 8,
      "outputs": [
        {
          "output_type": "stream",
          "name": "stdout",
          "text": [
            "python java python java python java \n"
          ]
        }
      ]
    },
    {
      "cell_type": "code",
      "source": [
        "#035\n",
        "\n",
        "name1 = \"김민수\"\n",
        "age1 = 10\n",
        "name2 = \"이철희\"\n",
        "age2 = 13\n",
        "\n",
        "print(\"이름: %s 나이: %d\" % (name1, age1))\n",
        "print(\"이름: %s 나이: %d\" % (name2, age2))"
      ],
      "metadata": {
        "colab": {
          "base_uri": "https://localhost:8080/"
        },
        "id": "LQpwS9rW6sLs",
        "outputId": "a0a87620-b77f-43ce-ef68-eac493d889e2"
      },
      "execution_count": 9,
      "outputs": [
        {
          "output_type": "stream",
          "name": "stdout",
          "text": [
            "이름: 김민수 나이: 10\n",
            "이름: 이철희 나이: 13\n"
          ]
        }
      ]
    },
    {
      "cell_type": "code",
      "source": [
        "#036 문자열 출력\n",
        "\n",
        "name1 = \"김민수\"\n",
        "age1 = 10\n",
        "name2 = \"이철희\"\n",
        "age2 = 13\n",
        "\n",
        "print(\"이름: {} 나이: {}\". format(name1,age1))\n",
        "print(\"이름: {} 나이: {}\". format(name2,age2))"
      ],
      "metadata": {
        "colab": {
          "base_uri": "https://localhost:8080/"
        },
        "id": "SH90CvrU7BBL",
        "outputId": "27292869-7835-4aa4-caf4-11615e8c3559"
      },
      "execution_count": 10,
      "outputs": [
        {
          "output_type": "stream",
          "name": "stdout",
          "text": [
            "이름: 김민수 나이: 10\n",
            "이름: 이철희 나이: 13\n"
          ]
        }
      ]
    },
    {
      "cell_type": "code",
      "source": [
        "#037 f-string\n",
        "\n",
        "name1 = \"김민수\"\n",
        "age1 = 10\n",
        "name2 = \"이철희\"\n",
        "age2 = 13\n",
        "\n",
        "print(f\"이름: {name1} 나이: {age1}\")\n",
        "print(f\"이름: {name2} 나이: {age2}\")\n"
      ],
      "metadata": {
        "colab": {
          "base_uri": "https://localhost:8080/"
        },
        "id": "V-EWayjB7QZB",
        "outputId": "dca91946-69a6-4e41-c86f-1bc25180ffd2"
      },
      "execution_count": 11,
      "outputs": [
        {
          "output_type": "stream",
          "name": "stdout",
          "text": [
            "이름: 김민수 나이: 10\n",
            "이름: 이철희 나이: 13\n"
          ]
        }
      ]
    },
    {
      "cell_type": "code",
      "source": [
        "#038\n",
        "\n",
        "상장주식수 = \"5,969,782,550\"\n",
        "\n",
        "a = 상장주식수.replace(\",\",\"\")\n",
        "change = int(a)\n",
        "print(change,type(change))"
      ],
      "metadata": {
        "colab": {
          "base_uri": "https://localhost:8080/"
        },
        "id": "JTUFHWkx7e5Z",
        "outputId": "753164f0-0145-4837-8dd2-7a8f2380acdd"
      },
      "execution_count": 12,
      "outputs": [
        {
          "output_type": "stream",
          "name": "stdout",
          "text": [
            "5969782550 <class 'int'>\n"
          ]
        }
      ]
    },
    {
      "cell_type": "code",
      "source": [
        "#039\n",
        "\n",
        "분기 = \"2020/03(E) (IFRS연결)\"\n",
        "print(분기[:7])"
      ],
      "metadata": {
        "colab": {
          "base_uri": "https://localhost:8080/"
        },
        "id": "rM4VhBah72q7",
        "outputId": "b19708f9-ed4e-4f95-ca9d-655abe915e86"
      },
      "execution_count": 14,
      "outputs": [
        {
          "output_type": "stream",
          "name": "stdout",
          "text": [
            "2020/03\n"
          ]
        }
      ]
    },
    {
      "cell_type": "code",
      "source": [
        "#040\n",
        "\n",
        "data = \"   삼성전자    \"\n",
        "data1 = data.strip() #strip 메서드 -> 좌우 공백 제거\n",
        "\n",
        "print(data1)"
      ],
      "metadata": {
        "colab": {
          "base_uri": "https://localhost:8080/"
        },
        "id": "yD4eMSKS8EF1",
        "outputId": "7a400dd2-8179-4922-bb40-3fd270343027"
      },
      "execution_count": 15,
      "outputs": [
        {
          "output_type": "stream",
          "name": "stdout",
          "text": [
            "삼성전자\n"
          ]
        }
      ]
    },
    {
      "cell_type": "markdown",
      "source": [
        "#041 upper 메서드\n",
        "다음과 같은 문자열이 있을 때 이를 대문자 BTC_KRW로 변경하세요.\n",
        "\n",
        "ticker = \"btc_krw\"\n",
        "\n",
        "\n",
        "#042 lower 메서드\n",
        "다음과 같은 문자열이 있을 때 이를 소문자 btc_krw로 변경하세요.\n",
        "\n",
        "ticker = \"BTC_KRW\"\n",
        "\n",
        "\n",
        "#043 capitalize 메서드\n",
        "문자열 'hello'가 있을 때 이를 'Hello'로 변경해보세요.\n",
        "\n",
        "\n",
        "#044 endswith 메서드\n",
        "파일 이름이 문자열로 저장되어 있을 때 endswith 메서드를 사용해서 파일 이름이 'xlsx'로 끝나는지 확인해보세요.\n",
        "\n",
        "file_name = \"보고서.xlsx\"\n",
        "\n",
        "\n",
        "#045 endswith 메서드\n",
        "파일 이름이 문자열로 저장되어 있을 때 endswith 메서드를 사용해서 파일 이름이 'xlsx' 또는 'xls'로 끝나는지 확인해보세요.\n",
        "\n",
        "file_name = \"보고서.xlsx\"\n",
        "\n",
        "#046 startswith 메서드\n",
        "파일 이름이 문자열로 저장되어 있을 때 startswith 메서드를 사용해서 파일 이름이 '2020'로 시작하는지 확인해보세요.\n",
        "\n",
        "file_name = \"2020_보고서.xlsx\"\n",
        "\n",
        "\n",
        "#047 split 메서드\n",
        "다음과 같은 문자열이 있을 때 공백을 기준으로 문자열을 나눠보세요.\n",
        "\n",
        "a = \"hello world\"\n",
        "\n",
        "\n",
        "#048 split 메서드\n",
        "다음과 같이 문자열이 있을 때 btc와 krw로 나눠보세요.\n",
        "\n",
        "ticker = \"btc_krw\"\n",
        "\n",
        "\n",
        "#049 split 메서드\n",
        "다음과 같이 날짜를 표현하는 문자열이 있을 때 연도, 월, 일로 나눠보세요.\n",
        "\n",
        "date = \"2020-05-01\"\n",
        "\n",
        "\n",
        "#050 rstrip 메서드\n",
        "문자열의 오른쪽에 공백이 있을 때 이를 제거해보세요.\n",
        "\n",
        "data = \"039490     \"\n"
      ],
      "metadata": {
        "id": "0-jfTbxg8S6D"
      }
    },
    {
      "cell_type": "code",
      "source": [
        "#041 대문자로 바꾸기 - upper\n",
        "ticker = \"btc_krw\"\n",
        "ticker1 = ticker.upper()\n",
        "\n",
        "print(ticker1)"
      ],
      "metadata": {
        "colab": {
          "base_uri": "https://localhost:8080/"
        },
        "id": "To2hCqfO8kcs",
        "outputId": "10974943-c6ab-4013-8609-441547d357ff"
      },
      "execution_count": 16,
      "outputs": [
        {
          "output_type": "stream",
          "name": "stdout",
          "text": [
            "BTC_KRW\n"
          ]
        }
      ]
    },
    {
      "cell_type": "code",
      "source": [
        "#042 소문자로 바꾸기 - lower\n",
        "\n",
        "ticker = \"BTC_KRW\"\n",
        "ticker1 = ticker.lower()\n",
        "\n",
        "print(ticker1)"
      ],
      "metadata": {
        "colab": {
          "base_uri": "https://localhost:8080/"
        },
        "id": "e4eGHE-C8vBA",
        "outputId": "a16b4e7c-7d38-4853-a749-b49122a0a24a"
      },
      "execution_count": 17,
      "outputs": [
        {
          "output_type": "stream",
          "name": "stdout",
          "text": [
            "btc_krw\n"
          ]
        }
      ]
    },
    {
      "cell_type": "code",
      "source": [
        "#043 대문자 메서드 - capitalize\n",
        "\n",
        "a = \"hello\"\n",
        "a1 = a.capitalize()\n",
        "\n",
        "print(a1)"
      ],
      "metadata": {
        "colab": {
          "base_uri": "https://localhost:8080/"
        },
        "id": "WdSQtVED84pc",
        "outputId": "6bb1fb8e-ba56-4538-c794-f57b270a4f07"
      },
      "execution_count": 19,
      "outputs": [
        {
          "output_type": "stream",
          "name": "stdout",
          "text": [
            "Hello\n"
          ]
        }
      ]
    },
    {
      "cell_type": "code",
      "source": [
        "#044 endswith\n",
        "\n",
        "file_name = \"보고서.xlsx\"\n",
        "file_name.endswith(\"xlsx\")\n",
        "\n",
        "\n",
        "if file_name.endswith is True:\n",
        "  print(\"파일 형식이 맞습니다.\")\n",
        "else:\n",
        "  print(\"파일 형식이 올바르지 않습니다.\")"
      ],
      "metadata": {
        "colab": {
          "base_uri": "https://localhost:8080/"
        },
        "id": "oj9yp7Hi9FdE",
        "outputId": "f20a6332-8362-485d-e40a-16d7bb23eb31"
      },
      "execution_count": 26,
      "outputs": [
        {
          "output_type": "stream",
          "name": "stdout",
          "text": [
            "파일 형식이 올바르지 않습니다.\n"
          ]
        }
      ]
    },
    {
      "cell_type": "code",
      "source": [
        "#045 파일 이름이 문자열일때\n",
        "\n",
        "file_name = \"보고서.xlsx\"\n",
        "file_name.endswith((\"xlsx\", \"xls\"))"
      ],
      "metadata": {
        "colab": {
          "base_uri": "https://localhost:8080/"
        },
        "id": "njn1mDJ9-O_z",
        "outputId": "aed833ea-ce84-41d2-a853-149271a5792c"
      },
      "execution_count": 27,
      "outputs": [
        {
          "output_type": "execute_result",
          "data": {
            "text/plain": [
              "True"
            ]
          },
          "metadata": {},
          "execution_count": 27
        }
      ]
    },
    {
      "cell_type": "code",
      "source": [
        "#046 startswith 메서드\n",
        "\n",
        "file_name = \"2020_보고서.xlsx\"\n",
        "file_name.startswith(\"2020\")"
      ],
      "metadata": {
        "colab": {
          "base_uri": "https://localhost:8080/"
        },
        "id": "x5_22m63-Wbh",
        "outputId": "9d1cc60d-198e-48ae-d330-0b53655e03fd"
      },
      "execution_count": 28,
      "outputs": [
        {
          "output_type": "execute_result",
          "data": {
            "text/plain": [
              "True"
            ]
          },
          "metadata": {},
          "execution_count": 28
        }
      ]
    },
    {
      "cell_type": "code",
      "source": [
        "#047 split 메서드\n",
        "\n",
        "a = \"hello world\"\n",
        "a.split(\" \")"
      ],
      "metadata": {
        "colab": {
          "base_uri": "https://localhost:8080/"
        },
        "id": "AZOqj-KY-iof",
        "outputId": "58b5cd2b-8580-47da-f136-0ec876936c5c"
      },
      "execution_count": 29,
      "outputs": [
        {
          "output_type": "execute_result",
          "data": {
            "text/plain": [
              "['hello', 'world']"
            ]
          },
          "metadata": {},
          "execution_count": 29
        }
      ]
    },
    {
      "cell_type": "code",
      "source": [
        "#048 split 메서드\n",
        "ticker = \"btc_krw\"\n",
        "ticker.split(\"_\")"
      ],
      "metadata": {
        "colab": {
          "base_uri": "https://localhost:8080/"
        },
        "id": "WPRj-yE_AscU",
        "outputId": "e58c0778-02b5-4e13-a00e-2a6cef29c22a"
      },
      "execution_count": 31,
      "outputs": [
        {
          "output_type": "execute_result",
          "data": {
            "text/plain": [
              "['btc', 'krw']"
            ]
          },
          "metadata": {},
          "execution_count": 31
        }
      ]
    },
    {
      "cell_type": "code",
      "source": [
        "#049 split 메서드\n",
        "date = \"2020-05-01\"\n",
        "date.split(\"-\")"
      ],
      "metadata": {
        "colab": {
          "base_uri": "https://localhost:8080/"
        },
        "id": "6uSdmrA0A-zw",
        "outputId": "fea7fc1f-e830-452b-8ff9-a1fd650e4151"
      },
      "execution_count": 32,
      "outputs": [
        {
          "output_type": "execute_result",
          "data": {
            "text/plain": [
              "['2020', '05', '01']"
            ]
          },
          "metadata": {},
          "execution_count": 32
        }
      ]
    },
    {
      "cell_type": "code",
      "source": [
        "#050  rstrip 메서드 - 오른쪽 공백 제거\n",
        "\n",
        "data = \"039490     \"\n",
        "data.rstrip()"
      ],
      "metadata": {
        "colab": {
          "base_uri": "https://localhost:8080/",
          "height": 36
        },
        "id": "UG9b0kFIA-rp",
        "outputId": "5d20d798-1e6c-4cec-daf5-e9ea8540ca82"
      },
      "execution_count": 33,
      "outputs": [
        {
          "output_type": "execute_result",
          "data": {
            "text/plain": [
              "'039490'"
            ],
            "application/vnd.google.colaboratory.intrinsic+json": {
              "type": "string"
            }
          },
          "metadata": {},
          "execution_count": 33
        }
      ]
    }
  ]
}