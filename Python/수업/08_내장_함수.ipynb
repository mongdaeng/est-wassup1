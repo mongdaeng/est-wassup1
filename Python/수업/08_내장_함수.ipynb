{
  "nbformat": 4,
  "nbformat_minor": 0,
  "metadata": {
    "colab": {
      "provenance": [],
      "authorship_tag": "ABX9TyPmaOMZ7F030Dqq/Ya2+pWD",
      "include_colab_link": true
    },
    "kernelspec": {
      "name": "python3",
      "display_name": "Python 3"
    },
    "language_info": {
      "name": "python"
    }
  },
  "cells": [
    {
      "cell_type": "markdown",
      "metadata": {
        "id": "view-in-github",
        "colab_type": "text"
      },
      "source": [
        "<a href=\"https://colab.research.google.com/github/mongdaeng/est-wassup1/blob/main/08_%EB%82%B4%EC%9E%A5_%ED%95%A8%EC%88%98.ipynb\" target=\"_parent\"><img src=\"https://colab.research.google.com/assets/colab-badge.svg\" alt=\"Open In Colab\"/></a>"
      ]
    },
    {
      "cell_type": "code",
      "execution_count": null,
      "metadata": {
        "colab": {
          "base_uri": "https://localhost:8080/"
        },
        "id": "HK6IGm1qaj-a",
        "outputId": "42e31043-452c-4cda-d103-8c7c9a4a8598"
      },
      "outputs": [
        {
          "output_type": "execute_result",
          "data": {
            "text/plain": [
              "1.2"
            ]
          },
          "metadata": {},
          "execution_count": 1
        }
      ],
      "source": [
        "#1 abs\n",
        "abs(3)\n",
        "\n",
        "abs(-3)\n",
        "\n",
        "abs(-1.2)"
      ]
    },
    {
      "cell_type": "code",
      "source": [
        "#2 all\n",
        "\n",
        "all([1, 2, 3])"
      ],
      "metadata": {
        "colab": {
          "base_uri": "https://localhost:8080/"
        },
        "id": "23og-nWqbWlA",
        "outputId": "a9686825-d6fe-4ccf-e597-5a5e5826c195"
      },
      "execution_count": null,
      "outputs": [
        {
          "output_type": "execute_result",
          "data": {
            "text/plain": [
              "True"
            ]
          },
          "metadata": {},
          "execution_count": 18
        }
      ]
    },
    {
      "cell_type": "code",
      "source": [
        "#3 any\n",
        "\n",
        "any([1, 2, 3, 0])\n",
        "\n",
        "any([0, \"\"])\n",
        "\n",
        "any([])"
      ],
      "metadata": {
        "colab": {
          "base_uri": "https://localhost:8080/"
        },
        "id": "IPHFpYCUbbtx",
        "outputId": "41323125-56a1-4393-de8d-6bff171d9066"
      },
      "execution_count": null,
      "outputs": [
        {
          "output_type": "execute_result",
          "data": {
            "text/plain": [
              "False"
            ]
          },
          "metadata": {},
          "execution_count": 5
        }
      ]
    },
    {
      "cell_type": "code",
      "source": [
        "#4 chr\n",
        "\n",
        "chr(97)\n",
        "chr(44032)\n"
      ],
      "metadata": {
        "colab": {
          "base_uri": "https://localhost:8080/",
          "height": 36
        },
        "id": "Ax-v4CKFbhGl",
        "outputId": "b3eeb8f6-e198-4adf-ceee-f539252c2e96"
      },
      "execution_count": null,
      "outputs": [
        {
          "output_type": "execute_result",
          "data": {
            "text/plain": [
              "'가'"
            ],
            "application/vnd.google.colaboratory.intrinsic+json": {
              "type": "string"
            }
          },
          "metadata": {},
          "execution_count": 7
        }
      ]
    },
    {
      "cell_type": "code",
      "source": [
        "#5 dir\n",
        "\n",
        "dir([1, 2, 3])\n",
        "\n",
        "dir({'1':'a'})\n",
        "\n"
      ],
      "metadata": {
        "colab": {
          "base_uri": "https://localhost:8080/"
        },
        "id": "HMKXRHfsbtyW",
        "outputId": "d85e66ed-012a-4539-9015-85b0259f78ef"
      },
      "execution_count": null,
      "outputs": [
        {
          "output_type": "execute_result",
          "data": {
            "text/plain": [
              "['__class__',\n",
              " '__class_getitem__',\n",
              " '__contains__',\n",
              " '__delattr__',\n",
              " '__delitem__',\n",
              " '__dir__',\n",
              " '__doc__',\n",
              " '__eq__',\n",
              " '__format__',\n",
              " '__ge__',\n",
              " '__getattribute__',\n",
              " '__getitem__',\n",
              " '__gt__',\n",
              " '__hash__',\n",
              " '__init__',\n",
              " '__init_subclass__',\n",
              " '__ior__',\n",
              " '__iter__',\n",
              " '__le__',\n",
              " '__len__',\n",
              " '__lt__',\n",
              " '__ne__',\n",
              " '__new__',\n",
              " '__or__',\n",
              " '__reduce__',\n",
              " '__reduce_ex__',\n",
              " '__repr__',\n",
              " '__reversed__',\n",
              " '__ror__',\n",
              " '__setattr__',\n",
              " '__setitem__',\n",
              " '__sizeof__',\n",
              " '__str__',\n",
              " '__subclasshook__',\n",
              " 'clear',\n",
              " 'copy',\n",
              " 'fromkeys',\n",
              " 'get',\n",
              " 'items',\n",
              " 'keys',\n",
              " 'pop',\n",
              " 'popitem',\n",
              " 'setdefault',\n",
              " 'update',\n",
              " 'values']"
            ]
          },
          "metadata": {},
          "execution_count": 10
        }
      ]
    },
    {
      "cell_type": "code",
      "source": [
        "#6 divmod\n",
        "\n",
        "divmod(7, 3)"
      ],
      "metadata": {
        "colab": {
          "base_uri": "https://localhost:8080/"
        },
        "id": "xkmuifd7b1_U",
        "outputId": "a300d31f-b285-447f-ad42-6a22cdbfbc57"
      },
      "execution_count": null,
      "outputs": [
        {
          "output_type": "execute_result",
          "data": {
            "text/plain": [
              "(2, 1)"
            ]
          },
          "metadata": {},
          "execution_count": 12
        }
      ]
    },
    {
      "cell_type": "code",
      "source": [
        "#7 enumerate - for 문과 보통 같이 사용\n",
        "\n",
        "for i, name in enumerate(['body', 'foo', 'bar']):\n",
        "  print(i, name)"
      ],
      "metadata": {
        "colab": {
          "base_uri": "https://localhost:8080/"
        },
        "id": "O0HZFqJkb6i6",
        "outputId": "8031089c-94f9-40c3-fd8f-e6ae4709d19c"
      },
      "execution_count": null,
      "outputs": [
        {
          "output_type": "stream",
          "name": "stdout",
          "text": [
            "0 body\n",
            "1 foo\n",
            "2 bar\n"
          ]
        }
      ]
    },
    {
      "cell_type": "code",
      "source": [
        "#8 eval\n",
        "\n",
        "eval('1+2')\n",
        "eval(\"'hi' + 'a'\")\n",
        "eval('divmod(4, 3)')"
      ],
      "metadata": {
        "colab": {
          "base_uri": "https://localhost:8080/"
        },
        "id": "iv6UyV6OcNy-",
        "outputId": "bc771fa9-67ec-4103-d7eb-e45320cc3408"
      },
      "execution_count": null,
      "outputs": [
        {
          "output_type": "execute_result",
          "data": {
            "text/plain": [
              "(1, 1)"
            ]
          },
          "metadata": {},
          "execution_count": 14
        }
      ]
    },
    {
      "cell_type": "code",
      "source": [
        "#9 filter\n",
        "\n",
        "# positive.py\n",
        "def positive(l):\n",
        "    result = []\n",
        "    for i in l:\n",
        "        if i > 0:\n",
        "            result.append(i)\n",
        "    return result\n",
        "\n",
        "print(positive([1,-3,2,0,-5,6]))"
      ],
      "metadata": {
        "colab": {
          "base_uri": "https://localhost:8080/"
        },
        "id": "ACH5kqV1cNrh",
        "outputId": "2f1cfe2e-dbbf-4ee5-cca2-f6a8da0a1518"
      },
      "execution_count": null,
      "outputs": [
        {
          "output_type": "stream",
          "name": "stdout",
          "text": [
            "[1, 2, 6]\n"
          ]
        }
      ]
    },
    {
      "cell_type": "code",
      "source": [
        "# filter1.py\n",
        "def positive(x):\n",
        "    return x > 0\n",
        "\n",
        "print(list(filter(positive, [1, -3, 2, 0, -5, 6])))\n",
        "\n",
        "#list 함수는 filter 함수의 리턴값을 리스트로 출력하기 위해 사용\n",
        "\n",
        "#lambda를 활용하면 더 간단해짐\n",
        "list(filter(lambda x: x > 0, [1, -3, 2, 0, -5, 6]))\n",
        "\n",
        "\n",
        "#컴프리핸션 조건식"
      ],
      "metadata": {
        "colab": {
          "base_uri": "https://localhost:8080/"
        },
        "id": "4iQJOBMacrFz",
        "outputId": "8d505608-23e6-4806-c22c-95f160e25841"
      },
      "execution_count": null,
      "outputs": [
        {
          "output_type": "stream",
          "name": "stdout",
          "text": [
            "[1, 2, 6]\n"
          ]
        },
        {
          "output_type": "execute_result",
          "data": {
            "text/plain": [
              "[1, 2, 6]"
            ]
          },
          "metadata": {},
          "execution_count": 17
        }
      ]
    },
    {
      "cell_type": "code",
      "source": [
        "#10 hex\n",
        "\n",
        "hex(234)\n",
        "hex(3)"
      ],
      "metadata": {
        "id": "IuDvv3KAdKef",
        "colab": {
          "base_uri": "https://localhost:8080/",
          "height": 36
        },
        "outputId": "52312038-0edf-43ce-8865-7c7cea8d19ad"
      },
      "execution_count": null,
      "outputs": [
        {
          "output_type": "execute_result",
          "data": {
            "text/plain": [
              "'0x3'"
            ],
            "application/vnd.google.colaboratory.intrinsic+json": {
              "type": "string"
            }
          },
          "metadata": {},
          "execution_count": 19
        }
      ]
    },
    {
      "cell_type": "code",
      "source": [
        "#11 id\n",
        "\n",
        "a = 3\n",
        "id(3)\n",
        "\n",
        "b = a\n",
        "id(b)\n",
        "\n",
        "id(4)"
      ],
      "metadata": {
        "id": "dcDHSBXBdKGZ",
        "colab": {
          "base_uri": "https://localhost:8080/"
        },
        "outputId": "d6fb886a-f824-443f-ecef-7f2bf7135875"
      },
      "execution_count": null,
      "outputs": [
        {
          "output_type": "execute_result",
          "data": {
            "text/plain": [
              "133675360272720"
            ]
          },
          "metadata": {},
          "execution_count": 22
        }
      ]
    },
    {
      "cell_type": "code",
      "source": [
        "#12 input\n",
        "\n",
        "a = input()\n",
        "a\n",
        "\n",
        "b = input(\"Enter: \")\n",
        "b"
      ],
      "metadata": {
        "id": "J2WHtm-cdNrw",
        "colab": {
          "base_uri": "https://localhost:8080/",
          "height": 71
        },
        "outputId": "0bc94e33-45a1-490a-a02e-c24ed0967bb8"
      },
      "execution_count": null,
      "outputs": [
        {
          "name": "stdout",
          "output_type": "stream",
          "text": [
            "\n",
            "Enter: hi\n"
          ]
        },
        {
          "output_type": "execute_result",
          "data": {
            "text/plain": [
              "'hi'"
            ],
            "application/vnd.google.colaboratory.intrinsic+json": {
              "type": "string"
            }
          },
          "metadata": {},
          "execution_count": 27
        }
      ]
    },
    {
      "cell_type": "code",
      "source": [
        "#13 int\n",
        "\n",
        "int('3')\n",
        "int(3.4)\n",
        "#정수가 입력되면 그대로 리턴\n",
        "\n",
        "# int(x, radix)는 radix 진수로 표현된 문자열 x를 10진수로 변환하여 리턴\n",
        "int('11',2)\n",
        "\n",
        "#16진수\n",
        "int('1A', 16)\n"
      ],
      "metadata": {
        "id": "VaDuovt4dNi9",
        "colab": {
          "base_uri": "https://localhost:8080/"
        },
        "outputId": "4e7fec62-72a0-4f06-f31a-28b625429512"
      },
      "execution_count": null,
      "outputs": [
        {
          "output_type": "execute_result",
          "data": {
            "text/plain": [
              "26"
            ]
          },
          "metadata": {},
          "execution_count": 33
        }
      ]
    },
    {
      "cell_type": "code",
      "source": [
        "#14 isinstance\n",
        "\n",
        "class Person: pass\n",
        "\n",
        "a = Person()\n",
        "isinstance(a, Person)\n",
        "\n",
        "b = 3\n",
        "isinstance(b, Person)\n"
      ],
      "metadata": {
        "colab": {
          "base_uri": "https://localhost:8080/"
        },
        "id": "N1oWDPg-0Fxk",
        "outputId": "e1f954de-4042-426c-e4fb-b19017c1e131"
      },
      "execution_count": null,
      "outputs": [
        {
          "output_type": "execute_result",
          "data": {
            "text/plain": [
              "False"
            ]
          },
          "metadata": {},
          "execution_count": 35
        }
      ]
    },
    {
      "cell_type": "code",
      "source": [
        "#15 len\n",
        "\n",
        "len(\"python\")\n",
        "len([1,2,3])\n",
        "len((1,'a'))"
      ],
      "metadata": {
        "colab": {
          "base_uri": "https://localhost:8080/"
        },
        "id": "9CQvNoHz0F2k",
        "outputId": "50db8cb9-7b57-4d53-ea6b-ef3e63bbc0d0"
      },
      "execution_count": null,
      "outputs": [
        {
          "output_type": "execute_result",
          "data": {
            "text/plain": [
              "2"
            ]
          },
          "metadata": {},
          "execution_count": 38
        }
      ]
    },
    {
      "cell_type": "code",
      "source": [
        "#16 list\n",
        "\n",
        "list(\"python\")\n",
        "list((1,2,3))\n",
        "\n",
        "#함수에 리스트 입력 - 똑같은 리스트 복사하여 리턴\n",
        "a = [1,2,3]\n",
        "b = list(a)\n",
        "b"
      ],
      "metadata": {
        "colab": {
          "base_uri": "https://localhost:8080/"
        },
        "id": "JB45Q58f0F7H",
        "outputId": "7558a820-6e05-4d06-dd5c-4c4fdc0a5542"
      },
      "execution_count": null,
      "outputs": [
        {
          "output_type": "execute_result",
          "data": {
            "text/plain": [
              "[1, 2, 3]"
            ]
          },
          "metadata": {},
          "execution_count": 41
        }
      ]
    },
    {
      "cell_type": "code",
      "source": [
        "#17 map\n",
        "\n",
        "# two_times.py\n",
        "def two_times(numberList):\n",
        "    result = []\n",
        "    for number in numberList:\n",
        "        result.append(number*2)\n",
        "    return result\n",
        "\n",
        "result = two_times([1, 2, 3, 4])\n",
        "print(result)\n",
        "\n",
        "#map 함수로 바꾸기\n",
        "def two_times(x):\n",
        "  return x*2 #1이 들어가서 1*2, 2*2 -> 4개 모두 수행되면 값이 나옴\n",
        "\n",
        "list(map(two_times, [1, 2, 3, 4]))\n",
        "#map함수의 결과를 리스트로 출력하기 위해 list 사용. map함수는 map 객체를 리턴\n",
        "\n",
        "#lambda 사용하기\n",
        "list(map(lambda a: a*2, [1, 2, 3, 4]))"
      ],
      "metadata": {
        "colab": {
          "base_uri": "https://localhost:8080/"
        },
        "id": "VcXQ5WYb0nEX",
        "outputId": "5997165d-eae8-41d1-f638-91e7a0841710"
      },
      "execution_count": null,
      "outputs": [
        {
          "output_type": "stream",
          "name": "stdout",
          "text": [
            "[2, 4, 6, 8]\n"
          ]
        },
        {
          "output_type": "execute_result",
          "data": {
            "text/plain": [
              "[2, 4, 6, 8]"
            ]
          },
          "metadata": {},
          "execution_count": 45
        }
      ]
    },
    {
      "cell_type": "code",
      "source": [
        "#18 max\n",
        "\n",
        "max([1,2,3])\n",
        "max(\"python\")"
      ],
      "metadata": {
        "colab": {
          "base_uri": "https://localhost:8080/",
          "height": 36
        },
        "id": "1_GW1f7C0m89",
        "outputId": "13a4d412-c854-4b38-debc-c72a67ca2021"
      },
      "execution_count": null,
      "outputs": [
        {
          "output_type": "execute_result",
          "data": {
            "text/plain": [
              "'y'"
            ],
            "application/vnd.google.colaboratory.intrinsic+json": {
              "type": "string"
            }
          },
          "metadata": {},
          "execution_count": 46
        }
      ]
    },
    {
      "cell_type": "code",
      "source": [
        "#19 min\n",
        "\n",
        "min([1,2,3])\n",
        "min(\"python\")"
      ],
      "metadata": {
        "id": "ZjM2sanY0m0u"
      },
      "execution_count": null,
      "outputs": []
    },
    {
      "cell_type": "code",
      "source": [
        "#20 oct\n",
        "\n",
        "oct(34)\n",
        "oct(12345)"
      ],
      "metadata": {
        "colab": {
          "base_uri": "https://localhost:8080/",
          "height": 36
        },
        "id": "UVy3aaar1s67",
        "outputId": "960fb976-e915-433f-c079-89efdcabbc4f"
      },
      "execution_count": null,
      "outputs": [
        {
          "output_type": "execute_result",
          "data": {
            "text/plain": [
              "'0o30071'"
            ],
            "application/vnd.google.colaboratory.intrinsic+json": {
              "type": "string"
            }
          },
          "metadata": {},
          "execution_count": 48
        }
      ]
    },
    {
      "cell_type": "code",
      "source": [
        "#21 open\n",
        "\n",
        "f = open(\"binary_file\", \"rb\")"
      ],
      "metadata": {
        "id": "xLGXwXkg1s4v"
      },
      "execution_count": null,
      "outputs": []
    },
    {
      "cell_type": "code",
      "source": [
        "#22 ord\n",
        "\n",
        "ord('a')\n",
        "\n",
        "ord('가')"
      ],
      "metadata": {
        "colab": {
          "base_uri": "https://localhost:8080/"
        },
        "id": "VnyNE1f71s2o",
        "outputId": "be4746fb-bfd7-4f29-fb8b-853c6b77c82d"
      },
      "execution_count": null,
      "outputs": [
        {
          "output_type": "execute_result",
          "data": {
            "text/plain": [
              "44032"
            ]
          },
          "metadata": {},
          "execution_count": 50
        }
      ]
    },
    {
      "cell_type": "code",
      "source": [
        "#23 pow\n",
        "\n",
        "pow(2,4)\n",
        "pow(3,3)"
      ],
      "metadata": {
        "colab": {
          "base_uri": "https://localhost:8080/"
        },
        "id": "ERi5f1AY1s0b",
        "outputId": "ca47c4a7-0fc6-4b20-eb1a-323aad3dd9d2"
      },
      "execution_count": null,
      "outputs": [
        {
          "output_type": "execute_result",
          "data": {
            "text/plain": [
              "27"
            ]
          },
          "metadata": {},
          "execution_count": 51
        }
      ]
    },
    {
      "cell_type": "code",
      "source": [
        "#24 range\n",
        "\n",
        "#인수가 1개일 경우\n",
        "list(range(5))\n",
        "\n",
        "#인수가 2개일 경우\n",
        "list(range(5,10))\n",
        "\n",
        "#인수가 3개일 경우\n",
        "list (range(1,10,2))\n",
        "\n",
        "list(range(0,-10,-1))"
      ],
      "metadata": {
        "colab": {
          "base_uri": "https://localhost:8080/"
        },
        "id": "WnZEX6Di1sx4",
        "outputId": "957dced9-7129-44f5-fb51-b82d4947c39b"
      },
      "execution_count": null,
      "outputs": [
        {
          "output_type": "execute_result",
          "data": {
            "text/plain": [
              "[0, -1, -2, -3, -4, -5, -6, -7, -8, -9]"
            ]
          },
          "metadata": {},
          "execution_count": 55
        }
      ]
    },
    {
      "cell_type": "code",
      "source": [
        "#25 round\n",
        "\n",
        "round(4.6)\n",
        "round(4.2)\n",
        "\n",
        "round(5.678, 2)"
      ],
      "metadata": {
        "colab": {
          "base_uri": "https://localhost:8080/"
        },
        "id": "qRHOCOiF1suM",
        "outputId": "5645fe72-893a-43e2-a526-706b6ad25f8c"
      },
      "execution_count": null,
      "outputs": [
        {
          "output_type": "execute_result",
          "data": {
            "text/plain": [
              "5.68"
            ]
          },
          "metadata": {},
          "execution_count": 58
        }
      ]
    },
    {
      "cell_type": "code",
      "source": [
        "#26 sorted\n",
        "\n",
        "sorted([3, 1, 2])\n",
        "sorted(['a','c','b'])\n",
        "sorted (\"zero\")\n",
        "sorted ((3,2,1))"
      ],
      "metadata": {
        "colab": {
          "base_uri": "https://localhost:8080/"
        },
        "id": "PrHPxnA-3s8C",
        "outputId": "6eb96aaa-cdf6-4558-8adc-b274f9d885d2"
      },
      "execution_count": null,
      "outputs": [
        {
          "output_type": "execute_result",
          "data": {
            "text/plain": [
              "[1, 2, 3]"
            ]
          },
          "metadata": {},
          "execution_count": 62
        }
      ]
    },
    {
      "cell_type": "code",
      "source": [
        "#27 str\n",
        "\n",
        "str(3)\n",
        "str('hi')"
      ],
      "metadata": {
        "colab": {
          "base_uri": "https://localhost:8080/",
          "height": 36
        },
        "id": "P3Qb8Zo932ML",
        "outputId": "31afb45b-7d5e-4a4b-caf5-881165ff5352"
      },
      "execution_count": null,
      "outputs": [
        {
          "output_type": "execute_result",
          "data": {
            "text/plain": [
              "'hi'"
            ],
            "application/vnd.google.colaboratory.intrinsic+json": {
              "type": "string"
            }
          },
          "metadata": {},
          "execution_count": 63
        }
      ]
    },
    {
      "cell_type": "code",
      "source": [
        "#28 sum\n",
        "\n",
        "sum ([1,2,3])\n",
        "sum((4,5,6))"
      ],
      "metadata": {
        "colab": {
          "base_uri": "https://localhost:8080/"
        },
        "id": "vuwyaApt32Oj",
        "outputId": "cc8e995a-fe09-4f8a-efd5-7055f3af3c41"
      },
      "execution_count": null,
      "outputs": [
        {
          "output_type": "execute_result",
          "data": {
            "text/plain": [
              "15"
            ]
          },
          "metadata": {},
          "execution_count": 64
        }
      ]
    },
    {
      "cell_type": "code",
      "source": [
        "#29 tuple\n",
        "\n",
        "tuple(\"abc\")\n",
        "\n",
        "tuple([1,2,3])\n",
        "tuple((1,2,3))"
      ],
      "metadata": {
        "colab": {
          "base_uri": "https://localhost:8080/"
        },
        "id": "GYnHS8yR3tA7",
        "outputId": "92564924-5304-4ea3-9b47-21c7d93f9a1c"
      },
      "execution_count": null,
      "outputs": [
        {
          "output_type": "execute_result",
          "data": {
            "text/plain": [
              "(1, 2, 3)"
            ]
          },
          "metadata": {},
          "execution_count": 65
        }
      ]
    },
    {
      "cell_type": "code",
      "source": [
        "#30 type\n",
        "\n",
        "type(\"abc\")\n",
        "\n",
        "type([])\n",
        "\n",
        "type(open(\"test\",'w'))"
      ],
      "metadata": {
        "id": "YDrNIx-z3tE8"
      },
      "execution_count": null,
      "outputs": []
    },
    {
      "cell_type": "code",
      "source": [
        "#zip\n",
        "\n",
        "list(zip([1,2,3],[4,5,6]))\n",
        "\n",
        "list(zip([1, 2, 3], [4, 5, 6], [7, 8, 9]))\n",
        "\n",
        "list(zip(\"abc\", \"def\"))"
      ],
      "metadata": {
        "colab": {
          "base_uri": "https://localhost:8080/"
        },
        "id": "w0CT411-5KT7",
        "outputId": "c2f470f4-c225-423f-b91f-2cce0345ce7d"
      },
      "execution_count": null,
      "outputs": [
        {
          "output_type": "execute_result",
          "data": {
            "text/plain": [
              "[('a', 'd'), ('b', 'e'), ('c', 'f')]"
            ]
          },
          "metadata": {},
          "execution_count": 69
        }
      ]
    }
  ]
}