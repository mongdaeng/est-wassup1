{
  "nbformat": 4,
  "nbformat_minor": 0,
  "metadata": {
    "colab": {
      "provenance": [],
      "authorship_tag": "ABX9TyOQdMMYvLXUdO/+I2UU3vn0",
      "include_colab_link": true
    },
    "kernelspec": {
      "name": "python3",
      "display_name": "Python 3"
    },
    "language_info": {
      "name": "python"
    }
  },
  "cells": [
    {
      "cell_type": "markdown",
      "metadata": {
        "id": "view-in-github",
        "colab_type": "text"
      },
      "source": [
        "<a href=\"https://colab.research.google.com/github/mongdaeng/est-wassup1/blob/main/09_%ED%91%9C%EC%A4%80_%EB%9D%BC%EC%9D%B4%EB%B8%8C%EB%9F%AC%EB%A6%AC.ipynb\" target=\"_parent\"><img src=\"https://colab.research.google.com/assets/colab-badge.svg\" alt=\"Open In Colab\"/></a>"
      ]
    },
    {
      "cell_type": "code",
      "execution_count": null,
      "metadata": {
        "colab": {
          "base_uri": "https://localhost:8080/"
        },
        "id": "kn_cgNDAnf1-",
        "outputId": "510997b7-1f9f-4257-a106-69ed6a749683"
      },
      "outputs": [
        {
          "output_type": "execute_result",
          "data": {
            "text/plain": [
              "2"
            ]
          },
          "metadata": {},
          "execution_count": 5
        }
      ],
      "source": [
        "#datetime.date\n",
        "\n",
        "import datetime\n",
        "day1 = datetime.date(2021, 12, 14)\n",
        "day2 = datetime.date(2023, 4, 5)\n",
        "\n",
        "diff = day2 - day1\n",
        "diff.days\n",
        "\n",
        "#요일 - weekday 함수\n",
        "day = datetime.date(2021, 12, 14)\n",
        "day.weekday()\n",
        "day.isoweekday()\n",
        "\n",
        "#weekday 0은 월요일, 1은 화요일 ~\n",
        "#isoweekday - 1은 월요일, 2는 화요일"
      ]
    },
    {
      "cell_type": "code",
      "source": [
        "#time\n",
        "\n",
        "#time.time\n",
        "\n",
        "import time\n",
        "time.time()"
      ],
      "metadata": {
        "id": "9t6KzPIZqO6d",
        "colab": {
          "base_uri": "https://localhost:8080/"
        },
        "outputId": "139f87a3-f252-4ec9-913a-99d2e9cd21d6"
      },
      "execution_count": 7,
      "outputs": [
        {
          "output_type": "execute_result",
          "data": {
            "text/plain": [
              "1701762190.4094207"
            ]
          },
          "metadata": {},
          "execution_count": 7
        }
      ]
    },
    {
      "cell_type": "code",
      "source": [
        "#time.localtime\n",
        "\n",
        "time.localtime(time.time())"
      ],
      "metadata": {
        "colab": {
          "base_uri": "https://localhost:8080/"
        },
        "id": "i3YSjGFt7kdq",
        "outputId": "754eabe7-1b37-4275-c9bc-9fb5e42150c5"
      },
      "execution_count": 8,
      "outputs": [
        {
          "output_type": "execute_result",
          "data": {
            "text/plain": [
              "time.struct_time(tm_year=2023, tm_mon=12, tm_mday=5, tm_hour=7, tm_min=43, tm_sec=26, tm_wday=1, tm_yday=339, tm_isdst=0)"
            ]
          },
          "metadata": {},
          "execution_count": 8
        }
      ]
    },
    {
      "cell_type": "code",
      "source": [
        "#time.asctime\n",
        "\n",
        "time.asctime(time.localtime(time.time()))"
      ],
      "metadata": {
        "colab": {
          "base_uri": "https://localhost:8080/",
          "height": 36
        },
        "id": "MGhSbdwM7kjf",
        "outputId": "9d0e5af6-892b-4683-8a39-05846cbcea1c"
      },
      "execution_count": 10,
      "outputs": [
        {
          "output_type": "execute_result",
          "data": {
            "text/plain": [
              "'Tue Dec  5 07:44:12 2023'"
            ],
            "application/vnd.google.colaboratory.intrinsic+json": {
              "type": "string"
            }
          },
          "metadata": {},
          "execution_count": 10
        }
      ]
    },
    {
      "cell_type": "code",
      "source": [
        "#time.ctime - 항상 현재 시간만을 리턴\n",
        "time.ctime()"
      ],
      "metadata": {
        "colab": {
          "base_uri": "https://localhost:8080/",
          "height": 36
        },
        "id": "7eVCuT147kp5",
        "outputId": "0d645744-73aa-4956-d63e-13eff5c071f9"
      },
      "execution_count": 11,
      "outputs": [
        {
          "output_type": "execute_result",
          "data": {
            "text/plain": [
              "'Tue Dec  5 07:44:21 2023'"
            ],
            "application/vnd.google.colaboratory.intrinsic+json": {
              "type": "string"
            }
          },
          "metadata": {},
          "execution_count": 11
        }
      ]
    },
    {
      "cell_type": "code",
      "source": [
        "#time.strftime\n",
        "\n",
        "import time\n",
        "time.strftime('%x', time.localtime(time.time()))\n",
        "time.strftime('%c', time.localtime(time.time()))"
      ],
      "metadata": {
        "colab": {
          "base_uri": "https://localhost:8080/",
          "height": 36
        },
        "id": "ypzL7PVl8HR4",
        "outputId": "1e1a3997-4924-469e-99d4-ae9c38212f62"
      },
      "execution_count": 12,
      "outputs": [
        {
          "output_type": "execute_result",
          "data": {
            "text/plain": [
              "'Tue Dec  5 07:46:11 2023'"
            ],
            "application/vnd.google.colaboratory.intrinsic+json": {
              "type": "string"
            }
          },
          "metadata": {},
          "execution_count": 12
        }
      ]
    },
    {
      "cell_type": "code",
      "source": [
        "#time. sleep\n",
        "\n",
        "# sleep1.py\n",
        "import time\n",
        "for i in range(10):\n",
        "    print(i)\n",
        "    time.sleep(1)"
      ],
      "metadata": {
        "colab": {
          "base_uri": "https://localhost:8080/"
        },
        "id": "bundYER-8H-i",
        "outputId": "aa363a47-f068-41d8-cefe-81f99087bf3d"
      },
      "execution_count": 17,
      "outputs": [
        {
          "output_type": "stream",
          "name": "stdout",
          "text": [
            "0\n",
            "1\n",
            "2\n",
            "3\n",
            "4\n",
            "5\n",
            "6\n",
            "7\n",
            "8\n",
            "9\n"
          ]
        }
      ]
    },
    {
      "cell_type": "code",
      "source": [
        "#인수 없이 time 함수 사용하기\n",
        "\n",
        "time.localtime()\n",
        "\n",
        "time.asctime()\n",
        "\n",
        "time.strftime('%c')\n"
      ],
      "metadata": {
        "colab": {
          "base_uri": "https://localhost:8080/",
          "height": 36
        },
        "id": "ghMfLiNV8H8G",
        "outputId": "04ddf706-9009-47d1-edbd-c7c2850f8af6"
      },
      "execution_count": 16,
      "outputs": [
        {
          "output_type": "execute_result",
          "data": {
            "text/plain": [
              "'Tue Dec  5 08:04:41 2023'"
            ],
            "application/vnd.google.colaboratory.intrinsic+json": {
              "type": "string"
            }
          },
          "metadata": {},
          "execution_count": 16
        }
      ]
    },
    {
      "cell_type": "code",
      "source": [
        "#random\n",
        "\n",
        "import random\n",
        "random.random()\n",
        "\n",
        "#randint\n",
        "random.randint(1, 10)\n",
        "random.randint(1, 55)"
      ],
      "metadata": {
        "colab": {
          "base_uri": "https://localhost:8080/"
        },
        "id": "IoA33iA_8H5k",
        "outputId": "5843deee-e80b-43b7-9676-1532b010d23f"
      },
      "execution_count": 20,
      "outputs": [
        {
          "output_type": "execute_result",
          "data": {
            "text/plain": [
              "20"
            ]
          },
          "metadata": {},
          "execution_count": 20
        }
      ]
    },
    {
      "cell_type": "code",
      "source": [
        "# random_pop.py\n",
        "import random\n",
        "def random_pop(data):\n",
        "    number = random.randint(0, len(data)-1)\n",
        "    return data.pop(number)\n",
        "\n",
        "if __name__ == \"__main__\":\n",
        "    data = [1, 2, 3, 4, 5]\n",
        "    while data:\n",
        "        print(random_pop(data))\n",
        "\n",
        "# 리스트 요소 중 무작위로 하나를 선택하여 꺼낸다음 값 리턴"
      ],
      "metadata": {
        "colab": {
          "base_uri": "https://localhost:8080/"
        },
        "id": "T6RVR_2s8H3O",
        "outputId": "3ab716e1-af30-45e2-a67f-2b77e0692722"
      },
      "execution_count": 21,
      "outputs": [
        {
          "output_type": "stream",
          "name": "stdout",
          "text": [
            "4\n",
            "5\n",
            "3\n",
            "1\n",
            "2\n"
          ]
        }
      ]
    },
    {
      "cell_type": "code",
      "source": [
        "#random 모듈의 choice 함수를 사용해보기\n",
        "# 입력으로 받은 리스트에서 무작위로 하나를 선택하여 리턴\n",
        "\n",
        "def random_pop(data):\n",
        "    number = random.choice(data)\n",
        "    data.remove(number)\n",
        "    return number"
      ],
      "metadata": {
        "id": "IZSv7ss48H0A"
      },
      "execution_count": 22,
      "outputs": []
    },
    {
      "cell_type": "code",
      "source": [
        "#리스트 항목 무작위로 섞기 - random.sample\n",
        "\n",
        "import random\n",
        "data = [1, 2, 3, 4, 5]\n",
        "random.sample(data, len(data))"
      ],
      "metadata": {
        "colab": {
          "base_uri": "https://localhost:8080/"
        },
        "id": "_MYN6Emm8Hsl",
        "outputId": "0e0471d8-0a22-47f5-d0b0-c2e38a5f91dc"
      },
      "execution_count": 23,
      "outputs": [
        {
          "output_type": "execute_result",
          "data": {
            "text/plain": [
              "[2, 1, 5, 3, 4]"
            ]
          },
          "metadata": {},
          "execution_count": 23
        }
      ]
    },
    {
      "cell_type": "code",
      "source": [
        "#glob\n",
        "\n",
        "import glob\n",
        "glob.glob(\"c:/doit/mark*\")"
      ],
      "metadata": {
        "colab": {
          "base_uri": "https://localhost:8080/"
        },
        "id": "vX3kiOZcCN8J",
        "outputId": "fd145bc8-e4c6-4b6b-8cef-c9ba96392dfa"
      },
      "execution_count": 24,
      "outputs": [
        {
          "output_type": "execute_result",
          "data": {
            "text/plain": [
              "[]"
            ]
          },
          "metadata": {},
          "execution_count": 24
        }
      ]
    },
    {
      "cell_type": "code",
      "source": [
        "#os - 디렉터리 위치 변경하기 - os.chdir\n",
        "\n",
        "os.chdir(\"C:\\WINDOWS\")\n",
        "\n",
        "os.getcwd()\n",
        "os.system(\"dir\")"
      ],
      "metadata": {
        "colab": {
          "base_uri": "https://localhost:8080/",
          "height": 251
        },
        "id": "QgLwoEnVCN0m",
        "outputId": "42117c85-4385-44de-c5e0-e7599701c84e"
      },
      "execution_count": 25,
      "outputs": [
        {
          "output_type": "error",
          "ename": "NameError",
          "evalue": "ignored",
          "traceback": [
            "\u001b[0;31m---------------------------------------------------------------------------\u001b[0m",
            "\u001b[0;31mNameError\u001b[0m                                 Traceback (most recent call last)",
            "\u001b[0;32m<ipython-input-25-e430245d61b2>\u001b[0m in \u001b[0;36m<cell line: 3>\u001b[0;34m()\u001b[0m\n\u001b[1;32m      1\u001b[0m \u001b[0;31m#os - 디렉터리 위치 변경하기 - os.chdir\u001b[0m\u001b[0;34m\u001b[0m\u001b[0;34m\u001b[0m\u001b[0m\n\u001b[1;32m      2\u001b[0m \u001b[0;34m\u001b[0m\u001b[0m\n\u001b[0;32m----> 3\u001b[0;31m \u001b[0mos\u001b[0m\u001b[0;34m.\u001b[0m\u001b[0mchdir\u001b[0m\u001b[0;34m(\u001b[0m\u001b[0;34m\"C:\\WINDOWS\"\u001b[0m\u001b[0;34m)\u001b[0m\u001b[0;34m\u001b[0m\u001b[0;34m\u001b[0m\u001b[0m\n\u001b[0m",
            "\u001b[0;31mNameError\u001b[0m: name 'os' is not defined"
          ]
        }
      ]
    }
  ]
}