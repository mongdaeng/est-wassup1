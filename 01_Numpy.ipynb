{
  "nbformat": 4,
  "nbformat_minor": 0,
  "metadata": {
    "colab": {
      "provenance": [],
      "authorship_tag": "ABX9TyMDnzedxUMZHjxlSwhar4C7",
      "include_colab_link": true
    },
    "kernelspec": {
      "name": "python3",
      "display_name": "Python 3"
    },
    "language_info": {
      "name": "python"
    }
  },
  "cells": [
    {
      "cell_type": "markdown",
      "metadata": {
        "id": "view-in-github",
        "colab_type": "text"
      },
      "source": [
        "<a href=\"https://colab.research.google.com/github/mongdaeng/est-wassup1/blob/main/01_Numpy.ipynb\" target=\"_parent\"><img src=\"https://colab.research.google.com/assets/colab-badge.svg\" alt=\"Open In Colab\"/></a>"
      ]
    },
    {
      "cell_type": "code",
      "execution_count": null,
      "metadata": {
        "colab": {
          "base_uri": "https://localhost:8080/",
          "height": 36
        },
        "id": "z4yEbGyi8bzZ",
        "outputId": "40f0cab9-178e-4efd-d3d9-fff8eb0b5aba"
      },
      "outputs": [
        {
          "output_type": "execute_result",
          "data": {
            "text/plain": [
              "'1.23.5'"
            ],
            "application/vnd.google.colaboratory.intrinsic+json": {
              "type": "string"
            }
          },
          "metadata": {},
          "execution_count": 1
        }
      ],
      "source": [
        "import numpy as np\n",
        "np.__version__"
      ]
    },
    {
      "cell_type": "code",
      "source": [
        "# 메소드와 속성\n",
        "dir(np)"
      ],
      "metadata": {
        "colab": {
          "base_uri": "https://localhost:8080/"
        },
        "id": "orO4UVuT-hhL",
        "outputId": "68a8ea8f-d8ea-4ad6-edc2-6eea4fb74e31"
      },
      "execution_count": null,
      "outputs": [
        {
          "output_type": "execute_result",
          "data": {
            "text/plain": [
              "['ALLOW_THREADS',\n",
              " 'AxisError',\n",
              " 'BUFSIZE',\n",
              " 'CLIP',\n",
              " 'ComplexWarning',\n",
              " 'DataSource',\n",
              " 'ERR_CALL',\n",
              " 'ERR_DEFAULT',\n",
              " 'ERR_IGNORE',\n",
              " 'ERR_LOG',\n",
              " 'ERR_PRINT',\n",
              " 'ERR_RAISE',\n",
              " 'ERR_WARN',\n",
              " 'FLOATING_POINT_SUPPORT',\n",
              " 'FPE_DIVIDEBYZERO',\n",
              " 'FPE_INVALID',\n",
              " 'FPE_OVERFLOW',\n",
              " 'FPE_UNDERFLOW',\n",
              " 'False_',\n",
              " 'Inf',\n",
              " 'Infinity',\n",
              " 'MAXDIMS',\n",
              " 'MAY_SHARE_BOUNDS',\n",
              " 'MAY_SHARE_EXACT',\n",
              " 'ModuleDeprecationWarning',\n",
              " 'NAN',\n",
              " 'NINF',\n",
              " 'NZERO',\n",
              " 'NaN',\n",
              " 'PINF',\n",
              " 'PZERO',\n",
              " 'RAISE',\n",
              " 'RankWarning',\n",
              " 'SHIFT_DIVIDEBYZERO',\n",
              " 'SHIFT_INVALID',\n",
              " 'SHIFT_OVERFLOW',\n",
              " 'SHIFT_UNDERFLOW',\n",
              " 'ScalarType',\n",
              " 'Tester',\n",
              " 'TooHardError',\n",
              " 'True_',\n",
              " 'UFUNC_BUFSIZE_DEFAULT',\n",
              " 'UFUNC_PYVALS_NAME',\n",
              " 'VisibleDeprecationWarning',\n",
              " 'WRAP',\n",
              " '_CopyMode',\n",
              " '_NoValue',\n",
              " '_UFUNC_API',\n",
              " '__NUMPY_SETUP__',\n",
              " '__all__',\n",
              " '__builtins__',\n",
              " '__cached__',\n",
              " '__config__',\n",
              " '__deprecated_attrs__',\n",
              " '__dir__',\n",
              " '__doc__',\n",
              " '__expired_functions__',\n",
              " '__file__',\n",
              " '__getattr__',\n",
              " '__git_version__',\n",
              " '__loader__',\n",
              " '__name__',\n",
              " '__package__',\n",
              " '__path__',\n",
              " '__spec__',\n",
              " '__version__',\n",
              " '_add_newdoc_ufunc',\n",
              " '_distributor_init',\n",
              " '_financial_names',\n",
              " '_globals',\n",
              " '_mat',\n",
              " '_pyinstaller_hooks_dir',\n",
              " '_pytesttester',\n",
              " '_version',\n",
              " 'abs',\n",
              " 'absolute',\n",
              " 'add',\n",
              " 'add_docstring',\n",
              " 'add_newdoc',\n",
              " 'add_newdoc_ufunc',\n",
              " 'all',\n",
              " 'allclose',\n",
              " 'alltrue',\n",
              " 'amax',\n",
              " 'amin',\n",
              " 'angle',\n",
              " 'any',\n",
              " 'append',\n",
              " 'apply_along_axis',\n",
              " 'apply_over_axes',\n",
              " 'arange',\n",
              " 'arccos',\n",
              " 'arccosh',\n",
              " 'arcsin',\n",
              " 'arcsinh',\n",
              " 'arctan',\n",
              " 'arctan2',\n",
              " 'arctanh',\n",
              " 'argmax',\n",
              " 'argmin',\n",
              " 'argpartition',\n",
              " 'argsort',\n",
              " 'argwhere',\n",
              " 'around',\n",
              " 'array',\n",
              " 'array2string',\n",
              " 'array_equal',\n",
              " 'array_equiv',\n",
              " 'array_repr',\n",
              " 'array_split',\n",
              " 'array_str',\n",
              " 'asanyarray',\n",
              " 'asarray',\n",
              " 'asarray_chkfinite',\n",
              " 'ascontiguousarray',\n",
              " 'asfarray',\n",
              " 'asfortranarray',\n",
              " 'asmatrix',\n",
              " 'atleast_1d',\n",
              " 'atleast_2d',\n",
              " 'atleast_3d',\n",
              " 'average',\n",
              " 'bartlett',\n",
              " 'base_repr',\n",
              " 'binary_repr',\n",
              " 'bincount',\n",
              " 'bitwise_and',\n",
              " 'bitwise_not',\n",
              " 'bitwise_or',\n",
              " 'bitwise_xor',\n",
              " 'blackman',\n",
              " 'block',\n",
              " 'bmat',\n",
              " 'bool8',\n",
              " 'bool_',\n",
              " 'broadcast',\n",
              " 'broadcast_arrays',\n",
              " 'broadcast_shapes',\n",
              " 'broadcast_to',\n",
              " 'busday_count',\n",
              " 'busday_offset',\n",
              " 'busdaycalendar',\n",
              " 'byte',\n",
              " 'byte_bounds',\n",
              " 'bytes0',\n",
              " 'bytes_',\n",
              " 'c_',\n",
              " 'can_cast',\n",
              " 'cast',\n",
              " 'cbrt',\n",
              " 'cdouble',\n",
              " 'ceil',\n",
              " 'cfloat',\n",
              " 'char',\n",
              " 'character',\n",
              " 'chararray',\n",
              " 'choose',\n",
              " 'clip',\n",
              " 'clongdouble',\n",
              " 'clongfloat',\n",
              " 'column_stack',\n",
              " 'common_type',\n",
              " 'compare_chararrays',\n",
              " 'compat',\n",
              " 'complex128',\n",
              " 'complex256',\n",
              " 'complex64',\n",
              " 'complex_',\n",
              " 'complexfloating',\n",
              " 'compress',\n",
              " 'concatenate',\n",
              " 'conj',\n",
              " 'conjugate',\n",
              " 'convolve',\n",
              " 'copy',\n",
              " 'copysign',\n",
              " 'copyto',\n",
              " 'core',\n",
              " 'corrcoef',\n",
              " 'correlate',\n",
              " 'cos',\n",
              " 'cosh',\n",
              " 'count_nonzero',\n",
              " 'cov',\n",
              " 'cross',\n",
              " 'csingle',\n",
              " 'ctypeslib',\n",
              " 'cumprod',\n",
              " 'cumproduct',\n",
              " 'cumsum',\n",
              " 'datetime64',\n",
              " 'datetime_as_string',\n",
              " 'datetime_data',\n",
              " 'deg2rad',\n",
              " 'degrees',\n",
              " 'delete',\n",
              " 'deprecate',\n",
              " 'deprecate_with_doc',\n",
              " 'diag',\n",
              " 'diag_indices',\n",
              " 'diag_indices_from',\n",
              " 'diagflat',\n",
              " 'diagonal',\n",
              " 'diff',\n",
              " 'digitize',\n",
              " 'disp',\n",
              " 'divide',\n",
              " 'divmod',\n",
              " 'dot',\n",
              " 'double',\n",
              " 'dsplit',\n",
              " 'dstack',\n",
              " 'dtype',\n",
              " 'e',\n",
              " 'ediff1d',\n",
              " 'einsum',\n",
              " 'einsum_path',\n",
              " 'emath',\n",
              " 'empty',\n",
              " 'empty_like',\n",
              " 'equal',\n",
              " 'errstate',\n",
              " 'euler_gamma',\n",
              " 'exp',\n",
              " 'exp2',\n",
              " 'expand_dims',\n",
              " 'expm1',\n",
              " 'extract',\n",
              " 'eye',\n",
              " 'fabs',\n",
              " 'fastCopyAndTranspose',\n",
              " 'fft',\n",
              " 'fill_diagonal',\n",
              " 'find_common_type',\n",
              " 'finfo',\n",
              " 'fix',\n",
              " 'flatiter',\n",
              " 'flatnonzero',\n",
              " 'flexible',\n",
              " 'flip',\n",
              " 'fliplr',\n",
              " 'flipud',\n",
              " 'float128',\n",
              " 'float16',\n",
              " 'float32',\n",
              " 'float64',\n",
              " 'float_',\n",
              " 'float_power',\n",
              " 'floating',\n",
              " 'floor',\n",
              " 'floor_divide',\n",
              " 'fmax',\n",
              " 'fmin',\n",
              " 'fmod',\n",
              " 'format_float_positional',\n",
              " 'format_float_scientific',\n",
              " 'format_parser',\n",
              " 'frexp',\n",
              " 'from_dlpack',\n",
              " 'frombuffer',\n",
              " 'fromfile',\n",
              " 'fromfunction',\n",
              " 'fromiter',\n",
              " 'frompyfunc',\n",
              " 'fromregex',\n",
              " 'fromstring',\n",
              " 'full',\n",
              " 'full_like',\n",
              " 'gcd',\n",
              " 'generic',\n",
              " 'genfromtxt',\n",
              " 'geomspace',\n",
              " 'get_array_wrap',\n",
              " 'get_include',\n",
              " 'get_printoptions',\n",
              " 'getbufsize',\n",
              " 'geterr',\n",
              " 'geterrcall',\n",
              " 'geterrobj',\n",
              " 'gradient',\n",
              " 'greater',\n",
              " 'greater_equal',\n",
              " 'half',\n",
              " 'hamming',\n",
              " 'hanning',\n",
              " 'heaviside',\n",
              " 'histogram',\n",
              " 'histogram2d',\n",
              " 'histogram_bin_edges',\n",
              " 'histogramdd',\n",
              " 'hsplit',\n",
              " 'hstack',\n",
              " 'hypot',\n",
              " 'i0',\n",
              " 'identity',\n",
              " 'iinfo',\n",
              " 'imag',\n",
              " 'in1d',\n",
              " 'index_exp',\n",
              " 'indices',\n",
              " 'inexact',\n",
              " 'inf',\n",
              " 'info',\n",
              " 'infty',\n",
              " 'inner',\n",
              " 'insert',\n",
              " 'int0',\n",
              " 'int16',\n",
              " 'int32',\n",
              " 'int64',\n",
              " 'int8',\n",
              " 'int_',\n",
              " 'intc',\n",
              " 'integer',\n",
              " 'interp',\n",
              " 'intersect1d',\n",
              " 'intp',\n",
              " 'invert',\n",
              " 'is_busday',\n",
              " 'isclose',\n",
              " 'iscomplex',\n",
              " 'iscomplexobj',\n",
              " 'isfinite',\n",
              " 'isfortran',\n",
              " 'isin',\n",
              " 'isinf',\n",
              " 'isnan',\n",
              " 'isnat',\n",
              " 'isneginf',\n",
              " 'isposinf',\n",
              " 'isreal',\n",
              " 'isrealobj',\n",
              " 'isscalar',\n",
              " 'issctype',\n",
              " 'issubclass_',\n",
              " 'issubdtype',\n",
              " 'issubsctype',\n",
              " 'iterable',\n",
              " 'ix_',\n",
              " 'kaiser',\n",
              " 'kernel_version',\n",
              " 'kron',\n",
              " 'lcm',\n",
              " 'ldexp',\n",
              " 'left_shift',\n",
              " 'less',\n",
              " 'less_equal',\n",
              " 'lexsort',\n",
              " 'lib',\n",
              " 'linalg',\n",
              " 'linspace',\n",
              " 'little_endian',\n",
              " 'load',\n",
              " 'loadtxt',\n",
              " 'log',\n",
              " 'log10',\n",
              " 'log1p',\n",
              " 'log2',\n",
              " 'logaddexp',\n",
              " 'logaddexp2',\n",
              " 'logical_and',\n",
              " 'logical_not',\n",
              " 'logical_or',\n",
              " 'logical_xor',\n",
              " 'logspace',\n",
              " 'longcomplex',\n",
              " 'longdouble',\n",
              " 'longfloat',\n",
              " 'longlong',\n",
              " 'lookfor',\n",
              " 'ma',\n",
              " 'mask_indices',\n",
              " 'mat',\n",
              " 'math',\n",
              " 'matmul',\n",
              " 'matrix',\n",
              " 'matrixlib',\n",
              " 'max',\n",
              " 'maximum',\n",
              " 'maximum_sctype',\n",
              " 'may_share_memory',\n",
              " 'mean',\n",
              " 'median',\n",
              " 'memmap',\n",
              " 'meshgrid',\n",
              " 'mgrid',\n",
              " 'min',\n",
              " 'min_scalar_type',\n",
              " 'minimum',\n",
              " 'mintypecode',\n",
              " 'mod',\n",
              " 'modf',\n",
              " 'moveaxis',\n",
              " 'msort',\n",
              " 'multiply',\n",
              " 'nan',\n",
              " 'nan_to_num',\n",
              " 'nanargmax',\n",
              " 'nanargmin',\n",
              " 'nancumprod',\n",
              " 'nancumsum',\n",
              " 'nanmax',\n",
              " 'nanmean',\n",
              " 'nanmedian',\n",
              " 'nanmin',\n",
              " 'nanpercentile',\n",
              " 'nanprod',\n",
              " 'nanquantile',\n",
              " 'nanstd',\n",
              " 'nansum',\n",
              " 'nanvar',\n",
              " 'nbytes',\n",
              " 'ndarray',\n",
              " 'ndenumerate',\n",
              " 'ndim',\n",
              " 'ndindex',\n",
              " 'nditer',\n",
              " 'negative',\n",
              " 'nested_iters',\n",
              " 'newaxis',\n",
              " 'nextafter',\n",
              " 'nonzero',\n",
              " 'not_equal',\n",
              " 'numarray',\n",
              " 'number',\n",
              " 'obj2sctype',\n",
              " 'object0',\n",
              " 'object_',\n",
              " 'ogrid',\n",
              " 'oldnumeric',\n",
              " 'ones',\n",
              " 'ones_like',\n",
              " 'os',\n",
              " 'outer',\n",
              " 'packbits',\n",
              " 'pad',\n",
              " 'partition',\n",
              " 'percentile',\n",
              " 'pi',\n",
              " 'piecewise',\n",
              " 'place',\n",
              " 'poly',\n",
              " 'poly1d',\n",
              " 'polyadd',\n",
              " 'polyder',\n",
              " 'polydiv',\n",
              " 'polyfit',\n",
              " 'polyint',\n",
              " 'polymul',\n",
              " 'polynomial',\n",
              " 'polysub',\n",
              " 'polyval',\n",
              " 'positive',\n",
              " 'power',\n",
              " 'printoptions',\n",
              " 'prod',\n",
              " 'product',\n",
              " 'promote_types',\n",
              " 'ptp',\n",
              " 'put',\n",
              " 'put_along_axis',\n",
              " 'putmask',\n",
              " 'quantile',\n",
              " 'r_',\n",
              " 'rad2deg',\n",
              " 'radians',\n",
              " 'random',\n",
              " 'ravel',\n",
              " 'ravel_multi_index',\n",
              " 'real',\n",
              " 'real_if_close',\n",
              " 'rec',\n",
              " 'recarray',\n",
              " 'recfromcsv',\n",
              " 'recfromtxt',\n",
              " 'reciprocal',\n",
              " 'record',\n",
              " 'remainder',\n",
              " 'repeat',\n",
              " 'require',\n",
              " 'reshape',\n",
              " 'resize',\n",
              " 'result_type',\n",
              " 'right_shift',\n",
              " 'rint',\n",
              " 'roll',\n",
              " 'rollaxis',\n",
              " 'roots',\n",
              " 'rot90',\n",
              " 'round',\n",
              " 'round_',\n",
              " 'row_stack',\n",
              " 's_',\n",
              " 'safe_eval',\n",
              " 'save',\n",
              " 'savetxt',\n",
              " 'savez',\n",
              " 'savez_compressed',\n",
              " 'sctype2char',\n",
              " 'sctypeDict',\n",
              " 'sctypes',\n",
              " 'searchsorted',\n",
              " 'select',\n",
              " 'set_numeric_ops',\n",
              " 'set_printoptions',\n",
              " 'set_string_function',\n",
              " 'setbufsize',\n",
              " 'setdiff1d',\n",
              " 'seterr',\n",
              " 'seterrcall',\n",
              " 'seterrobj',\n",
              " 'setxor1d',\n",
              " 'shape',\n",
              " 'shares_memory',\n",
              " 'short',\n",
              " 'show_config',\n",
              " 'sign',\n",
              " 'signbit',\n",
              " 'signedinteger',\n",
              " 'sin',\n",
              " 'sinc',\n",
              " 'single',\n",
              " 'singlecomplex',\n",
              " 'sinh',\n",
              " 'size',\n",
              " 'sometrue',\n",
              " 'sort',\n",
              " 'sort_complex',\n",
              " 'source',\n",
              " 'spacing',\n",
              " 'split',\n",
              " 'sqrt',\n",
              " 'square',\n",
              " 'squeeze',\n",
              " 'stack',\n",
              " 'std',\n",
              " 'str0',\n",
              " 'str_',\n",
              " 'string_',\n",
              " 'subtract',\n",
              " 'sum',\n",
              " 'swapaxes',\n",
              " 'sys',\n",
              " 'take',\n",
              " 'take_along_axis',\n",
              " 'tan',\n",
              " 'tanh',\n",
              " 'tensordot',\n",
              " 'test',\n",
              " 'testing',\n",
              " 'tile',\n",
              " 'timedelta64',\n",
              " 'trace',\n",
              " 'tracemalloc_domain',\n",
              " 'transpose',\n",
              " 'trapz',\n",
              " 'tri',\n",
              " 'tril',\n",
              " 'tril_indices',\n",
              " 'tril_indices_from',\n",
              " 'trim_zeros',\n",
              " 'triu',\n",
              " 'triu_indices',\n",
              " 'triu_indices_from',\n",
              " 'true_divide',\n",
              " 'trunc',\n",
              " 'typecodes',\n",
              " 'typename',\n",
              " 'ubyte',\n",
              " 'ufunc',\n",
              " 'uint',\n",
              " 'uint0',\n",
              " 'uint16',\n",
              " 'uint32',\n",
              " 'uint64',\n",
              " 'uint8',\n",
              " 'uintc',\n",
              " 'uintp',\n",
              " 'ulonglong',\n",
              " 'unicode_',\n",
              " 'union1d',\n",
              " 'unique',\n",
              " 'unpackbits',\n",
              " 'unravel_index',\n",
              " 'unsignedinteger',\n",
              " 'unwrap',\n",
              " 'use_hugepage',\n",
              " 'ushort',\n",
              " 'vander',\n",
              " 'var',\n",
              " 'vdot',\n",
              " 'vectorize',\n",
              " 'version',\n",
              " 'void',\n",
              " 'void0',\n",
              " 'vsplit',\n",
              " 'vstack',\n",
              " 'warnings',\n",
              " 'where',\n",
              " 'who',\n",
              " 'zeros',\n",
              " 'zeros_like']"
            ]
          },
          "metadata": {},
          "execution_count": 2
        }
      ]
    },
    {
      "cell_type": "code",
      "source": [
        "a = np.array(0)\n",
        "a, a.ndim, type(a)"
      ],
      "metadata": {
        "colab": {
          "base_uri": "https://localhost:8080/"
        },
        "id": "12X8J8lc-tli",
        "outputId": "34cdb7ca-903d-4d9c-f9bf-b628c4109245"
      },
      "execution_count": null,
      "outputs": [
        {
          "output_type": "execute_result",
          "data": {
            "text/plain": [
              "(array(0), 0, numpy.ndarray)"
            ]
          },
          "metadata": {},
          "execution_count": 4
        }
      ]
    },
    {
      "cell_type": "code",
      "source": [
        "a = np.array([2, 4, 6])\n",
        "a, a.ndim, type(a)"
      ],
      "metadata": {
        "colab": {
          "base_uri": "https://localhost:8080/"
        },
        "id": "495faiax-t8B",
        "outputId": "fc9c8866-df5f-4739-998f-1f1cb4751aad"
      },
      "execution_count": null,
      "outputs": [
        {
          "output_type": "execute_result",
          "data": {
            "text/plain": [
              "(array([2, 4, 6]), 1, numpy.ndarray)"
            ]
          },
          "metadata": {},
          "execution_count": 5
        }
      ]
    },
    {
      "cell_type": "code",
      "source": [
        "a = np.array( [[1,2,3], [4,5,6]] )\n",
        "a, a.ndim, type(a)\n",
        "\n",
        "#아래 결과 값은 보기 좋게 반환해준것"
      ],
      "metadata": {
        "colab": {
          "base_uri": "https://localhost:8080/"
        },
        "id": "cq9WxQ7n-zfb",
        "outputId": "f1b820c4-0c76-4f42-b026-1379fcdc2f8d"
      },
      "execution_count": null,
      "outputs": [
        {
          "output_type": "execute_result",
          "data": {
            "text/plain": [
              "(array([[1, 2, 3],\n",
              "        [4, 5, 6]]),\n",
              " 2,\n",
              " numpy.ndarray)"
            ]
          },
          "metadata": {},
          "execution_count": 6
        }
      ]
    },
    {
      "cell_type": "code",
      "source": [
        "\n",
        "a = np.array( [ [[1,2,3], [4,5,6]], [[1,2,3], [4,5,6]] ] )\n",
        "a, a.ndim, type(a)"
      ],
      "metadata": {
        "colab": {
          "base_uri": "https://localhost:8080/"
        },
        "id": "Nqo5gOID-zNr",
        "outputId": "756407e2-e001-44dc-934b-4cc30e01979a"
      },
      "execution_count": null,
      "outputs": [
        {
          "output_type": "execute_result",
          "data": {
            "text/plain": [
              "(array([[[1, 2, 3],\n",
              "         [4, 5, 6]],\n",
              " \n",
              "        [[1, 2, 3],\n",
              "         [4, 5, 6]]]),\n",
              " 3,\n",
              " numpy.ndarray)"
            ]
          },
          "metadata": {},
          "execution_count": 7
        }
      ]
    },
    {
      "cell_type": "code",
      "source": [
        "a.shape\n",
        "#2행 3열인데, 깊이가 2개\n",
        "\n",
        "a.shape?"
      ],
      "metadata": {
        "id": "n1s6C1uE_QVL"
      },
      "execution_count": null,
      "outputs": []
    },
    {
      "cell_type": "code",
      "source": [
        "#shape\n",
        "a = np.array(3)\n",
        "a, a.shape # 행렬아님"
      ],
      "metadata": {
        "colab": {
          "base_uri": "https://localhost:8080/"
        },
        "id": "Wg-1I2vnAc6K",
        "outputId": "2119304d-e129-4e60-a581-4359b874f971"
      },
      "execution_count": null,
      "outputs": [
        {
          "output_type": "execute_result",
          "data": {
            "text/plain": [
              "(array(3), ())"
            ]
          },
          "metadata": {},
          "execution_count": 9
        }
      ]
    },
    {
      "cell_type": "code",
      "source": [
        "a = np.array([ 1, 3, 5, 7, 9 ])\n",
        "a, a.shape"
      ],
      "metadata": {
        "colab": {
          "base_uri": "https://localhost:8080/"
        },
        "id": "0mLzy2n_AfSV",
        "outputId": "2174bdc2-3060-41ae-d1c2-4016a1480219"
      },
      "execution_count": null,
      "outputs": [
        {
          "output_type": "execute_result",
          "data": {
            "text/plain": [
              "(array([1, 3, 5, 7, 9]), (5,))"
            ]
          },
          "metadata": {},
          "execution_count": 10
        }
      ]
    },
    {
      "cell_type": "code",
      "source": [
        "a = np.array([[1,2,3], [4,5,6]])\n",
        "a, a.shape"
      ],
      "metadata": {
        "colab": {
          "base_uri": "https://localhost:8080/"
        },
        "id": "Bd_DvCFJAgNB",
        "outputId": "eac19f3c-0d47-4f35-8102-17e61adfd703"
      },
      "execution_count": null,
      "outputs": [
        {
          "output_type": "execute_result",
          "data": {
            "text/plain": [
              "(array([[1, 2, 3],\n",
              "        [4, 5, 6]]),\n",
              " (2, 3))"
            ]
          },
          "metadata": {},
          "execution_count": 11
        }
      ]
    },
    {
      "cell_type": "code",
      "source": [
        "\n",
        "a = np.array([[[0, 0, 0, 0], [0, 0, 0, 0], [0, 0, 0, 0]], [[0, 0, 0, 0], [0, 0, 0, 0], [0, 0, 0, 0]]])\n",
        "a, a.shape # 2개의 3행 4열"
      ],
      "metadata": {
        "colab": {
          "base_uri": "https://localhost:8080/"
        },
        "id": "E1OunhoqAj_a",
        "outputId": "61cb3b70-8ac2-4d91-8f4f-9859faac7fbb"
      },
      "execution_count": null,
      "outputs": [
        {
          "output_type": "execute_result",
          "data": {
            "text/plain": [
              "(array([[[0, 0, 0, 0],\n",
              "         [0, 0, 0, 0],\n",
              "         [0, 0, 0, 0]],\n",
              " \n",
              "        [[0, 0, 0, 0],\n",
              "         [0, 0, 0, 0],\n",
              "         [0, 0, 0, 0]]]),\n",
              " (2, 3, 4))"
            ]
          },
          "metadata": {},
          "execution_count": 12
        }
      ]
    },
    {
      "cell_type": "markdown",
      "source": [
        "# **3. size**"
      ],
      "metadata": {
        "id": "dEkCZdDlB_q3"
      }
    },
    {
      "cell_type": "code",
      "source": [
        "a= np.array([1, 3, 5, 7, 9])\n",
        "a.size"
      ],
      "metadata": {
        "colab": {
          "base_uri": "https://localhost:8080/"
        },
        "id": "mL38xSB7B-Et",
        "outputId": "68180bc3-f03e-4791-b605-4a010898c046"
      },
      "execution_count": null,
      "outputs": [
        {
          "output_type": "execute_result",
          "data": {
            "text/plain": [
              "5"
            ]
          },
          "metadata": {},
          "execution_count": 13
        }
      ]
    },
    {
      "cell_type": "code",
      "source": [
        "\n",
        "a = np.array([[1,2,3], [4,5,6]])\n",
        "a.size"
      ],
      "metadata": {
        "colab": {
          "base_uri": "https://localhost:8080/"
        },
        "id": "jcCXJKXSB-Fu",
        "outputId": "a2f2c361-39bc-4f2c-9ba5-2a32e8e4ec6b"
      },
      "execution_count": null,
      "outputs": [
        {
          "output_type": "execute_result",
          "data": {
            "text/plain": [
              "6"
            ]
          },
          "metadata": {},
          "execution_count": 14
        }
      ]
    },
    {
      "cell_type": "markdown",
      "source": [
        "# **넘파이 배열**"
      ],
      "metadata": {
        "id": "M9DOsnbiCIGc"
      }
    },
    {
      "cell_type": "code",
      "source": [
        "\n",
        "# 1차원 리스트 객체(이터러블)\n",
        "myList = [10, 56, 77, 23, 44]\n",
        "print(myList, type(myList), len(myList))"
      ],
      "metadata": {
        "colab": {
          "base_uri": "https://localhost:8080/"
        },
        "id": "JPKSASzoB-IA",
        "outputId": "30f5b6b3-140a-44ba-8180-ef6e163dc70f"
      },
      "execution_count": null,
      "outputs": [
        {
          "output_type": "stream",
          "name": "stdout",
          "text": [
            "[10, 56, 77, 23, 44] <class 'list'> 5\n"
          ]
        }
      ]
    },
    {
      "cell_type": "code",
      "source": [
        "myArr = np.array(myList)\n",
        "print(myArr, type(myArr), len(myArr))\n",
        "print(f'차원={myArr.ndim}, 구조={myArr.shape}, size={myArr.size}')"
      ],
      "metadata": {
        "colab": {
          "base_uri": "https://localhost:8080/"
        },
        "id": "Dk_yK7MQB-Kj",
        "outputId": "df375eba-df5d-4a3d-82cd-a14b1b0530aa"
      },
      "execution_count": null,
      "outputs": [
        {
          "output_type": "stream",
          "name": "stdout",
          "text": [
            "[10 56 77 23 44] <class 'numpy.ndarray'> 5\n",
            "차원=1, 구조=(5,), size=5\n"
          ]
        }
      ]
    },
    {
      "cell_type": "code",
      "source": [
        "myArr"
      ],
      "metadata": {
        "colab": {
          "base_uri": "https://localhost:8080/"
        },
        "id": "QAIhCcuhCVhg",
        "outputId": "7ba5ca62-eb88-43f6-a644-34b06c2d83e3"
      },
      "execution_count": null,
      "outputs": [
        {
          "output_type": "execute_result",
          "data": {
            "text/plain": [
              "array([10, 56, 77, 23, 44])"
            ]
          },
          "metadata": {},
          "execution_count": 17
        }
      ]
    },
    {
      "cell_type": "code",
      "source": [
        "# 2차원 리스트 객체(이터러블)\n",
        "myList2 = [[1,2,3 ],[10,20,30],[100,200,300]]\n",
        "myList2, len(myList2)"
      ],
      "metadata": {
        "colab": {
          "base_uri": "https://localhost:8080/"
        },
        "id": "grCieL0sCZQD",
        "outputId": "d47cdff2-c5fd-4828-8ca0-63de9aee39e7"
      },
      "execution_count": null,
      "outputs": [
        {
          "output_type": "execute_result",
          "data": {
            "text/plain": [
              "([[1, 2, 3], [10, 20, 30], [100, 200, 300]], 3)"
            ]
          },
          "metadata": {},
          "execution_count": 18
        }
      ]
    },
    {
      "cell_type": "code",
      "source": [
        "myArr2 = np.array(myList2)\n",
        "print(myArr2, type(myArr2), len(myArr2))\n",
        "print(f'차원= {myArr2.ndim}, 구조 = {myArr2.shape}, size = {myArr2.size}')"
      ],
      "metadata": {
        "colab": {
          "base_uri": "https://localhost:8080/"
        },
        "id": "kqzN0GIaCa_H",
        "outputId": "04ff1623-4b84-4776-a582-5f662c2f3d06"
      },
      "execution_count": null,
      "outputs": [
        {
          "output_type": "stream",
          "name": "stdout",
          "text": [
            "[[  1   2   3]\n",
            " [ 10  20  30]\n",
            " [100 200 300]] <class 'numpy.ndarray'> 3\n",
            "차원= 2, 구조 = (3, 3), size = 9\n"
          ]
        }
      ]
    },
    {
      "cell_type": "code",
      "source": [
        "# 2차원 리스트에서 각 행의 수가 다를 경우?\n",
        "myList21 = [ [1,2,3,4 ],[10,20 ,30,40,50],[100,200,]]\n",
        "print(myList21, type(myList21), len(myList21))"
      ],
      "metadata": {
        "colab": {
          "base_uri": "https://localhost:8080/"
        },
        "id": "_27locAiCr3-",
        "outputId": "a6aa154e-453b-4215-a91e-6ffdc0483ecf"
      },
      "execution_count": null,
      "outputs": [
        {
          "output_type": "stream",
          "name": "stdout",
          "text": [
            "[[1, 2, 3, 4], [10, 20, 30, 40, 50], [100, 200]] <class 'list'> 3\n"
          ]
        }
      ]
    },
    {
      "cell_type": "code",
      "source": [
        "# 길이가 달라 에러 리턴 -> 행렬이 아니라서\n",
        "myArr21 = np.array(myList21)\n",
        "print(myArr21, type(myArr21), len(myArr21))\n",
        "print(f'차원= {myArr21.ndim}, 구조 = {myArr21.shape} 구조타입 = {type(myArr21.shape)}, size = {myArr21.size}')"
      ],
      "metadata": {
        "colab": {
          "base_uri": "https://localhost:8080/"
        },
        "id": "ds9aIIjuCt1n",
        "outputId": "1d4dce8e-66d3-4016-ba1a-2e7e406fa913"
      },
      "execution_count": null,
      "outputs": [
        {
          "output_type": "stream",
          "name": "stdout",
          "text": [
            "[list([1, 2, 3, 4]) list([10, 20, 30, 40, 50]) list([100, 200])] <class 'numpy.ndarray'> 3\n",
            "차원= 1, 구조 = (3,) 구조타입 = <class 'tuple'>, size = 3\n"
          ]
        },
        {
          "output_type": "stream",
          "name": "stderr",
          "text": [
            "<ipython-input-21-158910974d83>:2: VisibleDeprecationWarning: Creating an ndarray from ragged nested sequences (which is a list-or-tuple of lists-or-tuples-or ndarrays with different lengths or shapes) is deprecated. If you meant to do this, you must specify 'dtype=object' when creating the ndarray.\n",
            "  myArr21 = np.array(myList21)\n"
          ]
        }
      ]
    },
    {
      "cell_type": "markdown",
      "source": [
        "# **넘파이 & 리스트 구분**"
      ],
      "metadata": {
        "id": "4wxzHibmDi23"
      }
    },
    {
      "cell_type": "code",
      "source": [
        "# 리스트의 산술연산자 +, *\n",
        "listA = [10, 30, 50]\n",
        "listB = [1, 2, 3]\n",
        "print(listA + listB) # 리스트의 + 연산자는 조인역할\n",
        "print(listA + 2) # 불가"
      ],
      "metadata": {
        "colab": {
          "base_uri": "https://localhost:8080/",
          "height": 234
        },
        "id": "xRoLfWdzDmYj",
        "outputId": "04ecf149-1517-4a52-e65f-bd3d818469ce"
      },
      "execution_count": null,
      "outputs": [
        {
          "output_type": "stream",
          "name": "stdout",
          "text": [
            "[10, 30, 50, 1, 2, 3]\n"
          ]
        },
        {
          "output_type": "error",
          "ename": "TypeError",
          "evalue": "ignored",
          "traceback": [
            "\u001b[0;31m---------------------------------------------------------------------------\u001b[0m",
            "\u001b[0;31mTypeError\u001b[0m                                 Traceback (most recent call last)",
            "\u001b[0;32m<ipython-input-22-33eaf7fb85a4>\u001b[0m in \u001b[0;36m<cell line: 5>\u001b[0;34m()\u001b[0m\n\u001b[1;32m      3\u001b[0m \u001b[0mlistB\u001b[0m \u001b[0;34m=\u001b[0m \u001b[0;34m[\u001b[0m\u001b[0;36m1\u001b[0m\u001b[0;34m,\u001b[0m \u001b[0;36m2\u001b[0m\u001b[0;34m,\u001b[0m \u001b[0;36m3\u001b[0m\u001b[0;34m]\u001b[0m\u001b[0;34m\u001b[0m\u001b[0;34m\u001b[0m\u001b[0m\n\u001b[1;32m      4\u001b[0m \u001b[0mprint\u001b[0m\u001b[0;34m(\u001b[0m\u001b[0mlistA\u001b[0m \u001b[0;34m+\u001b[0m \u001b[0mlistB\u001b[0m\u001b[0;34m)\u001b[0m \u001b[0;31m# 리스트의 + 연산자는 조인역할\u001b[0m\u001b[0;34m\u001b[0m\u001b[0;34m\u001b[0m\u001b[0m\n\u001b[0;32m----> 5\u001b[0;31m \u001b[0mprint\u001b[0m\u001b[0;34m(\u001b[0m\u001b[0mlistA\u001b[0m \u001b[0;34m+\u001b[0m \u001b[0;36m2\u001b[0m\u001b[0;34m)\u001b[0m \u001b[0;31m# 불가\u001b[0m\u001b[0;34m\u001b[0m\u001b[0;34m\u001b[0m\u001b[0m\n\u001b[0m",
            "\u001b[0;31mTypeError\u001b[0m: can only concatenate list (not \"int\") to list"
          ]
        }
      ]
    },
    {
      "cell_type": "code",
      "source": [
        "\n",
        "print(listA * 2) # 해당 리스트의 반복\n",
        "print(listA * listB) # 불가 (안의 값들을 곱하는 건 불가 )"
      ],
      "metadata": {
        "colab": {
          "base_uri": "https://localhost:8080/",
          "height": 216
        },
        "id": "uBzKcakLCzSp",
        "outputId": "b64e5369-dca5-4b99-ab78-4484a1b6172f"
      },
      "execution_count": null,
      "outputs": [
        {
          "output_type": "stream",
          "name": "stdout",
          "text": [
            "[10, 30, 50, 10, 30, 50]\n"
          ]
        },
        {
          "output_type": "error",
          "ename": "TypeError",
          "evalue": "ignored",
          "traceback": [
            "\u001b[0;31m---------------------------------------------------------------------------\u001b[0m",
            "\u001b[0;31mTypeError\u001b[0m                                 Traceback (most recent call last)",
            "\u001b[0;32m<ipython-input-23-c581b371e93a>\u001b[0m in \u001b[0;36m<cell line: 2>\u001b[0;34m()\u001b[0m\n\u001b[1;32m      1\u001b[0m \u001b[0mprint\u001b[0m\u001b[0;34m(\u001b[0m\u001b[0mlistA\u001b[0m \u001b[0;34m*\u001b[0m \u001b[0;36m2\u001b[0m\u001b[0;34m)\u001b[0m \u001b[0;31m# 해당 리스트의 반복\u001b[0m\u001b[0;34m\u001b[0m\u001b[0;34m\u001b[0m\u001b[0m\n\u001b[0;32m----> 2\u001b[0;31m \u001b[0mprint\u001b[0m\u001b[0;34m(\u001b[0m\u001b[0mlistA\u001b[0m \u001b[0;34m*\u001b[0m \u001b[0mlistB\u001b[0m\u001b[0;34m)\u001b[0m \u001b[0;31m# 불가 (안의 값들을 곱하는 건 불가 )\u001b[0m\u001b[0;34m\u001b[0m\u001b[0;34m\u001b[0m\u001b[0m\n\u001b[0m",
            "\u001b[0;31mTypeError\u001b[0m: can't multiply sequence by non-int of type 'list'"
          ]
        }
      ]
    },
    {
      "cell_type": "markdown",
      "source": [],
      "metadata": {
        "id": "HK0K-VOLvOR1"
      }
    },
    {
      "cell_type": "code",
      "source": [
        "# 넘파이의 산술연산\n",
        "arrA = np.array([1, 2, 3])\n",
        "print(arrA + 2)\n",
        "print(arrA * 2)"
      ],
      "metadata": {
        "id": "2_OxFj-YDtRB",
        "outputId": "e10c7a14-81ed-4627-8844-7fa9b2a8fa29",
        "colab": {
          "base_uri": "https://localhost:8080/"
        }
      },
      "execution_count": null,
      "outputs": [
        {
          "output_type": "stream",
          "name": "stdout",
          "text": [
            "[3 4 5]\n",
            "[2 4 6]\n"
          ]
        }
      ]
    },
    {
      "cell_type": "code",
      "source": [
        "\n",
        "arrB = np.array([4, 5, 6])\n",
        "print(arrA + arrB)\n",
        "print(arrA * arrB)\n",
        "print(arrA / arrB)\n",
        "print(arrA // arrB) # 몫\n",
        "print(arrA % arrB) # 나머지"
      ],
      "metadata": {
        "id": "Jlj9NDdcDvJZ",
        "outputId": "2dba73e9-85bc-4c33-bdcd-d50ef52e78c1",
        "colab": {
          "base_uri": "https://localhost:8080/"
        }
      },
      "execution_count": null,
      "outputs": [
        {
          "output_type": "stream",
          "name": "stdout",
          "text": [
            "[5 7 9]\n",
            "[ 4 10 18]\n",
            "[0.25 0.4  0.5 ]\n",
            "[0 0 0]\n",
            "[1 2 3]\n"
          ]
        }
      ]
    },
    {
      "cell_type": "markdown",
      "source": [
        "# **d type**"
      ],
      "metadata": {
        "id": "EpXhhH2fvPCg"
      }
    },
    {
      "cell_type": "code",
      "source": [
        "\n",
        "# 자료형 테스트\n",
        "myList_c = ['안녕', 100, 3.14, True, False] # 리스트는 혼합된 형 그대로 유지\n",
        "print(myList_c)"
      ],
      "metadata": {
        "colab": {
          "base_uri": "https://localhost:8080/"
        },
        "id": "5VVzO8hGvXSP",
        "outputId": "9a9820be-85db-4067-f373-75068081da5a"
      },
      "execution_count": null,
      "outputs": [
        {
          "output_type": "stream",
          "name": "stdout",
          "text": [
            "['안녕', 100, 3.14, True, False]\n"
          ]
        }
      ]
    },
    {
      "cell_type": "code",
      "source": [
        "myList_c = ['안녕', 100, 3.14, True, False] # 리스트는 혼합된 형 그대로 유지\n",
        "myArr_c = np.array(myList_c) # 넘파이배열은 '문자열'로 통일 자동형변환\n",
        "print(myArr_c, type(myArr_c), myArr_c.dtype)"
      ],
      "metadata": {
        "colab": {
          "base_uri": "https://localhost:8080/"
        },
        "id": "C9eJA0JovhVy",
        "outputId": "78b207a9-d2d8-4a4a-8f14-4855dac15ff2"
      },
      "execution_count": null,
      "outputs": [
        {
          "output_type": "stream",
          "name": "stdout",
          "text": [
            "['안녕' '100' '3.14' 'True' 'False'] <class 'numpy.ndarray'> <U32\n"
          ]
        }
      ]
    },
    {
      "cell_type": "code",
      "source": [
        "# 정수와 실수가 혼합된 넘파이 배열\n",
        "myArr_d = np.array([100, 3.14, 23.5, 0])\n",
        "print(myArr_d, type(myArr_d), myArr_d.dtype) # 정수와 실수 혼합시, 더 큰 실수형으로 통일 자동형변환"
      ],
      "metadata": {
        "colab": {
          "base_uri": "https://localhost:8080/"
        },
        "id": "w7YQMnolvjso",
        "outputId": "256c9eba-b4a4-4382-a7b5-7a5642ad5208"
      },
      "execution_count": null,
      "outputs": [
        {
          "output_type": "stream",
          "name": "stdout",
          "text": [
            "[100.     3.14  23.5    0.  ] <class 'numpy.ndarray'> float64\n"
          ]
        }
      ]
    },
    {
      "cell_type": "markdown",
      "source": [
        "\n",
        "# Inf와 **NaN**"
      ],
      "metadata": {
        "id": "AhLH5k-LwRJt"
      }
    },
    {
      "cell_type": "code",
      "source": [
        "np.array([0, 1, -1, 0]) / np.array([1, 0, 0, 0])"
      ],
      "metadata": {
        "colab": {
          "base_uri": "https://localhost:8080/"
        },
        "id": "0zApMFoVv4My",
        "outputId": "805e74e5-53bc-4955-f323-11a2cbc67e34"
      },
      "execution_count": null,
      "outputs": [
        {
          "output_type": "stream",
          "name": "stderr",
          "text": [
            "<ipython-input-29-6ab12ec6e7a4>:1: RuntimeWarning: divide by zero encountered in divide\n",
            "  np.array([0, 1, -1, 0]) / np.array([1, 0, 0, 0])\n",
            "<ipython-input-29-6ab12ec6e7a4>:1: RuntimeWarning: invalid value encountered in divide\n",
            "  np.array([0, 1, -1, 0]) / np.array([1, 0, 0, 0])\n"
          ]
        },
        {
          "output_type": "execute_result",
          "data": {
            "text/plain": [
              "array([  0.,  inf, -inf,  nan])"
            ]
          },
          "metadata": {},
          "execution_count": 29
        }
      ]
    },
    {
      "cell_type": "code",
      "source": [
        "np.log(0)"
      ],
      "metadata": {
        "colab": {
          "base_uri": "https://localhost:8080/"
        },
        "id": "Kib9tMfPwUG_",
        "outputId": "d6b586b3-32fd-4aa3-9f16-a46b33fc3898"
      },
      "execution_count": null,
      "outputs": [
        {
          "output_type": "stream",
          "name": "stderr",
          "text": [
            "<ipython-input-33-f6e7c0610b57>:1: RuntimeWarning: divide by zero encountered in log\n",
            "  np.log(0)\n"
          ]
        },
        {
          "output_type": "execute_result",
          "data": {
            "text/plain": [
              "-inf"
            ]
          },
          "metadata": {},
          "execution_count": 33
        }
      ]
    },
    {
      "cell_type": "code",
      "source": [
        "np.exp(-np.inf)"
      ],
      "metadata": {
        "colab": {
          "base_uri": "https://localhost:8080/"
        },
        "id": "sUPImpO9wVs5",
        "outputId": "824831e4-d933-4eee-cd88-40519a03534c"
      },
      "execution_count": null,
      "outputs": [
        {
          "output_type": "execute_result",
          "data": {
            "text/plain": [
              "0.0"
            ]
          },
          "metadata": {},
          "execution_count": 34
        }
      ]
    },
    {
      "cell_type": "markdown",
      "source": [
        "# **기술 통계 **"
      ],
      "metadata": {
        "id": "SIO0uuZuwjqm"
      }
    },
    {
      "cell_type": "code",
      "source": [
        "x = np.array([18,   5,  10,  23,  19,  -8,  10,   0,   0,   5,   2,  15,   8,\n",
        "              2,   5,   4,  15,  -1,   4,  -7, -24,   7,   9,  -6,  23, -13])"
      ],
      "metadata": {
        "id": "NJoenTRkwnzV"
      },
      "execution_count": null,
      "outputs": []
    },
    {
      "cell_type": "code",
      "source": [
        "\n",
        "np.mean(x)  # 평균"
      ],
      "metadata": {
        "colab": {
          "base_uri": "https://localhost:8080/"
        },
        "id": "PcgXXuurwppY",
        "outputId": "72c340e0-8c7e-4199-e023-52768ec986c1"
      },
      "execution_count": null,
      "outputs": [
        {
          "output_type": "execute_result",
          "data": {
            "text/plain": [
              "4.8076923076923075"
            ]
          },
          "metadata": {},
          "execution_count": 36
        }
      ]
    },
    {
      "cell_type": "code",
      "source": [
        "np.var(x)  # 분산"
      ],
      "metadata": {
        "colab": {
          "base_uri": "https://localhost:8080/"
        },
        "id": "L8rCGf1xwpsc",
        "outputId": "128784cb-6b3f-4bc0-fe34-e229c1760642"
      },
      "execution_count": null,
      "outputs": [
        {
          "output_type": "execute_result",
          "data": {
            "text/plain": [
              "115.23224852071006"
            ]
          },
          "metadata": {},
          "execution_count": 37
        }
      ]
    },
    {
      "cell_type": "code",
      "source": [
        "np.std(x)  # 표준 편차"
      ],
      "metadata": {
        "colab": {
          "base_uri": "https://localhost:8080/"
        },
        "id": "cWVf3Yzbwpvq",
        "outputId": "6841886b-f078-4e78-868f-de9c0f54227c"
      },
      "execution_count": null,
      "outputs": [
        {
          "output_type": "execute_result",
          "data": {
            "text/plain": [
              "10.734628476137871"
            ]
          },
          "metadata": {},
          "execution_count": 38
        }
      ]
    },
    {
      "cell_type": "code",
      "source": [
        "np.max(x)  # 최댓값"
      ],
      "metadata": {
        "colab": {
          "base_uri": "https://localhost:8080/"
        },
        "id": "owNgA9eTwtC4",
        "outputId": "0bd65055-d5cf-4173-b19a-5cff9300e148"
      },
      "execution_count": null,
      "outputs": [
        {
          "output_type": "execute_result",
          "data": {
            "text/plain": [
              "23"
            ]
          },
          "metadata": {},
          "execution_count": 39
        }
      ]
    },
    {
      "cell_type": "code",
      "source": [
        "np.min(x)  # 최소값"
      ],
      "metadata": {
        "colab": {
          "base_uri": "https://localhost:8080/"
        },
        "id": "w0Cxex6UwuCI",
        "outputId": "8c5230db-736e-4d71-a326-39b6c6d36060"
      },
      "execution_count": null,
      "outputs": [
        {
          "output_type": "execute_result",
          "data": {
            "text/plain": [
              "-24"
            ]
          },
          "metadata": {},
          "execution_count": 40
        }
      ]
    },
    {
      "cell_type": "code",
      "source": [
        "np.median(x)  # 중앙값"
      ],
      "metadata": {
        "colab": {
          "base_uri": "https://localhost:8080/"
        },
        "id": "yPN8ovAvwvKH",
        "outputId": "76bc0ef4-682c-4201-f03d-023586eb9408"
      },
      "execution_count": null,
      "outputs": [
        {
          "output_type": "execute_result",
          "data": {
            "text/plain": [
              "5.0"
            ]
          },
          "metadata": {},
          "execution_count": 41
        }
      ]
    },
    {
      "cell_type": "markdown",
      "source": [
        "# **사분위수**"
      ],
      "metadata": {
        "id": "etJTEbLUw5oK"
      }
    },
    {
      "cell_type": "code",
      "source": [
        "np.percentile(x, 0)  # 최소값"
      ],
      "metadata": {
        "colab": {
          "base_uri": "https://localhost:8080/"
        },
        "id": "jNMZEJAOwwE9",
        "outputId": "d337047f-33da-4512-9043-6ce93bb6c2a2"
      },
      "execution_count": null,
      "outputs": [
        {
          "output_type": "execute_result",
          "data": {
            "text/plain": [
              "-24.0"
            ]
          },
          "metadata": {},
          "execution_count": 42
        }
      ]
    },
    {
      "cell_type": "code",
      "source": [
        "np.percentile(x, 25)  # 1사분위 수"
      ],
      "metadata": {
        "colab": {
          "base_uri": "https://localhost:8080/"
        },
        "id": "rpfEVkvSw9cS",
        "outputId": "8df2238e-7c04-4ab9-9490-520b2aff54cd"
      },
      "execution_count": null,
      "outputs": [
        {
          "output_type": "execute_result",
          "data": {
            "text/plain": [
              "0.0"
            ]
          },
          "metadata": {},
          "execution_count": 43
        }
      ]
    },
    {
      "cell_type": "code",
      "source": [
        "np.percentile(x, 50)  # 2사분위 수"
      ],
      "metadata": {
        "colab": {
          "base_uri": "https://localhost:8080/"
        },
        "id": "zGNUxlWAw_q-",
        "outputId": "6f4d97b9-5fd7-4c6d-d150-0fd4820f555d"
      },
      "execution_count": null,
      "outputs": [
        {
          "output_type": "execute_result",
          "data": {
            "text/plain": [
              "5.0"
            ]
          },
          "metadata": {},
          "execution_count": 44
        }
      ]
    },
    {
      "cell_type": "code",
      "source": [
        "np.percentile(x, 75)  # 3사분위 수"
      ],
      "metadata": {
        "colab": {
          "base_uri": "https://localhost:8080/"
        },
        "id": "kSliAVY2xCGz",
        "outputId": "3d0e1600-8247-4c14-ca1a-52042c67c498"
      },
      "execution_count": null,
      "outputs": [
        {
          "output_type": "execute_result",
          "data": {
            "text/plain": [
              "10.0"
            ]
          },
          "metadata": {},
          "execution_count": 45
        }
      ]
    },
    {
      "cell_type": "code",
      "source": [
        "np.percentile(x, 100)  # 최댓값"
      ],
      "metadata": {
        "colab": {
          "base_uri": "https://localhost:8080/"
        },
        "id": "UBWZMrSBxG_3",
        "outputId": "32500959-f78f-4ab1-d625-3c466ede738f"
      },
      "execution_count": null,
      "outputs": [
        {
          "output_type": "execute_result",
          "data": {
            "text/plain": [
              "23.0"
            ]
          },
          "metadata": {},
          "execution_count": 34
        }
      ]
    },
    {
      "cell_type": "markdown",
      "source": [
        "\n",
        "# 넘파이 함수로 배열 **만들기**"
      ],
      "metadata": {
        "id": "Ud-lxK8cyX9C"
      }
    },
    {
      "cell_type": "code",
      "source": [
        "\n",
        "# 넘파이 함수로 배열을 만들때에는 디폴트가 실수형\n",
        "print(np.ones(10), np.ones(10).dtype)"
      ],
      "metadata": {
        "colab": {
          "base_uri": "https://localhost:8080/"
        },
        "id": "U0UKUAg7yaUX",
        "outputId": "3682dba2-d31e-4333-9db8-47a8d9bb183a"
      },
      "execution_count": null,
      "outputs": [
        {
          "output_type": "stream",
          "name": "stdout",
          "text": [
            "[1. 1. 1. 1. 1. 1. 1. 1. 1. 1.] float64\n"
          ]
        }
      ]
    },
    {
      "cell_type": "code",
      "source": [
        "print(np.ones((2,4)), np.ones((2,4)).dtype)"
      ],
      "metadata": {
        "colab": {
          "base_uri": "https://localhost:8080/"
        },
        "id": "TytgJDdCybaJ",
        "outputId": "2e2229fd-90f7-4ed5-9fb5-bf8725ea421e"
      },
      "execution_count": null,
      "outputs": [
        {
          "output_type": "stream",
          "name": "stdout",
          "text": [
            "[[1. 1. 1. 1.]\n",
            " [1. 1. 1. 1.]] float64\n"
          ]
        }
      ]
    },
    {
      "cell_type": "code",
      "source": [
        "print(np.ones(10, dtype = int), np.ones(10, dtype = int).dtype)"
      ],
      "metadata": {
        "colab": {
          "base_uri": "https://localhost:8080/"
        },
        "id": "07yvAUSJyczk",
        "outputId": "44ba8b02-34fe-44c9-f498-bd901f8cfb36"
      },
      "execution_count": null,
      "outputs": [
        {
          "output_type": "stream",
          "name": "stdout",
          "text": [
            "[1 1 1 1 1 1 1 1 1 1] int64\n"
          ]
        }
      ]
    },
    {
      "cell_type": "code",
      "source": [
        "print(np.zeros(10), np.zeros(10).dtype)"
      ],
      "metadata": {
        "colab": {
          "base_uri": "https://localhost:8080/"
        },
        "id": "Q8iAg-5yydwr",
        "outputId": "fb469573-7888-4f78-d617-cf3672c3cb30"
      },
      "execution_count": null,
      "outputs": [
        {
          "output_type": "stream",
          "name": "stdout",
          "text": [
            "[0. 0. 0. 0. 0. 0. 0. 0. 0. 0.] float64\n"
          ]
        }
      ]
    },
    {
      "cell_type": "code",
      "source": [
        "print(np.zeros((3,3)), np.zeros((3,3)).dtype)"
      ],
      "metadata": {
        "colab": {
          "base_uri": "https://localhost:8080/"
        },
        "id": "GzFE1hDfyesr",
        "outputId": "38335390-3bd2-4129-864e-2821d8c0a6f7"
      },
      "execution_count": null,
      "outputs": [
        {
          "output_type": "stream",
          "name": "stdout",
          "text": [
            "[[0. 0. 0.]\n",
            " [0. 0. 0.]\n",
            " [0. 0. 0.]] float64\n"
          ]
        }
      ]
    },
    {
      "cell_type": "code",
      "source": [
        "# 메모리가 비어있음\n",
        "print(np.empty(10), np.empty(10).dtype)\n",
        "print(np.empty((3,3)), np.empty((3,3)).dtype)\n",
        "print(np.empty((3,3)))\n",
        "print(np.empty((3,3), dtype=int))"
      ],
      "metadata": {
        "colab": {
          "base_uri": "https://localhost:8080/"
        },
        "id": "uq_iaO1-yf9I",
        "outputId": "33574506-a705-4929-d9bc-3b27185ef752"
      },
      "execution_count": null,
      "outputs": [
        {
          "output_type": "stream",
          "name": "stdout",
          "text": [
            "[0. 0. 0. 0. 0. 0. 0. 0. 0. 0.] float64\n",
            "[[0. 0. 0.]\n",
            " [0. 0. 0.]\n",
            " [0. 0. 0.]] float64\n",
            "[[0. 0. 0.]\n",
            " [0. 0. 0.]\n",
            " [0. 0. 0.]]\n",
            "[[0 0 0]\n",
            " [0 0 0]\n",
            " [0 0 0]]\n"
          ]
        }
      ]
    },
    {
      "cell_type": "code",
      "source": [
        "# 리스트+레인지\n",
        "print( list(range(1,21)), type(list(range(1,21))) )"
      ],
      "metadata": {
        "colab": {
          "base_uri": "https://localhost:8080/"
        },
        "id": "ceqYf54JynC8",
        "outputId": "7dbaf3ec-164c-43f9-a8e5-5ae7edfc8ec0"
      },
      "execution_count": null,
      "outputs": [
        {
          "output_type": "stream",
          "name": "stdout",
          "text": [
            "[1, 2, 3, 4, 5, 6, 7, 8, 9, 10, 11, 12, 13, 14, 15, 16, 17, 18, 19, 20] <class 'list'>\n"
          ]
        }
      ]
    },
    {
      "cell_type": "code",
      "source": [
        "# 1~20으로 구성된 4행 5열의 넘파이 배열print(np.array(list(range(1,21))), type(list(range(1,21))))\n",
        "print(np.arange(20), type(np.arange(20)))\n",
        "print(np.arange(1, 20), type(np.arange(1, 20)))\n",
        "print(np.arange(1, 20, 2), type(np.arange(1, 20,2)))"
      ],
      "metadata": {
        "colab": {
          "base_uri": "https://localhost:8080/"
        },
        "id": "woDrAemmynEO",
        "outputId": "618cc4a4-44b2-468b-eaef-e3bf76d63ea8"
      },
      "execution_count": null,
      "outputs": [
        {
          "output_type": "stream",
          "name": "stdout",
          "text": [
            "[ 0  1  2  3  4  5  6  7  8  9 10 11 12 13 14 15 16 17 18 19] <class 'numpy.ndarray'>\n",
            "[ 1  2  3  4  5  6  7  8  9 10 11 12 13 14 15 16 17 18 19] <class 'numpy.ndarray'>\n",
            "[ 1  3  5  7  9 11 13 15 17 19] <class 'numpy.ndarray'>\n"
          ]
        }
      ]
    },
    {
      "cell_type": "code",
      "source": [
        "# 0~49까지 구성된 넘파이 배열\n",
        "arr = np.arange(50)\n",
        "print(arr, len(arr), arr.size)"
      ],
      "metadata": {
        "colab": {
          "base_uri": "https://localhost:8080/"
        },
        "id": "Y5UosaHeyqua",
        "outputId": "1d24784a-2ff1-49b6-a6d2-8fb4a03d3b0b"
      },
      "execution_count": null,
      "outputs": [
        {
          "output_type": "stream",
          "name": "stdout",
          "text": [
            "[ 0  1  2  3  4  5  6  7  8  9 10 11 12 13 14 15 16 17 18 19 20 21 22 23\n",
            " 24 25 26 27 28 29 30 31 32 33 34 35 36 37 38 39 40 41 42 43 44 45 46 47\n",
            " 48 49] 50 50\n"
          ]
        }
      ]
    },
    {
      "cell_type": "code",
      "source": [
        "# linspace 명령이나 logspace 명령은 선형 구간 혹은 로그 구간을 지정한 구간의 수만큼 분할한다.\n",
        "np.linspace(0, 100, 5)  # 시작, 끝(포함), 갯수"
      ],
      "metadata": {
        "colab": {
          "base_uri": "https://localhost:8080/"
        },
        "id": "wOLv-rY0yq3b",
        "outputId": "9c368a30-9a3f-4a07-bd18-684d9f6a0f17"
      },
      "execution_count": null,
      "outputs": [
        {
          "output_type": "execute_result",
          "data": {
            "text/plain": [
              "array([  0.,  25.,  50.,  75., 100.])"
            ]
          },
          "metadata": {},
          "execution_count": 55
        }
      ]
    },
    {
      "cell_type": "markdown",
      "source": [
        "\n",
        "# **reshape 구조의 재배열**\n",
        "\n",
        "reshape함수는 np.reshape(변경할 배열, 차원) 또는 배열.reshape(차원)으로 사용 할 수 있으며,\n",
        "현재의 배열의 차원(1차원,2차원,3차원)을 변경하여 행렬을 반환하거나 하는 경우에 많이 이용되는 함수이다."
      ],
      "metadata": {
        "id": "mip1irLpG7d1"
      }
    },
    {
      "cell_type": "code",
      "source": [
        "arr, arr.ndim, arr.shape"
      ],
      "metadata": {
        "colab": {
          "base_uri": "https://localhost:8080/"
        },
        "id": "7tevpiwAG_iW",
        "outputId": "ff348f78-4157-4f99-c3d2-e433d9abb01c"
      },
      "execution_count": null,
      "outputs": [
        {
          "output_type": "execute_result",
          "data": {
            "text/plain": [
              "(array([ 0,  1,  2,  3,  4,  5,  6,  7,  8,  9, 10, 11, 12, 13, 14, 15, 16,\n",
              "        17, 18, 19, 20, 21, 22, 23, 24, 25, 26, 27, 28, 29, 30, 31, 32, 33,\n",
              "        34, 35, 36, 37, 38, 39, 40, 41, 42, 43, 44, 45, 46, 47, 48, 49]),\n",
              " 1,\n",
              " (50,))"
            ]
          },
          "metadata": {},
          "execution_count": 56
        }
      ]
    },
    {
      "cell_type": "code",
      "source": [
        "arr = arr.reshape(10,5)\n",
        "arr, arr.ndim, arr.shape"
      ],
      "metadata": {
        "colab": {
          "base_uri": "https://localhost:8080/"
        },
        "id": "lLqfIwhYHblj",
        "outputId": "53518d56-e468-4981-9f3d-fe0ceac1c816"
      },
      "execution_count": null,
      "outputs": [
        {
          "output_type": "execute_result",
          "data": {
            "text/plain": [
              "(array([[ 0,  1,  2,  3,  4],\n",
              "        [ 5,  6,  7,  8,  9],\n",
              "        [10, 11, 12, 13, 14],\n",
              "        [15, 16, 17, 18, 19],\n",
              "        [20, 21, 22, 23, 24],\n",
              "        [25, 26, 27, 28, 29],\n",
              "        [30, 31, 32, 33, 34],\n",
              "        [35, 36, 37, 38, 39],\n",
              "        [40, 41, 42, 43, 44],\n",
              "        [45, 46, 47, 48, 49]]),\n",
              " 2,\n",
              " (10, 5))"
            ]
          },
          "metadata": {},
          "execution_count": 57
        }
      ]
    },
    {
      "cell_type": "code",
      "source": [
        "\n",
        "arr2 = arr.reshape(5,10)\n",
        "arr2, arr2.ndim, arr2.shape"
      ],
      "metadata": {
        "colab": {
          "base_uri": "https://localhost:8080/"
        },
        "id": "uDnwRysvHrOV",
        "outputId": "0ced0737-5cab-45a3-de6a-a3c033f3153f"
      },
      "execution_count": null,
      "outputs": [
        {
          "output_type": "execute_result",
          "data": {
            "text/plain": [
              "(array([[ 0,  1,  2,  3,  4,  5,  6,  7,  8,  9],\n",
              "        [10, 11, 12, 13, 14, 15, 16, 17, 18, 19],\n",
              "        [20, 21, 22, 23, 24, 25, 26, 27, 28, 29],\n",
              "        [30, 31, 32, 33, 34, 35, 36, 37, 38, 39],\n",
              "        [40, 41, 42, 43, 44, 45, 46, 47, 48, 49]]),\n",
              " 2,\n",
              " (5, 10))"
            ]
          },
          "metadata": {},
          "execution_count": 58
        }
      ]
    },
    {
      "cell_type": "code",
      "source": [
        "# 2차원 -> 1차원\n",
        "# 넘파이배열.flatten()\n",
        "arr3 = arr2.flatten()\n",
        "arr3, arr3.shape, arr3.ndim"
      ],
      "metadata": {
        "colab": {
          "base_uri": "https://localhost:8080/"
        },
        "id": "pyTMy3XIHtCr",
        "outputId": "1295ae2a-19dd-4822-ef72-a590d40ed7e4"
      },
      "execution_count": null,
      "outputs": [
        {
          "output_type": "execute_result",
          "data": {
            "text/plain": [
              "(array([ 0,  1,  2,  3,  4,  5,  6,  7,  8,  9, 10, 11, 12, 13, 14, 15, 16,\n",
              "        17, 18, 19, 20, 21, 22, 23, 24, 25, 26, 27, 28, 29, 30, 31, 32, 33,\n",
              "        34, 35, 36, 37, 38, 39, 40, 41, 42, 43, 44, 45, 46, 47, 48, 49]),\n",
              " (50,),\n",
              " 1)"
            ]
          },
          "metadata": {},
          "execution_count": 59
        }
      ]
    },
    {
      "cell_type": "code",
      "source": [
        "# 1~100 사이의 짝수로 된 넘파이 배열 생성\n",
        "np.arange(2,101,2)"
      ],
      "metadata": {
        "colab": {
          "base_uri": "https://localhost:8080/"
        },
        "id": "KJkNzJW1HutD",
        "outputId": "c19c7509-f212-45de-c873-a160d3430ed9"
      },
      "execution_count": null,
      "outputs": [
        {
          "output_type": "execute_result",
          "data": {
            "text/plain": [
              "array([  2,   4,   6,   8,  10,  12,  14,  16,  18,  20,  22,  24,  26,\n",
              "        28,  30,  32,  34,  36,  38,  40,  42,  44,  46,  48,  50,  52,\n",
              "        54,  56,  58,  60,  62,  64,  66,  68,  70,  72,  74,  76,  78,\n",
              "        80,  82,  84,  86,  88,  90,  92,  94,  96,  98, 100])"
            ]
          },
          "metadata": {},
          "execution_count": 60
        }
      ]
    },
    {
      "cell_type": "code",
      "source": [
        "print(np.arange(2,101,2).reshape(5,10))"
      ],
      "metadata": {
        "colab": {
          "base_uri": "https://localhost:8080/"
        },
        "id": "d2WUz7gWHwG5",
        "outputId": "c6f4ee5d-a975-453e-a655-da73bcb79f19"
      },
      "execution_count": null,
      "outputs": [
        {
          "output_type": "stream",
          "name": "stdout",
          "text": [
            "[[  2   4   6   8  10  12  14  16  18  20]\n",
            " [ 22  24  26  28  30  32  34  36  38  40]\n",
            " [ 42  44  46  48  50  52  54  56  58  60]\n",
            " [ 62  64  66  68  70  72  74  76  78  80]\n",
            " [ 82  84  86  88  90  92  94  96  98 100]]\n"
          ]
        }
      ]
    },
    {
      "cell_type": "code",
      "source": [
        "\n",
        "# 2차원인데 1개 칼럼의 모형을 만들어보자\n",
        "# reshape(-1, n) : 2차원 n개의 컬럼으로 구성, -1을 넣으면 자동으로 사이즈를 맞춰준다.\n",
        "arr4 = np.arange(1, 31).reshape(-1, 1)\n",
        "arr4, arr4.ndim, arr4.shape"
      ],
      "metadata": {
        "colab": {
          "base_uri": "https://localhost:8080/"
        },
        "id": "yZWntzP_HwIV",
        "outputId": "39abe12d-b2c8-49c6-cf4d-b4859c4d6c40"
      },
      "execution_count": null,
      "outputs": [
        {
          "output_type": "execute_result",
          "data": {
            "text/plain": [
              "(array([[ 1],\n",
              "        [ 2],\n",
              "        [ 3],\n",
              "        [ 4],\n",
              "        [ 5],\n",
              "        [ 6],\n",
              "        [ 7],\n",
              "        [ 8],\n",
              "        [ 9],\n",
              "        [10],\n",
              "        [11],\n",
              "        [12],\n",
              "        [13],\n",
              "        [14],\n",
              "        [15],\n",
              "        [16],\n",
              "        [17],\n",
              "        [18],\n",
              "        [19],\n",
              "        [20],\n",
              "        [21],\n",
              "        [22],\n",
              "        [23],\n",
              "        [24],\n",
              "        [25],\n",
              "        [26],\n",
              "        [27],\n",
              "        [28],\n",
              "        [29],\n",
              "        [30]]),\n",
              " 2,\n",
              " (30, 1))"
            ]
          },
          "metadata": {},
          "execution_count": 62
        }
      ]
    },
    {
      "cell_type": "code",
      "source": [
        "# 4개 칼럼으로 배열 모형을 만들자\n",
        "np.arange(1, 21).reshape(5, 4)"
      ],
      "metadata": {
        "colab": {
          "base_uri": "https://localhost:8080/"
        },
        "id": "OKrCxQDnHwLx",
        "outputId": "6f5e432c-c4a8-488d-f8ed-2554b3f54f64"
      },
      "execution_count": null,
      "outputs": [
        {
          "output_type": "execute_result",
          "data": {
            "text/plain": [
              "array([[ 1,  2,  3,  4],\n",
              "       [ 5,  6,  7,  8],\n",
              "       [ 9, 10, 11, 12],\n",
              "       [13, 14, 15, 16],\n",
              "       [17, 18, 19, 20]])"
            ]
          },
          "metadata": {},
          "execution_count": 63
        }
      ]
    },
    {
      "cell_type": "code",
      "source": [
        "# 4개 칼럼으로 배열 모형을 만들자\n",
        "np.arange(1, 21).reshape(-1, 4)\n",
        "# rehsape -1은, 행무관하고 n개의 컬럼을 만든다"
      ],
      "metadata": {
        "colab": {
          "base_uri": "https://localhost:8080/"
        },
        "id": "vNJNbbK5HwO1",
        "outputId": "2b38d558-e5d1-4a3c-a382-dedbc8ecfe85"
      },
      "execution_count": null,
      "outputs": [
        {
          "output_type": "execute_result",
          "data": {
            "text/plain": [
              "array([[ 1,  2,  3,  4],\n",
              "       [ 5,  6,  7,  8],\n",
              "       [ 9, 10, 11, 12],\n",
              "       [13, 14, 15, 16],\n",
              "       [17, 18, 19, 20]])"
            ]
          },
          "metadata": {},
          "execution_count": 64
        }
      ]
    },
    {
      "cell_type": "code",
      "source": [
        "# 사이즈가 맞아야 한다.\n",
        "# np.arange(1, 21).reshape(-1, 7)"
      ],
      "metadata": {
        "id": "MFBN2GwDH2b1"
      },
      "execution_count": null,
      "outputs": []
    },
    {
      "cell_type": "code",
      "source": [
        "\n",
        "a = np.arange(12)\n",
        "a, a.shape"
      ],
      "metadata": {
        "colab": {
          "base_uri": "https://localhost:8080/"
        },
        "id": "ASgtBMJSH2h0",
        "outputId": "a9ed8f9f-c386-43ef-e717-629528029d25"
      },
      "execution_count": null,
      "outputs": [
        {
          "output_type": "execute_result",
          "data": {
            "text/plain": [
              "(array([ 0,  1,  2,  3,  4,  5,  6,  7,  8,  9, 10, 11]), (12,))"
            ]
          },
          "metadata": {},
          "execution_count": 66
        }
      ]
    },
    {
      "cell_type": "code",
      "source": [
        "# 원본 값이 바뀜\n",
        "a.shape = 2, -1\n",
        "a, a.shape"
      ],
      "metadata": {
        "colab": {
          "base_uri": "https://localhost:8080/"
        },
        "id": "rDbcs7tSH2kc",
        "outputId": "a5090045-5f0e-4c23-f81a-90a4276f9eb4"
      },
      "execution_count": null,
      "outputs": [
        {
          "output_type": "execute_result",
          "data": {
            "text/plain": [
              "(array([[ 0,  1,  2,  3,  4,  5],\n",
              "        [ 6,  7,  8,  9, 10, 11]]),\n",
              " (2, 6))"
            ]
          },
          "metadata": {},
          "execution_count": 67
        }
      ]
    },
    {
      "cell_type": "code",
      "source": [
        "\n",
        "a.shape = 3, -1\n",
        "a, a.shape"
      ],
      "metadata": {
        "id": "aKZh1Bf2H2nc"
      },
      "execution_count": null,
      "outputs": []
    },
    {
      "cell_type": "code",
      "source": [
        "\n",
        "a.shape = -1, 1\n",
        "a, a.shape"
      ],
      "metadata": {
        "colab": {
          "base_uri": "https://localhost:8080/"
        },
        "id": "yiti1hTJH-Z-",
        "outputId": "d12d3033-363c-44ad-baec-349db9f52fb5"
      },
      "execution_count": null,
      "outputs": [
        {
          "output_type": "execute_result",
          "data": {
            "text/plain": [
              "(array([[ 0],\n",
              "        [ 1],\n",
              "        [ 2],\n",
              "        [ 3],\n",
              "        [ 4],\n",
              "        [ 5],\n",
              "        [ 6],\n",
              "        [ 7],\n",
              "        [ 8],\n",
              "        [ 9],\n",
              "        [10],\n",
              "        [11]]),\n",
              " (12, 1))"
            ]
          },
          "metadata": {},
          "execution_count": 68
        }
      ]
    },
    {
      "cell_type": "code",
      "source": [
        "a.shape = -1, 2\n",
        "a, a.shape"
      ],
      "metadata": {
        "colab": {
          "base_uri": "https://localhost:8080/"
        },
        "id": "2Y6hgVUUH-cd",
        "outputId": "84fcecda-ae30-4e58-fe1c-fdf6d7458531"
      },
      "execution_count": null,
      "outputs": [
        {
          "output_type": "execute_result",
          "data": {
            "text/plain": [
              "(array([[ 0,  1],\n",
              "        [ 2,  3],\n",
              "        [ 4,  5],\n",
              "        [ 6,  7],\n",
              "        [ 8,  9],\n",
              "        [10, 11]]),\n",
              " (6, 2))"
            ]
          },
          "metadata": {},
          "execution_count": 69
        }
      ]
    },
    {
      "cell_type": "code",
      "source": [
        "\n",
        "a.shape = -1, 3\n",
        "a, a.shape"
      ],
      "metadata": {
        "colab": {
          "base_uri": "https://localhost:8080/"
        },
        "id": "zb62Qu9vH-e3",
        "outputId": "8316e0d3-6c52-4ecc-b399-47647d52ccb2"
      },
      "execution_count": null,
      "outputs": [
        {
          "output_type": "execute_result",
          "data": {
            "text/plain": [
              "(array([[ 0,  1,  2],\n",
              "        [ 3,  4,  5],\n",
              "        [ 6,  7,  8],\n",
              "        [ 9, 10, 11]]),\n",
              " (4, 3))"
            ]
          },
          "metadata": {},
          "execution_count": 70
        }
      ]
    },
    {
      "cell_type": "code",
      "source": [
        "# flatten\n",
        "a.shape = -1\n",
        "a, a.shape\n"
      ],
      "metadata": {
        "colab": {
          "base_uri": "https://localhost:8080/"
        },
        "id": "AC0m_Mz3ICdl",
        "outputId": "aa6a6b6d-85ac-4df2-b9c6-588765a4939d"
      },
      "execution_count": null,
      "outputs": [
        {
          "output_type": "execute_result",
          "data": {
            "text/plain": [
              "(array([ 0,  1,  2,  3,  4,  5,  6,  7,  8,  9, 10, 11]), (12,))"
            ]
          },
          "metadata": {},
          "execution_count": 71
        }
      ]
    },
    {
      "cell_type": "markdown",
      "source": [],
      "metadata": {
        "id": "7OTHVBfQIFog"
      }
    },
    {
      "cell_type": "markdown",
      "source": [
        "# **넘파이배열의 자료형 형변환**\n",
        "\n",
        "배열명2 = 배열명1.astype(자료형)\n",
        "자료형 = np.float64, np.int32"
      ],
      "metadata": {
        "id": "8lWxuW2fIFsf"
      }
    },
    {
      "cell_type": "code",
      "source": [
        "\n",
        "matrix1 = np.arange(1, 10)\n",
        "matrix1, matrix1.dtype"
      ],
      "metadata": {
        "colab": {
          "base_uri": "https://localhost:8080/"
        },
        "id": "gvxiuwKPIHss",
        "outputId": "390c5fe2-63ba-4221-bffe-c6e5c871b813"
      },
      "execution_count": null,
      "outputs": [
        {
          "output_type": "execute_result",
          "data": {
            "text/plain": [
              "(array([1, 2, 3, 4, 5, 6, 7, 8, 9]), dtype('int64'))"
            ]
          },
          "metadata": {},
          "execution_count": 72
        }
      ]
    },
    {
      "cell_type": "code",
      "source": [
        "\n",
        "# 정수형, 3행 3열\n",
        "matrix = np.arange(1, 10).reshape(3,3)\n",
        "matrix, matrix.dtype"
      ],
      "metadata": {
        "colab": {
          "base_uri": "https://localhost:8080/"
        },
        "id": "noZAayaNIKIn",
        "outputId": "51e3bfa0-adaf-45ec-a86b-33afef21cc9c"
      },
      "execution_count": null,
      "outputs": [
        {
          "output_type": "execute_result",
          "data": {
            "text/plain": [
              "(array([[1, 2, 3],\n",
              "        [4, 5, 6],\n",
              "        [7, 8, 9]]),\n",
              " dtype('int64'))"
            ]
          },
          "metadata": {},
          "execution_count": 73
        }
      ]
    },
    {
      "cell_type": "code",
      "source": [
        "\n",
        "# 실수형, 3행 3열\n",
        "matrix = np.arange(1, 10, dtype=float).reshape(3,3)\n",
        "matrix, matrix.dtype"
      ],
      "metadata": {
        "colab": {
          "base_uri": "https://localhost:8080/"
        },
        "id": "mdiz0U70IKK_",
        "outputId": "4e0827d8-bf13-4eea-8128-9194345452ff"
      },
      "execution_count": null,
      "outputs": [
        {
          "output_type": "execute_result",
          "data": {
            "text/plain": [
              "(array([[1., 2., 3.],\n",
              "        [4., 5., 6.],\n",
              "        [7., 8., 9.]]),\n",
              " dtype('float64'))"
            ]
          },
          "metadata": {},
          "execution_count": 74
        }
      ]
    },
    {
      "cell_type": "code",
      "source": [
        "\n",
        "# 문자열형, 3행 3열 -> 불가\n",
        "matrix = np.arange(1, 10, dtype='str').reshape(3,3)\n",
        "matrix, matrix.dtype"
      ],
      "metadata": {
        "colab": {
          "base_uri": "https://localhost:8080/",
          "height": 216
        },
        "id": "45RNHrbhIKNL",
        "outputId": "5c735fa8-4351-43da-8041-ceb703ee8833"
      },
      "execution_count": null,
      "outputs": [
        {
          "output_type": "error",
          "ename": "ValueError",
          "evalue": "ignored",
          "traceback": [
            "\u001b[0;31m---------------------------------------------------------------------------\u001b[0m",
            "\u001b[0;31mValueError\u001b[0m                                Traceback (most recent call last)",
            "\u001b[0;32m<ipython-input-75-ec3e0557d034>\u001b[0m in \u001b[0;36m<cell line: 2>\u001b[0;34m()\u001b[0m\n\u001b[1;32m      1\u001b[0m \u001b[0;31m# 문자열형, 3행 3열 -> 불가\u001b[0m\u001b[0;34m\u001b[0m\u001b[0;34m\u001b[0m\u001b[0m\n\u001b[0;32m----> 2\u001b[0;31m \u001b[0mmatrix\u001b[0m \u001b[0;34m=\u001b[0m \u001b[0mnp\u001b[0m\u001b[0;34m.\u001b[0m\u001b[0marange\u001b[0m\u001b[0;34m(\u001b[0m\u001b[0;36m1\u001b[0m\u001b[0;34m,\u001b[0m \u001b[0;36m10\u001b[0m\u001b[0;34m,\u001b[0m \u001b[0mdtype\u001b[0m\u001b[0;34m=\u001b[0m\u001b[0;34m'str'\u001b[0m\u001b[0;34m)\u001b[0m\u001b[0;34m.\u001b[0m\u001b[0mreshape\u001b[0m\u001b[0;34m(\u001b[0m\u001b[0;36m3\u001b[0m\u001b[0;34m,\u001b[0m\u001b[0;36m3\u001b[0m\u001b[0;34m)\u001b[0m\u001b[0;34m\u001b[0m\u001b[0;34m\u001b[0m\u001b[0m\n\u001b[0m\u001b[1;32m      3\u001b[0m \u001b[0mmatrix\u001b[0m\u001b[0;34m,\u001b[0m \u001b[0mmatrix\u001b[0m\u001b[0;34m.\u001b[0m\u001b[0mdtype\u001b[0m\u001b[0;34m\u001b[0m\u001b[0;34m\u001b[0m\u001b[0m\n",
            "\u001b[0;31mValueError\u001b[0m: no fill-function for data-type."
          ]
        }
      ]
    },
    {
      "cell_type": "code",
      "source": [
        "\n",
        "# 정수형 => 문자열\n",
        "matrix.astype('<U5')\n"
      ],
      "metadata": {
        "colab": {
          "base_uri": "https://localhost:8080/"
        },
        "id": "X2jgBSOZIKPH",
        "outputId": "d5ea95d8-15fe-495e-9459-0617b5a00ab9"
      },
      "execution_count": null,
      "outputs": [
        {
          "output_type": "execute_result",
          "data": {
            "text/plain": [
              "array([['1.0', '2.0', '3.0'],\n",
              "       ['4.0', '5.0', '6.0'],\n",
              "       ['7.0', '8.0', '9.0']], dtype='<U5')"
            ]
          },
          "metadata": {},
          "execution_count": 76
        }
      ]
    },
    {
      "cell_type": "code",
      "source": [
        "# 논리형으로 구성된 넘파이 배열 생성\n",
        "matrix2 = np.array([True, False, True, True])\n",
        "matrix2, matrix2.dtype"
      ],
      "metadata": {
        "colab": {
          "base_uri": "https://localhost:8080/"
        },
        "id": "ujPVtIg8IRuT",
        "outputId": "441e40ff-cb97-47ed-c225-bd88ea7c8554"
      },
      "execution_count": null,
      "outputs": [
        {
          "output_type": "execute_result",
          "data": {
            "text/plain": [
              "(array([ True, False,  True,  True]), dtype('bool'))"
            ]
          },
          "metadata": {},
          "execution_count": 77
        }
      ]
    },
    {
      "cell_type": "code",
      "source": [
        "\n",
        "# 불린 -> 정수\n",
        "matrix2.astype(int)\n"
      ],
      "metadata": {
        "colab": {
          "base_uri": "https://localhost:8080/"
        },
        "id": "ZGuciUWDIRvg",
        "outputId": "11830a34-07f0-4087-ee53-89b3196ccc27"
      },
      "execution_count": null,
      "outputs": [
        {
          "output_type": "execute_result",
          "data": {
            "text/plain": [
              "array([1, 0, 1, 1])"
            ]
          },
          "metadata": {},
          "execution_count": 78
        }
      ]
    },
    {
      "cell_type": "code",
      "source": [
        "\n",
        "# 불린형 -> 문자열\n",
        "matrix2.astype('<U5')"
      ],
      "metadata": {
        "colab": {
          "base_uri": "https://localhost:8080/"
        },
        "id": "siIDBzgcIRyQ",
        "outputId": "fb994514-44aa-4a14-a438-8885be9cde01"
      },
      "execution_count": null,
      "outputs": [
        {
          "output_type": "execute_result",
          "data": {
            "text/plain": [
              "array(['True', 'False', 'True', 'True'], dtype='<U5')"
            ]
          },
          "metadata": {},
          "execution_count": 79
        }
      ]
    },
    {
      "cell_type": "code",
      "source": [
        "# 문자열 숫자 => 정수 , 실수\n",
        "matrix3 = np.array(['3.14', '5.5', '0.78'])\n",
        "matrix3, matrix3.dtype"
      ],
      "metadata": {
        "colab": {
          "base_uri": "https://localhost:8080/"
        },
        "id": "ruXDPfBIIR18",
        "outputId": "a8391414-c34c-40b5-8c39-3907d6c3f500"
      },
      "execution_count": null,
      "outputs": [
        {
          "output_type": "execute_result",
          "data": {
            "text/plain": [
              "(array(['3.14', '5.5', '0.78'], dtype='<U4'), dtype('<U4'))"
            ]
          },
          "metadata": {},
          "execution_count": 80
        }
      ]
    },
    {
      "cell_type": "code",
      "source": [
        "\n",
        "print(matrix3.astype(float))\n",
        "\n",
        "print(matrix3.astype(int)) # 불가\n",
        "print(matrix3.astype(bool)) # 불가"
      ],
      "metadata": {
        "colab": {
          "base_uri": "https://localhost:8080/",
          "height": 251
        },
        "id": "zUEr5Jr_IR4O",
        "outputId": "2c2f5467-cb04-4b5e-e28a-11ef4b302601"
      },
      "execution_count": null,
      "outputs": [
        {
          "output_type": "stream",
          "name": "stdout",
          "text": [
            "[3.14 5.5  0.78]\n"
          ]
        },
        {
          "output_type": "error",
          "ename": "ValueError",
          "evalue": "ignored",
          "traceback": [
            "\u001b[0;31m---------------------------------------------------------------------------\u001b[0m",
            "\u001b[0;31mValueError\u001b[0m                                Traceback (most recent call last)",
            "\u001b[0;32m<ipython-input-81-619f4c7c9b91>\u001b[0m in \u001b[0;36m<cell line: 3>\u001b[0;34m()\u001b[0m\n\u001b[1;32m      1\u001b[0m \u001b[0mprint\u001b[0m\u001b[0;34m(\u001b[0m\u001b[0mmatrix3\u001b[0m\u001b[0;34m.\u001b[0m\u001b[0mastype\u001b[0m\u001b[0;34m(\u001b[0m\u001b[0mfloat\u001b[0m\u001b[0;34m)\u001b[0m\u001b[0;34m)\u001b[0m\u001b[0;34m\u001b[0m\u001b[0;34m\u001b[0m\u001b[0m\n\u001b[1;32m      2\u001b[0m \u001b[0;34m\u001b[0m\u001b[0m\n\u001b[0;32m----> 3\u001b[0;31m \u001b[0mprint\u001b[0m\u001b[0;34m(\u001b[0m\u001b[0mmatrix3\u001b[0m\u001b[0;34m.\u001b[0m\u001b[0mastype\u001b[0m\u001b[0;34m(\u001b[0m\u001b[0mint\u001b[0m\u001b[0;34m)\u001b[0m\u001b[0;34m)\u001b[0m \u001b[0;31m# 불가\u001b[0m\u001b[0;34m\u001b[0m\u001b[0;34m\u001b[0m\u001b[0m\n\u001b[0m\u001b[1;32m      4\u001b[0m \u001b[0mprint\u001b[0m\u001b[0;34m(\u001b[0m\u001b[0mmatrix3\u001b[0m\u001b[0;34m.\u001b[0m\u001b[0mastype\u001b[0m\u001b[0;34m(\u001b[0m\u001b[0mbool\u001b[0m\u001b[0;34m)\u001b[0m\u001b[0;34m)\u001b[0m \u001b[0;31m# 불가\u001b[0m\u001b[0;34m\u001b[0m\u001b[0;34m\u001b[0m\u001b[0m\n",
            "\u001b[0;31mValueError\u001b[0m: invalid literal for int() with base 10: '3.14'"
          ]
        }
      ]
    },
    {
      "cell_type": "code",
      "source": [
        "\n",
        "matrix4 = np.array(['3', '5', '7'])\n",
        "matrix4.astype(int)  # 가능, 값이 유효하기 때문"
      ],
      "metadata": {
        "colab": {
          "base_uri": "https://localhost:8080/"
        },
        "id": "lmNHyupAIYIv",
        "outputId": "33ea786a-7d69-4eb4-f1c6-b9f08e88e896"
      },
      "execution_count": null,
      "outputs": [
        {
          "output_type": "execute_result",
          "data": {
            "text/plain": [
              "array([3, 5, 7])"
            ]
          },
          "metadata": {},
          "execution_count": 82
        }
      ]
    },
    {
      "cell_type": "markdown",
      "source": [
        "\n",
        "# **넘파이 배열의 인덱싱**\n",
        "\n",
        "넘파이배열[index] 넘파이배열[i, j], 넘파이배열[i][j] : i행 j 열"
      ],
      "metadata": {
        "id": "qD68OGh0IbB8"
      }
    },
    {
      "cell_type": "code",
      "source": [
        "\n",
        "a = np.array([1, 3, 5, 7, 9])\n",
        "a, a.ndim, a.shape, a.size"
      ],
      "metadata": {
        "colab": {
          "base_uri": "https://localhost:8080/"
        },
        "id": "w8DIlWn-IYK8",
        "outputId": "c43cf191-7a10-462e-bab8-f24f5421c543"
      },
      "execution_count": null,
      "outputs": [
        {
          "output_type": "execute_result",
          "data": {
            "text/plain": [
              "(array([1, 3, 5, 7, 9]), 1, (5,), 5)"
            ]
          },
          "metadata": {},
          "execution_count": 83
        }
      ]
    },
    {
      "cell_type": "code",
      "source": [
        "a[0]"
      ],
      "metadata": {
        "colab": {
          "base_uri": "https://localhost:8080/"
        },
        "id": "zJMOArL9IYOQ",
        "outputId": "d866f44a-4e6c-4cf5-b72a-7d58b1a18600"
      },
      "execution_count": null,
      "outputs": [
        {
          "output_type": "execute_result",
          "data": {
            "text/plain": [
              "1"
            ]
          },
          "metadata": {},
          "execution_count": 85
        }
      ]
    },
    {
      "cell_type": "code",
      "source": [
        "\n",
        "a[2]"
      ],
      "metadata": {
        "colab": {
          "base_uri": "https://localhost:8080/"
        },
        "id": "AeUrr1VFIi22",
        "outputId": "ed496c59-0cbc-4001-93b1-605394e6f552"
      },
      "execution_count": null,
      "outputs": [
        {
          "output_type": "execute_result",
          "data": {
            "text/plain": [
              "5"
            ]
          },
          "metadata": {},
          "execution_count": 86
        }
      ]
    },
    {
      "cell_type": "code",
      "source": [
        "\n",
        "a[4]"
      ],
      "metadata": {
        "colab": {
          "base_uri": "https://localhost:8080/"
        },
        "id": "XFIlAI10IjI5",
        "outputId": "33af6765-bab7-46be-dbaa-2764a609ae3f"
      },
      "execution_count": null,
      "outputs": [
        {
          "output_type": "execute_result",
          "data": {
            "text/plain": [
              "9"
            ]
          },
          "metadata": {},
          "execution_count": 87
        }
      ]
    },
    {
      "cell_type": "code",
      "source": [
        "\n",
        "a[-1]"
      ],
      "metadata": {
        "colab": {
          "base_uri": "https://localhost:8080/"
        },
        "id": "sV1nvV8SIkEB",
        "outputId": "9f9ba354-9a69-4cd2-beee-3315abaa9219"
      },
      "execution_count": null,
      "outputs": [
        {
          "output_type": "execute_result",
          "data": {
            "text/plain": [
              "9"
            ]
          },
          "metadata": {},
          "execution_count": 89
        }
      ]
    },
    {
      "cell_type": "code",
      "source": [
        "\n",
        "a[-3]"
      ],
      "metadata": {
        "id": "t4QE4zhdInW8"
      },
      "execution_count": null,
      "outputs": []
    },
    {
      "cell_type": "code",
      "source": [
        "a[-5]"
      ],
      "metadata": {
        "colab": {
          "base_uri": "https://localhost:8080/"
        },
        "id": "xltQEaZqInZ5",
        "outputId": "91209ff3-270d-4060-fe85-df697a5fa398"
      },
      "execution_count": null,
      "outputs": [
        {
          "output_type": "execute_result",
          "data": {
            "text/plain": [
              "1"
            ]
          },
          "metadata": {},
          "execution_count": 90
        }
      ]
    },
    {
      "cell_type": "code",
      "source": [
        "a[[0, 2, 4]]"
      ],
      "metadata": {
        "colab": {
          "base_uri": "https://localhost:8080/"
        },
        "id": "kzIRCT76Iqq9",
        "outputId": "2d031a2a-6d98-4123-ce31-7cd4d8dea38a"
      },
      "execution_count": null,
      "outputs": [
        {
          "output_type": "execute_result",
          "data": {
            "text/plain": [
              "array([1, 5, 9])"
            ]
          },
          "metadata": {},
          "execution_count": 92
        }
      ]
    },
    {
      "cell_type": "code",
      "source": [
        "a"
      ],
      "metadata": {
        "colab": {
          "base_uri": "https://localhost:8080/"
        },
        "id": "7-eYKIg0Iznt",
        "outputId": "f9066916-976b-46d8-bfc4-abab7907f453"
      },
      "execution_count": null,
      "outputs": [
        {
          "output_type": "execute_result",
          "data": {
            "text/plain": [
              "array([1, 3, 5, 7, 9])"
            ]
          },
          "metadata": {},
          "execution_count": 93
        }
      ]
    },
    {
      "cell_type": "code",
      "source": [
        "\n",
        "# 행렬 구조로 인덱싱도 가능하다\n",
        "i = np.array([[1,3], [4,2]])\n",
        "i"
      ],
      "metadata": {
        "colab": {
          "base_uri": "https://localhost:8080/"
        },
        "id": "WtJSNQVDI0E_",
        "outputId": "035b3f34-ffe2-4c4e-b98c-362c066550b4"
      },
      "execution_count": null,
      "outputs": [
        {
          "output_type": "execute_result",
          "data": {
            "text/plain": [
              "array([[1, 3],\n",
              "       [4, 2]])"
            ]
          },
          "metadata": {},
          "execution_count": 94
        }
      ]
    },
    {
      "cell_type": "code",
      "source": [
        "\n",
        "# 넘파이배열1을 넘파이배열2로 인덱싱하는 경우. 넘파이배열2는 인덱스 번호로 인식\n",
        "a[i]"
      ],
      "metadata": {
        "colab": {
          "base_uri": "https://localhost:8080/"
        },
        "id": "KaZr90IzI2x8",
        "outputId": "a3b23dbd-1942-4b15-ae05-61e7405a4d31"
      },
      "execution_count": null,
      "outputs": [
        {
          "output_type": "execute_result",
          "data": {
            "text/plain": [
              "array([[3, 7],\n",
              "       [9, 5]])"
            ]
          },
          "metadata": {},
          "execution_count": 95
        }
      ]
    },
    {
      "cell_type": "code",
      "source": [
        "\n",
        "a[2] = 0\n",
        "a"
      ],
      "metadata": {
        "colab": {
          "base_uri": "https://localhost:8080/"
        },
        "id": "kNOvz5TaI2zP",
        "outputId": "c2cdc6c8-6600-4dba-f5a7-aa98b9295d6b"
      },
      "execution_count": null,
      "outputs": [
        {
          "output_type": "execute_result",
          "data": {
            "text/plain": [
              "array([1, 3, 0, 7, 9])"
            ]
          },
          "metadata": {},
          "execution_count": 96
        }
      ]
    },
    {
      "cell_type": "code",
      "source": [
        "\n",
        "a[1] += 2\n",
        "a"
      ],
      "metadata": {
        "colab": {
          "base_uri": "https://localhost:8080/"
        },
        "id": "4sUJxcX0I6DD",
        "outputId": "fd2544e3-cddc-4972-9955-8580a47d2c23"
      },
      "execution_count": null,
      "outputs": [
        {
          "output_type": "execute_result",
          "data": {
            "text/plain": [
              "array([1, 5, 0, 7, 9])"
            ]
          },
          "metadata": {},
          "execution_count": 97
        }
      ]
    },
    {
      "cell_type": "code",
      "source": [
        "\n",
        "a[0] *= 6\n",
        "a"
      ],
      "metadata": {
        "colab": {
          "base_uri": "https://localhost:8080/"
        },
        "id": "rjrKz2m4I6sx",
        "outputId": "cc06ccc4-ca66-43b9-d479-ec002081035c"
      },
      "execution_count": null,
      "outputs": [
        {
          "output_type": "execute_result",
          "data": {
            "text/plain": [
              "array([6, 5, 0, 7, 9])"
            ]
          },
          "metadata": {},
          "execution_count": 98
        }
      ]
    },
    {
      "cell_type": "markdown",
      "source": [
        "\n",
        "# 2D array\n"
      ],
      "metadata": {
        "id": "zqKriWohI-Xj"
      }
    },
    {
      "cell_type": "code",
      "source": [
        "\n",
        "a = np.arange(15).reshape(3, 5)\n",
        "a, a.ndim, a.shape, a.size"
      ],
      "metadata": {
        "colab": {
          "base_uri": "https://localhost:8080/"
        },
        "id": "nVhVirlQI6xq",
        "outputId": "85e2a638-bd23-4ebd-82d2-2c02f844bb92"
      },
      "execution_count": null,
      "outputs": [
        {
          "output_type": "execute_result",
          "data": {
            "text/plain": [
              "(array([[ 0,  1,  2,  3,  4],\n",
              "        [ 5,  6,  7,  8,  9],\n",
              "        [10, 11, 12, 13, 14]]),\n",
              " 2,\n",
              " (3, 5),\n",
              " 15)"
            ]
          },
          "metadata": {},
          "execution_count": 99
        }
      ]
    },
    {
      "cell_type": "code",
      "source": [
        "\n",
        "a[0]"
      ],
      "metadata": {
        "colab": {
          "base_uri": "https://localhost:8080/"
        },
        "id": "cCFyMv3gJDpw",
        "outputId": "127feebe-4d1e-477a-d2a8-5c4731932eb6"
      },
      "execution_count": null,
      "outputs": [
        {
          "output_type": "execute_result",
          "data": {
            "text/plain": [
              "array([0, 1, 2, 3, 4])"
            ]
          },
          "metadata": {},
          "execution_count": 100
        }
      ]
    },
    {
      "cell_type": "code",
      "source": [
        "\n",
        "a[1]"
      ],
      "metadata": {
        "colab": {
          "base_uri": "https://localhost:8080/"
        },
        "id": "Kct3au1TJDxI",
        "outputId": "84008337-1280-4243-fa63-dbf4e5d298dc"
      },
      "execution_count": null,
      "outputs": [
        {
          "output_type": "execute_result",
          "data": {
            "text/plain": [
              "array([5, 6, 7, 8, 9])"
            ]
          },
          "metadata": {},
          "execution_count": 101
        }
      ]
    },
    {
      "cell_type": "code",
      "source": [
        "\n",
        "a[2]"
      ],
      "metadata": {
        "colab": {
          "base_uri": "https://localhost:8080/"
        },
        "id": "9JmmTkLwJGap",
        "outputId": "cfacbac1-bb56-4ad2-de8a-04a33c9e04a9"
      },
      "execution_count": null,
      "outputs": [
        {
          "output_type": "execute_result",
          "data": {
            "text/plain": [
              "array([10, 11, 12, 13, 14])"
            ]
          },
          "metadata": {},
          "execution_count": 104
        }
      ]
    },
    {
      "cell_type": "code",
      "source": [
        "a[-1]"
      ],
      "metadata": {
        "colab": {
          "base_uri": "https://localhost:8080/"
        },
        "id": "uBU1n8DwJJLO",
        "outputId": "555a4fdc-b77e-405d-e958-8efdd29f10dc"
      },
      "execution_count": null,
      "outputs": [
        {
          "output_type": "execute_result",
          "data": {
            "text/plain": [
              "array([10, 11, 12, 13, 14])"
            ]
          },
          "metadata": {},
          "execution_count": 103
        }
      ]
    },
    {
      "cell_type": "code",
      "source": [
        "a[-2]"
      ],
      "metadata": {
        "colab": {
          "base_uri": "https://localhost:8080/"
        },
        "id": "SZ1XdbhlJGem",
        "outputId": "ff952cbe-474f-48db-9420-185c25f2cd21"
      },
      "execution_count": null,
      "outputs": [
        {
          "output_type": "execute_result",
          "data": {
            "text/plain": [
              "array([5, 6, 7, 8, 9])"
            ]
          },
          "metadata": {},
          "execution_count": 105
        }
      ]
    },
    {
      "cell_type": "code",
      "source": [
        "\n",
        "a[-3]"
      ],
      "metadata": {
        "colab": {
          "base_uri": "https://localhost:8080/"
        },
        "id": "ZOrh19hZJN8l",
        "outputId": "44abe5df-ca16-42ff-a035-c4cbdb7c619e"
      },
      "execution_count": null,
      "outputs": [
        {
          "output_type": "execute_result",
          "data": {
            "text/plain": [
              "array([0, 1, 2, 3, 4])"
            ]
          },
          "metadata": {},
          "execution_count": 107
        }
      ]
    },
    {
      "cell_type": "code",
      "source": [
        "a"
      ],
      "metadata": {
        "colab": {
          "base_uri": "https://localhost:8080/"
        },
        "id": "mL_TMzr2JScy",
        "outputId": "13884574-4bb8-4d62-ffc4-fc2b3cc61026"
      },
      "execution_count": null,
      "outputs": [
        {
          "output_type": "execute_result",
          "data": {
            "text/plain": [
              "array([[ 0,  1,  2,  3,  4],\n",
              "       [ 5,  6,  7,  8,  9],\n",
              "       [10, 11, 12, 13, 14]])"
            ]
          },
          "metadata": {},
          "execution_count": 109
        }
      ]
    },
    {
      "cell_type": "code",
      "source": [
        "a[0, 0]"
      ],
      "metadata": {
        "colab": {
          "base_uri": "https://localhost:8080/"
        },
        "id": "wks0v-ZUJT5c",
        "outputId": "5c8abeb8-3c03-4a04-e0ff-be073e1aeb02"
      },
      "execution_count": null,
      "outputs": [
        {
          "output_type": "execute_result",
          "data": {
            "text/plain": [
              "0"
            ]
          },
          "metadata": {},
          "execution_count": 110
        }
      ]
    },
    {
      "cell_type": "code",
      "source": [
        "\n",
        "a[0, 1]"
      ],
      "metadata": {
        "id": "QO2l2zk9JWHL"
      },
      "execution_count": null,
      "outputs": []
    },
    {
      "cell_type": "code",
      "source": [
        "\n",
        "a[0, 2]"
      ],
      "metadata": {
        "id": "Cz8UZ5JyJWKR"
      },
      "execution_count": null,
      "outputs": []
    },
    {
      "cell_type": "code",
      "source": [
        "\n",
        "a[1, 0]"
      ],
      "metadata": {
        "colab": {
          "base_uri": "https://localhost:8080/"
        },
        "id": "90U8AGMMJWMW",
        "outputId": "ae6073b2-fc6c-4102-8190-4aed62431859"
      },
      "execution_count": null,
      "outputs": [
        {
          "output_type": "execute_result",
          "data": {
            "text/plain": [
              "5"
            ]
          },
          "metadata": {},
          "execution_count": 111
        }
      ]
    },
    {
      "cell_type": "code",
      "source": [
        "\n",
        "a[1, 1]"
      ],
      "metadata": {
        "colab": {
          "base_uri": "https://localhost:8080/"
        },
        "id": "Xi-utb7wJiCK",
        "outputId": "acca35e0-4974-42f8-c932-c44214447789"
      },
      "execution_count": null,
      "outputs": [
        {
          "output_type": "execute_result",
          "data": {
            "text/plain": [
              "6"
            ]
          },
          "metadata": {},
          "execution_count": 112
        }
      ]
    },
    {
      "cell_type": "code",
      "source": [
        "\n",
        "a[1, 2]"
      ],
      "metadata": {
        "colab": {
          "base_uri": "https://localhost:8080/"
        },
        "id": "M2ndP12nJkZP",
        "outputId": "f3edcbb0-fd28-4de4-8e1a-20309a4ac31f"
      },
      "execution_count": null,
      "outputs": [
        {
          "output_type": "execute_result",
          "data": {
            "text/plain": [
              "7"
            ]
          },
          "metadata": {},
          "execution_count": 113
        }
      ]
    },
    {
      "cell_type": "code",
      "source": [
        "a[2, 0]"
      ],
      "metadata": {
        "colab": {
          "base_uri": "https://localhost:8080/"
        },
        "id": "J0nIcbZJJkb1",
        "outputId": "31e25a0f-de0c-42ca-b518-bb82f28a016f"
      },
      "execution_count": null,
      "outputs": [
        {
          "output_type": "execute_result",
          "data": {
            "text/plain": [
              "10"
            ]
          },
          "metadata": {},
          "execution_count": 114
        }
      ]
    },
    {
      "cell_type": "code",
      "source": [
        "a[2, 1]"
      ],
      "metadata": {
        "colab": {
          "base_uri": "https://localhost:8080/"
        },
        "id": "YFlwEoC1JkeT",
        "outputId": "5f553321-05d3-47f5-ee16-9ee21f750679"
      },
      "execution_count": null,
      "outputs": [
        {
          "output_type": "execute_result",
          "data": {
            "text/plain": [
              "11"
            ]
          },
          "metadata": {},
          "execution_count": 115
        }
      ]
    },
    {
      "cell_type": "code",
      "source": [
        "a[2, 2]"
      ],
      "metadata": {
        "colab": {
          "base_uri": "https://localhost:8080/"
        },
        "id": "V5t3bvNjJkgM",
        "outputId": "2120ce5d-6317-4856-ce2e-5f04b9abf19c"
      },
      "execution_count": null,
      "outputs": [
        {
          "output_type": "execute_result",
          "data": {
            "text/plain": [
              "12"
            ]
          },
          "metadata": {},
          "execution_count": 116
        }
      ]
    },
    {
      "cell_type": "code",
      "source": [
        "\n",
        "a[-1, 0]"
      ],
      "metadata": {
        "colab": {
          "base_uri": "https://localhost:8080/"
        },
        "id": "Pt-LOfyzJkih",
        "outputId": "f58af830-f72a-4ea5-9daa-439ca8e5dadf"
      },
      "execution_count": null,
      "outputs": [
        {
          "output_type": "execute_result",
          "data": {
            "text/plain": [
              "10"
            ]
          },
          "metadata": {},
          "execution_count": 117
        }
      ]
    },
    {
      "cell_type": "code",
      "source": [
        "\n",
        "a[-1, 1]"
      ],
      "metadata": {
        "colab": {
          "base_uri": "https://localhost:8080/"
        },
        "id": "dkPEEdStJkku",
        "outputId": "e7182a8e-6c12-49d0-e4fe-71adb950ee8c"
      },
      "execution_count": null,
      "outputs": [
        {
          "output_type": "execute_result",
          "data": {
            "text/plain": [
              "11"
            ]
          },
          "metadata": {},
          "execution_count": 118
        }
      ]
    },
    {
      "cell_type": "code",
      "source": [
        "\n",
        "a[-1, 2]"
      ],
      "metadata": {
        "colab": {
          "base_uri": "https://localhost:8080/"
        },
        "id": "nbRHOHZzJkmS",
        "outputId": "8e41d329-d3f3-42eb-a100-fe7ad2365119"
      },
      "execution_count": null,
      "outputs": [
        {
          "output_type": "execute_result",
          "data": {
            "text/plain": [
              "12"
            ]
          },
          "metadata": {},
          "execution_count": 119
        }
      ]
    },
    {
      "cell_type": "code",
      "source": [
        "a = np.arange(15).reshape(3, -1)\n",
        "a"
      ],
      "metadata": {
        "colab": {
          "base_uri": "https://localhost:8080/"
        },
        "id": "ndaGb_ngJs4G",
        "outputId": "87a716a1-f33b-48d7-a0a2-001cdb31b361"
      },
      "execution_count": null,
      "outputs": [
        {
          "output_type": "execute_result",
          "data": {
            "text/plain": [
              "array([[ 0,  1,  2,  3,  4],\n",
              "       [ 5,  6,  7,  8,  9],\n",
              "       [10, 11, 12, 13, 14]])"
            ]
          },
          "metadata": {},
          "execution_count": 120
        }
      ]
    },
    {
      "cell_type": "code",
      "source": [
        "\n",
        "a[1] = [1, 3, 5, 7, 9]\n",
        "a"
      ],
      "metadata": {
        "colab": {
          "base_uri": "https://localhost:8080/"
        },
        "id": "XF-tTbm2Js6f",
        "outputId": "7c979cea-f236-4582-e232-8c5301a550f8"
      },
      "execution_count": null,
      "outputs": [
        {
          "output_type": "execute_result",
          "data": {
            "text/plain": [
              "array([[ 0,  1,  2,  3,  4],\n",
              "       [ 1,  3,  5,  7,  9],\n",
              "       [10, 11, 12, 13, 14]])"
            ]
          },
          "metadata": {},
          "execution_count": 121
        }
      ]
    },
    {
      "cell_type": "code",
      "source": [
        "\n",
        "a[-1] = 10\n",
        "a"
      ],
      "metadata": {
        "colab": {
          "base_uri": "https://localhost:8080/"
        },
        "id": "eIJeJqGFJs8n",
        "outputId": "8999d3be-3bb9-40e3-d934-85cdc9f4c1a4"
      },
      "execution_count": null,
      "outputs": [
        {
          "output_type": "execute_result",
          "data": {
            "text/plain": [
              "array([[ 0,  1,  2,  3,  4],\n",
              "       [ 1,  3,  5,  7,  9],\n",
              "       [10, 10, 10, 10, 10]])"
            ]
          },
          "metadata": {},
          "execution_count": 122
        }
      ]
    },
    {
      "cell_type": "code",
      "source": [
        "\n",
        "a[0] += [1, 2, 3, 4, 5]\n",
        "a"
      ],
      "metadata": {
        "colab": {
          "base_uri": "https://localhost:8080/"
        },
        "id": "_KK10vapJs--",
        "outputId": "9ef78d00-6be8-4188-c4e8-eff66926ae66"
      },
      "execution_count": null,
      "outputs": [
        {
          "output_type": "execute_result",
          "data": {
            "text/plain": [
              "array([[ 1,  3,  5,  7,  9],\n",
              "       [ 1,  3,  5,  7,  9],\n",
              "       [10, 10, 10, 10, 10]])"
            ]
          },
          "metadata": {},
          "execution_count": 123
        }
      ]
    },
    {
      "cell_type": "code",
      "source": [
        "\n",
        "matrix_a = np.arange(10)\n",
        "matrix_b = np.arange(12).reshape(3,4)\n",
        "\n",
        "matrix_a, matrix_b"
      ],
      "metadata": {
        "colab": {
          "base_uri": "https://localhost:8080/"
        },
        "id": "qbAJte9DJtBJ",
        "outputId": "ff490be9-4d98-4b67-ba2e-50a934c90ecc"
      },
      "execution_count": null,
      "outputs": [
        {
          "output_type": "execute_result",
          "data": {
            "text/plain": [
              "(array([0, 1, 2, 3, 4, 5, 6, 7, 8, 9]),\n",
              " array([[ 0,  1,  2,  3],\n",
              "        [ 4,  5,  6,  7],\n",
              "        [ 8,  9, 10, 11]]))"
            ]
          },
          "metadata": {},
          "execution_count": 124
        }
      ]
    },
    {
      "cell_type": "code",
      "source": [
        "\n",
        "# 1차원에서 첫 요소와 마지막 요소\n",
        "matrix_a[0], matrix_a[-1]"
      ],
      "metadata": {
        "colab": {
          "base_uri": "https://localhost:8080/"
        },
        "id": "1ZoGwED1J0bp",
        "outputId": "e2995a95-40e1-438b-eb40-81953715fc03"
      },
      "execution_count": null,
      "outputs": [
        {
          "output_type": "execute_result",
          "data": {
            "text/plain": [
              "(0, 9)"
            ]
          },
          "metadata": {},
          "execution_count": 125
        }
      ]
    },
    {
      "cell_type": "code",
      "source": [
        "# 2차원에서 1번째행 1번째열\n",
        "matrix_b[0, 0]\n"
      ],
      "metadata": {
        "colab": {
          "base_uri": "https://localhost:8080/"
        },
        "id": "YJyBn1xiJ0ex",
        "outputId": "f5207844-5af7-449c-d96d-c654447b008f"
      },
      "execution_count": null,
      "outputs": [
        {
          "output_type": "execute_result",
          "data": {
            "text/plain": [
              "0"
            ]
          },
          "metadata": {},
          "execution_count": 126
        }
      ]
    },
    {
      "cell_type": "code",
      "source": [
        "matrix_b[0][0]"
      ],
      "metadata": {
        "colab": {
          "base_uri": "https://localhost:8080/"
        },
        "id": "bYeoU8VNJ0hm",
        "outputId": "237c7783-1132-4cec-dbdf-8330619bb76d"
      },
      "execution_count": null,
      "outputs": [
        {
          "output_type": "execute_result",
          "data": {
            "text/plain": [
              "0"
            ]
          },
          "metadata": {},
          "execution_count": 127
        }
      ]
    },
    {
      "cell_type": "code",
      "source": [
        "matrix_b"
      ],
      "metadata": {
        "colab": {
          "base_uri": "https://localhost:8080/"
        },
        "id": "W-KS1vz1J4rs",
        "outputId": "1c475594-5422-49a6-8182-8b3293858abb"
      },
      "execution_count": null,
      "outputs": [
        {
          "output_type": "execute_result",
          "data": {
            "text/plain": [
              "array([[ 0,  1,  2,  3],\n",
              "       [ 4,  5,  6,  7],\n",
              "       [ 8,  9, 10, 11]])"
            ]
          },
          "metadata": {},
          "execution_count": 128
        }
      ]
    },
    {
      "cell_type": "code",
      "source": [
        "# 2차원 마지막행 마지막열 -> 3행 4열\n",
        "matrix_b[-1,-1]"
      ],
      "metadata": {
        "colab": {
          "base_uri": "https://localhost:8080/"
        },
        "id": "tnkss9FtJ4uw",
        "outputId": "e6066e35-c62a-4d7f-c93c-99443cd7743f"
      },
      "execution_count": null,
      "outputs": [
        {
          "output_type": "execute_result",
          "data": {
            "text/plain": [
              "11"
            ]
          },
          "metadata": {},
          "execution_count": 129
        }
      ]
    },
    {
      "cell_type": "code",
      "source": [
        "matrix_b[-1][-1]"
      ],
      "metadata": {
        "colab": {
          "base_uri": "https://localhost:8080/"
        },
        "id": "emWEs-DAJ4xE",
        "outputId": "3b30cb6f-a465-46cc-c0b9-5c6ced00f2bb"
      },
      "execution_count": null,
      "outputs": [
        {
          "output_type": "execute_result",
          "data": {
            "text/plain": [
              "11"
            ]
          },
          "metadata": {},
          "execution_count": 130
        }
      ]
    },
    {
      "cell_type": "code",
      "source": [
        "matrix_b[2][3]"
      ],
      "metadata": {
        "colab": {
          "base_uri": "https://localhost:8080/"
        },
        "id": "EfnOe6BBJ8Y1",
        "outputId": "bd4a59e7-7023-482d-835d-3796c510860a"
      },
      "execution_count": null,
      "outputs": [
        {
          "output_type": "execute_result",
          "data": {
            "text/plain": [
              "11"
            ]
          },
          "metadata": {},
          "execution_count": 131
        }
      ]
    },
    {
      "cell_type": "code",
      "source": [
        "\n",
        "# matrix_b에서 3번째행 1번째열의값을 100으로 변경해보자\n",
        "matrix_b[2,0] = 100\n",
        "matrix_b"
      ],
      "metadata": {
        "colab": {
          "base_uri": "https://localhost:8080/"
        },
        "id": "fHqV8WADJ8b8",
        "outputId": "2a400540-de96-44cd-f91a-25008c099f0b"
      },
      "execution_count": null,
      "outputs": [
        {
          "output_type": "execute_result",
          "data": {
            "text/plain": [
              "array([[  0,   1,   2,   3],\n",
              "       [  4,   5,   6,   7],\n",
              "       [100,   9,  10,  11]])"
            ]
          },
          "metadata": {},
          "execution_count": 132
        }
      ]
    },
    {
      "cell_type": "markdown",
      "source": [
        "\n",
        "# **넘파이배열 슬라이싱**\n",
        "\n",
        "1차원\n",
        "넘파이배열[:end]\n",
        "넘파이배열[start:]\n",
        "넘파이배열[start:end]\n",
        "넘파이배열[start:end:step]\n",
        "2차원\n",
        "넘파이배열[행, 열] = [start:end:step, start2:end2:step2]\n",
        "\n",
        "# **1D array**"
      ],
      "metadata": {
        "id": "qpoTP1dPKU0l"
      }
    },
    {
      "cell_type": "code",
      "source": [
        "\n",
        "a = np.array([1, 3, 5, 7, 9])\n",
        "a, a.ndim, a.shape, a.size"
      ],
      "metadata": {
        "colab": {
          "base_uri": "https://localhost:8080/"
        },
        "id": "25xYY6SvJ8e0",
        "outputId": "c6fdf72e-1097-4552-a340-663d0c715b5e"
      },
      "execution_count": null,
      "outputs": [
        {
          "output_type": "execute_result",
          "data": {
            "text/plain": [
              "(array([1, 3, 5, 7, 9]), 1, (5,), 5)"
            ]
          },
          "metadata": {},
          "execution_count": 136
        }
      ]
    },
    {
      "cell_type": "code",
      "source": [
        "a[:]"
      ],
      "metadata": {
        "colab": {
          "base_uri": "https://localhost:8080/"
        },
        "id": "IpTCC3yFKfDp",
        "outputId": "ea091dee-0a4c-4ba4-93b9-c975ae047064"
      },
      "execution_count": null,
      "outputs": [
        {
          "output_type": "execute_result",
          "data": {
            "text/plain": [
              "array([1, 3, 5, 7, 9])"
            ]
          },
          "metadata": {},
          "execution_count": 137
        }
      ]
    },
    {
      "cell_type": "code",
      "source": [
        "\n",
        " a[1:]"
      ],
      "metadata": {
        "colab": {
          "base_uri": "https://localhost:8080/"
        },
        "id": "b-toAU4EKf8n",
        "outputId": "155b195a-1f8f-4988-d332-4f57d9d0d556"
      },
      "execution_count": null,
      "outputs": [
        {
          "output_type": "execute_result",
          "data": {
            "text/plain": [
              "array([3, 5, 7, 9])"
            ]
          },
          "metadata": {},
          "execution_count": 138
        }
      ]
    },
    {
      "cell_type": "code",
      "source": [
        "a[-1:]"
      ],
      "metadata": {
        "colab": {
          "base_uri": "https://localhost:8080/"
        },
        "id": "t3G50sAIKhM5",
        "outputId": "20c39baa-3ae6-4a2e-9391-5c7afa198f4d"
      },
      "execution_count": null,
      "outputs": [
        {
          "output_type": "execute_result",
          "data": {
            "text/plain": [
              "array([9])"
            ]
          },
          "metadata": {},
          "execution_count": 139
        }
      ]
    },
    {
      "cell_type": "code",
      "source": [
        "a[:3]"
      ],
      "metadata": {
        "colab": {
          "base_uri": "https://localhost:8080/"
        },
        "id": "MDFlNa8OKidR",
        "outputId": "46b090e9-d257-43ac-c27a-2cd2810381c7"
      },
      "execution_count": null,
      "outputs": [
        {
          "output_type": "execute_result",
          "data": {
            "text/plain": [
              "array([1, 3, 5])"
            ]
          },
          "metadata": {},
          "execution_count": 141
        }
      ]
    },
    {
      "cell_type": "code",
      "source": [
        "a[:-1]"
      ],
      "metadata": {
        "colab": {
          "base_uri": "https://localhost:8080/"
        },
        "id": "Yg6mXPDFKjpz",
        "outputId": "4e47c242-8434-4acb-af51-553c2152c56d"
      },
      "execution_count": null,
      "outputs": [
        {
          "output_type": "execute_result",
          "data": {
            "text/plain": [
              "array([1, 3, 5, 7])"
            ]
          },
          "metadata": {},
          "execution_count": 142
        }
      ]
    },
    {
      "cell_type": "code",
      "source": [
        "a[1:4]"
      ],
      "metadata": {
        "colab": {
          "base_uri": "https://localhost:8080/"
        },
        "id": "YMi5GL18KjsU",
        "outputId": "e309a1a0-6821-4250-bb72-d21437b245c2"
      },
      "execution_count": null,
      "outputs": [
        {
          "output_type": "execute_result",
          "data": {
            "text/plain": [
              "array([3, 5, 7])"
            ]
          },
          "metadata": {},
          "execution_count": 143
        }
      ]
    },
    {
      "cell_type": "code",
      "source": [
        "a[1:-1]"
      ],
      "metadata": {
        "colab": {
          "base_uri": "https://localhost:8080/"
        },
        "id": "XA7tdOiQKpec",
        "outputId": "96258bf1-71d4-4a31-8e4c-170eab51d455"
      },
      "execution_count": null,
      "outputs": [
        {
          "output_type": "execute_result",
          "data": {
            "text/plain": [
              "array([3, 5, 7])"
            ]
          },
          "metadata": {},
          "execution_count": 144
        }
      ]
    },
    {
      "cell_type": "code",
      "source": [
        "a = np.arange(10)\n",
        "a"
      ],
      "metadata": {
        "colab": {
          "base_uri": "https://localhost:8080/"
        },
        "id": "812bpmGTKpha",
        "outputId": "892ceada-95ce-418c-d6c2-433ff30c3e96"
      },
      "execution_count": null,
      "outputs": [
        {
          "output_type": "execute_result",
          "data": {
            "text/plain": [
              "array([0, 1, 2, 3, 4, 5, 6, 7, 8, 9])"
            ]
          },
          "metadata": {},
          "execution_count": 145
        }
      ]
    },
    {
      "cell_type": "code",
      "source": [
        "a[::2]"
      ],
      "metadata": {
        "colab": {
          "base_uri": "https://localhost:8080/"
        },
        "id": "mm_-M17yKpjp",
        "outputId": "fa7de9cc-95e9-43ff-dd6e-b9053bec0667"
      },
      "execution_count": null,
      "outputs": [
        {
          "output_type": "execute_result",
          "data": {
            "text/plain": [
              "array([0, 2, 4, 6, 8])"
            ]
          },
          "metadata": {},
          "execution_count": 146
        }
      ]
    },
    {
      "cell_type": "code",
      "source": [
        "\n",
        "a[::5]"
      ],
      "metadata": {
        "colab": {
          "base_uri": "https://localhost:8080/"
        },
        "id": "AiAG5FD4KtmA",
        "outputId": "ccae62cd-e0ad-4639-e8ac-85069833125d"
      },
      "execution_count": null,
      "outputs": [
        {
          "output_type": "execute_result",
          "data": {
            "text/plain": [
              "array([0, 5])"
            ]
          },
          "metadata": {},
          "execution_count": 147
        }
      ]
    },
    {
      "cell_type": "code",
      "source": [
        "\n",
        "a[::-1]"
      ],
      "metadata": {
        "colab": {
          "base_uri": "https://localhost:8080/"
        },
        "id": "GKK_T7mWKtpy",
        "outputId": "2444f1dd-06ec-4710-9f96-560833dc732f"
      },
      "execution_count": null,
      "outputs": [
        {
          "output_type": "execute_result",
          "data": {
            "text/plain": [
              "array([9, 8, 7, 6, 5, 4, 3, 2, 1, 0])"
            ]
          },
          "metadata": {},
          "execution_count": 148
        }
      ]
    },
    {
      "cell_type": "code",
      "source": [
        "\n",
        "# 홀수\n",
        "a[1::2]"
      ],
      "metadata": {
        "colab": {
          "base_uri": "https://localhost:8080/"
        },
        "id": "b4bawoFOKts2",
        "outputId": "59b7305a-e191-401b-fd80-4fa38129d97d"
      },
      "execution_count": null,
      "outputs": [
        {
          "output_type": "execute_result",
          "data": {
            "text/plain": [
              "array([1, 3, 5, 7, 9])"
            ]
          },
          "metadata": {},
          "execution_count": 149
        }
      ]
    },
    {
      "cell_type": "code",
      "source": [
        "a[3::2]"
      ],
      "metadata": {
        "colab": {
          "base_uri": "https://localhost:8080/"
        },
        "id": "WiWqRKn6KyM1",
        "outputId": "cb5a4669-dc8e-4306-c511-7a5f0518e387"
      },
      "execution_count": null,
      "outputs": [
        {
          "output_type": "execute_result",
          "data": {
            "text/plain": [
              "array([3, 5, 7, 9])"
            ]
          },
          "metadata": {},
          "execution_count": 150
        }
      ]
    },
    {
      "cell_type": "code",
      "source": [
        "\n",
        "a[:-2:2]"
      ],
      "metadata": {
        "colab": {
          "base_uri": "https://localhost:8080/"
        },
        "id": "nYI5hv5TK0k7",
        "outputId": "7251fbbd-19fd-4db6-9e9a-11ba566c4cf7"
      },
      "execution_count": null,
      "outputs": [
        {
          "output_type": "execute_result",
          "data": {
            "text/plain": [
              "array([0, 2, 4, 6])"
            ]
          },
          "metadata": {},
          "execution_count": 151
        }
      ]
    },
    {
      "cell_type": "code",
      "source": [
        "a[:-6:2]"
      ],
      "metadata": {
        "colab": {
          "base_uri": "https://localhost:8080/"
        },
        "id": "3HP2olneKyPW",
        "outputId": "d166f87d-b843-418b-95ca-fd9f8525e95b"
      },
      "execution_count": null,
      "outputs": [
        {
          "output_type": "execute_result",
          "data": {
            "text/plain": [
              "array([0, 2])"
            ]
          },
          "metadata": {},
          "execution_count": 152
        }
      ]
    },
    {
      "cell_type": "code",
      "source": [
        "a[2:-2:2]"
      ],
      "metadata": {
        "colab": {
          "base_uri": "https://localhost:8080/"
        },
        "id": "8JcLyPg9KyRw",
        "outputId": "938454f5-a82f-40ed-f2bd-4e9db5c2689b"
      },
      "execution_count": null,
      "outputs": [
        {
          "output_type": "execute_result",
          "data": {
            "text/plain": [
              "array([2, 4, 6])"
            ]
          },
          "metadata": {},
          "execution_count": 153
        }
      ]
    },
    {
      "cell_type": "markdown",
      "source": [
        "\n",
        "# 2D array"
      ],
      "metadata": {
        "id": "kH2C69D-K6RJ"
      }
    },
    {
      "cell_type": "code",
      "source": [
        "a = np.arange(10, 25).reshape(3, 5)\n",
        "a, a.ndim, a.shape, a.size"
      ],
      "metadata": {
        "id": "VaqJI9pnK8UR"
      },
      "execution_count": null,
      "outputs": []
    },
    {
      "cell_type": "code",
      "source": [
        "\n",
        "a[:]"
      ],
      "metadata": {
        "colab": {
          "base_uri": "https://localhost:8080/"
        },
        "id": "JpEe8J5zK6Db",
        "outputId": "71bec9e5-6f7d-45e3-f4b5-06142de12ce7"
      },
      "execution_count": null,
      "outputs": [
        {
          "output_type": "execute_result",
          "data": {
            "text/plain": [
              "array([0, 1, 2, 3, 4, 5, 6, 7, 8, 9])"
            ]
          },
          "metadata": {},
          "execution_count": 154
        }
      ]
    },
    {
      "cell_type": "code",
      "source": [
        "a[1:]"
      ],
      "metadata": {
        "colab": {
          "base_uri": "https://localhost:8080/"
        },
        "id": "DXwF7hamK5Kz",
        "outputId": "e2fd0a12-3701-4104-9aab-bdfe3453f43e"
      },
      "execution_count": null,
      "outputs": [
        {
          "output_type": "execute_result",
          "data": {
            "text/plain": [
              "array([1, 2, 3, 4, 5, 6, 7, 8, 9])"
            ]
          },
          "metadata": {},
          "execution_count": 155
        }
      ]
    },
    {
      "cell_type": "code",
      "source": [
        "\n",
        "a[3:]"
      ],
      "metadata": {
        "colab": {
          "base_uri": "https://localhost:8080/"
        },
        "id": "p5ZJpPr9K5MH",
        "outputId": "b42b875b-2ed5-4f95-9a40-1a5f4bc76d82"
      },
      "execution_count": null,
      "outputs": [
        {
          "output_type": "execute_result",
          "data": {
            "text/plain": [
              "array([3, 4, 5, 6, 7, 8, 9])"
            ]
          },
          "metadata": {},
          "execution_count": 156
        }
      ]
    },
    {
      "cell_type": "code",
      "source": [
        "\n",
        "a[-1:]"
      ],
      "metadata": {
        "colab": {
          "base_uri": "https://localhost:8080/"
        },
        "id": "KlO3Wk2xK5P7",
        "outputId": "def4d068-4a3b-4c84-d642-bb310de9cada"
      },
      "execution_count": null,
      "outputs": [
        {
          "output_type": "execute_result",
          "data": {
            "text/plain": [
              "array([9])"
            ]
          },
          "metadata": {},
          "execution_count": 157
        }
      ]
    },
    {
      "cell_type": "code",
      "source": [
        "\n",
        "a[-3:]"
      ],
      "metadata": {
        "colab": {
          "base_uri": "https://localhost:8080/"
        },
        "id": "av99R-9TK5TH",
        "outputId": "a8c19f1b-4feb-4f8d-9698-d7c7d8f1ec90"
      },
      "execution_count": null,
      "outputs": [
        {
          "output_type": "execute_result",
          "data": {
            "text/plain": [
              "array([7, 8, 9])"
            ]
          },
          "metadata": {},
          "execution_count": 158
        }
      ]
    },
    {
      "cell_type": "code",
      "source": [
        "\n",
        "a[:0]"
      ],
      "metadata": {
        "colab": {
          "base_uri": "https://localhost:8080/"
        },
        "id": "U9LLC9UlLE7C",
        "outputId": "d839edbf-93b8-416b-e557-f43f9983fa71"
      },
      "execution_count": null,
      "outputs": [
        {
          "output_type": "execute_result",
          "data": {
            "text/plain": [
              "array([], dtype=int64)"
            ]
          },
          "metadata": {},
          "execution_count": 159
        }
      ]
    },
    {
      "cell_type": "code",
      "source": [
        "a[:2]\n"
      ],
      "metadata": {
        "colab": {
          "base_uri": "https://localhost:8080/"
        },
        "id": "DdcP4cc8LE-Q",
        "outputId": "9057435d-4a7b-41c8-e8c3-5afe4c5edbc6"
      },
      "execution_count": null,
      "outputs": [
        {
          "output_type": "execute_result",
          "data": {
            "text/plain": [
              "array([0, 1])"
            ]
          },
          "metadata": {},
          "execution_count": 160
        }
      ]
    },
    {
      "cell_type": "code",
      "source": [
        "\n",
        "a[:-1]"
      ],
      "metadata": {
        "colab": {
          "base_uri": "https://localhost:8080/"
        },
        "id": "k3_ODkYrLGvV",
        "outputId": "55437ee7-0dd4-4134-807c-25e38fd84a2b"
      },
      "execution_count": null,
      "outputs": [
        {
          "output_type": "execute_result",
          "data": {
            "text/plain": [
              "array([0, 1, 2, 3, 4, 5, 6, 7, 8])"
            ]
          },
          "metadata": {},
          "execution_count": 161
        }
      ]
    },
    {
      "cell_type": "code",
      "source": [
        "\n",
        "a[:-3]"
      ],
      "metadata": {
        "colab": {
          "base_uri": "https://localhost:8080/"
        },
        "id": "eftFq0jwLIB2",
        "outputId": "63b601bf-e337-4d30-b12c-03fd76b957a5"
      },
      "execution_count": null,
      "outputs": [
        {
          "output_type": "execute_result",
          "data": {
            "text/plain": [
              "array([0, 1, 2, 3, 4, 5, 6])"
            ]
          },
          "metadata": {},
          "execution_count": 162
        }
      ]
    },
    {
      "cell_type": "code",
      "source": [
        "\n",
        "a[1:-1]"
      ],
      "metadata": {
        "colab": {
          "base_uri": "https://localhost:8080/"
        },
        "id": "emZGLU4OLJ4Q",
        "outputId": "eaf9f081-2193-4b19-cca5-b8a204353970"
      },
      "execution_count": null,
      "outputs": [
        {
          "output_type": "execute_result",
          "data": {
            "text/plain": [
              "array([1, 2, 3, 4, 5, 6, 7, 8])"
            ]
          },
          "metadata": {},
          "execution_count": 163
        }
      ]
    },
    {
      "cell_type": "code",
      "source": [
        "a[:,:]"
      ],
      "metadata": {
        "colab": {
          "base_uri": "https://localhost:8080/"
        },
        "id": "Yiu4fHVVLG13",
        "outputId": "bd529be6-a1b7-4f88-edc6-dad397eb6439"
      },
      "execution_count": null,
      "outputs": [
        {
          "output_type": "execute_result",
          "data": {
            "text/plain": [
              "array([[10, 11, 12, 13, 14, 15, 16, 17, 18, 19],\n",
              "       [20, 21, 22, 23, 24, 25, 26, 27, 28, 29],\n",
              "       [30, 31, 32, 33, 34, 35, 36, 37, 38, 39],\n",
              "       [40, 41, 42, 43, 44, 45, 46, 47, 48, 49],\n",
              "       [50, 51, 52, 53, 54, 55, 56, 57, 58, 59],\n",
              "       [60, 61, 62, 63, 64, 65, 66, 67, 68, 69],\n",
              "       [70, 71, 72, 73, 74, 75, 76, 77, 78, 79],\n",
              "       [80, 81, 82, 83, 84, 85, 86, 87, 88, 89],\n",
              "       [90, 91, 92, 93, 94, 95, 96, 97, 98, 99]])"
            ]
          },
          "metadata": {},
          "execution_count": 171
        }
      ]
    },
    {
      "cell_type": "code",
      "source": [
        "a[:, 1:]"
      ],
      "metadata": {
        "colab": {
          "base_uri": "https://localhost:8080/"
        },
        "id": "ZbGvDBWALOLl",
        "outputId": "9feb9c66-4f59-47af-a047-ddaeae651b04"
      },
      "execution_count": null,
      "outputs": [
        {
          "output_type": "execute_result",
          "data": {
            "text/plain": [
              "array([[11, 12, 13, 14, 15, 16, 17, 18, 19],\n",
              "       [21, 22, 23, 24, 25, 26, 27, 28, 29],\n",
              "       [31, 32, 33, 34, 35, 36, 37, 38, 39],\n",
              "       [41, 42, 43, 44, 45, 46, 47, 48, 49],\n",
              "       [51, 52, 53, 54, 55, 56, 57, 58, 59],\n",
              "       [61, 62, 63, 64, 65, 66, 67, 68, 69],\n",
              "       [71, 72, 73, 74, 75, 76, 77, 78, 79],\n",
              "       [81, 82, 83, 84, 85, 86, 87, 88, 89],\n",
              "       [91, 92, 93, 94, 95, 96, 97, 98, 99]])"
            ]
          },
          "metadata": {},
          "execution_count": 170
        }
      ]
    },
    {
      "cell_type": "code",
      "source": [
        "\n",
        "a[:, 3:]"
      ],
      "metadata": {
        "colab": {
          "base_uri": "https://localhost:8080/"
        },
        "id": "p5kDZ_wSLMm-",
        "outputId": "307701bf-d7f5-4656-a99a-588f50568c3d"
      },
      "execution_count": null,
      "outputs": [
        {
          "output_type": "execute_result",
          "data": {
            "text/plain": [
              "array([[13, 14, 15, 16, 17, 18, 19],\n",
              "       [23, 24, 25, 26, 27, 28, 29],\n",
              "       [33, 34, 35, 36, 37, 38, 39],\n",
              "       [43, 44, 45, 46, 47, 48, 49],\n",
              "       [53, 54, 55, 56, 57, 58, 59],\n",
              "       [63, 64, 65, 66, 67, 68, 69],\n",
              "       [73, 74, 75, 76, 77, 78, 79],\n",
              "       [83, 84, 85, 86, 87, 88, 89],\n",
              "       [93, 94, 95, 96, 97, 98, 99]])"
            ]
          },
          "metadata": {},
          "execution_count": 169
        }
      ]
    },
    {
      "cell_type": "code",
      "source": [
        "a[:, -1:]"
      ],
      "metadata": {
        "colab": {
          "base_uri": "https://localhost:8080/"
        },
        "id": "Pj3RlCwDLY8f",
        "outputId": "8b5bf54c-b45a-44f8-ab4d-e1547443c8e5"
      },
      "execution_count": null,
      "outputs": [
        {
          "output_type": "execute_result",
          "data": {
            "text/plain": [
              "array([[19],\n",
              "       [29],\n",
              "       [39],\n",
              "       [49],\n",
              "       [59],\n",
              "       [69],\n",
              "       [79],\n",
              "       [89],\n",
              "       [99]])"
            ]
          },
          "metadata": {},
          "execution_count": 172
        }
      ]
    },
    {
      "cell_type": "code",
      "source": [
        "a[:, -4:]"
      ],
      "metadata": {
        "colab": {
          "base_uri": "https://localhost:8080/"
        },
        "id": "C5o4_QLCLl0s",
        "outputId": "94c41902-277e-4334-9976-12154732c2a1"
      },
      "execution_count": null,
      "outputs": [
        {
          "output_type": "execute_result",
          "data": {
            "text/plain": [
              "array([[16, 17, 18, 19],\n",
              "       [26, 27, 28, 29],\n",
              "       [36, 37, 38, 39],\n",
              "       [46, 47, 48, 49],\n",
              "       [56, 57, 58, 59],\n",
              "       [66, 67, 68, 69],\n",
              "       [76, 77, 78, 79],\n",
              "       [86, 87, 88, 89],\n",
              "       [96, 97, 98, 99]])"
            ]
          },
          "metadata": {},
          "execution_count": 173
        }
      ]
    },
    {
      "cell_type": "code",
      "source": [
        "a[:, :1]"
      ],
      "metadata": {
        "colab": {
          "base_uri": "https://localhost:8080/"
        },
        "id": "8Taf5k5GLl5A",
        "outputId": "6ad7547c-c45d-40fc-9b66-dcbec57274ab"
      },
      "execution_count": null,
      "outputs": [
        {
          "output_type": "execute_result",
          "data": {
            "text/plain": [
              "array([[10],\n",
              "       [20],\n",
              "       [30],\n",
              "       [40],\n",
              "       [50],\n",
              "       [60],\n",
              "       [70],\n",
              "       [80],\n",
              "       [90]])"
            ]
          },
          "metadata": {},
          "execution_count": 174
        }
      ]
    },
    {
      "cell_type": "code",
      "source": [
        "a[:, :5]"
      ],
      "metadata": {
        "colab": {
          "base_uri": "https://localhost:8080/"
        },
        "id": "8JehcZo9Ll76",
        "outputId": "db579318-0e98-4f31-ca26-a86deb8aac23"
      },
      "execution_count": null,
      "outputs": [
        {
          "output_type": "execute_result",
          "data": {
            "text/plain": [
              "array([[10, 11, 12, 13, 14],\n",
              "       [20, 21, 22, 23, 24],\n",
              "       [30, 31, 32, 33, 34],\n",
              "       [40, 41, 42, 43, 44],\n",
              "       [50, 51, 52, 53, 54],\n",
              "       [60, 61, 62, 63, 64],\n",
              "       [70, 71, 72, 73, 74],\n",
              "       [80, 81, 82, 83, 84],\n",
              "       [90, 91, 92, 93, 94]])"
            ]
          },
          "metadata": {},
          "execution_count": 175
        }
      ]
    },
    {
      "cell_type": "code",
      "source": [
        "a"
      ],
      "metadata": {
        "colab": {
          "base_uri": "https://localhost:8080/"
        },
        "id": "mys29FOOLr97",
        "outputId": "2e9affb1-de65-4b77-eaaf-5f59eca31138"
      },
      "execution_count": null,
      "outputs": [
        {
          "output_type": "execute_result",
          "data": {
            "text/plain": [
              "array([[10, 11, 12, 13, 14, 15, 16, 17, 18, 19],\n",
              "       [20, 21, 22, 23, 24, 25, 26, 27, 28, 29],\n",
              "       [30, 31, 32, 33, 34, 35, 36, 37, 38, 39],\n",
              "       [40, 41, 42, 43, 44, 45, 46, 47, 48, 49],\n",
              "       [50, 51, 52, 53, 54, 55, 56, 57, 58, 59],\n",
              "       [60, 61, 62, 63, 64, 65, 66, 67, 68, 69],\n",
              "       [70, 71, 72, 73, 74, 75, 76, 77, 78, 79],\n",
              "       [80, 81, 82, 83, 84, 85, 86, 87, 88, 89],\n",
              "       [90, 91, 92, 93, 94, 95, 96, 97, 98, 99]])"
            ]
          },
          "metadata": {},
          "execution_count": 176
        }
      ]
    },
    {
      "cell_type": "code",
      "source": [
        "a[:, :-1]"
      ],
      "metadata": {
        "colab": {
          "base_uri": "https://localhost:8080/"
        },
        "id": "UPI_WhUyLsBE",
        "outputId": "48ae3f36-d942-4f2a-ba50-df3467548cf8"
      },
      "execution_count": null,
      "outputs": [
        {
          "output_type": "execute_result",
          "data": {
            "text/plain": [
              "array([[10, 11, 12, 13, 14, 15, 16, 17, 18],\n",
              "       [20, 21, 22, 23, 24, 25, 26, 27, 28],\n",
              "       [30, 31, 32, 33, 34, 35, 36, 37, 38],\n",
              "       [40, 41, 42, 43, 44, 45, 46, 47, 48],\n",
              "       [50, 51, 52, 53, 54, 55, 56, 57, 58],\n",
              "       [60, 61, 62, 63, 64, 65, 66, 67, 68],\n",
              "       [70, 71, 72, 73, 74, 75, 76, 77, 78],\n",
              "       [80, 81, 82, 83, 84, 85, 86, 87, 88],\n",
              "       [90, 91, 92, 93, 94, 95, 96, 97, 98]])"
            ]
          },
          "metadata": {},
          "execution_count": 177
        }
      ]
    },
    {
      "cell_type": "code",
      "source": [
        "a[:, :-2]"
      ],
      "metadata": {
        "colab": {
          "base_uri": "https://localhost:8080/"
        },
        "id": "vC_uKEHJLsDR",
        "outputId": "e1a90974-8745-4e83-e253-9e5157b09886"
      },
      "execution_count": null,
      "outputs": [
        {
          "output_type": "execute_result",
          "data": {
            "text/plain": [
              "array([[10, 11, 12, 13, 14, 15, 16, 17],\n",
              "       [20, 21, 22, 23, 24, 25, 26, 27],\n",
              "       [30, 31, 32, 33, 34, 35, 36, 37],\n",
              "       [40, 41, 42, 43, 44, 45, 46, 47],\n",
              "       [50, 51, 52, 53, 54, 55, 56, 57],\n",
              "       [60, 61, 62, 63, 64, 65, 66, 67],\n",
              "       [70, 71, 72, 73, 74, 75, 76, 77],\n",
              "       [80, 81, 82, 83, 84, 85, 86, 87],\n",
              "       [90, 91, 92, 93, 94, 95, 96, 97]])"
            ]
          },
          "metadata": {},
          "execution_count": 178
        }
      ]
    },
    {
      "cell_type": "code",
      "source": [
        "a[:, 0:1]"
      ],
      "metadata": {
        "colab": {
          "base_uri": "https://localhost:8080/"
        },
        "id": "Z91c4Oa6LwHy",
        "outputId": "9f48baf2-9ae3-4ad5-b112-ef3c23eb8964"
      },
      "execution_count": null,
      "outputs": [
        {
          "output_type": "execute_result",
          "data": {
            "text/plain": [
              "array([[10],\n",
              "       [20],\n",
              "       [30],\n",
              "       [40],\n",
              "       [50],\n",
              "       [60],\n",
              "       [70],\n",
              "       [80],\n",
              "       [90]])"
            ]
          },
          "metadata": {},
          "execution_count": 179
        }
      ]
    },
    {
      "cell_type": "code",
      "source": [
        "a[:, 2:3]"
      ],
      "metadata": {
        "colab": {
          "base_uri": "https://localhost:8080/"
        },
        "id": "tNera4XCLywN",
        "outputId": "d1eadee8-7a1f-4995-aa25-4c3b86cf5a76"
      },
      "execution_count": null,
      "outputs": [
        {
          "output_type": "execute_result",
          "data": {
            "text/plain": [
              "array([[12],\n",
              "       [22],\n",
              "       [32],\n",
              "       [42],\n",
              "       [52],\n",
              "       [62],\n",
              "       [72],\n",
              "       [82],\n",
              "       [92]])"
            ]
          },
          "metadata": {},
          "execution_count": 180
        }
      ]
    },
    {
      "cell_type": "code",
      "source": [
        "a[:, 1:-1]"
      ],
      "metadata": {
        "colab": {
          "base_uri": "https://localhost:8080/"
        },
        "id": "7OD6ylG8LwKT",
        "outputId": "59830b4c-41dc-44ba-d184-8f1fc4ee6c80"
      },
      "execution_count": null,
      "outputs": [
        {
          "output_type": "execute_result",
          "data": {
            "text/plain": [
              "array([[11, 12, 13, 14, 15, 16, 17, 18],\n",
              "       [21, 22, 23, 24, 25, 26, 27, 28],\n",
              "       [31, 32, 33, 34, 35, 36, 37, 38],\n",
              "       [41, 42, 43, 44, 45, 46, 47, 48],\n",
              "       [51, 52, 53, 54, 55, 56, 57, 58],\n",
              "       [61, 62, 63, 64, 65, 66, 67, 68],\n",
              "       [71, 72, 73, 74, 75, 76, 77, 78],\n",
              "       [81, 82, 83, 84, 85, 86, 87, 88],\n",
              "       [91, 92, 93, 94, 95, 96, 97, 98]])"
            ]
          },
          "metadata": {},
          "execution_count": 181
        }
      ]
    },
    {
      "cell_type": "code",
      "source": [
        "a = np.arange(10, 100).reshape(9, 10)\n",
        "a"
      ],
      "metadata": {
        "colab": {
          "base_uri": "https://localhost:8080/"
        },
        "id": "Y6FGDM4OL1Lh",
        "outputId": "e4a0f8ed-90b1-447a-9917-dc994fd44bbe"
      },
      "execution_count": null,
      "outputs": [
        {
          "output_type": "execute_result",
          "data": {
            "text/plain": [
              "array([[10, 11, 12, 13, 14, 15, 16, 17, 18, 19],\n",
              "       [20, 21, 22, 23, 24, 25, 26, 27, 28, 29],\n",
              "       [30, 31, 32, 33, 34, 35, 36, 37, 38, 39],\n",
              "       [40, 41, 42, 43, 44, 45, 46, 47, 48, 49],\n",
              "       [50, 51, 52, 53, 54, 55, 56, 57, 58, 59],\n",
              "       [60, 61, 62, 63, 64, 65, 66, 67, 68, 69],\n",
              "       [70, 71, 72, 73, 74, 75, 76, 77, 78, 79],\n",
              "       [80, 81, 82, 83, 84, 85, 86, 87, 88, 89],\n",
              "       [90, 91, 92, 93, 94, 95, 96, 97, 98, 99]])"
            ]
          },
          "metadata": {},
          "execution_count": 182
        }
      ]
    },
    {
      "cell_type": "code",
      "source": [
        "\n",
        "a[2:5, :]"
      ],
      "metadata": {
        "colab": {
          "base_uri": "https://localhost:8080/"
        },
        "id": "0y8Ey7e-L2mn",
        "outputId": "6a457855-263a-4f94-bb4a-7703987db107"
      },
      "execution_count": null,
      "outputs": [
        {
          "output_type": "execute_result",
          "data": {
            "text/plain": [
              "array([[30, 31, 32, 33, 34, 35, 36, 37, 38, 39],\n",
              "       [40, 41, 42, 43, 44, 45, 46, 47, 48, 49],\n",
              "       [50, 51, 52, 53, 54, 55, 56, 57, 58, 59]])"
            ]
          },
          "metadata": {},
          "execution_count": 183
        }
      ]
    },
    {
      "cell_type": "code",
      "source": [
        "\n",
        "a[:, 2:5]\n"
      ],
      "metadata": {
        "colab": {
          "base_uri": "https://localhost:8080/"
        },
        "id": "kqx3IWwcLwML",
        "outputId": "874c6449-dde8-46a9-d19d-4d392858e3a7"
      },
      "execution_count": null,
      "outputs": [
        {
          "output_type": "execute_result",
          "data": {
            "text/plain": [
              "array([[12, 13, 14],\n",
              "       [22, 23, 24],\n",
              "       [32, 33, 34],\n",
              "       [42, 43, 44],\n",
              "       [52, 53, 54],\n",
              "       [62, 63, 64],\n",
              "       [72, 73, 74],\n",
              "       [82, 83, 84],\n",
              "       [92, 93, 94]])"
            ]
          },
          "metadata": {},
          "execution_count": 184
        }
      ]
    },
    {
      "cell_type": "code",
      "source": [
        "\n",
        "a[2:5, 2:5]"
      ],
      "metadata": {
        "colab": {
          "base_uri": "https://localhost:8080/"
        },
        "id": "DMtUhitcL64U",
        "outputId": "6c80a043-6ef2-41a5-c871-f9d90b8df5f6"
      },
      "execution_count": null,
      "outputs": [
        {
          "output_type": "execute_result",
          "data": {
            "text/plain": [
              "array([[32, 33, 34],\n",
              "       [42, 43, 44],\n",
              "       [52, 53, 54]])"
            ]
          },
          "metadata": {},
          "execution_count": 185
        }
      ]
    },
    {
      "cell_type": "code",
      "source": [
        "a[::2, ::2]"
      ],
      "metadata": {
        "colab": {
          "base_uri": "https://localhost:8080/"
        },
        "id": "sWx6yZXsL674",
        "outputId": "8bed4aad-56cf-4a35-e8fa-66e6be8616ef"
      },
      "execution_count": null,
      "outputs": [
        {
          "output_type": "execute_result",
          "data": {
            "text/plain": [
              "array([[10, 12, 14, 16, 18],\n",
              "       [30, 32, 34, 36, 38],\n",
              "       [50, 52, 54, 56, 58],\n",
              "       [70, 72, 74, 76, 78],\n",
              "       [90, 92, 94, 96, 98]])"
            ]
          },
          "metadata": {},
          "execution_count": 186
        }
      ]
    },
    {
      "cell_type": "code",
      "source": [
        "\n",
        "a"
      ],
      "metadata": {
        "colab": {
          "base_uri": "https://localhost:8080/"
        },
        "id": "kK5img-ML6-X",
        "outputId": "8bb57c7a-6f81-4afb-9977-7e82a5d7cb46"
      },
      "execution_count": null,
      "outputs": [
        {
          "output_type": "execute_result",
          "data": {
            "text/plain": [
              "array([[10, 11, 12, 13, 14, 15, 16, 17, 18, 19],\n",
              "       [20, 21, 22, 23, 24, 25, 26, 27, 28, 29],\n",
              "       [30, 31, 32, 33, 34, 35, 36, 37, 38, 39],\n",
              "       [40, 41, 42, 43, 44, 45, 46, 47, 48, 49],\n",
              "       [50, 51, 52, 53, 54, 55, 56, 57, 58, 59],\n",
              "       [60, 61, 62, 63, 64, 65, 66, 67, 68, 69],\n",
              "       [70, 71, 72, 73, 74, 75, 76, 77, 78, 79],\n",
              "       [80, 81, 82, 83, 84, 85, 86, 87, 88, 89],\n",
              "       [90, 91, 92, 93, 94, 95, 96, 97, 98, 99]])"
            ]
          },
          "metadata": {},
          "execution_count": 187
        }
      ]
    },
    {
      "cell_type": "code",
      "source": [
        "\n",
        "a[::-1, ::-1]"
      ],
      "metadata": {
        "colab": {
          "base_uri": "https://localhost:8080/"
        },
        "id": "apW3aOSFL7AY",
        "outputId": "35109fd5-c5a1-4c73-d088-c95e92580843"
      },
      "execution_count": null,
      "outputs": [
        {
          "output_type": "execute_result",
          "data": {
            "text/plain": [
              "array([[99, 98, 97, 96, 95, 94, 93, 92, 91, 90],\n",
              "       [89, 88, 87, 86, 85, 84, 83, 82, 81, 80],\n",
              "       [79, 78, 77, 76, 75, 74, 73, 72, 71, 70],\n",
              "       [69, 68, 67, 66, 65, 64, 63, 62, 61, 60],\n",
              "       [59, 58, 57, 56, 55, 54, 53, 52, 51, 50],\n",
              "       [49, 48, 47, 46, 45, 44, 43, 42, 41, 40],\n",
              "       [39, 38, 37, 36, 35, 34, 33, 32, 31, 30],\n",
              "       [29, 28, 27, 26, 25, 24, 23, 22, 21, 20],\n",
              "       [19, 18, 17, 16, 15, 14, 13, 12, 11, 10]])"
            ]
          },
          "metadata": {},
          "execution_count": 189
        }
      ]
    },
    {
      "cell_type": "code",
      "source": [
        "matrix_c = np.arange(1, 26).reshape(5,5)\n",
        "matrix_c, type(matrix_c), matrix_c.ndim"
      ],
      "metadata": {
        "colab": {
          "base_uri": "https://localhost:8080/"
        },
        "id": "hFbcQOeWL_8z",
        "outputId": "7b407884-683d-4353-8eb9-70e63c23fd2d"
      },
      "execution_count": null,
      "outputs": [
        {
          "output_type": "execute_result",
          "data": {
            "text/plain": [
              "(array([[ 1,  2,  3,  4,  5],\n",
              "        [ 6,  7,  8,  9, 10],\n",
              "        [11, 12, 13, 14, 15],\n",
              "        [16, 17, 18, 19, 20],\n",
              "        [21, 22, 23, 24, 25]]),\n",
              " numpy.ndarray,\n",
              " 2)"
            ]
          },
          "metadata": {},
          "execution_count": 190
        }
      ]
    },
    {
      "cell_type": "code",
      "source": [
        "\n",
        "# 1차원 슬라이싱, 1행만 출력\n",
        "matrix_c[0, :], matrix_c[0]"
      ],
      "metadata": {
        "colab": {
          "base_uri": "https://localhost:8080/"
        },
        "id": "xRZySE-QL__e",
        "outputId": "df631458-e7a5-478d-e2ce-85372f17a400"
      },
      "execution_count": null,
      "outputs": [
        {
          "output_type": "execute_result",
          "data": {
            "text/plain": [
              "(array([1, 2, 3, 4, 5]), array([1, 2, 3, 4, 5]))"
            ]
          },
          "metadata": {},
          "execution_count": 192
        }
      ]
    },
    {
      "cell_type": "code",
      "source": [
        "\n",
        "# 2차원 슬라이싱, 1번째행 2번째행 출력\n",
        "matrix_c[0:2, :], matrix_c[0:2]"
      ],
      "metadata": {
        "colab": {
          "base_uri": "https://localhost:8080/"
        },
        "id": "Wt0LwCyhMABj",
        "outputId": "82226a77-8640-4030-901e-fad3ced6db6c"
      },
      "execution_count": null,
      "outputs": [
        {
          "output_type": "execute_result",
          "data": {
            "text/plain": [
              "(array([[ 1,  2,  3,  4,  5],\n",
              "        [ 6,  7,  8,  9, 10]]),\n",
              " array([[ 1,  2,  3,  4,  5],\n",
              "        [ 6,  7,  8,  9, 10]]))"
            ]
          },
          "metadata": {},
          "execution_count": 193
        }
      ]
    },
    {
      "cell_type": "code",
      "source": [
        "\n",
        "# 1번째열만 출력\n",
        "matrix_c[:, 0]"
      ],
      "metadata": {
        "colab": {
          "base_uri": "https://localhost:8080/"
        },
        "id": "RAvJNW_ZMAD5",
        "outputId": "2d2f01a4-5cf7-45c1-fe8b-562d9f87b502"
      },
      "execution_count": null,
      "outputs": [
        {
          "output_type": "execute_result",
          "data": {
            "text/plain": [
              "array([ 1,  6, 11, 16, 21])"
            ]
          },
          "metadata": {},
          "execution_count": 194
        }
      ]
    },
    {
      "cell_type": "code",
      "source": [
        "\n",
        "# 3,4 번째열만 출력\n",
        "matrix_c[:, 2:4]"
      ],
      "metadata": {
        "colab": {
          "base_uri": "https://localhost:8080/"
        },
        "id": "tNZe6RMgMFbZ",
        "outputId": "86487644-3a6c-412e-b19d-0623957b94e4"
      },
      "execution_count": null,
      "outputs": [
        {
          "output_type": "execute_result",
          "data": {
            "text/plain": [
              "array([[ 3,  4],\n",
              "       [ 8,  9],\n",
              "       [13, 14],\n",
              "       [18, 19],\n",
              "       [23, 24]])"
            ]
          },
          "metadata": {},
          "execution_count": 195
        }
      ]
    },
    {
      "cell_type": "code",
      "source": [
        "# 특정행의 특정열 슬라이싱\n",
        "matrix_c[0:3, 0:2]"
      ],
      "metadata": {
        "colab": {
          "base_uri": "https://localhost:8080/"
        },
        "id": "2GvGndeAMFes",
        "outputId": "bbeed540-71b6-4d71-a308-f143460582fe"
      },
      "execution_count": null,
      "outputs": [
        {
          "output_type": "execute_result",
          "data": {
            "text/plain": [
              "array([[ 1,  2],\n",
              "       [ 6,  7],\n",
              "       [11, 12]])"
            ]
          },
          "metadata": {},
          "execution_count": 196
        }
      ]
    },
    {
      "cell_type": "code",
      "source": [
        "# 홀수번째 행만 출력\n",
        "matrix_c[::2, ::]"
      ],
      "metadata": {
        "colab": {
          "base_uri": "https://localhost:8080/"
        },
        "id": "qGH2YHKIMI2l",
        "outputId": "8e74b571-b693-4f59-f51f-2fbb931105a7"
      },
      "execution_count": null,
      "outputs": [
        {
          "output_type": "execute_result",
          "data": {
            "text/plain": [
              "array([[ 1,  2,  3,  4,  5],\n",
              "       [11, 12, 13, 14, 15],\n",
              "       [21, 22, 23, 24, 25]])"
            ]
          },
          "metadata": {},
          "execution_count": 197
        }
      ]
    },
    {
      "cell_type": "code",
      "source": [
        "\n",
        "# 짝수번쨰행 + 홀수번째열\n",
        "matrix_c[1::2, ::2]"
      ],
      "metadata": {
        "colab": {
          "base_uri": "https://localhost:8080/"
        },
        "id": "YdFypFOQMI4K",
        "outputId": "f9860a68-cc6f-4712-dc4b-a39e5df8a053"
      },
      "execution_count": null,
      "outputs": [
        {
          "output_type": "execute_result",
          "data": {
            "text/plain": [
              "array([[ 6,  8, 10],\n",
              "       [16, 18, 20]])"
            ]
          },
          "metadata": {},
          "execution_count": 198
        }
      ]
    },
    {
      "cell_type": "code",
      "source": [
        "\n",
        "# 리버스 인덱싱\n",
        "print(matrix_c[::-1, ::]) # 행 뒤집기\n",
        "print(matrix_c[::, ::-1]) # 열 뒤집기"
      ],
      "metadata": {
        "colab": {
          "base_uri": "https://localhost:8080/"
        },
        "id": "QlpwfHCpMI6V",
        "outputId": "0d93c604-d6f8-4465-ad3d-f1f473a8ec6b"
      },
      "execution_count": null,
      "outputs": [
        {
          "output_type": "stream",
          "name": "stdout",
          "text": [
            "[[21 22 23 24 25]\n",
            " [16 17 18 19 20]\n",
            " [11 12 13 14 15]\n",
            " [ 6  7  8  9 10]\n",
            " [ 1  2  3  4  5]]\n",
            "[[ 5  4  3  2  1]\n",
            " [10  9  8  7  6]\n",
            " [15 14 13 12 11]\n",
            " [20 19 18 17 16]\n",
            " [25 24 23 22 21]]\n"
          ]
        }
      ]
    },
    {
      "cell_type": "markdown",
      "source": [
        "# **전치행렬**\n",
        "\n",
        "넘파이배열.T : 행과 열 구조 변경 image-2.png"
      ],
      "metadata": {
        "id": "VrC-AOdOMPSh"
      }
    },
    {
      "cell_type": "code",
      "source": [
        "# 3행 2열\n",
        "matrix_d = np.arange(1,7).reshape(3,2)\n",
        "matrix_d"
      ],
      "metadata": {
        "colab": {
          "base_uri": "https://localhost:8080/"
        },
        "id": "3OmFWmjbMRpp",
        "outputId": "ff12df4c-6f65-4e2c-c1b8-eba07ec58fd2"
      },
      "execution_count": null,
      "outputs": [
        {
          "output_type": "execute_result",
          "data": {
            "text/plain": [
              "array([[1, 2],\n",
              "       [3, 4],\n",
              "       [5, 6]])"
            ]
          },
          "metadata": {},
          "execution_count": 200
        }
      ]
    },
    {
      "cell_type": "code",
      "source": [
        "# 2행 3열로 변환\n",
        "print(matrix_d.T)"
      ],
      "metadata": {
        "colab": {
          "base_uri": "https://localhost:8080/"
        },
        "id": "jAVCkPrMMWxs",
        "outputId": "d1a85038-3456-47f9-f182-7ed2e2dbd2c4"
      },
      "execution_count": null,
      "outputs": [
        {
          "output_type": "stream",
          "name": "stdout",
          "text": [
            "[[1 3 5]\n",
            " [2 4 6]]\n"
          ]
        }
      ]
    },
    {
      "cell_type": "code",
      "source": [
        "\n",
        "# reshape과 transpose은 값이 다름을 유의\n",
        "print(matrix_d.reshape(2,3))"
      ],
      "metadata": {
        "colab": {
          "base_uri": "https://localhost:8080/"
        },
        "id": "zBmhOjH7MZzL",
        "outputId": "56f5edf0-4025-4d4c-de26-15c47335864f"
      },
      "execution_count": null,
      "outputs": [
        {
          "output_type": "stream",
          "name": "stdout",
          "text": [
            "[[1 2 3]\n",
            " [4 5 6]]\n"
          ]
        }
      ]
    },
    {
      "cell_type": "markdown",
      "source": [
        "\n",
        "# **난수로 구성된 넘파이 배열**\n",
        "\n",
        "np.random.randint(start, end, n) : 정수 난수\n",
        "np.random.randint(start, end, (i, j))"
      ],
      "metadata": {
        "id": "sTuYYRoXMbF0"
      }
    },
    {
      "cell_type": "code",
      "source": [
        "\n",
        "np.random?"
      ],
      "metadata": {
        "id": "4q11GWdeMec0"
      },
      "execution_count": null,
      "outputs": []
    },
    {
      "cell_type": "code",
      "source": [
        "\n",
        "# 1~10 사이의 숫자중에서 10개 출력\n",
        "np.random.randint(1, 10, 10)"
      ],
      "metadata": {
        "colab": {
          "base_uri": "https://localhost:8080/"
        },
        "id": "ld2I_YhFMkoS",
        "outputId": "7944b272-2e8e-447f-fdec-93c1b75eb326"
      },
      "execution_count": null,
      "outputs": [
        {
          "output_type": "execute_result",
          "data": {
            "text/plain": [
              "array([2, 8, 1, 5, 2, 7, 5, 6, 5, 1])"
            ]
          },
          "metadata": {},
          "execution_count": 205
        }
      ]
    },
    {
      "cell_type": "code",
      "source": [
        "\n",
        "# 2행 5열로 츨력\n",
        "np.random.randint(1, 10, (2,5))"
      ],
      "metadata": {
        "colab": {
          "base_uri": "https://localhost:8080/"
        },
        "id": "QiyIpNVDMlNR",
        "outputId": "342a7759-5086-482c-f786-0b3a5a01f9c9"
      },
      "execution_count": null,
      "outputs": [
        {
          "output_type": "execute_result",
          "data": {
            "text/plain": [
              "array([[3, 5, 6, 4, 7],\n",
              "       [5, 6, 2, 4, 1]])"
            ]
          },
          "metadata": {},
          "execution_count": 206
        }
      ]
    },
    {
      "cell_type": "markdown",
      "source": [
        "\n",
        "# **섞기**\n",
        "\n",
        "np.random.shuffle(넘파이배열) 원본에 바로 적용"
      ],
      "metadata": {
        "id": "nXTYGgSvMnzR"
      }
    },
    {
      "cell_type": "code",
      "source": [
        "np.random.shuffle?"
      ],
      "metadata": {
        "id": "zwRhSnfGMmT9"
      },
      "execution_count": null,
      "outputs": []
    },
    {
      "cell_type": "code",
      "source": [
        "\n",
        "# 10개 무작위 값 만들기\n",
        "matrix_e = np.arange(1,11)\n",
        "matrix_e"
      ],
      "metadata": {
        "colab": {
          "base_uri": "https://localhost:8080/"
        },
        "id": "2coRbGReMkso",
        "outputId": "c95afa46-45c3-4192-e1f0-20e591a7d0ea"
      },
      "execution_count": null,
      "outputs": [
        {
          "output_type": "execute_result",
          "data": {
            "text/plain": [
              "array([ 1,  2,  3,  4,  5,  6,  7,  8,  9, 10])"
            ]
          },
          "metadata": {},
          "execution_count": 209
        }
      ]
    },
    {
      "cell_type": "markdown",
      "source": [],
      "metadata": {
        "id": "GqGnZFRWMxAH"
      }
    },
    {
      "cell_type": "code",
      "source": [
        "\n",
        "np.random.shuffle(matrix_e)\n",
        "matrix_e"
      ],
      "metadata": {
        "colab": {
          "base_uri": "https://localhost:8080/"
        },
        "id": "sb3aIo5CMsqO",
        "outputId": "015fe454-eec8-451a-82e5-6c7f55b1cacb"
      },
      "execution_count": null,
      "outputs": [
        {
          "output_type": "execute_result",
          "data": {
            "text/plain": [
              "array([10,  1,  6,  9,  3,  4,  7,  8,  5,  2])"
            ]
          },
          "metadata": {},
          "execution_count": 210
        }
      ]
    },
    {
      "cell_type": "markdown",
      "source": [
        "\n",
        "#Quiz : 1~46까지 구성된 숫자 중에서 6개를 뽑아서 로또 번호를 생성하라"
      ],
      "metadata": {
        "id": "NnGfUI5-Mws0"
      }
    },
    {
      "cell_type": "code",
      "source": [
        "num= np.arange(1,47)\n",
        "np.random.shuffle(num)\n",
        "num[:6]\n"
      ],
      "metadata": {
        "colab": {
          "base_uri": "https://localhost:8080/"
        },
        "id": "DK2Ff6iEMu6v",
        "outputId": "e271b092-2cf3-4b09-e274-b5caf4eb23c9"
      },
      "execution_count": null,
      "outputs": [
        {
          "output_type": "execute_result",
          "data": {
            "text/plain": [
              "array([39, 44, 27, 28, 45, 37])"
            ]
          },
          "metadata": {},
          "execution_count": 211
        }
      ]
    },
    {
      "cell_type": "code",
      "source": [
        "\n",
        "np.random.randint(1,47,6)"
      ],
      "metadata": {
        "colab": {
          "base_uri": "https://localhost:8080/"
        },
        "id": "lxzEsvYbM0HW",
        "outputId": "ddaf4522-c722-449b-858a-041a77a7f7f4"
      },
      "execution_count": null,
      "outputs": [
        {
          "output_type": "execute_result",
          "data": {
            "text/plain": [
              "array([39, 34,  2, 31, 32,  7])"
            ]
          },
          "metadata": {},
          "execution_count": 212
        }
      ]
    },
    {
      "cell_type": "markdown",
      "source": [
        "\n",
        "# **실수 난수**\n",
        "\n",
        "np.random.randn(n) np.random.randn(i, j)"
      ],
      "metadata": {
        "id": "EosJcXGZM2he"
      }
    },
    {
      "cell_type": "code",
      "source": [
        "\n",
        "np.random.randn?"
      ],
      "metadata": {
        "id": "w_LBwNMYM1cL"
      },
      "execution_count": null,
      "outputs": []
    },
    {
      "cell_type": "code",
      "source": [
        "matrix1 = np.random.randn(10) # 표준정규분포 0 ~ 분산1\n",
        "matrix1"
      ],
      "metadata": {
        "colab": {
          "base_uri": "https://localhost:8080/"
        },
        "id": "Lva_MfR3My2y",
        "outputId": "5d72ef31-f37b-45f6-d590-c71a3eba9896"
      },
      "execution_count": null,
      "outputs": [
        {
          "output_type": "execute_result",
          "data": {
            "text/plain": [
              "array([-1.53682043,  2.40953294,  0.1609781 , -1.19773809, -0.51737918,\n",
              "        0.4625291 ,  0.82252265,  0.52852148,  1.49895964, -0.02502712])"
            ]
          },
          "metadata": {},
          "execution_count": 214
        }
      ]
    },
    {
      "cell_type": "code",
      "source": [
        "\n",
        "matrix2 = np.random.randn(4, 4)\n",
        "matrix2"
      ],
      "metadata": {
        "colab": {
          "base_uri": "https://localhost:8080/"
        },
        "id": "9rcSdNJXM8aT",
        "outputId": "6d5cb2a5-035d-4775-9d40-ccf02f081959"
      },
      "execution_count": null,
      "outputs": [
        {
          "output_type": "execute_result",
          "data": {
            "text/plain": [
              "array([[-3.12019476,  0.85037939,  0.477647  , -0.45605229],\n",
              "       [ 2.08551914,  0.67510386, -0.93892409, -0.31310597],\n",
              "       [-0.95549727,  0.91568566,  0.13932763, -0.88731444],\n",
              "       [-0.02573893, -1.09379833,  0.19937237,  0.23037609]])"
            ]
          },
          "metadata": {},
          "execution_count": 215
        }
      ]
    },
    {
      "cell_type": "code",
      "source": [
        "matrix1.max(), matrix1.min()"
      ],
      "metadata": {
        "colab": {
          "base_uri": "https://localhost:8080/"
        },
        "id": "UsCWN2fIM8da",
        "outputId": "07f52c63-e3f9-4e74-92e0-7f18d8cc7312"
      },
      "execution_count": null,
      "outputs": [
        {
          "output_type": "execute_result",
          "data": {
            "text/plain": [
              "(2.409532940173, -1.53682043368813)"
            ]
          },
          "metadata": {},
          "execution_count": 216
        }
      ]
    },
    {
      "cell_type": "markdown",
      "source": [
        "\n",
        "# **집계함수에서의 축**\n",
        "\n",
        "2차원에서의 집계합수(sum, mean)\n",
        "axis = 0, 1\n",
        "np.sum(넘파이배열, axis=0/1)\n",
        "np.mean(넘파이배열, axis=0/1)\n",
        "np.sort(넘파이배열, axis=0/1)"
      ],
      "metadata": {
        "id": "hMi5Db1XM-wB"
      }
    },
    {
      "cell_type": "code",
      "source": [
        "\n",
        "m1 = np.random.randint(1, 50, (5,5))\n",
        "m1"
      ],
      "metadata": {
        "colab": {
          "base_uri": "https://localhost:8080/"
        },
        "id": "f0hgoXfsM974",
        "outputId": "377126b1-6654-482f-ebe9-1d50e243a97a"
      },
      "execution_count": null,
      "outputs": [
        {
          "output_type": "execute_result",
          "data": {
            "text/plain": [
              "array([[31, 45, 45, 11, 17],\n",
              "       [ 8, 33, 25,  1,  8],\n",
              "       [23, 36, 32, 34, 26],\n",
              "       [21, 27,  5, 27,  3],\n",
              "       [34,  9,  3,  1, 26]])"
            ]
          },
          "metadata": {},
          "execution_count": 218
        }
      ]
    },
    {
      "cell_type": "code",
      "source": [
        "\n",
        "np.sum(m1, axis=0) # (x)행 합계"
      ],
      "metadata": {
        "colab": {
          "base_uri": "https://localhost:8080/"
        },
        "id": "zaccqVLsNCmq",
        "outputId": "4897fd42-bee1-4610-bcfd-5fac9b0eb6ba"
      },
      "execution_count": null,
      "outputs": [
        {
          "output_type": "execute_result",
          "data": {
            "text/plain": [
              "array([117, 150, 110,  74,  80])"
            ]
          },
          "metadata": {},
          "execution_count": 219
        }
      ]
    },
    {
      "cell_type": "code",
      "source": [
        "\n",
        "np.sum(m1, axis=1) # 열(y) 합계"
      ],
      "metadata": {
        "colab": {
          "base_uri": "https://localhost:8080/"
        },
        "id": "9AEnDCDZNCpw",
        "outputId": "56ba42be-7939-4a3a-8b46-2b193800c8ce"
      },
      "execution_count": null,
      "outputs": [
        {
          "output_type": "execute_result",
          "data": {
            "text/plain": [
              "array([149,  75, 151,  83,  73])"
            ]
          },
          "metadata": {},
          "execution_count": 220
        }
      ]
    },
    {
      "cell_type": "code",
      "source": [
        "\n",
        "# 1번째행의 합계는\n",
        "np.sum(m1[0,:], axis=0) # x축(행 방향) 합계"
      ],
      "metadata": {
        "colab": {
          "base_uri": "https://localhost:8080/"
        },
        "id": "CHNELPdoNCs6",
        "outputId": "8d9f7c02-f0e5-4487-b5ba-4c4b5a5c8072"
      },
      "execution_count": null,
      "outputs": [
        {
          "output_type": "execute_result",
          "data": {
            "text/plain": [
              "149"
            ]
          },
          "metadata": {},
          "execution_count": 221
        }
      ]
    },
    {
      "cell_type": "markdown",
      "source": [
        "\n",
        "# np.sort()"
      ],
      "metadata": {
        "id": "TpcbClshNHhh"
      }
    },
    {
      "cell_type": "code",
      "source": [
        "\n",
        "# 정수 난수로 구성된 4x3\n",
        "m2 = np.random.randint(1, 50,(4,3))\n",
        "m2"
      ],
      "metadata": {
        "colab": {
          "base_uri": "https://localhost:8080/"
        },
        "id": "mG4ZkIP9NKO3",
        "outputId": "b5878c55-2352-45f5-9ff7-efae4bfae23c"
      },
      "execution_count": null,
      "outputs": [
        {
          "output_type": "execute_result",
          "data": {
            "text/plain": [
              "array([[ 9,  6, 43],\n",
              "       [33, 16, 38],\n",
              "       [40, 42,  2],\n",
              "       [48,  1, 25]])"
            ]
          },
          "metadata": {},
          "execution_count": 223
        }
      ]
    },
    {
      "cell_type": "code",
      "source": [
        "np.sort?"
      ],
      "metadata": {
        "id": "Ycy8BlwcNMWp"
      },
      "execution_count": null,
      "outputs": []
    },
    {
      "cell_type": "code",
      "source": [
        "\n",
        "np.sort(m2, axis=0) # 행방향 오름차순(요소별로)"
      ],
      "metadata": {
        "colab": {
          "base_uri": "https://localhost:8080/"
        },
        "id": "BDC6ocbZNM4E",
        "outputId": "7412b024-92fc-4557-e536-2c64051d3185"
      },
      "execution_count": null,
      "outputs": [
        {
          "output_type": "execute_result",
          "data": {
            "text/plain": [
              "array([[ 9,  1,  2],\n",
              "       [33,  6, 25],\n",
              "       [40, 16, 38],\n",
              "       [48, 42, 43]])"
            ]
          },
          "metadata": {},
          "execution_count": 225
        }
      ]
    },
    {
      "cell_type": "code",
      "source": [
        "\n",
        "m2[::-1, ::] # 행전체가 역순으로 바뀌는 것과는 다르다"
      ],
      "metadata": {
        "colab": {
          "base_uri": "https://localhost:8080/"
        },
        "id": "SRgxp4onNMZY",
        "outputId": "8afbb305-5962-4dca-b4e2-d635690074b5"
      },
      "execution_count": null,
      "outputs": [
        {
          "output_type": "execute_result",
          "data": {
            "text/plain": [
              "array([[48,  1, 25],\n",
              "       [40, 42,  2],\n",
              "       [33, 16, 38],\n",
              "       [ 9,  6, 43]])"
            ]
          },
          "metadata": {},
          "execution_count": 226
        }
      ]
    },
    {
      "cell_type": "code",
      "source": [
        "\n",
        "np.sort(m2, axis=1) # 열방향 오름차순"
      ],
      "metadata": {
        "colab": {
          "base_uri": "https://localhost:8080/"
        },
        "id": "2JpvBZZVNMb0",
        "outputId": "7f879bac-e82e-4883-be80-49845b143ff6"
      },
      "execution_count": null,
      "outputs": [
        {
          "output_type": "execute_result",
          "data": {
            "text/plain": [
              "array([[ 6,  9, 43],\n",
              "       [16, 33, 38],\n",
              "       [ 2, 40, 42],\n",
              "       [ 1, 25, 48]])"
            ]
          },
          "metadata": {},
          "execution_count": 227
        }
      ]
    },
    {
      "cell_type": "code",
      "source": [
        "\n",
        "np.sort(m2, axis=1) # 열방향 오름차순"
      ],
      "metadata": {
        "colab": {
          "base_uri": "https://localhost:8080/"
        },
        "id": "bqiwG6M9NMdD",
        "outputId": "c9c2b9e4-6598-4463-9617-c82697d543a9"
      },
      "execution_count": null,
      "outputs": [
        {
          "output_type": "execute_result",
          "data": {
            "text/plain": [
              "array([[ 6,  9, 43],\n",
              "       [16, 33, 38],\n",
              "       [ 2, 40, 42],\n",
              "       [ 1, 25, 48]])"
            ]
          },
          "metadata": {},
          "execution_count": 228
        }
      ]
    },
    {
      "cell_type": "markdown",
      "source": [
        "\n",
        "# **인덱스 소팅**\n",
        "\n",
        "np.argsort(넘파이배열, axis=0,1)\n",
        "\n",
        "정렬값을 인덱스로 반환 (np.sort()를 인덱스로)"
      ],
      "metadata": {
        "id": "pTkMXu1mNR6h"
      }
    },
    {
      "cell_type": "code",
      "source": [
        "\n",
        "x = np.array([9,5,4])\n",
        "np.argsort(x) # 오름차순 정렬 4 5 9 의 인덱스 값"
      ],
      "metadata": {
        "colab": {
          "base_uri": "https://localhost:8080/"
        },
        "id": "SWGlfm3LNTzc",
        "outputId": "0f8a82ef-2619-4cb6-eeed-762d4919229f"
      },
      "execution_count": null,
      "outputs": [
        {
          "output_type": "execute_result",
          "data": {
            "text/plain": [
              "array([2, 1, 0])"
            ]
          },
          "metadata": {},
          "execution_count": 229
        }
      ]
    },
    {
      "cell_type": "code",
      "source": [
        "x[np.argsort(x)] # 인덱스값으로 실제 값 출력"
      ],
      "metadata": {
        "colab": {
          "base_uri": "https://localhost:8080/"
        },
        "id": "NIh0QbhANT4L",
        "outputId": "de5da3cf-82a9-47f5-de21-ca04a9fd987e"
      },
      "execution_count": null,
      "outputs": [
        {
          "output_type": "execute_result",
          "data": {
            "text/plain": [
              "array([4, 5, 9])"
            ]
          },
          "metadata": {},
          "execution_count": 230
        }
      ]
    },
    {
      "cell_type": "markdown",
      "source": [
        "\n",
        "# **넘파이 배열 요소 추가와 삭제(12/18)**\n",
        "\n",
        "삽입\n",
        "\n",
        "np.insert(배열, 위치인덱스, 값, axis=0/1)\n",
        "2차원인 경우 axis를 설정하지 않으면 1차원 배열로 변경되어 삽입출력\n",
        "삭제\n",
        "\n",
        "np.delete(배열명, 위치인덱스, axis=0/1)"
      ],
      "metadata": {
        "id": "6bHJIyMgNWh-"
      }
    },
    {
      "cell_type": "code",
      "source": [
        "\n",
        "m3 = np.arange(1,11)\n",
        "m3"
      ],
      "metadata": {
        "colab": {
          "base_uri": "https://localhost:8080/"
        },
        "id": "J6qr6-7INT9_",
        "outputId": "b167bdad-026e-4765-d91c-c7814463327e"
      },
      "execution_count": null,
      "outputs": [
        {
          "output_type": "execute_result",
          "data": {
            "text/plain": [
              "array([ 1,  2,  3,  4,  5,  6,  7,  8,  9, 10])"
            ]
          },
          "metadata": {},
          "execution_count": 232
        }
      ]
    },
    {
      "cell_type": "code",
      "source": [
        "\n",
        "np.insert(m3, 0, 100)"
      ],
      "metadata": {
        "colab": {
          "base_uri": "https://localhost:8080/"
        },
        "id": "ZBD1xHXANb0d",
        "outputId": "47c8a466-a4db-4add-d2a0-4c4eca9d118e"
      },
      "execution_count": null,
      "outputs": [
        {
          "output_type": "execute_result",
          "data": {
            "text/plain": [
              "array([100,   1,   2,   3,   4,   5,   6,   7,   8,   9,  10])"
            ]
          },
          "metadata": {},
          "execution_count": 233
        }
      ]
    },
    {
      "cell_type": "code",
      "source": [
        "\n",
        "m3[-1]"
      ],
      "metadata": {
        "colab": {
          "base_uri": "https://localhost:8080/"
        },
        "id": "bpH4niTPNb3Q",
        "outputId": "64f7df13-1337-450d-b3fb-1a73a933fcdf"
      },
      "execution_count": null,
      "outputs": [
        {
          "output_type": "execute_result",
          "data": {
            "text/plain": [
              "10"
            ]
          },
          "metadata": {},
          "execution_count": 234
        }
      ]
    },
    {
      "cell_type": "code",
      "source": [
        "\n",
        "np.insert?"
      ],
      "metadata": {
        "id": "LQBUbtbtNb5v"
      },
      "execution_count": null,
      "outputs": []
    },
    {
      "cell_type": "code",
      "source": [
        "\n",
        "np.insert(m3, -1, 500)  # 인덱싱/슬라이싱 end처럼 인식"
      ],
      "metadata": {
        "colab": {
          "base_uri": "https://localhost:8080/"
        },
        "id": "P7vKMMx4NeuW",
        "outputId": "a2f2c594-6e32-472b-eae2-fec7560916b2"
      },
      "execution_count": null,
      "outputs": [
        {
          "output_type": "execute_result",
          "data": {
            "text/plain": [
              "array([  1,   2,   3,   4,   5,   6,   7,   8,   9, 500,  10])"
            ]
          },
          "metadata": {},
          "execution_count": 236
        }
      ]
    },
    {
      "cell_type": "code",
      "source": [
        "np.insert(m3, len(m3), 500)"
      ],
      "metadata": {
        "colab": {
          "base_uri": "https://localhost:8080/"
        },
        "id": "UgXTw48jNgWq",
        "outputId": "b1e18c83-7213-4a29-a666-10e6234a9b59"
      },
      "execution_count": null,
      "outputs": [
        {
          "output_type": "execute_result",
          "data": {
            "text/plain": [
              "array([  1,   2,   3,   4,   5,   6,   7,   8,   9,  10, 500])"
            ]
          },
          "metadata": {},
          "execution_count": 237
        }
      ]
    },
    {
      "cell_type": "code",
      "source": [
        "\n",
        "m4 = np.arange(1,10).reshape(3,3)\n",
        "m4\n"
      ],
      "metadata": {
        "colab": {
          "base_uri": "https://localhost:8080/"
        },
        "id": "YDAnPb0aNhfE",
        "outputId": "09e41432-b768-41ab-d94a-c9a1f1c38031"
      },
      "execution_count": null,
      "outputs": [
        {
          "output_type": "execute_result",
          "data": {
            "text/plain": [
              "array([[1, 2, 3],\n",
              "       [4, 5, 6],\n",
              "       [7, 8, 9]])"
            ]
          },
          "metadata": {},
          "execution_count": 238
        }
      ]
    },
    {
      "cell_type": "code",
      "source": [
        "\n",
        "np.insert(m4, 0, 100) # 2차원배열의 경우 axis 미설정시 1차원으로 변경되어 삽입"
      ],
      "metadata": {
        "colab": {
          "base_uri": "https://localhost:8080/"
        },
        "id": "IlR9w2sfNhk_",
        "outputId": "e1abc443-52e7-4fdc-f5fc-a108519df2b4"
      },
      "execution_count": null,
      "outputs": [
        {
          "output_type": "execute_result",
          "data": {
            "text/plain": [
              "array([100,   1,   2,   3,   4,   5,   6,   7,   8,   9])"
            ]
          },
          "metadata": {},
          "execution_count": 239
        }
      ]
    },
    {
      "cell_type": "code",
      "source": [
        "# 1열으로 [100,100,100] 삽입\n",
        "np.insert(m4, 0, 100, axis=1)"
      ],
      "metadata": {
        "colab": {
          "base_uri": "https://localhost:8080/"
        },
        "id": "BqftFWzyNkT_",
        "outputId": "0721238a-85b5-4064-f418-235a1356f63e"
      },
      "execution_count": null,
      "outputs": [
        {
          "output_type": "execute_result",
          "data": {
            "text/plain": [
              "array([[100,   1,   2,   3],\n",
              "       [100,   4,   5,   6],\n",
              "       [100,   7,   8,   9]])"
            ]
          },
          "metadata": {},
          "execution_count": 240
        }
      ]
    },
    {
      "cell_type": "code",
      "source": [
        "\n",
        "# 리스트로 삽입\n",
        "np.insert(m4, 0, [100,200,300], axis=1)"
      ],
      "metadata": {
        "colab": {
          "base_uri": "https://localhost:8080/"
        },
        "id": "_F_-EFsWNkYG",
        "outputId": "e3fa0e5a-09e6-4c18-a2fa-60a1f48c4abb"
      },
      "execution_count": null,
      "outputs": [
        {
          "output_type": "execute_result",
          "data": {
            "text/plain": [
              "array([[100,   1,   2,   3],\n",
              "       [200,   4,   5,   6],\n",
              "       [300,   7,   8,   9]])"
            ]
          },
          "metadata": {},
          "execution_count": 241
        }
      ]
    },
    {
      "cell_type": "code",
      "source": [
        "\n",
        "m4.shape, m4.shape[1], len(m4)"
      ],
      "metadata": {
        "colab": {
          "base_uri": "https://localhost:8080/"
        },
        "id": "AuX8rH9qNkZF",
        "outputId": "4339b2c1-1ba0-4390-cb0c-01c824e9c672"
      },
      "execution_count": null,
      "outputs": [
        {
          "output_type": "execute_result",
          "data": {
            "text/plain": [
              "((3, 3), 3, 3)"
            ]
          },
          "metadata": {},
          "execution_count": 242
        }
      ]
    },
    {
      "cell_type": "code",
      "source": [
        "\n",
        "# 마지막 컬럼으로 삽입\n",
        "# 배열명.shape[1] 칼럼 길이\n",
        "np.insert(m4, m4.shape[1], [100,200,300], axis=1)"
      ],
      "metadata": {
        "colab": {
          "base_uri": "https://localhost:8080/"
        },
        "id": "61ZSHDerNpA3",
        "outputId": "7abd59f3-0785-4fb6-b419-66d02b261d75"
      },
      "execution_count": null,
      "outputs": [
        {
          "output_type": "execute_result",
          "data": {
            "text/plain": [
              "array([[  1,   2,   3, 100],\n",
              "       [  4,   5,   6, 200],\n",
              "       [  7,   8,   9, 300]])"
            ]
          },
          "metadata": {},
          "execution_count": 243
        }
      ]
    },
    {
      "cell_type": "code",
      "source": [
        "\n",
        "# 마지막 행에 삽입\n",
        "np.insert(m4, m4.shape[0], [100,200,300], axis=0)"
      ],
      "metadata": {
        "colab": {
          "base_uri": "https://localhost:8080/"
        },
        "id": "kpoKgwYBNpEE",
        "outputId": "3d68c598-a33d-4279-a8c0-2b32eba8fbe4"
      },
      "execution_count": null,
      "outputs": [
        {
          "output_type": "execute_result",
          "data": {
            "text/plain": [
              "array([[  1,   2,   3],\n",
              "       [  4,   5,   6],\n",
              "       [  7,   8,   9],\n",
              "       [100, 200, 300]])"
            ]
          },
          "metadata": {},
          "execution_count": 244
        }
      ]
    },
    {
      "cell_type": "code",
      "source": [
        "\n",
        "m4"
      ],
      "metadata": {
        "colab": {
          "base_uri": "https://localhost:8080/"
        },
        "id": "8RfexVZvNpGp",
        "outputId": "70290885-7bb0-4ee7-f071-673cf63b8484"
      },
      "execution_count": null,
      "outputs": [
        {
          "output_type": "execute_result",
          "data": {
            "text/plain": [
              "array([[1, 2, 3],\n",
              "       [4, 5, 6],\n",
              "       [7, 8, 9]])"
            ]
          },
          "metadata": {},
          "execution_count": 245
        }
      ]
    },
    {
      "cell_type": "code",
      "source": [
        "\n",
        "np.delete(m4, 0, axis=0)"
      ],
      "metadata": {
        "colab": {
          "base_uri": "https://localhost:8080/"
        },
        "id": "j4FoM1aNNuiA",
        "outputId": "79051333-ad16-4688-ab8d-5db4f2c9c080"
      },
      "execution_count": null,
      "outputs": [
        {
          "output_type": "execute_result",
          "data": {
            "text/plain": [
              "array([[4, 5, 6],\n",
              "       [7, 8, 9]])"
            ]
          },
          "metadata": {},
          "execution_count": 246
        }
      ]
    },
    {
      "cell_type": "markdown",
      "source": [
        "# **배열 합치기**\n",
        "\n",
        "np.vstack((배열1,배열2....)) : 세로 합치기\n",
        "np.hstack((배열1,배열2....)) : 가로 합치기\n",
        "np.concatenate((배열1, 배열2), axis=0/1 ) 2차원만 가능"
      ],
      "metadata": {
        "id": "yA5xg_LVNwaO"
      }
    },
    {
      "cell_type": "code",
      "source": [
        "\n",
        "a = np.array([1,2,3])\n",
        "b = np.array([4,5,6])\n",
        "np.vstack((a,b))"
      ],
      "metadata": {
        "colab": {
          "base_uri": "https://localhost:8080/"
        },
        "id": "_lexO249N4Yj",
        "outputId": "b0bc7424-6ab0-41f4-af90-c0d960535d02"
      },
      "execution_count": null,
      "outputs": [
        {
          "output_type": "execute_result",
          "data": {
            "text/plain": [
              "array([[1, 2, 3],\n",
              "       [4, 5, 6]])"
            ]
          },
          "metadata": {},
          "execution_count": 247
        }
      ]
    },
    {
      "cell_type": "code",
      "source": [
        "\n",
        "np.hstack((a,b))"
      ],
      "metadata": {
        "colab": {
          "base_uri": "https://localhost:8080/"
        },
        "id": "M65JkQplN4P9",
        "outputId": "c27c1475-5e61-423d-8fbe-2c62214d2edb"
      },
      "execution_count": null,
      "outputs": [
        {
          "output_type": "execute_result",
          "data": {
            "text/plain": [
              "array([1, 2, 3, 4, 5, 6])"
            ]
          },
          "metadata": {},
          "execution_count": 249
        }
      ]
    },
    {
      "cell_type": "code",
      "source": [
        "c = np.array([[1,2,3]]) # 2차원\n",
        "c, c.ndim, c.shape"
      ],
      "metadata": {
        "colab": {
          "base_uri": "https://localhost:8080/"
        },
        "id": "AAMkq0Y9N7Dc",
        "outputId": "cb3726a6-0522-4aeb-b959-78f8120782a6"
      },
      "execution_count": null,
      "outputs": [
        {
          "output_type": "execute_result",
          "data": {
            "text/plain": [
              "(array([[1, 2, 3]]), 2, (1, 3))"
            ]
          },
          "metadata": {},
          "execution_count": 252
        }
      ]
    },
    {
      "cell_type": "code",
      "source": [
        "\n",
        "d = np.array([[4,5,6]]) # 2차원\n",
        "d, d.ndim, d.shape"
      ],
      "metadata": {
        "colab": {
          "base_uri": "https://localhost:8080/"
        },
        "id": "blQrwgsGN7GS",
        "outputId": "96d8b43e-2e44-4018-b869-be450b96e08b"
      },
      "execution_count": null,
      "outputs": [
        {
          "output_type": "execute_result",
          "data": {
            "text/plain": [
              "(array([[4, 5, 6]]), 2, (1, 3))"
            ]
          },
          "metadata": {},
          "execution_count": 253
        }
      ]
    },
    {
      "cell_type": "code",
      "source": [],
      "metadata": {
        "id": "WPhVBt-7OCO5"
      },
      "execution_count": null,
      "outputs": []
    },
    {
      "cell_type": "code",
      "source": [
        "\n",
        "f = np.concatenate((c,d), axis=0) #\n",
        "f, f.ndim, f.shape"
      ],
      "metadata": {
        "colab": {
          "base_uri": "https://localhost:8080/"
        },
        "id": "8hwv1AjNN7JE",
        "outputId": "5da402e8-800f-4be4-e8df-076c03ee6cbb"
      },
      "execution_count": null,
      "outputs": [
        {
          "output_type": "execute_result",
          "data": {
            "text/plain": [
              "(array([[1, 2, 3],\n",
              "        [4, 5, 6]]),\n",
              " 2,\n",
              " (2, 3))"
            ]
          },
          "metadata": {},
          "execution_count": 254
        }
      ]
    },
    {
      "cell_type": "code",
      "source": [
        "\n",
        "f = np.concatenate((c,d), axis=1) #\n",
        "f, f.ndim, f.shape"
      ],
      "metadata": {
        "colab": {
          "base_uri": "https://localhost:8080/"
        },
        "id": "yNuyRdqEN7MD",
        "outputId": "0735e401-3a2e-4e50-9efe-b51d141c12b6"
      },
      "execution_count": null,
      "outputs": [
        {
          "output_type": "execute_result",
          "data": {
            "text/plain": [
              "(array([[1, 2, 3, 4, 5, 6]]), 2, (1, 6))"
            ]
          },
          "metadata": {},
          "execution_count": 255
        }
      ]
    },
    {
      "cell_type": "markdown",
      "source": [
        "# **boolean indexing, mask**\n",
        "\n",
        "조건절의 결과는 True, False로 반환\n",
        "True인 결과의 데이터 반환\n",
        "넘파이배열[조건절] : ==, !=, <=, >=, &, |, ~"
      ],
      "metadata": {
        "id": "8KS6BkZ4OFi6"
      }
    },
    {
      "cell_type": "code",
      "source": [
        "matrix = np.arange(1, 21)\n",
        "matrix\n"
      ],
      "metadata": {
        "colab": {
          "base_uri": "https://localhost:8080/"
        },
        "id": "umYSH8L3OJ83",
        "outputId": "f5e4dbaa-5032-4010-e560-ff9b847a371d"
      },
      "execution_count": null,
      "outputs": [
        {
          "output_type": "execute_result",
          "data": {
            "text/plain": [
              "array([ 1,  2,  3,  4,  5,  6,  7,  8,  9, 10, 11, 12, 13, 14, 15, 16, 17,\n",
              "       18, 19, 20])"
            ]
          },
          "metadata": {},
          "execution_count": 256
        }
      ]
    },
    {
      "cell_type": "code",
      "source": [
        "matrix > 10"
      ],
      "metadata": {
        "colab": {
          "base_uri": "https://localhost:8080/"
        },
        "id": "T-U77f_vOK2Y",
        "outputId": "a532628e-d3c1-4ef8-db24-6132298cfa6c"
      },
      "execution_count": null,
      "outputs": [
        {
          "output_type": "execute_result",
          "data": {
            "text/plain": [
              "array([False, False, False, False, False, False, False, False, False,\n",
              "       False,  True,  True,  True,  True,  True,  True,  True,  True,\n",
              "        True,  True])"
            ]
          },
          "metadata": {},
          "execution_count": 257
        }
      ]
    },
    {
      "cell_type": "code",
      "source": [
        "\n",
        "matrix[matrix > 10]"
      ],
      "metadata": {
        "colab": {
          "base_uri": "https://localhost:8080/"
        },
        "id": "WgkrBnjCOL34",
        "outputId": "9a308aa7-8042-46de-8555-caf6a050d1a9"
      },
      "execution_count": null,
      "outputs": [
        {
          "output_type": "execute_result",
          "data": {
            "text/plain": [
              "array([11, 12, 13, 14, 15, 16, 17, 18, 19, 20])"
            ]
          },
          "metadata": {},
          "execution_count": 258
        }
      ]
    },
    {
      "cell_type": "code",
      "source": [
        "\n",
        "(matrix > 10).sum()"
      ],
      "metadata": {
        "colab": {
          "base_uri": "https://localhost:8080/"
        },
        "id": "572ti-niOM4y",
        "outputId": "3cbc26f7-6713-46fd-9533-7ac5298bfd80"
      },
      "execution_count": null,
      "outputs": [
        {
          "output_type": "execute_result",
          "data": {
            "text/plain": [
              "10"
            ]
          },
          "metadata": {},
          "execution_count": 259
        }
      ]
    },
    {
      "cell_type": "markdown",
      "source": [
        "\n",
        "# Quiz : 1~100사이 난수 30개를 추출하여 넘파이 배열을 생성하고, 30보다 크거나 70보다 작은 수를 출력하라"
      ],
      "metadata": {
        "id": "h4ddJS4VOPCx"
      }
    },
    {
      "cell_type": "code",
      "source": [
        "num = np.random.randint(1,100,30)\n",
        "(num > 30) & (num < 70)"
      ],
      "metadata": {
        "colab": {
          "base_uri": "https://localhost:8080/"
        },
        "id": "xDkE_6NYONs_",
        "outputId": "c08168f6-5beb-4a48-f046-1b497e887f19"
      },
      "execution_count": null,
      "outputs": [
        {
          "output_type": "execute_result",
          "data": {
            "text/plain": [
              "array([False,  True, False, False,  True, False,  True,  True,  True,\n",
              "        True, False, False,  True, False, False, False, False, False,\n",
              "       False,  True, False, False, False,  True, False, False,  True,\n",
              "       False, False,  True])"
            ]
          },
          "metadata": {},
          "execution_count": 260
        }
      ]
    },
    {
      "cell_type": "code",
      "source": [
        "num = np.random.randint(1,100,30)\n",
        "num, num[(num > 30) & (num < 70)] #boolean 인덱싱"
      ],
      "metadata": {
        "colab": {
          "base_uri": "https://localhost:8080/"
        },
        "id": "5uwprddtOcKv",
        "outputId": "a477665b-e1c4-4a04-91e0-c02ce5ce0dba"
      },
      "execution_count": null,
      "outputs": [
        {
          "output_type": "execute_result",
          "data": {
            "text/plain": [
              "(array([73, 44, 19, 13, 20, 18, 22, 52, 13, 30, 34, 39, 56, 15, 97, 86, 88,\n",
              "        38, 77,  5, 52, 60, 76, 34, 72,  6, 74, 55,  1, 85]),\n",
              " array([44, 52, 34, 39, 56, 38, 52, 60, 34, 55]))"
            ]
          },
          "metadata": {},
          "execution_count": 262
        }
      ]
    },
    {
      "cell_type": "code",
      "source": [
        "\n",
        "# ~ 은 reverse를 의미\n",
        "num[~(num > 30) & (num < 70)]"
      ],
      "metadata": {
        "colab": {
          "base_uri": "https://localhost:8080/"
        },
        "id": "yPGv-j12OhMd",
        "outputId": "8479db8f-549a-49b4-df4e-2a8de1442781"
      },
      "execution_count": null,
      "outputs": [
        {
          "output_type": "execute_result",
          "data": {
            "text/plain": [
              "array([19, 13, 20, 18, 22, 13, 30, 15,  5,  6,  1])"
            ]
          },
          "metadata": {},
          "execution_count": 263
        }
      ]
    },
    {
      "cell_type": "code",
      "source": [
        "\n",
        "# 10보다 작거나 90보다 큰 수,\n",
        "num[(num < 10) | (num > 90)]"
      ],
      "metadata": {
        "colab": {
          "base_uri": "https://localhost:8080/"
        },
        "id": "aJuaOHtOOhh7",
        "outputId": "6cb07e4e-ee7f-4db4-dfc5-974259b291e1"
      },
      "execution_count": null,
      "outputs": [
        {
          "output_type": "execute_result",
          "data": {
            "text/plain": [
              "array([97,  5,  6,  1])"
            ]
          },
          "metadata": {},
          "execution_count": 264
        }
      ]
    },
    {
      "cell_type": "code",
      "source": [
        "\n",
        " num[~(num < 10) | (num > 90)]\n"
      ],
      "metadata": {
        "colab": {
          "base_uri": "https://localhost:8080/"
        },
        "id": "BvAqtp0XOkMv",
        "outputId": "537acf16-db67-492d-dd06-bd584482a382"
      },
      "execution_count": null,
      "outputs": [
        {
          "output_type": "execute_result",
          "data": {
            "text/plain": [
              "array([73, 44, 19, 13, 20, 18, 22, 52, 13, 30, 34, 39, 56, 15, 97, 86, 88,\n",
              "       38, 77, 52, 60, 76, 34, 72, 74, 55, 85])"
            ]
          },
          "metadata": {},
          "execution_count": 265
        }
      ]
    },
    {
      "cell_type": "markdown",
      "source": [
        "\n",
        "# **fancy indexing(filtering)**\n",
        "\n",
        "넘파이 배열에 배열로 인덱싱하면 인덱스 번호로 인식한다.\n",
        "\n",
        "넘파이배열1[넘파이배열2]\n",
        "넘파이배열2 : 인덱스 역할 (only 정수형)"
      ],
      "metadata": {
        "id": "XV6Jw0z9PKRj"
      }
    },
    {
      "cell_type": "code",
      "source": [
        "\n",
        "n = np.random.randint(1,100,30)\n",
        "i = np.array([0, 2, 3, 10, 20])\n",
        "n, n[i]"
      ],
      "metadata": {
        "colab": {
          "base_uri": "https://localhost:8080/"
        },
        "id": "1-a72dwyOmJl",
        "outputId": "7e6254ae-5574-44c0-bfc8-ef5772ddf93c"
      },
      "execution_count": null,
      "outputs": [
        {
          "output_type": "execute_result",
          "data": {
            "text/plain": [
              "(array([92, 10, 84, 16, 55, 35, 69, 46, 79, 58, 75, 40, 28, 47, 42, 45, 39,\n",
              "        68, 95, 93, 51, 44, 53, 46, 53, 65, 25, 32, 61, 30]),\n",
              " array([92, 84, 16, 75, 51]))"
            ]
          },
          "metadata": {},
          "execution_count": 266
        }
      ]
    },
    {
      "cell_type": "markdown",
      "source": [
        "\n",
        "# **np.where()를 이용한 필터링**\n",
        "\n",
        "np.where(조건식) : 조건식 만족하는 인덱스 반환\n",
        "np.where(조건식, T, F) : 조건식 만족하면 T값, 아니면F값\n",
        "배열[np.where(조건식)] : 조건식 만족하는 실제 배열값"
      ],
      "metadata": {
        "id": "FL4alTuoPPDk"
      }
    },
    {
      "cell_type": "code",
      "source": [
        "\n",
        "np.where?"
      ],
      "metadata": {
        "id": "f5mEyCjKOkqA"
      },
      "execution_count": null,
      "outputs": []
    },
    {
      "cell_type": "code",
      "source": [
        "a = np.arange(10)\n",
        "a, np.where(a < 5, a, 10*a)\n",
        "# a가 5보다 작으면 a를, 아니면 10을 곱하여 출력"
      ],
      "metadata": {
        "colab": {
          "base_uri": "https://localhost:8080/"
        },
        "id": "H_4fzTatPSra",
        "outputId": "34fb518f-faed-4ce0-b021-1e86805274e8"
      },
      "execution_count": null,
      "outputs": [
        {
          "output_type": "execute_result",
          "data": {
            "text/plain": [
              "(array([0, 1, 2, 3, 4, 5, 6, 7, 8, 9]),\n",
              " array([ 0,  1,  2,  3,  4, 50, 60, 70, 80, 90]))"
            ]
          },
          "metadata": {},
          "execution_count": 268
        }
      ]
    },
    {
      "cell_type": "code",
      "source": [
        "b = np.arange(20, 31) #20~31까지 만들고\n",
        "b, np.where(b<25) # 조건을 하나만 주면 인덱스를 반환함"
      ],
      "metadata": {
        "colab": {
          "base_uri": "https://localhost:8080/"
        },
        "id": "es-7UobJPVo8",
        "outputId": "ca441872-edb0-4acd-98fa-eefe946bcecb"
      },
      "execution_count": null,
      "outputs": [
        {
          "output_type": "execute_result",
          "data": {
            "text/plain": [
              "(array([20, 21, 22, 23, 24, 25, 26, 27, 28, 29, 30]),\n",
              " (array([0, 1, 2, 3, 4]),))"
            ]
          },
          "metadata": {},
          "execution_count": 269
        }
      ]
    }
  ]
}