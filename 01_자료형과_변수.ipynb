{
  "nbformat": 4,
  "nbformat_minor": 0,
  "metadata": {
    "colab": {
      "provenance": [],
      "authorship_tag": "ABX9TyMLOONGqN0tkRcLgBkHqPOt",
      "include_colab_link": true
    },
    "kernelspec": {
      "name": "python3",
      "display_name": "Python 3"
    },
    "language_info": {
      "name": "python"
    }
  },
  "cells": [
    {
      "cell_type": "markdown",
      "metadata": {
        "id": "view-in-github",
        "colab_type": "text"
      },
      "source": [
        "<a href=\"https://colab.research.google.com/github/mongdaeng/est-wassup1/blob/main/01_%EC%9E%90%EB%A3%8C%ED%98%95%EA%B3%BC_%EB%B3%80%EC%88%98.ipynb\" target=\"_parent\"><img src=\"https://colab.research.google.com/assets/colab-badge.svg\" alt=\"Open In Colab\"/></a>"
      ]
    },
    {
      "cell_type": "code",
      "execution_count": null,
      "metadata": {
        "id": "ms-YvW888_q2"
      },
      "outputs": [],
      "source": [
        "#1 숫자형\n",
        "\n",
        "#1-1. 정수형\n",
        "a=123\n",
        "a=-178\n",
        "a=0\n",
        "\n",
        "#1-2. 실수형\n",
        "a=1.2\n",
        "a=4.24E10 #4.24*10&^10\n",
        "a\n",
        "\n",
        "a=4.24E-10\n",
        "a\n",
        "\n",
        "#8진수와 16진수\n",
        "a=0o177\n",
        "a\n",
        "\n",
        "type(a)\n",
        "\n",
        "a=0x8ff\n",
        "a\n",
        "\n",
        "#1-3. 사칙연산\n",
        "a=3\n",
        "b=4\n",
        "a+b\n",
        "a*b\n",
        "a/b\n",
        "\n",
        "#x의 y제곱\n",
        "a**b\n",
        "\n",
        "3%7\n",
        "7//4\n",
        "\n",
        "7%4\n"
      ]
    },
    {
      "cell_type": "code",
      "source": [
        "#2 문자열\n",
        "\"Hello world\"\n",
        "\n",
        "'Hello world'\n",
        "\n",
        "\"\"\"Life is too short\"\"\""
      ],
      "metadata": {
        "colab": {
          "base_uri": "https://localhost:8080/",
          "height": 36
        },
        "id": "WKXlyVZJA32O",
        "outputId": "42fe10f5-adfe-4340-9b89-cb43e5beaa37"
      },
      "execution_count": 29,
      "outputs": [
        {
          "output_type": "execute_result",
          "data": {
            "text/plain": [
              "'Life is too short'"
            ],
            "application/vnd.google.colaboratory.intrinsic+json": {
              "type": "string"
            }
          },
          "metadata": {},
          "execution_count": 29
        }
      ]
    },
    {
      "cell_type": "code",
      "source": [
        "'''Life is too short'''\n",
        "\n",
        "food=\"python's favorite food is perl\"\n",
        "food\n",
        "\n",
        "'\"Python is very easy.\" he says.'\n",
        "\n",
        "#백슬래시를 사용해서 따옴표를 문자열에 포함 가능\n",
        "food='Python\\'s favorite food is perl'\n",
        "say =\"\\\"Python is very easy.\\\" he says.\"\n",
        "food, say"
      ],
      "metadata": {
        "colab": {
          "base_uri": "https://localhost:8080/"
        },
        "id": "Qo4O0QsQByxa",
        "outputId": "bdc827b7-d064-470f-ddc8-58199dcf37d8"
      },
      "execution_count": 37,
      "outputs": [
        {
          "output_type": "execute_result",
          "data": {
            "text/plain": [
              "(\"Python's favorite food is perl\", '\"Python is very easy.\" he says.')"
            ]
          },
          "metadata": {},
          "execution_count": 37
        }
      ]
    },
    {
      "cell_type": "code",
      "source": [
        "#2.0.1 여러 줄인 문자열을 변수에 대입하고 싶을 때\n",
        "#줄을 바꾸는 이스케이프 코드 \\n\n",
        "multiline = \"Life is too short\\nYou need Python\"\n",
        "multiline\n",
        "\n",
        "print(multiline)\n"
      ],
      "metadata": {
        "colab": {
          "base_uri": "https://localhost:8080/"
        },
        "id": "rS1k9JosDiVi",
        "outputId": "bf1c1760-4c80-4f13-86bf-62e5556a3a0e"
      },
      "execution_count": 42,
      "outputs": [
        {
          "output_type": "stream",
          "name": "stdout",
          "text": [
            "Life is too short\n",
            "You need Python\n"
          ]
        }
      ]
    },
    {
      "cell_type": "code",
      "source": [
        "#2.1 연속된 따옴표 사용하기\n",
        "multiline =\"\"\"Life is too short.\n",
        "You need python\"\"\"\n",
        "print(multiline)"
      ],
      "metadata": {
        "colab": {
          "base_uri": "https://localhost:8080/"
        },
        "id": "DGe09ag4Ee4i",
        "outputId": "a186347d-c32a-40f6-c520-1545161603d1"
      },
      "execution_count": 44,
      "outputs": [
        {
          "output_type": "stream",
          "name": "stdout",
          "text": [
            "Life is too short.\n",
            "You need python\n"
          ]
        }
      ]
    },
    {
      "cell_type": "code",
      "source": [],
      "metadata": {
        "id": "OV5c_Q3wEqdf"
      },
      "execution_count": null,
      "outputs": []
    }
  ]
}