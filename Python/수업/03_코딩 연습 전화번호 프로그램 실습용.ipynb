{
  "cells": [
    {
      "cell_type": "markdown",
      "metadata": {
        "id": "view-in-github",
        "colab_type": "text"
      },
      "source": [
        "<a href=\"https://colab.research.google.com/github/mongdaeng/est-wassup1/blob/main/03_%E1%84%8F%E1%85%A9%E1%84%83%E1%85%B5%E1%86%BC%E1%84%8B%E1%85%A7%E1%86%AB%E1%84%89%E1%85%B3%E1%86%B8_%E1%84%8C%E1%85%A5%E1%86%AB%E1%84%92%E1%85%AA%E1%84%87%E1%85%A5%E1%86%AB%E1%84%92%E1%85%A9%E1%84%91%E1%85%B3%E1%84%85%E1%85%A9%E1%84%80%E1%85%B3%E1%84%85%E1%85%A2%E1%86%B7_%E1%84%89%E1%85%B5%E1%86%AF%E1%84%89%E1%85%B3%E1%86%B8%E1%84%8B%E1%85%AD%E1%86%BC.ipynb\" target=\"_parent\"><img src=\"https://colab.research.google.com/assets/colab-badge.svg\" alt=\"Open In Colab\"/></a>"
      ]
    },
    {
      "cell_type": "markdown",
      "metadata": {
        "id": "PO1DTmvioaLo"
      },
      "source": [
        "# 전화번호 프로그램 만들기\n",
        "\n",
        "* 홍길동 010-123-4567\n",
        "* 기능1 : 연락처 추가\n",
        "* 기능2 : 연락처 전체 보기\n",
        "* 기능3 : 검색, 이름을 입력받아서 전화번호 조회\n",
        "* 기능4 : 수정, 이름을 입력받아서 전화번호 입력수정\n",
        "* 기능5 : 삭제, 이름 입력받아서 삭제\n",
        "* 기능6 : 프로그램 종료\n",
        "\n",
        "#요구사항 분석 및 설계\n",
        "* 구체적인 동작 정의\n",
        "* 홍길동, 010-123-4567 -> 이름/전화번호(dict / key:value)\n",
        "* input을 받아야 함 -> str\n",
        "* 프로그램 : while\n",
        "* 기능 1~5 : if 분기문 / 숫자 입력 시 해당 동작\n",
        "* 기능 1 연락처 추가 : dict 추가, dict[key]=value\n",
        "* 기능 2 전체 : for 문 돌려서 출력\n",
        "* 기능 3 조회 : 이름 검색 시, 전화번호 조회\n",
        "dict[key]\n",
        "* 기능 4 수정 : dict[key]=value\n",
        "* 기능 5 삭제 : del\n",
        "* 기능 6 종료 : break\n",
        "* 예외 처리"
      ]
    },
    {
      "cell_type": "code",
      "execution_count": null,
      "metadata": {
        "colab": {
          "base_uri": "https://localhost:8080/",
          "height": 144
        },
        "id": "nH_E8FS0oaLq",
        "outputId": "e4ad01ba-428c-448b-a9b1-02fda5d5449a"
      },
      "outputs": [
        {
          "ename": "IndentationError",
          "evalue": "ignored",
          "output_type": "error",
          "traceback": [
            "\u001b[0;36m  File \u001b[0;32m\"<ipython-input-6-ebfe245b875e>\"\u001b[0;36m, line \u001b[0;32m9\u001b[0m\n\u001b[0;31m    menu = int(input('메뉴선택'))\u001b[0m\n\u001b[0m    ^\u001b[0m\n\u001b[0;31mIndentationError\u001b[0m\u001b[0;31m:\u001b[0m expected an indented block after 'try' statement on line 7\n"
          ]
        }
      ],
      "source": [
        "contact = {}\n",
        "\n",
        "while True:\n",
        "  print('---- 전화번호부 프로그램 실행 ----')\n",
        "  print('1.추가  2.보기  3.검색  4.수정  5.삭제  0.종료')\n",
        "\n",
        "  try :\n",
        "\n",
        "  menu = int(input('메뉴선택'))\n",
        "\n",
        "  if menu == 1:\n",
        "    print('연락처 추가 작업 실행')\n",
        "    new_name = input('이름: ')\n",
        "    new_tel = input('전화번호: ')\n",
        "    contact.setdefault(new_name,new_tel) #index해도 됨 -> 문제 있음\n",
        "\n",
        "\n",
        "  elif menu == 2:\n",
        "    print('연락처 보기 작업 실행')\n",
        "    for name, tel in contact.items():\n",
        "      print(name, \":\", tel)\n",
        "\n",
        "\n",
        "  elif menu == 3:\n",
        "    print('연락처 검색 작업 실행')\n",
        "    search_name = input('검색 이름: ')\n",
        "    print(contact.get(search_name, '없는 연락처입니다'))\n",
        "\n",
        "\n",
        "  elif menu == 4:\n",
        "    print('연락처 수정 작업 실행')\n",
        "    mod_name = input('수정이름: ')\n",
        "\n",
        "    if mod_name in contact:\n",
        "      mon_tel = input('새 전화번호: ')\n",
        "      contact[mod_name] = mod_tel\n",
        "    else:\n",
        "      print('등록되지 않은 이름입니다.')\n",
        "\n",
        "\n",
        "  elif menu == 5:\n",
        "    print('연락처 삭제 작업 실행')\n",
        "    del_name = input('삭제 이름:' ) #만약 연락처에 삭제이름 있으면, 삭제해줘\n",
        "\n",
        "    if del_name in contact:\n",
        "      del contact[del_name]\n",
        "    else:\n",
        "      print('등록되지 않은 이름입니다.')\n",
        "\n",
        "  elif menu == 0:\n",
        "    print('연락처 종료 작업 실행')\n",
        "    break\n",
        "\n",
        "  else:\n",
        "    print('잘못된 메뉴 선택입니다.')\n",
        "\n",
        "except :\n",
        "  print('잘못된 입력입니다.')"
      ]
    },
    {
      "cell_type": "code",
      "execution_count": null,
      "metadata": {
        "colab": {
          "background_save": true,
          "base_uri": "https://localhost:8080/"
        },
        "id": "S4ux4CIt-mKQ",
        "outputId": "9087f2da-579d-42b4-e2f7-84e6c2486b84"
      },
      "outputs": [
        {
          "name": "stdout",
          "output_type": "stream",
          "text": [
            "----- 전화번호부 프로그램 실행 -----\n",
            "1.추가    2.보기   3.검색   4.수정   5.삭제   9종료\n",
            "잘못된 입력입니다.\n",
            "----- 전화번호부 프로그램 실행 -----\n",
            "1.추가    2.보기   3.검색   4.수정   5.삭제   9종료\n",
            "연락처 추가 작업 실행\n",
            "----- 전화번호부 프로그램 실행 -----\n",
            "1.추가    2.보기   3.검색   4.수정   5.삭제   9종료\n",
            "연락처 수정 작업 실행\n",
            "등록되지 않은 이름입니다.\n",
            "----- 전화번호부 프로그램 실행 -----\n",
            "1.추가    2.보기   3.검색   4.수정   5.삭제   9종료\n",
            "잘못된 입력입니다.\n",
            "----- 전화번호부 프로그램 실행 -----\n",
            "1.추가    2.보기   3.검색   4.수정   5.삭제   9종료\n",
            "연락처 수정 작업 실행\n",
            "----- 전화번호부 프로그램 실행 -----\n",
            "1.추가    2.보기   3.검색   4.수정   5.삭제   9종료\n",
            "잘못된 입력입니다.\n",
            "----- 전화번호부 프로그램 실행 -----\n",
            "1.추가    2.보기   3.검색   4.수정   5.삭제   9종료\n",
            "잘못된 입력입니다.\n",
            "----- 전화번호부 프로그램 실행 -----\n",
            "1.추가    2.보기   3.검색   4.수정   5.삭제   9종료\n",
            "잘못된 입력입니다.\n",
            "----- 전화번호부 프로그램 실행 -----\n",
            "1.추가    2.보기   3.검색   4.수정   5.삭제   9종료\n",
            "잘못된 입력입니다.\n",
            "----- 전화번호부 프로그램 실행 -----\n",
            "1.추가    2.보기   3.검색   4.수정   5.삭제   9종료\n"
          ]
        }
      ],
      "source": [
        "contact = {}\n",
        "\n",
        "while True:\n",
        "    print('----- 전화번호부 프로그램 실행 -----')\n",
        "    print('1.추가    2.보기   3.검색   4.수정   5.삭제   9종료')\n",
        "\n",
        "    try :\n",
        "        menu = int(input('메뉴선택'))\n",
        "\n",
        "        if menu == 1:\n",
        "            print('연락처 추가 작업 실행')\n",
        "            new_name = input('이름: ')\n",
        "            new_tel = input('전화번호: ')\n",
        "            contact.setdefault(new_name, new_tel)\n",
        "\n",
        "        elif menu == 2:\n",
        "            print('연락처 보기 작업 실행')\n",
        "            for name, tel in contact.items():\n",
        "                print(name, \":\", tel)\n",
        "\n",
        "        elif menu == 3:\n",
        "            print('연락처 검색 작업 실행')\n",
        "            search_name = input('검색 이름: ')\n",
        "            print(contact.get(search_name, '없는 연락처입니다.'))\n",
        "    #         print('---------')\n",
        "    #         if search_name not in contact:\n",
        "    #             print('등록되지 않은 이름입니다.')\n",
        "    #         else :\n",
        "    #             print(search_name, ':', contact[search_name])\n",
        "\n",
        "        elif menu == 4:\n",
        "            print('연락처 수정 작업 실행')\n",
        "            mod_name = input('수정 이름: ')\n",
        "            # 만약에 연락처 저장소에 수정 이름이 존재하면, 저장소에서 수정해줘\n",
        "            if mod_name in contact:\n",
        "                mod_tel = input('새전화번호: ')\n",
        "                contact[mod_name] = mod_tel\n",
        "            else :\n",
        "                print('등록되지 않은 이름입니다.')\n",
        "\n",
        "        elif menu == 5:\n",
        "            print('연락처 삭제 작업 실행')\n",
        "            del_name = input('삭제 이름: ')\n",
        "            # 만약에 연락처 저장소에 삭제 이름이 존재하면, 저장소에서 삭제해줘\n",
        "            if del_name in contact:\n",
        "                del contact[del_name]\n",
        "            else :\n",
        "                print('등록되지 않은 이름입니다.')\n",
        "\n",
        "        elif menu == 9:\n",
        "            print('연락처 종료 작업 실행')\n",
        "            break\n",
        "\n",
        "        else :\n",
        "            print('잘못된 메뉴 선택입니다.')\n",
        "    except :\n",
        "        print('잘못된 입력입니다.')바"
      ]
    }
  ],
  "metadata": {
    "colab": {
      "provenance": [],
      "include_colab_link": true
    },
    "kernelspec": {
      "display_name": "Python 3 (ipykernel)",
      "language": "python",
      "name": "python3"
    },
    "language_info": {
      "codemirror_mode": {
        "name": "ipython",
        "version": 3
      },
      "file_extension": ".py",
      "mimetype": "text/x-python",
      "name": "python",
      "nbconvert_exporter": "python",
      "pygments_lexer": "ipython3",
      "version": "3.11.5"
    },
    "toc": {
      "base_numbering": 1,
      "nav_menu": {},
      "number_sections": true,
      "sideBar": true,
      "skip_h1_title": false,
      "title_cell": "Table of Contents",
      "title_sidebar": "Contents",
      "toc_cell": false,
      "toc_position": {},
      "toc_section_display": true,
      "toc_window_display": false
    },
    "varInspector": {
      "cols": {
        "lenName": 16,
        "lenType": 16,
        "lenVar": 40
      },
      "kernels_config": {
        "python": {
          "delete_cmd_postfix": "",
          "delete_cmd_prefix": "del ",
          "library": "var_list.py",
          "varRefreshCmd": "print(var_dic_list())"
        },
        "r": {
          "delete_cmd_postfix": ") ",
          "delete_cmd_prefix": "rm(",
          "library": "var_list.r",
          "varRefreshCmd": "cat(var_dic_list()) "
        }
      },
      "types_to_exclude": [
        "module",
        "function",
        "builtin_function_or_method",
        "instance",
        "_Feature"
      ],
      "window_display": false
    }
  },
  "nbformat": 4,
  "nbformat_minor": 0
}