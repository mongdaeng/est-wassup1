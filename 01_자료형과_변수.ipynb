{
  "nbformat": 4,
  "nbformat_minor": 0,
  "metadata": {
    "colab": {
      "provenance": [],
      "authorship_tag": "ABX9TyP2YTcPKDYdXja6MVN6HQ0B",
      "include_colab_link": true
    },
    "kernelspec": {
      "name": "python3",
      "display_name": "Python 3"
    },
    "language_info": {
      "name": "python"
    }
  },
  "cells": [
    {
      "cell_type": "markdown",
      "metadata": {
        "id": "view-in-github",
        "colab_type": "text"
      },
      "source": [
        "<a href=\"https://colab.research.google.com/github/mongdaeng/est-wassup1/blob/main/01_%EC%9E%90%EB%A3%8C%ED%98%95%EA%B3%BC_%EB%B3%80%EC%88%98.ipynb\" target=\"_parent\"><img src=\"https://colab.research.google.com/assets/colab-badge.svg\" alt=\"Open In Colab\"/></a>"
      ]
    },
    {
      "cell_type": "code",
      "execution_count": null,
      "metadata": {
        "id": "ms-YvW888_q2"
      },
      "outputs": [],
      "source": [
        "#1 숫자형\n",
        "\n",
        "#1-1. 정수형\n",
        "a=123\n",
        "a=-178\n",
        "a=0\n",
        "\n",
        "#1-2. 실수형\n",
        "a=1.2\n",
        "a=4.24E10 #4.24*10&^10\n",
        "a\n",
        "\n",
        "a=4.24E-10\n",
        "a\n",
        "\n",
        "#8진수와 16진수\n",
        "a=0o177\n",
        "a\n",
        "\n",
        "type(a)\n",
        "\n",
        "a=0x8ff\n",
        "a\n",
        "\n",
        "#1-3. 사칙연산\n",
        "a=3\n",
        "b=4\n",
        "a+b\n",
        "a*b\n",
        "a/b\n",
        "\n",
        "#x의 y제곱\n",
        "a**b\n",
        "\n",
        "3%7\n",
        "7//4\n",
        "\n",
        "7%4\n"
      ]
    },
    {
      "cell_type": "code",
      "source": [
        "#2 문자열\n",
        "\"Hello world\"\n",
        "\n",
        "'Hello world'\n",
        "\n",
        "\"\"\"Life is too short\"\"\""
      ],
      "metadata": {
        "colab": {
          "base_uri": "https://localhost:8080/",
          "height": 36
        },
        "id": "WKXlyVZJA32O",
        "outputId": "42fe10f5-adfe-4340-9b89-cb43e5beaa37"
      },
      "execution_count": null,
      "outputs": [
        {
          "output_type": "execute_result",
          "data": {
            "text/plain": [
              "'Life is too short'"
            ],
            "application/vnd.google.colaboratory.intrinsic+json": {
              "type": "string"
            }
          },
          "metadata": {},
          "execution_count": 29
        }
      ]
    },
    {
      "cell_type": "code",
      "source": [
        "'''Life is too short'''\n",
        "\n",
        "food=\"python's favorite food is perl\"\n",
        "food\n",
        "\n",
        "'\"Python is very easy.\" he says.'\n",
        "\n",
        "#백슬래시를 사용해서 따옴표를 문자열에 포함 가능\n",
        "food='Python\\'s favorite food is perl'\n",
        "say =\"\\\"Python is very easy.\\\" he says.\"\n",
        "food, say"
      ],
      "metadata": {
        "colab": {
          "base_uri": "https://localhost:8080/"
        },
        "id": "Qo4O0QsQByxa",
        "outputId": "bdc827b7-d064-470f-ddc8-58199dcf37d8"
      },
      "execution_count": null,
      "outputs": [
        {
          "output_type": "execute_result",
          "data": {
            "text/plain": [
              "(\"Python's favorite food is perl\", '\"Python is very easy.\" he says.')"
            ]
          },
          "metadata": {},
          "execution_count": 37
        }
      ]
    },
    {
      "cell_type": "code",
      "source": [
        "#2.0.1 여러 줄인 문자열을 변수에 대입하고 싶을 때\n",
        "#줄을 바꾸는 이스케이프 코드 \\n\n",
        "multiline = \"Life is too short\\nYou need Python\"\n",
        "multiline\n",
        "\n",
        "print(multiline)\n"
      ],
      "metadata": {
        "colab": {
          "base_uri": "https://localhost:8080/"
        },
        "id": "rS1k9JosDiVi",
        "outputId": "bf1c1760-4c80-4f13-86bf-62e5556a3a0e"
      },
      "execution_count": null,
      "outputs": [
        {
          "output_type": "stream",
          "name": "stdout",
          "text": [
            "Life is too short\n",
            "You need Python\n"
          ]
        }
      ]
    },
    {
      "cell_type": "code",
      "source": [
        "#2.1 연속된 따옴표 사용하기\n",
        "multiline =\"\"\"Life is too short.\n",
        "You need python\"\"\"\n",
        "print(multiline)"
      ],
      "metadata": {
        "colab": {
          "base_uri": "https://localhost:8080/"
        },
        "id": "DGe09ag4Ee4i",
        "outputId": "a186347d-c32a-40f6-c520-1545161603d1"
      },
      "execution_count": null,
      "outputs": [
        {
          "output_type": "stream",
          "name": "stdout",
          "text": [
            "Life is too short.\n",
            "You need python\n"
          ]
        }
      ]
    },
    {
      "cell_type": "code",
      "source": [
        "# 여기 튕겨서 못봄\n",
        "\n",
        "head = \"Python\"\n",
        "\n",
        "a= \"Life is too short\"\n",
        "len(a)"
      ],
      "metadata": {
        "id": "OV5c_Q3wEqdf",
        "colab": {
          "base_uri": "https://localhost:8080/"
        },
        "outputId": "4154df85-8a27-4911-9dfb-37105a682a88"
      },
      "execution_count": null,
      "outputs": [
        {
          "output_type": "execute_result",
          "data": {
            "text/plain": [
              "17"
            ]
          },
          "metadata": {},
          "execution_count": 2
        }
      ]
    },
    {
      "cell_type": "code",
      "source": [
        "# 3 문자열 인덱싱과 슬라이싱\n",
        "\n",
        "#3.1 인덱싱\n",
        "\n",
        "a= \"Life is too short, You need python\"\n",
        "a\n",
        "\n",
        "a[3]\n",
        "a[0]\n",
        "a[12]\n",
        "a[-0]\n",
        "a[-5]"
      ],
      "metadata": {
        "colab": {
          "base_uri": "https://localhost:8080/",
          "height": 36
        },
        "id": "HEeXrYRfwb9g",
        "outputId": "605c00ee-28df-4ce6-cbe4-eb3d6b9c667f"
      },
      "execution_count": null,
      "outputs": [
        {
          "output_type": "execute_result",
          "data": {
            "text/plain": [
              "'y'"
            ],
            "application/vnd.google.colaboratory.intrinsic+json": {
              "type": "string"
            }
          },
          "metadata": {},
          "execution_count": 9
        }
      ]
    },
    {
      "cell_type": "code",
      "source": [
        "#3.2 슬라이싱\n",
        "\n",
        "a\n",
        "\n",
        "a[0:4]\n",
        "a[:4]\n",
        "a[:5]\n",
        "a[5:7]\n",
        "a[12:17]\n",
        "a[19:]\n",
        "a[:]\n",
        "a[19:-7]\n",
        "a[19:27]\n",
        "a[-3:19]\n"
      ],
      "metadata": {
        "colab": {
          "base_uri": "https://localhost:8080/",
          "height": 36
        },
        "id": "fFLp7OC-xWuu",
        "outputId": "7f700445-5abc-4df6-e514-a53b6b01b3b1"
      },
      "execution_count": null,
      "outputs": [
        {
          "output_type": "execute_result",
          "data": {
            "text/plain": [
              "''"
            ],
            "application/vnd.google.colaboratory.intrinsic+json": {
              "type": "string"
            }
          },
          "metadata": {},
          "execution_count": 22
        }
      ]
    },
    {
      "cell_type": "code",
      "source": [
        "#3.3 슬라이싱으로 문자열 나누기\n",
        "a= \"20231124Sunny\"\n",
        "date=a[:8]\n",
        "weather = a[8:]\n",
        "print(year)\n",
        "print(day)\n",
        "print(weather)\n",
        "\n",
        "year = a[:4]\n",
        "day = a[4:8]"
      ],
      "metadata": {
        "colab": {
          "base_uri": "https://localhost:8080/"
        },
        "id": "6XdQNByJylJN",
        "outputId": "e5ffd796-f721-42b3-dc91-ae8825344742"
      },
      "execution_count": null,
      "outputs": [
        {
          "output_type": "stream",
          "name": "stdout",
          "text": [
            "2023\n",
            "1124\n",
            "Sunny\n"
          ]
        }
      ]
    },
    {
      "cell_type": "code",
      "source": [
        "#3.4 문자열 요소 바꾸기\n",
        "a = \"pithon\"\n",
        "a[1]\n",
        "\n",
        "a[0] + 'y' + a[2:]"
      ],
      "metadata": {
        "colab": {
          "base_uri": "https://localhost:8080/",
          "height": 36
        },
        "id": "NUWBHCmEy_h3",
        "outputId": "f2557db2-9b74-42c3-ba93-2226831a8d30"
      },
      "execution_count": null,
      "outputs": [
        {
          "output_type": "execute_result",
          "data": {
            "text/plain": [
              "'python'"
            ],
            "application/vnd.google.colaboratory.intrinsic+json": {
              "type": "string"
            }
          },
          "metadata": {},
          "execution_count": 31
        }
      ]
    },
    {
      "cell_type": "code",
      "source": [
        "#3.5 문자열 포매팅\n",
        "#* 현재 온도는 20도 입니다.\n",
        "#* 현재 온도는 -3도 입니다\n",
        "\n",
        "#숫자 바로 대입하기\n",
        "\"I eat %d apples\" %3\n",
        "\n",
        "#문자열 대입하기\n",
        "\"I eat %s apples\"%\"five\"\n",
        "\n",
        "#변수로 대입하기\n",
        "number = 3\n",
        "\"I eat %d apples\" %number\n",
        "\n",
        "#2개 이상 값 넣기\n",
        "number = 3\n",
        "day = \"three\"\n",
        "\"I eat %d apples. so I was sick for %s days\"%(number,day)"
      ],
      "metadata": {
        "colab": {
          "base_uri": "https://localhost:8080/",
          "height": 36
        },
        "id": "9DA0otzs3oHs",
        "outputId": "5a987bcf-1b1c-415e-e584-316dfde5824e"
      },
      "execution_count": null,
      "outputs": [
        {
          "output_type": "execute_result",
          "data": {
            "text/plain": [
              "'I eat 3 apples. so I was sick for three days'"
            ],
            "application/vnd.google.colaboratory.intrinsic+json": {
              "type": "string"
            }
          },
          "metadata": {},
          "execution_count": 39
        }
      ]
    },
    {
      "cell_type": "code",
      "source": [
        "# 정렬과 공백\n",
        "\n",
        "#10개의 문자열 공간을 만들되, 치환되는 문자열을 우측 정렬하고 빈곳은 공백으로 채울 것\n",
        "\"%10s\"%\"hi\"\n",
        "\n",
        "\"%-10s\"%\"hi\""
      ],
      "metadata": {
        "colab": {
          "base_uri": "https://localhost:8080/",
          "height": 36
        },
        "id": "9sofSpqA4qg9",
        "outputId": "0f41b916-802b-453d-e610-c814a55fc15d"
      },
      "execution_count": null,
      "outputs": [
        {
          "output_type": "execute_result",
          "data": {
            "text/plain": [
              "'hi        '"
            ],
            "application/vnd.google.colaboratory.intrinsic+json": {
              "type": "string"
            }
          },
          "metadata": {},
          "execution_count": 42
        }
      ]
    },
    {
      "cell_type": "code",
      "source": [
        "#3.7 소수점 표현하기\n",
        "\n",
        "\"%0.4f\"%3.42134234"
      ],
      "metadata": {
        "colab": {
          "base_uri": "https://localhost:8080/",
          "height": 36
        },
        "id": "Gq2NbQxZ5Fse",
        "outputId": "0bb01b47-b72e-4afc-c119-ca805b86a936"
      },
      "execution_count": null,
      "outputs": [
        {
          "output_type": "execute_result",
          "data": {
            "text/plain": [
              "'3.4213'"
            ],
            "application/vnd.google.colaboratory.intrinsic+json": {
              "type": "string"
            }
          },
          "metadata": {},
          "execution_count": 44
        }
      ]
    },
    {
      "cell_type": "code",
      "source": [
        "#3.8 포맷 함수를 사용한 포매팅\n",
        "\n",
        "type(\"I eat {} apples\")\n",
        "\"I eat {} apples\".format(3)\n",
        "#\"I eat {} apples\".format(five)\n",
        "\n",
        "number = 3\n",
        "\"I eat {} apples\".format(number)\n",
        "\n",
        "#2개 이상 넣기\n",
        "number = 3\n",
        "day = \"three\"\n",
        "'I eat {} apples. so i was sick for {} days'.format(number,day)\n",
        "\n",
        "#변수 이름으로 넣기\n",
        "'I eat {number} apples. so i was sick for {day} days'.format(number=10, day=3)\n",
        "\n",
        "'I eat {number} apples. so i was sick for {day} days'.format(day=3, number=10)\n",
        "\n",
        "#'I eat {} apples. so i was sick for {} days'.format(day=3, number=10)\n",
        "\n"
      ],
      "metadata": {
        "colab": {
          "base_uri": "https://localhost:8080/",
          "height": 36
        },
        "id": "UYWuTIpo5Wsl",
        "outputId": "2c84da7a-0d0a-427a-af62-5c623f94ed8c"
      },
      "execution_count": null,
      "outputs": [
        {
          "output_type": "execute_result",
          "data": {
            "text/plain": [
              "'I eat 10 apples. so i was sick for 3 days'"
            ],
            "application/vnd.google.colaboratory.intrinsic+json": {
              "type": "string"
            }
          },
          "metadata": {},
          "execution_count": 56
        }
      ]
    },
    {
      "cell_type": "code",
      "source": [
        "#3.9 문자열 포매팅\n",
        "\n",
        "#python 3.6\n",
        "name = '홍길동'\n",
        "age = 30\n",
        "f\"나의 이름 {name}입니다. 나이는 {age}입니다.\"\n",
        "\n",
        "f\"나는 내년이면 {age+1}살이 됩니다.\"\n",
        "\n",
        "d= {'name':'홍길동', 'age':30}\n",
        "f\"나의 이름은 {d['name']}입니다. 나이는 {d['age']}입니다\"\n",
        "\n",
        "y=3.4123123\n",
        "f'{y:0.4f}'"
      ],
      "metadata": {
        "colab": {
          "base_uri": "https://localhost:8080/",
          "height": 36
        },
        "id": "HgtOf0Sn7L5R",
        "outputId": "7490ab86-11d1-48f3-fcaa-3e701a6ee4fa"
      },
      "execution_count": null,
      "outputs": [
        {
          "output_type": "execute_result",
          "data": {
            "text/plain": [
              "'3.4123'"
            ],
            "application/vnd.google.colaboratory.intrinsic+json": {
              "type": "string"
            }
          },
          "metadata": {},
          "execution_count": 60
        }
      ]
    },
    {
      "cell_type": "code",
      "source": [
        "#3.10 문자열 관련 함수\n",
        "\n",
        "#문자열 개수 세기 (count)\n",
        "a=\"hobby\"\n",
        "\n",
        "a.count('b')\n",
        "a.count?\n",
        "help(a.count)"
      ],
      "metadata": {
        "colab": {
          "base_uri": "https://localhost:8080/"
        },
        "id": "EI80Sb377Kij",
        "outputId": "c075ec70-e504-48a3-a221-1b3a66718bb7"
      },
      "execution_count": null,
      "outputs": [
        {
          "output_type": "stream",
          "name": "stdout",
          "text": [
            "Help on built-in function count:\n",
            "\n",
            "count(...) method of builtins.str instance\n",
            "    S.count(sub[, start[, end]]) -> int\n",
            "    \n",
            "    Return the number of non-overlapping occurrences of substring sub in\n",
            "    string S[start:end].  Optional arguments start and end are\n",
            "    interpreted as in slice notation.\n",
            "\n"
          ]
        }
      ]
    },
    {
      "cell_type": "code",
      "source": [
        "a='python is the best choice'\n",
        "a.find('b')\n",
        "a.find('k')\n",
        "a.index('t')"
      ],
      "metadata": {
        "colab": {
          "base_uri": "https://localhost:8080/"
        },
        "id": "vyBLbB-v59ri",
        "outputId": "f9c1e63b-98ee-4755-ae05-23f3da06bdfd"
      },
      "execution_count": null,
      "outputs": [
        {
          "output_type": "execute_result",
          "data": {
            "text/plain": [
              "2"
            ]
          },
          "metadata": {},
          "execution_count": 66
        }
      ]
    },
    {
      "cell_type": "code",
      "source": [
        "#3.11 문자열 삽입(join)\n",
        "#a,b,c,d 문자열 사이에 ,를 삽입\n",
        "\n",
        "\",\".join('abcd')\n",
        "\n",
        "\n",
        "\",\".join(['a','b','c','d'])\n"
      ],
      "metadata": {
        "colab": {
          "base_uri": "https://localhost:8080/",
          "height": 36
        },
        "id": "-mZszuqg9-6z",
        "outputId": "e43b1b66-607a-4cfd-de2b-bb510645eeec"
      },
      "execution_count": null,
      "outputs": [
        {
          "output_type": "execute_result",
          "data": {
            "text/plain": [
              "'a,b,c,d'"
            ],
            "application/vnd.google.colaboratory.intrinsic+json": {
              "type": "string"
            }
          },
          "metadata": {},
          "execution_count": 67
        }
      ]
    },
    {
      "cell_type": "code",
      "source": [
        "#3.12 대소문자 변환(upper,lower)\n",
        "\n",
        "#소문자를 대문자로 바꾸기\n",
        "a = 'hi'\n",
        "a.upper()\n",
        "\n",
        "'hi'.upper()\n",
        "\n",
        "#대문자를 소문자로 바꾸기\n",
        "a = 'HI'\n",
        "a.lower()\n",
        "\n",
        "#3.13 공백 지우기(split)\n",
        "# 왼쪽 공백 지우기\n",
        "\n",
        "a = '     Hi    '\n",
        "a.lstrip()\n",
        "\n",
        "a.rstrip()\n",
        "a.strip()"
      ],
      "metadata": {
        "colab": {
          "base_uri": "https://localhost:8080/",
          "height": 36
        },
        "id": "onDyr3Tw-5bt",
        "outputId": "7b24e1b9-13a2-46a4-ee1e-499165231c1f"
      },
      "execution_count": null,
      "outputs": [
        {
          "output_type": "execute_result",
          "data": {
            "text/plain": [
              "'Hi'"
            ],
            "application/vnd.google.colaboratory.intrinsic+json": {
              "type": "string"
            }
          },
          "metadata": {},
          "execution_count": 75
        }
      ]
    },
    {
      "cell_type": "code",
      "source": [
        "#3.14 문자열 바꾸기(replace)\n",
        "a= \"Life is too short\"\n",
        "a.replace(\"Life\", 'Your leg')\n",
        "a.replace?"
      ],
      "metadata": {
        "id": "TAne5QLe_jWc"
      },
      "execution_count": null,
      "outputs": []
    },
    {
      "cell_type": "code",
      "source": [
        "#3.15 문자열 나누기(split)\n",
        "a\n",
        "a.split()\n",
        "\n",
        "b = 'a:b:c:d'\n",
        "b.split(\":\")\n",
        "a.split?\n",
        "a\n",
        "\n",
        "a1 = a.split()\n",
        "a1\n",
        "\n",
        "''.join(a1)"
      ],
      "metadata": {
        "colab": {
          "base_uri": "https://localhost:8080/",
          "height": 36
        },
        "id": "FgMekuHFAISb",
        "outputId": "dbe0b934-97ae-4d47-9768-89df48f69c59"
      },
      "execution_count": null,
      "outputs": [
        {
          "output_type": "execute_result",
          "data": {
            "text/plain": [
              "'Lifeistooshort'"
            ],
            "application/vnd.google.colaboratory.intrinsic+json": {
              "type": "string"
            }
          },
          "metadata": {},
          "execution_count": 85
        }
      ]
    },
    {
      "cell_type": "code",
      "source": [
        "#3.16 리스트\n",
        "odd=[1,3,5,7,9]\n",
        "odd, type(odd)"
      ],
      "metadata": {
        "colab": {
          "base_uri": "https://localhost:8080/"
        },
        "id": "xAb5EHwBAlRl",
        "outputId": "e2c39ab3-6c78-41be-9778-4cec8a5b0a98"
      },
      "execution_count": null,
      "outputs": [
        {
          "output_type": "execute_result",
          "data": {
            "text/plain": [
              "([1, 3, 5, 7, 9], list)"
            ]
          },
          "metadata": {},
          "execution_count": 86
        }
      ]
    },
    {
      "cell_type": "code",
      "source": [
        "a = []\n",
        "b = [1,2,3]\n",
        "c = ['Life', 'is', 'too', 'short']\n",
        "d = [1,2,\n",
        "\n",
        "#여기도 놓침"
      ],
      "metadata": {
        "colab": {
          "base_uri": "https://localhost:8080/",
          "height": 144
        },
        "id": "_gE9ugGFEP7R",
        "outputId": "bd26bc87-d500-4f07-f4ca-2de436b2aa6a"
      },
      "execution_count": null,
      "outputs": [
        {
          "output_type": "error",
          "ename": "SyntaxError",
          "evalue": "ignored",
          "traceback": [
            "\u001b[0;36m  File \u001b[0;32m\"<ipython-input-91-f1fce3869ea4>\"\u001b[0;36m, line \u001b[0;32m4\u001b[0m\n\u001b[0;31m    d = [1,2,\u001b[0m\n\u001b[0m             ^\u001b[0m\n\u001b[0;31mSyntaxError\u001b[0m\u001b[0;31m:\u001b[0m incomplete input\n"
          ]
        }
      ]
    },
    {
      "cell_type": "code",
      "source": [
        "#3.17 인덱싱과 슬라이싱 -> 여기도 놓침\n",
        "\n",
        "\n",
        "a = [1,2,3,4,5]\n",
        "a = [0:2]\n",
        "\n",
        "a = \"12345\"\n",
        "a[0:2]"
      ],
      "metadata": {
        "colab": {
          "base_uri": "https://localhost:8080/",
          "height": 144
        },
        "id": "72MthmdzERb8",
        "outputId": "bf0c1360-c9b5-447c-e323-e9ae78622765"
      },
      "execution_count": null,
      "outputs": [
        {
          "output_type": "error",
          "ename": "SyntaxError",
          "evalue": "ignored",
          "traceback": [
            "\u001b[0;36m  File \u001b[0;32m\"<ipython-input-98-f138cf735df8>\"\u001b[0;36m, line \u001b[0;32m5\u001b[0m\n\u001b[0;31m    a = [0:2]\u001b[0m\n\u001b[0m          ^\u001b[0m\n\u001b[0;31mSyntaxError\u001b[0m\u001b[0;31m:\u001b[0m invalid syntax\n"
          ]
        }
      ]
    },
    {
      "cell_type": "code",
      "source": [
        "#3.18 리스트의 수정과 삭제\n",
        "a = [1,2,3]\n",
        "a[2] = 4"
      ],
      "metadata": {
        "id": "sQZht7PKFEFj"
      },
      "execution_count": null,
      "outputs": []
    },
    {
      "cell_type": "code",
      "source": [
        "# del 함수\n",
        "a = [1,2,3]\n",
        "del a[1]\n",
        "\n",
        "a = [1,2,3,4,5]\n",
        "del a[2:]\n",
        "a"
      ],
      "metadata": {
        "colab": {
          "base_uri": "https://localhost:8080/"
        },
        "id": "gis83uAmJio6",
        "outputId": "96767122-d5fe-45c4-f0de-354242c99fd0"
      },
      "execution_count": null,
      "outputs": [
        {
          "output_type": "execute_result",
          "data": {
            "text/plain": [
              "[1, 2]"
            ]
          },
          "metadata": {},
          "execution_count": 109
        }
      ]
    },
    {
      "cell_type": "code",
      "source": [
        "# 리스트 관련 함수 #요소추가\n",
        "\n",
        "a = [1,2,3]\n",
        "a.append(4)\n",
        "a\n",
        "\n",
        "a.append(5)\n",
        "a\n"
      ],
      "metadata": {
        "colab": {
          "base_uri": "https://localhost:8080/"
        },
        "id": "hGYoTT3eJbTY",
        "outputId": "6a5cc236-499f-4c2f-9f8d-0519cb6b9df1"
      },
      "execution_count": null,
      "outputs": [
        {
          "output_type": "execute_result",
          "data": {
            "text/plain": [
              "[1, 2, 3, 4, 5]"
            ]
          },
          "metadata": {},
          "execution_count": 113
        }
      ]
    },
    {
      "cell_type": "code",
      "source": [
        "# 3.20 정렬(sort)\n",
        "\n",
        "a = [1,4,3,2]\n",
        "a.sort()\n",
        "a"
      ],
      "metadata": {
        "colab": {
          "base_uri": "https://localhost:8080/"
        },
        "id": "RZZNkykhKKJL",
        "outputId": "fe5f5d4e-127d-486b-9b46-66bb4ee848c8"
      },
      "execution_count": null,
      "outputs": [
        {
          "output_type": "execute_result",
          "data": {
            "text/plain": [
              "[1, 2, 3, 4]"
            ]
          },
          "metadata": {},
          "execution_count": 117
        }
      ]
    },
    {
      "cell_type": "code",
      "source": [
        "a = ['a','b','c']\n",
        "a.sort()\n",
        "a"
      ],
      "metadata": {
        "colab": {
          "base_uri": "https://localhost:8080/"
        },
        "id": "rISQmxsrKdRI",
        "outputId": "cec2e245-02cd-4bb5-c7a7-e272929e6267"
      },
      "execution_count": null,
      "outputs": [
        {
          "output_type": "execute_result",
          "data": {
            "text/plain": [
              "['a', 'b', 'c']"
            ]
          },
          "metadata": {},
          "execution_count": 119
        }
      ]
    },
    {
      "cell_type": "code",
      "source": [
        "#3.21 리스트 뒤집기(reverse)\n",
        "\n",
        "a= ['a','c','b']\n",
        "a.reverse()\n",
        "a"
      ],
      "metadata": {
        "colab": {
          "base_uri": "https://localhost:8080/"
        },
        "id": "sPJvNPTWKgyz",
        "outputId": "55c862b2-83ca-4fd3-862b-c5b44ad57ee8"
      },
      "execution_count": null,
      "outputs": [
        {
          "output_type": "execute_result",
          "data": {
            "text/plain": [
              "['b', 'c', 'a']"
            ]
          },
          "metadata": {},
          "execution_count": 121
        }
      ]
    },
    {
      "cell_type": "code",
      "source": [
        "#3.22 위치 반환 (index)\n",
        "a = [1,2,3]\n",
        "a.index(3)\n",
        "\n",
        "a = [1,2,3,3]\n",
        "a.index(3)\n",
        "\n",
        "a.index?"
      ],
      "metadata": {
        "id": "Bgy0nYylKoq6"
      },
      "execution_count": null,
      "outputs": []
    },
    {
      "cell_type": "code",
      "source": [
        "#3.23 요소 삽입 (insert)\n",
        "a = [1,2,3]\n",
        "a.insert?\n",
        "a.insert(0,4)\n",
        "a\n",
        "\n"
      ],
      "metadata": {
        "colab": {
          "base_uri": "https://localhost:8080/"
        },
        "id": "G4i8-2uAK-Hx",
        "outputId": "1f921097-66cd-4115-8d3c-20297792afd8"
      },
      "execution_count": null,
      "outputs": [
        {
          "output_type": "execute_result",
          "data": {
            "text/plain": [
              "[4, 1, 2, 3]"
            ]
          },
          "metadata": {},
          "execution_count": 131
        }
      ]
    },
    {
      "cell_type": "code",
      "source": [
        "#3.24 요소제거 (remove)\n",
        "a = [1,2,3,1,2,3]\n",
        "a\n",
        "a.remove?\n",
        "a.remove(3)\n",
        "a"
      ],
      "metadata": {
        "colab": {
          "base_uri": "https://localhost:8080/"
        },
        "id": "wd43fXiAMDDo",
        "outputId": "f9d3d854-2777-4641-d048-ac324f32916e"
      },
      "execution_count": null,
      "outputs": [
        {
          "output_type": "execute_result",
          "data": {
            "text/plain": [
              "[1, 2, 1, 2, 3]"
            ]
          },
          "metadata": {},
          "execution_count": 135
        }
      ]
    },
    {
      "cell_type": "code",
      "source": [
        "#3.25 요소 추출 pop -> 놓침\n"
      ],
      "metadata": {
        "id": "J9IsHAp2MGJa"
      },
      "execution_count": null,
      "outputs": []
    },
    {
      "cell_type": "code",
      "source": [
        "#3.26 리스트 확장 (extend)\n",
        "a = [1,2,3]\n",
        "a.extend([4,5])\n",
        "a\n",
        "\n",
        "b = [6,7]\n",
        "a.extend(b)\n",
        "a\n",
        "\n",
        "a+=[4,5]\n",
        "a"
      ],
      "metadata": {
        "colab": {
          "base_uri": "https://localhost:8080/"
        },
        "id": "PdxJTdUgNB86",
        "outputId": "17328251-94c5-4dc8-dee7-5caba1cccd85"
      },
      "execution_count": null,
      "outputs": [
        {
          "output_type": "execute_result",
          "data": {
            "text/plain": [
              "[1, 2, 3, 4, 5, 6, 7, 4, 5]"
            ]
          },
          "metadata": {},
          "execution_count": 140
        }
      ]
    },
    {
      "cell_type": "code",
      "source": [
        "#3.27 튜플\n",
        "t1 = () #빈 객체만 만듦\n",
        "t2 = (1,)\n",
        "t3 = (1,2,3)\n",
        "t4 = 1,2,3\n",
        "t5 = ('a','b',('ab','cd'))\n",
        "print(t1,t2,t3,t4,t5)\n",
        "print(type(t1),type(t2),type(t3),type(t4),type(t5))\n",
        "\n",
        "t6 = (1) #값을 가지고 객체를 만듦\n",
        "t6\n",
        "\n",
        "1 <class 'int'>\n",
        "t1 = (1,2,'a','b')\n",
        "del t1[0]\n",
        "t1[0] = 'c'\n"
      ],
      "metadata": {
        "colab": {
          "base_uri": "https://localhost:8080/",
          "height": 144
        },
        "id": "ddyRfrywNjmi",
        "outputId": "f62a1606-7955-465a-cbd0-2e0b6f47f086"
      },
      "execution_count": null,
      "outputs": [
        {
          "output_type": "error",
          "ename": "SyntaxError",
          "evalue": "ignored",
          "traceback": [
            "\u001b[0;36m  File \u001b[0;32m\"<ipython-input-145-6734bf66bee4>\"\u001b[0;36m, line \u001b[0;32m13\u001b[0m\n\u001b[0;31m    1 <class 'int'>\u001b[0m\n\u001b[0m       ^\u001b[0m\n\u001b[0;31mSyntaxError\u001b[0m\u001b[0;31m:\u001b[0m invalid syntax\n"
          ]
        }
      ]
    },
    {
      "cell_type": "code",
      "source": [
        "#딕셔너리 자료형\n",
        "#1. 딕셔너리 쌍 추가, 삭제하기\n",
        "\n",
        "a = {1: 'a'}\n",
        "a[2] = 'b'\n",
        "a\n",
        "\n",
        "a['name'] = 'pey'\n",
        "a\n",
        "\n",
        "a[3] = [1, 2, 3]\n",
        "a\n",
        "\n",
        "del a[1]\n",
        "a"
      ],
      "metadata": {
        "id": "4Q5_TPMIOCDF",
        "colab": {
          "base_uri": "https://localhost:8080/"
        },
        "outputId": "34ff188d-300d-45fc-92bb-413cca14cc37"
      },
      "execution_count": null,
      "outputs": [
        {
          "output_type": "execute_result",
          "data": {
            "text/plain": [
              "{2: 'b', 'name': 'pey', 3: [1, 2, 3]}"
            ]
          },
          "metadata": {},
          "execution_count": 6
        }
      ]
    },
    {
      "cell_type": "code",
      "source": [
        "#2. 딕셔너리 key 사용해 value 얻기\n",
        "\n",
        "grade = {'pey': 10, 'julliet': 99}\n",
        "grade['pey']\n",
        "grade ['julliet']\n",
        "\n",
        "a={1:'a', 2:'b'}\n",
        "a[1]\n",
        "a[2]\n",
        "\n",
        "dic={'name':'pey', 'phone':'010-9999-1234', 'birth': '1118'}\n",
        "dic['name']\n",
        "dic['phone']\n",
        "dic['birth']\n",
        "\n",
        "dic={'11월인기차트':'Chill Kill'}\n",
        "dic['11월인기차트']"
      ],
      "metadata": {
        "colab": {
          "base_uri": "https://localhost:8080/",
          "height": 36
        },
        "id": "RSGNBgLyZqA1",
        "outputId": "6291ce6e-1058-4544-9ca4-c42bd586d7ac"
      },
      "execution_count": null,
      "outputs": [
        {
          "output_type": "execute_result",
          "data": {
            "text/plain": [
              "'Chill Kill'"
            ],
            "application/vnd.google.colaboratory.intrinsic+json": {
              "type": "string"
            }
          },
          "metadata": {},
          "execution_count": 15
        }
      ]
    },
    {
      "cell_type": "code",
      "source": [
        "#3. Key 리스트 만들기 - keys\n",
        "a={'name': 'pey', 'phone': '010-9999-1234', 'birth': '1118'}\n",
        "a.keys()\n",
        "\n",
        "#3-1 반복문\n",
        "for k in a.keys():\n",
        "  print(k)\n",
        "\n",
        "#3-2. Value 리스트 만들기\n",
        "a.values()\n",
        "\n",
        "#3-3. key, value 쌍 얻기 - items\n",
        "a.items()\n",
        "\n",
        "#3-4. Key:Value 쌍 모두 지우기\n",
        "a.clear()\n",
        "a\n",
        "\n",
        "#3-5.Key로 Value 얻기 - get\n",
        "a={'name': 'pey', 'phone': '010-9999-1234', 'birth': '1118'}\n",
        "a.get('name')\n",
        "a.get('phone')\n",
        "\n",
        "a = {'name':'pey', 'phone':'010-9999-1234', 'birth': '1118'}\n",
        "print(a.get('nokey'))\n",
        "a.get('nokey', 'foo')\n",
        "\n",
        "#3-6. key가 딕셔너리 안에 있는지 조사 - in\n",
        "a = {'name':'pey', 'phone':'010-9999-1234', 'birth': '1118'}\n",
        "'name' in a\n",
        "'email' in a"
      ],
      "metadata": {
        "colab": {
          "base_uri": "https://localhost:8080/"
        },
        "id": "LQ52XnsBavzo",
        "outputId": "55737a09-203f-4c85-bdce-092a37c757c5"
      },
      "execution_count": null,
      "outputs": [
        {
          "output_type": "stream",
          "name": "stdout",
          "text": [
            "name\n",
            "phone\n",
            "birth\n",
            "None\n"
          ]
        },
        {
          "output_type": "execute_result",
          "data": {
            "text/plain": [
              "False"
            ]
          },
          "metadata": {},
          "execution_count": 32
        }
      ]
    },
    {
      "cell_type": "code",
      "source": [
        "#4. 집합 자료형 - set\n",
        "s1 = set([1, 2, 3])\n",
        "s1\n",
        "\n",
        "s2 = set(\"Hello\")\n",
        "s2\n",
        "\n",
        "s1 = set([1, 2, 3])\n",
        "l1 = list(s1)\n",
        "l1\n",
        "l1[0]\n",
        "t1=tuple(s1)\n",
        "t1\n",
        "t1[0]\n",
        "\n",
        "#4-1. 교집합/합집합/차집합 구하기\n",
        "s1 = set([1, 2, 3, 4, 5, 6])\n",
        "s2 = set([4, 5, 6, 7, 8, 9])\n",
        "\n",
        "#4-1-1. 교집합\n",
        "s1&s2\n",
        "\n",
        "s1.intersection(s2)\n",
        "\n",
        "#4-1-2. 합집합\n",
        "s1|s2\n",
        "s1.union(s2)\n",
        "\n",
        "#4-1-3. 차집합\n",
        "s1-s2\n",
        "s2-s1\n",
        "s1.difference(s2)\n",
        "s2.difference(s1)\n",
        "\n",
        "#4-2 값 추가 - add\n",
        "s1 = set([1,2,3])\n",
        "s1.add(4)\n",
        "s1\n",
        "\n",
        "#4-3. 여러개 추가 - update\n",
        "s1=set([1,2,3])\n",
        "s1.update([4,5,6])\n",
        "s1\n",
        "\n",
        "#4-4. 특정값 제거 - remove\n",
        "s1 = set([1, 2, 3])\n",
        "s1.remove(2)\n",
        "s1"
      ],
      "metadata": {
        "colab": {
          "base_uri": "https://localhost:8080/"
        },
        "id": "G_Gy-NGSaz-3",
        "outputId": "18c01c9f-6c7a-4113-f43d-45f7581e8ab7"
      },
      "execution_count": null,
      "outputs": [
        {
          "output_type": "execute_result",
          "data": {
            "text/plain": [
              "{1, 3}"
            ]
          },
          "metadata": {},
          "execution_count": 54
        }
      ]
    },
    {
      "cell_type": "code",
      "source": [
        "#5 불 자료형\n",
        "\n",
        "a=True\n",
        "b=False\n",
        "\n",
        "type(a)\n",
        "type(b)\n",
        "\n",
        "1==1\n",
        "\n",
        "2>1\n",
        "2<1\n",
        "\n",
        "#5-1. 자료형의 참과 거짓\n",
        "\n",
        "#문자열\n",
        "\"python\" == True\n",
        "\n",
        "#제어문에서 활용\n",
        "\n",
        "a=[1,2,3,4]\n",
        "while a:\n",
        "  print(a.pop())\n",
        "\n",
        "\n",
        "if []:\n",
        "  print(\"참\")\n",
        "\n",
        "else:\n",
        "  print(\"거짓\")\n",
        "\n",
        "if [1,2,3]:\n",
        "  print(\"참\")\n",
        "\n",
        "  #5-2. 불연산\n",
        "\n",
        "bool('python')\n",
        "bool('')\n",
        "bool([1,2,3])\n",
        "bool([])\n",
        "bool(0)\n",
        "bool(3)\n"
      ],
      "metadata": {
        "colab": {
          "base_uri": "https://localhost:8080/"
        },
        "id": "jxINYRHudGWW",
        "outputId": "20cb24e2-d8ce-49cc-a28b-5a4b2253ea6e"
      },
      "execution_count": null,
      "outputs": [
        {
          "output_type": "stream",
          "name": "stdout",
          "text": [
            "4\n",
            "3\n",
            "2\n",
            "1\n",
            "거짓\n",
            "참\n"
          ]
        },
        {
          "output_type": "execute_result",
          "data": {
            "text/plain": [
              "False"
            ]
          },
          "metadata": {},
          "execution_count": 67
        }
      ]
    },
    {
      "cell_type": "code",
      "source": [
        "#5. 변수\n",
        "a=[1,2,3]\n",
        "a\n",
        "\n",
        "id(a)\n",
        "\n",
        "#변수 재할당\n",
        "b=a #대입해서 넣으면 로우데이터도 같이 수정됨.\n",
        "b\n",
        "id(b)\n",
        "\n",
        "a is b\n",
        "\n",
        "a[1]=4\n",
        "a\n",
        "\n",
        "b\n",
        "\n",
        "#5-1. [:] 이용하기\n",
        "a=[1,2,3]\n",
        "b=a[:]\n",
        "a[1]=4\n",
        "a\n",
        "b #1,2,3 -> 4로 안 바뀜\n",
        "\n",
        "#5-2. copy 모듈 이용 / 딥카피\n",
        "\n",
        "from copy import copy\n",
        "a=[1,2,3]\n",
        "b=copy(a)\n",
        "b is a #객체를 비교, ID가 다르다\n",
        "b == a #요소를 비교\n",
        "id(a), id(b)\n",
        "\n",
        "#5-3. 변수 만드는 방법\n",
        "(a, b) = 'p"
      ],
      "metadata": {
        "colab": {
          "base_uri": "https://localhost:8080/"
        },
        "id": "EVytzlujdEjh",
        "outputId": "a49f1f69-3cfd-4be8-fff3-9b9d1a510c0b"
      },
      "execution_count": null,
      "outputs": [
        {
          "output_type": "execute_result",
          "data": {
            "text/plain": [
              "3"
            ]
          },
          "metadata": {},
          "execution_count": 87
        }
      ]
    },
    {
      "cell_type": "code",
      "source": [],
      "metadata": {
        "id": "64mDC71Io6f9",
        "colab": {
          "base_uri": "https://localhost:8080/",
          "height": 162
        },
        "outputId": "d29a44f8-f3a6-465e-fb96-805719fbf9f9"
      },
      "execution_count": null,
      "outputs": [
        {
          "output_type": "error",
          "ename": "SyntaxError",
          "evalue": "ignored",
          "traceback": [
            "\u001b[0;36m  File \u001b[0;32m\"<ipython-input-88-1a25014c081b>\"\u001b[0;36m, line \u001b[0;32m4\u001b[0m\n\u001b[0;31m    홍길동 = {'국어':80, '영어':75, '수학':55)\u001b[0m\n\u001b[0m                                    ^\u001b[0m\n\u001b[0;31mSyntaxError\u001b[0m\u001b[0;31m:\u001b[0m closing parenthesis ')' does not match opening parenthesis '{'\n"
          ]
        }
      ]
    },
    {
      "cell_type": "code",
      "source": [],
      "metadata": {
        "id": "mxEMPYyAo511"
      },
      "execution_count": null,
      "outputs": []
    },
    {
      "cell_type": "markdown",
      "source": [],
      "metadata": {
        "id": "_PGsr0rksB0z"
      }
    }
  ]
}