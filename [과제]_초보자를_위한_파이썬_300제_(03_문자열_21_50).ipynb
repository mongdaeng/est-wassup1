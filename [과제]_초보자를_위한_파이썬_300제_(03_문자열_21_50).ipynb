{
  "nbformat": 4,
  "nbformat_minor": 0,
  "metadata": {
    "colab": {
      "provenance": [],
      "authorship_tag": "ABX9TyNIQPi4rkH5Q7pP6xsWoeEv",
      "include_colab_link": true
    },
    "kernelspec": {
      "name": "python3",
      "display_name": "Python 3"
    },
    "language_info": {
      "name": "python"
    }
  },
  "cells": [
    {
      "cell_type": "markdown",
      "metadata": {
        "id": "view-in-github",
        "colab_type": "text"
      },
      "source": [
        "<a href=\"https://colab.research.google.com/github/mongdaeng/est-wassup1/blob/main/%5B%EA%B3%BC%EC%A0%9C%5D_%EC%B4%88%EB%B3%B4%EC%9E%90%EB%A5%BC_%EC%9C%84%ED%95%9C_%ED%8C%8C%EC%9D%B4%EC%8D%AC_300%EC%A0%9C_(03_%EB%AC%B8%EC%9E%90%EC%97%B4_21_50).ipynb\" target=\"_parent\"><img src=\"https://colab.research.google.com/assets/colab-badge.svg\" alt=\"Open In Colab\"/></a>"
      ]
    },
    {
      "cell_type": "markdown",
      "source": [
        "#021 문자열 인덱싱\n",
        "\n",
        "letters가 바인딩하는 문자열에서 첫번째와 세번째 문자를 출력하세요.\n",
        "\n",
        ">> letters = 'python'\n",
        "실행 예\n",
        "p t\n"
      ],
      "metadata": {
        "id": "DDS-cAdtIJRb"
      }
    },
    {
      "cell_type": "code",
      "source": [
        "letters = 'python'\n",
        "print(letters[0], letters[2])"
      ],
      "metadata": {
        "colab": {
          "base_uri": "https://localhost:8080/"
        },
        "id": "ZqFsCkxHINki",
        "outputId": "8e5c1e3e-09d6-4775-d652-d3342b7064a3"
      },
      "execution_count": null,
      "outputs": [
        {
          "output_type": "stream",
          "name": "stdout",
          "text": [
            "p t\n"
          ]
        }
      ]
    },
    {
      "cell_type": "markdown",
      "source": [
        "#022 문자열 슬라이싱\n",
        "\n",
        "자동차 번호가 다음과 같을 때 뒤에 4자리만 출력하세요.\n",
        "\n",
        ">> license_plate = \"24가 2210\"\n",
        "실행 예: 2210"
      ],
      "metadata": {
        "id": "9W-r_NMrIl6Z"
      }
    },
    {
      "cell_type": "code",
      "source": [
        "license_plate = \"24가 2210\"\n",
        "print(license_plate[-4:])"
      ],
      "metadata": {
        "id": "1Umi8hMEIoG_"
      },
      "execution_count": null,
      "outputs": []
    },
    {
      "cell_type": "markdown",
      "source": [
        "#023 문자열 인덱싱\n",
        "\n",
        "아래의 문자열에서 '홀' 만 출력하세요.\n",
        "\n",
        ">> string = \"홀짝홀짝홀짝\"\n",
        "실행 예:\n",
        "홀홀홀\n"
      ],
      "metadata": {
        "id": "VH7jDkmLI6xy"
      }
    },
    {
      "cell_type": "code",
      "source": [
        "str = \"홀짝홀짝홀짝\"\n",
        "print(str[0],str[2],str[4])\n",
        "\n",
        "#------이거 아닌 듯\n",
        "\n",
        "print(str[::2]) #시작인덱스:끝인덱스:오프셋\n"
      ],
      "metadata": {
        "colab": {
          "base_uri": "https://localhost:8080/"
        },
        "id": "MHlVd4X-I8_x",
        "outputId": "0378dc47-70cf-4f92-c44a-fa96fb2cae2b"
      },
      "execution_count": null,
      "outputs": [
        {
          "output_type": "stream",
          "name": "stdout",
          "text": [
            "홀 홀 홀\n",
            "홀홀홀\n"
          ]
        }
      ]
    },
    {
      "cell_type": "markdown",
      "source": [
        "#024 문자열 슬라이싱\n",
        "\n",
        "문자열을 거꾸로 뒤집어 출력하세요.\n",
        "\n",
        ">> string = \"PYTHON\"\n",
        "실행 예:\n",
        "NOHTYP"
      ],
      "metadata": {
        "id": "-10CoAmlJUJT"
      }
    },
    {
      "cell_type": "code",
      "source": [
        "str = \"PYTHON\"\n",
        "print(str[::-1])"
      ],
      "metadata": {
        "colab": {
          "base_uri": "https://localhost:8080/"
        },
        "id": "x5u56bcHJW7Y",
        "outputId": "07b5b1ff-4480-4a4b-afa3-f81be9c682e9"
      },
      "execution_count": null,
      "outputs": [
        {
          "output_type": "stream",
          "name": "stdout",
          "text": [
            "NOHTYP\n"
          ]
        }
      ]
    },
    {
      "cell_type": "markdown",
      "source": [
        "#025 문자열 치환\n",
        "\n",
        "아래의 전화번호에서 하이푼 ('-')을 제거하고 출력하세요.\n",
        "\n",
        ">> phone_number = \"010-1111-2222\"\n",
        "실행 예\n",
        "010 1111 2222"
      ],
      "metadata": {
        "id": "46zFj_BMJrIF"
      }
    },
    {
      "cell_type": "code",
      "source": [
        "num = \"010-1111-2222\"\n",
        "print(num.replace(\"-\",\" \"))"
      ],
      "metadata": {
        "colab": {
          "base_uri": "https://localhost:8080/"
        },
        "id": "Abl6jvDSJuCY",
        "outputId": "6f89029a-e3d0-47a9-f2fb-d602644f1b39"
      },
      "execution_count": null,
      "outputs": [
        {
          "output_type": "stream",
          "name": "stdout",
          "text": [
            "010 1111 2222\n"
          ]
        }
      ]
    },
    {
      "cell_type": "markdown",
      "source": [
        "#026 문자열 다루기\n",
        "\n",
        "25번 문제의 전화번호를 아래와 같이 모두 붙여 출력하세요.\n",
        "\n",
        "실행 예\n",
        "01011112222\n"
      ],
      "metadata": {
        "id": "z3J2LPpaKE8c"
      }
    },
    {
      "cell_type": "code",
      "source": [
        "num = \"010-1111-2222\"\n",
        "print(num.replace('-',''))"
      ],
      "metadata": {
        "colab": {
          "base_uri": "https://localhost:8080/"
        },
        "id": "9nj7XUIMKKHG",
        "outputId": "8a91fefe-6bbb-4464-986c-d4ea6faa35e8"
      },
      "execution_count": null,
      "outputs": [
        {
          "output_type": "stream",
          "name": "stdout",
          "text": [
            "01011112222\n"
          ]
        }
      ]
    },
    {
      "cell_type": "markdown",
      "source": [
        "#027 문자열 다루기\n",
        "\n",
        "url 에 저장된 웹 페이지 주소에서 도메인을 출력하세요.\n",
        "\n",
        ">> url = \"http://sharebook.kr\"\n",
        "실행 예:\n",
        "kr\n"
      ],
      "metadata": {
        "id": "4Z3vsFNtKaBJ"
      }
    },
    {
      "cell_type": "code",
      "source": [
        "url = \"http://sharebook.kr\"\n",
        "domain = url.split('.') # .을 기준으로 분리\n",
        "print(domain[-1]) #마지막만 인덱싱"
      ],
      "metadata": {
        "colab": {
          "base_uri": "https://localhost:8080/"
        },
        "id": "ZTsDDb_sKeO8",
        "outputId": "8010df7f-d74e-4259-eb96-eec42b9b52b8"
      },
      "execution_count": null,
      "outputs": [
        {
          "output_type": "stream",
          "name": "stdout",
          "text": [
            "kr\n"
          ]
        }
      ]
    },
    {
      "cell_type": "markdown",
      "source": [
        "#028 문자열은 immutable\n",
        "\n",
        "아래 코드의 실행 결과를 예상해보세요.\n",
        "\n",
        ">> lang = 'python'\n",
        ">> lang[0] = 'P'\n",
        ">> print(lang)"
      ],
      "metadata": {
        "id": "BIu3O0ITK34n"
      }
    },
    {
      "cell_type": "code",
      "source": [
        "lang = 'python'\n",
        "lang[0] = 'P'\n",
        "print(lang)\n",
        "\n",
        "#문자열은 수정 불가"
      ],
      "metadata": {
        "id": "ZBPgBec5K6lU"
      },
      "execution_count": null,
      "outputs": []
    },
    {
      "cell_type": "markdown",
      "source": [
        "#029 replace 메서드\n",
        "\n",
        "아래 문자열에서 소문자 'a'를 대문자 'A'로 변경하세요.\n",
        "\n",
        ">> string = 'abcdfe2a354a32a'\n",
        "실행 예:\n",
        "Abcdfe2A354A32A"
      ],
      "metadata": {
        "id": "VG6RbAgwLMQ2"
      }
    },
    {
      "cell_type": "code",
      "source": [
        "str = \"abcdfe2a354a32a\"\n",
        "str = str.replace(\"a\",\"A\")\n",
        "print(str)"
      ],
      "metadata": {
        "colab": {
          "base_uri": "https://localhost:8080/"
        },
        "id": "bcGRNfJqLOeu",
        "outputId": "3c2023ab-b59b-4049-c1e3-af1b057de841"
      },
      "execution_count": null,
      "outputs": [
        {
          "output_type": "stream",
          "name": "stdout",
          "text": [
            "Abcdfe2A354A32A\n"
          ]
        }
      ]
    },
    {
      "cell_type": "markdown",
      "source": [
        "#030 replace 메서드\n",
        "\n",
        "아래 코드의 실행 결과를 예상해보세요.\n",
        "\n",
        ">> string = 'abcd'\n",
        ">> string.replace('b', 'B')\n",
        ">> print(string)\n",
        "\n",
        "-> abcd / 문자열은 바뀔 수 없는 객체임\n",
        "하려면 string 다시 재정의해서 출력!"
      ],
      "metadata": {
        "id": "GBqkU9wYLkOa"
      }
    },
    {
      "cell_type": "code",
      "source": [
        "string = 'abcd'\n",
        "string = string.replace('b', 'B')\n",
        "print(string)\n",
        "\n",
        "-> 이렇게 해야만 출력"
      ],
      "metadata": {
        "colab": {
          "base_uri": "https://localhost:8080/"
        },
        "id": "Ionr3LJbMLXf",
        "outputId": "e68a887d-86ff-4918-a40e-891d2040c915"
      },
      "execution_count": null,
      "outputs": [
        {
          "output_type": "stream",
          "name": "stdout",
          "text": [
            "aBcd\n"
          ]
        }
      ]
    },
    {
      "cell_type": "markdown",
      "source": [],
      "metadata": {
        "id": "9U7-0LSyMfRw"
      }
    }
  ]
}